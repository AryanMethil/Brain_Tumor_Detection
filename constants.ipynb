{
  "nbformat": 4,
  "nbformat_minor": 0,
  "metadata": {
    "colab": {
      "name": "constants.ipynb",
      "provenance": [],
      "collapsed_sections": [],
      "mount_file_id": "1c7a4Qu8Y569kGjIZipK2K3l9PXEHWVlz",
      "authorship_tag": "ABX9TyNHSMYyzZWtHjPC5pYmUeKy",
      "include_colab_link": true
    },
    "kernelspec": {
      "name": "python3",
      "display_name": "Python 3"
    }
  },
  "cells": [
    {
      "cell_type": "markdown",
      "metadata": {
        "id": "view-in-github",
        "colab_type": "text"
      },
      "source": [
        "<a href=\"https://colab.research.google.com/github/AryanMethil/Brain_Tumor_Detection/blob/master/constants.ipynb\" target=\"_parent\"><img src=\"https://colab.research.google.com/assets/colab-badge.svg\" alt=\"Open In Colab\"/></a>"
      ]
    },
    {
      "cell_type": "markdown",
      "metadata": {
        "id": "qK8pk3oH7MG9"
      },
      "source": [
        "# Folders Details :\n",
        "**brain_tumor_dataset => Input Dataset**\n",
        "\n",
        "**new_brain_tumor_dataset => Preprocessing applied on Input Dataset**\n",
        "\n",
        "**brain_tumor_test_10 => Test folder of 20 images consisting of yes and no folders**\n",
        "\n",
        "**Final_Tumor_Dataset => Final Dataset consisting of Train , Validation and Test folders each consisting of yes and no folder**\n",
        "\n",
        "**models_directory => Folder containing all the .h5 models**\n",
        "\n",
        "# Constant Details :\n",
        "**yes, no => yes and no folders of brain_tumor_dataset**\n",
        "\n",
        "**image_preprocessed_yes, image_preprocessed_no => yes and no folders of new_brain_tumor_dataset formed after preprocessing brain_tumor_dataset folder**\n",
        "\n",
        "**image_generator_train, image_generator_validator, image_generator_test => train, validation and test subfolders of Final_Tumor_Dataset**\n",
        "\n",
        "**image_generator_train_yes, image_generator_train_no => yes and no folders of train folder inside the Final_Tumor_Dataset**\n",
        "\n",
        "\n",
        "\n"
      ]
    },
    {
      "cell_type": "code",
      "metadata": {
        "id": "rDQONmP-VubD"
      },
      "source": [
        "yes='/content/drive/My Drive/Brain_Tumor_Classification/input/brain_tumor_dataset/yes'\n",
        "image_preprocessed_yes='/content/drive/My Drive/Brain_Tumor_Classification/input/new_brain_tumor_dataset/yes/'\n",
        "\n",
        "no='/content/drive/My Drive/Brain_Tumor_Classification/input/brain_tumor_dataset/no'\n",
        "image_preprocessed_no='/content/drive/My Drive/Brain_Tumor_Classification/input/new_brain_tumor_dataset/no/'\n",
        "\n",
        "image_generator_train='/content/drive/My Drive/Brain_Tumor_Classification/input/Final_Tumor_Dataset/Train/'\n",
        "image_generator_validation='/content/drive/My Drive/Brain_Tumor_Classification/input/Final_Tumor_Dataset/Validation/'\n",
        "image_generator_test='/content/drive/My Drive/Brain_Tumor_Classification/input/Final_Tumor_Dataset/Test/'\n",
        "\n",
        "image_generator_train_yes='/content/drive/My Drive/Brain_Tumor_Classification/input/Final_Tumor_Dataset/Train/yes'\n",
        "image_generator_train_no='/content/drive/My Drive/Brain_Tumor_Classification/input/Final_Tumor_Dataset/Train/no'\n",
        "\n",
        "image_generator_validation_yes='/content/drive/My Drive/Brain_Tumor_Classification/input/Final_Tumor_Dataset/Validation/yes'\n",
        "image_generator_validation_no='/content/drive/My Drive/Brain_Tumor_Classification/input/Final_Tumor_Dataset/Validation/no'\n",
        "\n",
        "test_no='/content/drive/My Drive/Brain_Tumor_Classification/input/brain_tumor_dataset/brain_tumor_test_10/no'\n",
        "test_yes='/content/drive/My Drive/Brain_Tumor_Classification/input/brain_tumor_dataset/brain_tumor_test_10/yes'\n",
        "\n",
        "image_generator_test_yes='/content/drive/My Drive/Brain_Tumor_Classification/input/Final_Tumor_Dataset/Test/yes'\n",
        "image_generator_test_no='/content/drive/My Drive/Brain_Tumor_Classification/input/Final_Tumor_Dataset/Test/no'\n",
        "\n",
        "\n",
        "models_directory='/content/drive/My Drive/Brain_Tumor_Classification/models/'"
      ],
      "execution_count": null,
      "outputs": []
    }
  ]
}