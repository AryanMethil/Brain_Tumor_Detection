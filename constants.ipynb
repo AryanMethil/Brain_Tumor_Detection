{
  "nbformat": 4,
  "nbformat_minor": 0,
  "metadata": {
    "colab": {
      "name": "constants.ipynb",
      "provenance": [],
      "collapsed_sections": [],
      "mount_file_id": "1c7a4Qu8Y569kGjIZipK2K3l9PXEHWVlz",
      "authorship_tag": "ABX9TyPMnmnUA+61pYZqZ7Bj5ium",
      "include_colab_link": true
    },
    "kernelspec": {
      "name": "python3",
      "display_name": "Python 3"
    }
  },
  "cells": [
    {
      "cell_type": "markdown",
      "metadata": {
        "id": "view-in-github",
        "colab_type": "text"
      },
      "source": [
        "<a href=\"https://colab.research.google.com/github/AryanMethil/Brain_Tumor_Detection/blob/master/constants.ipynb\" target=\"_parent\"><img src=\"https://colab.research.google.com/assets/colab-badge.svg\" alt=\"Open In Colab\"/></a>"
      ]
    },
    {
      "cell_type": "code",
      "metadata": {
        "id": "rDQONmP-VubD",
        "colab_type": "code",
        "colab": {}
      },
      "source": [
        "yes='/content/drive/My Drive/Brain_Tumor_Classification/input/brain_tumor_dataset/yes'\n",
        "image_preprocessed_yes='/content/drive/My Drive/Brain_Tumor_Classification/input/new_brain_tumor_dataset/yes/'\n",
        "\n",
        "no='/content/drive/My Drive/Brain_Tumor_Classification/input/brain_tumor_dataset/no'\n",
        "image_preprocessed_no='/content/drive/My Drive/Brain_Tumor_Classification/input/new_brain_tumor_dataset/no/'\n",
        "\n",
        "image_generator_train='/content/drive/My Drive/Brain_Tumor_Classification/input/Final_Tumor_Dataset/Train/'\n",
        "image_generator_validation='/content/drive/My Drive/Brain_Tumor_Classification/input/Final_Tumor_Dataset/Validation/'\n",
        "\n",
        "image_generator_train_yes='/content/drive/My Drive/Brain_Tumor_Classification/input/Final_Tumor_Dataset/Train/yes'\n",
        "image_generator_train_no='/content/drive/My Drive/Brain_Tumor_Classification/input/Final_Tumor_Dataset/Train/no'\n",
        "\n",
        "image_generator_validation_yes='/content/drive/My Drive/Brain_Tumor_Classification/input/Final_Tumor_Dataset/Validation/yes'\n",
        "image_generator_validation_no='/content/drive/My Drive/Brain_Tumor_Classification/input/Final_Tumor_Dataset/Validation/no'\n",
        "\n",
        "\n",
        "models_directory='/content/drive/My Drive/Brain_Tumor_Classification/models/'"
      ],
      "execution_count": null,
      "outputs": []
    }
  ]
}