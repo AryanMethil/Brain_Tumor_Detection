{
  "nbformat": 4,
  "nbformat_minor": 0,
  "metadata": {
    "colab": {
      "name": "Brain_Tumour_Detection.ipynb",
      "provenance": [],
      "collapsed_sections": [],
      "include_colab_link": true
    },
    "kernelspec": {
      "name": "python3",
      "display_name": "Python 3"
    },
    "accelerator": "GPU"
  },
  "cells": [
    {
      "cell_type": "markdown",
      "metadata": {
        "id": "view-in-github",
        "colab_type": "text"
      },
      "source": [
        "<a href=\"https://colab.research.google.com/github/AryanMethil/Brain_Tumor_Detection/blob/master/Brain_Tumour_Detection.ipynb\" target=\"_parent\"><img src=\"https://colab.research.google.com/assets/colab-badge.svg\" alt=\"Open In Colab\"/></a>"
      ]
    },
    {
      "cell_type": "code",
      "metadata": {
        "id": "Rx6Li8Xl4Dp5",
        "colab_type": "code",
        "colab": {
          "base_uri": "https://localhost:8080/",
          "height": 54
        },
        "outputId": "2bf6e983-c83c-4d82-891c-5f229b5e9c97"
      },
      "source": [
        "from google.colab import drive\n",
        "drive.mount('/content/drive')\n"
      ],
      "execution_count": 1,
      "outputs": [
        {
          "output_type": "stream",
          "text": [
            "Drive already mounted at /content/drive; to attempt to forcibly remount, call drive.mount(\"/content/drive\", force_remount=True).\n"
          ],
          "name": "stdout"
        }
      ]
    },
    {
      "cell_type": "code",
      "metadata": {
        "id": "KiEH_7xLicrp",
        "colab_type": "code",
        "colab": {
          "base_uri": "https://localhost:8080/",
          "height": 34
        },
        "outputId": "aa3eca86-8639-4c5c-ee79-41b41d2161c0"
      },
      "source": [
        "%cd '/content/drive/My Drive/Brain_Tumor_Classification/src'"
      ],
      "execution_count": 2,
      "outputs": [
        {
          "output_type": "stream",
          "text": [
            "/content/drive/My Drive/Brain_Tumor_Classification/src\n"
          ],
          "name": "stdout"
        }
      ]
    },
    {
      "cell_type": "code",
      "metadata": {
        "id": "Kw4svy8RinXy",
        "colab_type": "code",
        "colab": {
          "base_uri": "https://localhost:8080/",
          "height": 34
        },
        "outputId": "9e10bca8-ab4c-4c96-f5f0-ca81ad562b0e"
      },
      "source": [
        "!pwd"
      ],
      "execution_count": 3,
      "outputs": [
        {
          "output_type": "stream",
          "text": [
            "/content/drive/My Drive/Brain_Tumor_Classification/src\n"
          ],
          "name": "stdout"
        }
      ]
    },
    {
      "cell_type": "code",
      "metadata": {
        "id": "A9KilanhhY0v",
        "colab_type": "code",
        "colab": {}
      },
      "source": [
        "import os\n",
        "import shutil\n",
        "from cv2 import *\n",
        "from google.colab.patches import cv2_imshow\n",
        "from constants import *"
      ],
      "execution_count": 4,
      "outputs": []
    },
    {
      "cell_type": "code",
      "metadata": {
        "id": "W-eCsnH9lygK",
        "colab_type": "code",
        "colab": {
          "base_uri": "https://localhost:8080/",
          "height": 34
        },
        "outputId": "5cac8600-9fab-405c-a988-b1b38d8fef91"
      },
      "source": [
        "%cd '/content/'\n"
      ],
      "execution_count": 5,
      "outputs": [
        {
          "output_type": "stream",
          "text": [
            "/content\n"
          ],
          "name": "stdout"
        }
      ]
    },
    {
      "cell_type": "code",
      "metadata": {
        "id": "MWrzktW9YuhK",
        "colab_type": "code",
        "colab": {}
      },
      "source": [
        "os.makedirs(image_preprocessed_yes,exist_ok=True)\n",
        "for _,_,files in os.walk(yes):\n",
        "  for f in files:\n",
        "    img_path=os.path.join(yes,f)\n",
        "    norm=imread(img_path)\n",
        "    norm=cvtColor(norm,COLOR_BGR2GRAY)\n",
        "    th1=equalizeHist(norm)\n",
        "    imwrite(image_preprocessed_yes+f,th1)\n",
        "\n",
        "os.makedirs(image_preprocessed_no,exist_ok=True)\n",
        "for _,_,files in os.walk(no):\n",
        "  for f in files:\n",
        "    img_path=os.path.join(no,f)\n",
        "    norm=imread(img_path)\n",
        "    norm=cvtColor(norm,COLOR_BGR2GRAY)\n",
        "    th1=equalizeHist(norm)\n",
        "    imwrite(image_preprocessed_no+f,th1)"
      ],
      "execution_count": 6,
      "outputs": []
    },
    {
      "cell_type": "code",
      "metadata": {
        "id": "AnMe_3gA4llW",
        "colab_type": "code",
        "colab": {}
      },
      "source": [
        "brain_tumour_no= image_preprocessed_no\n",
        "brain_tumour_yes=image_preprocessed_yes"
      ],
      "execution_count": 7,
      "outputs": []
    },
    {
      "cell_type": "code",
      "metadata": {
        "id": "4GCpGZKK5j5v",
        "colab_type": "code",
        "colab": {}
      },
      "source": [
        "os.makedirs(image_generator_train_yes,exist_ok=True)\n",
        "os.makedirs(image_generator_train_no,exist_ok=True)\n",
        "os.makedirs(image_generator_validation_yes,exist_ok=True)\n",
        "os.makedirs(image_generator_validation_no,exist_ok=True)"
      ],
      "execution_count": 8,
      "outputs": []
    },
    {
      "cell_type": "code",
      "metadata": {
        "id": "gHo61zzu-Ngb",
        "colab_type": "code",
        "colab": {}
      },
      "source": [
        "for dir,subdir,files in os.walk(brain_tumour_no):\n",
        "  for f in files[:int(len(files)*0.7)]:\n",
        "    shutil.copy(os.path.join(brain_tumour_no,f),image_generator_train_no)\n",
        "  for f in files[int(len(files)*0.7):]:\n",
        "    shutil.copy(os.path.join(brain_tumour_no,f),image_generator_validation_no)\n"
      ],
      "execution_count": 9,
      "outputs": []
    },
    {
      "cell_type": "code",
      "metadata": {
        "id": "zCsZh6pM_nFu",
        "colab_type": "code",
        "colab": {}
      },
      "source": [
        "for dir,subdir,files in os.walk(brain_tumour_yes):\n",
        "  for f in files[:int(len(files)*0.7)]:\n",
        "    shutil.copy(os.path.join(brain_tumour_yes,f),image_generator_train_yes)\n",
        "  for f in files[int(len(files)*0.7):]:\n",
        "    shutil.copy(os.path.join(brain_tumour_yes,f),image_generator_validation_yes)"
      ],
      "execution_count": 10,
      "outputs": []
    },
    {
      "cell_type": "code",
      "metadata": {
        "id": "GH0TT4mXAeWX",
        "colab_type": "code",
        "colab": {}
      },
      "source": [
        "import tensorflow as tf\n"
      ],
      "execution_count": 11,
      "outputs": []
    },
    {
      "cell_type": "code",
      "metadata": {
        "id": "uwb-mgByBlY6",
        "colab_type": "code",
        "colab": {
          "base_uri": "https://localhost:8080/",
          "height": 323
        },
        "outputId": "593224a2-c5b1-447a-d3ba-55bdc9c2751f"
      },
      "source": [
        "\n",
        "base_model=tf.keras.applications.InceptionV3(include_top=False,weights='imagenet',input_shape=(150,150,3))\n",
        "base_model.trainable=False\n",
        "model=tf.keras.Sequential()\n",
        "model.add(base_model)\n",
        "model.add(tf.keras.layers.Flatten())\n",
        "model.add(tf.keras.layers.Dense(128,activation='relu'))\n",
        "model.add(tf.keras.layers.Dropout(0.3))\n",
        "model.add(tf.keras.layers.Dense(1,activation='sigmoid'))\n",
        "model.summary()"
      ],
      "execution_count": 12,
      "outputs": [
        {
          "output_type": "stream",
          "text": [
            "Model: \"sequential\"\n",
            "_________________________________________________________________\n",
            "Layer (type)                 Output Shape              Param #   \n",
            "=================================================================\n",
            "inception_v3 (Functional)    (None, 3, 3, 2048)        21802784  \n",
            "_________________________________________________________________\n",
            "flatten (Flatten)            (None, 18432)             0         \n",
            "_________________________________________________________________\n",
            "dense (Dense)                (None, 128)               2359424   \n",
            "_________________________________________________________________\n",
            "dropout (Dropout)            (None, 128)               0         \n",
            "_________________________________________________________________\n",
            "dense_1 (Dense)              (None, 1)                 129       \n",
            "=================================================================\n",
            "Total params: 24,162,337\n",
            "Trainable params: 2,359,553\n",
            "Non-trainable params: 21,802,784\n",
            "_________________________________________________________________\n"
          ],
          "name": "stdout"
        }
      ]
    },
    {
      "cell_type": "code",
      "metadata": {
        "id": "rOOJYQTyDPZ4",
        "colab_type": "code",
        "colab": {}
      },
      "source": [
        "model.compile(loss='binary_crossentropy',\n",
        "              optimizer=tf.keras.optimizers.Adam(learning_rate=0.0001),\n",
        "              metrics=['accuracy',tf.keras.metrics.Precision(name='precision'),tf.keras.metrics.Recall(name='recall')])"
      ],
      "execution_count": 13,
      "outputs": []
    },
    {
      "cell_type": "code",
      "metadata": {
        "id": "xidHZ3J5Dt21",
        "colab_type": "code",
        "colab": {}
      },
      "source": [
        "train_data_generator=tf.keras.preprocessing.image.ImageDataGenerator(rescale=1/255,\n",
        "                                  rotation_range=30,\n",
        "                                  height_shift_range=0.2,\n",
        "                                  width_shift_range=0.2,\n",
        "                                  shear_range=0.6,\n",
        "                                  zoom_range=0.2,\n",
        "                                  horizontal_flip=True,\n",
        "                                  fill_mode='nearest')\n",
        "validation_data_generator=tf.keras.preprocessing.image.ImageDataGenerator(rescale=1/255)"
      ],
      "execution_count": 14,
      "outputs": []
    },
    {
      "cell_type": "code",
      "metadata": {
        "id": "YCvIq7YGEZpW",
        "colab_type": "code",
        "colab": {
          "base_uri": "https://localhost:8080/",
          "height": 51
        },
        "outputId": "8d7963f5-0279-4a2c-9b75-0ebb1858a166"
      },
      "source": [
        "train_gen=train_data_generator.flow_from_directory(image_generator_train,\n",
        "                                                   target_size=(150,150),\n",
        "                                                   class_mode='binary',\n",
        "                                                   batch_size=8,\n",
        "                                                   shuffle=True)\n",
        "validation_gen=train_data_generator.flow_from_directory(image_generator_validation,\n",
        "                                                   target_size=(150,150),\n",
        "                                                   class_mode='binary',\n",
        "                                                   batch_size=8,\n",
        "                                                   shuffle=True)"
      ],
      "execution_count": 15,
      "outputs": [
        {
          "output_type": "stream",
          "text": [
            "Found 182 images belonging to 2 classes.\n",
            "Found 79 images belonging to 2 classes.\n"
          ],
          "name": "stdout"
        }
      ]
    },
    {
      "cell_type": "code",
      "metadata": {
        "id": "aQpDVApsFILx",
        "colab_type": "code",
        "colab": {}
      },
      "source": [
        "class MyCallback(tf.keras.callbacks.Callback):\n",
        "  def on_epoch_end(self,epoch,logs={}):\n",
        "    if(logs['accuracy']>0.99):\n",
        "      self.model.stop_training=True\n",
        "callbacks=MyCallback()"
      ],
      "execution_count": 16,
      "outputs": []
    },
    {
      "cell_type": "code",
      "metadata": {
        "id": "j-xX6HF9GdSO",
        "colab_type": "code",
        "colab": {
          "base_uri": "https://localhost:8080/",
          "height": 1000
        },
        "outputId": "33ea7388-e727-43a7-8912-d2582c96d999"
      },
      "source": [
        "history=model.fit(train_gen,validation_data=validation_gen,epochs=200,callbacks=callbacks)"
      ],
      "execution_count": 17,
      "outputs": [
        {
          "output_type": "stream",
          "text": [
            "Epoch 1/200\n",
            "23/23 [==============================] - 4s 185ms/step - loss: 1.1367 - accuracy: 0.5659 - precision: 0.6436 - recall: 0.6019 - val_loss: 0.5332 - val_accuracy: 0.7342 - val_precision: 0.7955 - val_recall: 0.7447\n",
            "Epoch 2/200\n",
            "23/23 [==============================] - 2s 100ms/step - loss: 0.6103 - accuracy: 0.7143 - precision: 0.7456 - recall: 0.7870 - val_loss: 0.6738 - val_accuracy: 0.6203 - val_precision: 0.6133 - val_recall: 0.9787\n",
            "Epoch 3/200\n",
            "23/23 [==============================] - 2s 94ms/step - loss: 0.5162 - accuracy: 0.6978 - precision: 0.7227 - recall: 0.7963 - val_loss: 0.4390 - val_accuracy: 0.7468 - val_precision: 0.7368 - val_recall: 0.8936\n",
            "Epoch 4/200\n",
            "23/23 [==============================] - 2s 95ms/step - loss: 0.4707 - accuracy: 0.7363 - precision: 0.7778 - recall: 0.7778 - val_loss: 0.3672 - val_accuracy: 0.8228 - val_precision: 0.8235 - val_recall: 0.8936\n",
            "Epoch 5/200\n",
            "23/23 [==============================] - 2s 97ms/step - loss: 0.4277 - accuracy: 0.8077 - precision: 0.8288 - recall: 0.8519 - val_loss: 0.4411 - val_accuracy: 0.7975 - val_precision: 0.7818 - val_recall: 0.9149\n",
            "Epoch 6/200\n",
            "23/23 [==============================] - 2s 99ms/step - loss: 0.4344 - accuracy: 0.7967 - precision: 0.8087 - recall: 0.8611 - val_loss: 0.4329 - val_accuracy: 0.8101 - val_precision: 0.7759 - val_recall: 0.9574\n",
            "Epoch 7/200\n",
            "23/23 [==============================] - 2s 96ms/step - loss: 0.3519 - accuracy: 0.8681 - precision: 0.8750 - recall: 0.9074 - val_loss: 0.3709 - val_accuracy: 0.8228 - val_precision: 0.8235 - val_recall: 0.8936\n",
            "Epoch 8/200\n",
            "23/23 [==============================] - 2s 97ms/step - loss: 0.3875 - accuracy: 0.8187 - precision: 0.8378 - recall: 0.8611 - val_loss: 0.4425 - val_accuracy: 0.8354 - val_precision: 0.8542 - val_recall: 0.8723\n",
            "Epoch 9/200\n",
            "23/23 [==============================] - 2s 97ms/step - loss: 0.2796 - accuracy: 0.8681 - precision: 0.8962 - recall: 0.8796 - val_loss: 0.3914 - val_accuracy: 0.8101 - val_precision: 0.8333 - val_recall: 0.8511\n",
            "Epoch 10/200\n",
            "23/23 [==============================] - 2s 94ms/step - loss: 0.3202 - accuracy: 0.8681 - precision: 0.8818 - recall: 0.8981 - val_loss: 0.4395 - val_accuracy: 0.7975 - val_precision: 0.8605 - val_recall: 0.7872\n",
            "Epoch 11/200\n",
            "23/23 [==============================] - 2s 95ms/step - loss: 0.3440 - accuracy: 0.8626 - precision: 0.8807 - recall: 0.8889 - val_loss: 0.4293 - val_accuracy: 0.8608 - val_precision: 0.9286 - val_recall: 0.8298\n",
            "Epoch 12/200\n",
            "23/23 [==============================] - 2s 96ms/step - loss: 0.3125 - accuracy: 0.8516 - precision: 0.9010 - recall: 0.8426 - val_loss: 0.5556 - val_accuracy: 0.7089 - val_precision: 0.6875 - val_recall: 0.9362\n",
            "Epoch 13/200\n",
            "23/23 [==============================] - 2s 96ms/step - loss: 0.3859 - accuracy: 0.8407 - precision: 0.8435 - recall: 0.8981 - val_loss: 0.4405 - val_accuracy: 0.8228 - val_precision: 0.8000 - val_recall: 0.9362\n",
            "Epoch 14/200\n",
            "23/23 [==============================] - 2s 97ms/step - loss: 0.2836 - accuracy: 0.8626 - precision: 0.8609 - recall: 0.9167 - val_loss: 0.3882 - val_accuracy: 0.8228 - val_precision: 0.8511 - val_recall: 0.8511\n",
            "Epoch 15/200\n",
            "23/23 [==============================] - 2s 97ms/step - loss: 0.3456 - accuracy: 0.8407 - precision: 0.8559 - recall: 0.8796 - val_loss: 0.4849 - val_accuracy: 0.7595 - val_precision: 0.7500 - val_recall: 0.8936\n",
            "Epoch 16/200\n",
            "23/23 [==============================] - 2s 99ms/step - loss: 0.3854 - accuracy: 0.8022 - precision: 0.8333 - recall: 0.8333 - val_loss: 0.4828 - val_accuracy: 0.7722 - val_precision: 0.7636 - val_recall: 0.8936\n",
            "Epoch 17/200\n",
            "23/23 [==============================] - 2s 98ms/step - loss: 0.2877 - accuracy: 0.8846 - precision: 0.9065 - recall: 0.8981 - val_loss: 0.3785 - val_accuracy: 0.7848 - val_precision: 0.8000 - val_recall: 0.8511\n",
            "Epoch 18/200\n",
            "23/23 [==============================] - 2s 100ms/step - loss: 0.2416 - accuracy: 0.8901 - precision: 0.8793 - recall: 0.9444 - val_loss: 0.4261 - val_accuracy: 0.8608 - val_precision: 0.8913 - val_recall: 0.8723\n",
            "Epoch 19/200\n",
            "23/23 [==============================] - 2s 98ms/step - loss: 0.2796 - accuracy: 0.8791 - precision: 0.8772 - recall: 0.9259 - val_loss: 0.3934 - val_accuracy: 0.8228 - val_precision: 0.8511 - val_recall: 0.8511\n",
            "Epoch 20/200\n",
            "23/23 [==============================] - 2s 100ms/step - loss: 0.3372 - accuracy: 0.8626 - precision: 0.9029 - recall: 0.8611 - val_loss: 0.3590 - val_accuracy: 0.8481 - val_precision: 0.8431 - val_recall: 0.9149\n",
            "Epoch 21/200\n",
            "23/23 [==============================] - 2s 103ms/step - loss: 0.2569 - accuracy: 0.8626 - precision: 0.8952 - recall: 0.8704 - val_loss: 0.3960 - val_accuracy: 0.8481 - val_precision: 0.8571 - val_recall: 0.8936\n",
            "Epoch 22/200\n",
            "23/23 [==============================] - 2s 96ms/step - loss: 0.2156 - accuracy: 0.9121 - precision: 0.9340 - recall: 0.9167 - val_loss: 0.4325 - val_accuracy: 0.7975 - val_precision: 0.7719 - val_recall: 0.9362\n",
            "Epoch 23/200\n",
            "23/23 [==============================] - 2s 97ms/step - loss: 0.3637 - accuracy: 0.8462 - precision: 0.8571 - recall: 0.8889 - val_loss: 0.4709 - val_accuracy: 0.7848 - val_precision: 0.7586 - val_recall: 0.9362\n",
            "Epoch 24/200\n",
            "23/23 [==============================] - 2s 95ms/step - loss: 0.3062 - accuracy: 0.8681 - precision: 0.8962 - recall: 0.8796 - val_loss: 0.4584 - val_accuracy: 0.7595 - val_precision: 0.7414 - val_recall: 0.9149\n",
            "Epoch 25/200\n",
            "23/23 [==============================] - 2s 94ms/step - loss: 0.3044 - accuracy: 0.8681 - precision: 0.8559 - recall: 0.9352 - val_loss: 0.4466 - val_accuracy: 0.7848 - val_precision: 0.8125 - val_recall: 0.8298\n",
            "Epoch 26/200\n",
            "23/23 [==============================] - 2s 94ms/step - loss: 0.2403 - accuracy: 0.9176 - precision: 0.9266 - recall: 0.9352 - val_loss: 0.4667 - val_accuracy: 0.8228 - val_precision: 0.8235 - val_recall: 0.8936\n",
            "Epoch 27/200\n",
            "23/23 [==============================] - 2s 95ms/step - loss: 0.2589 - accuracy: 0.8791 - precision: 0.8839 - recall: 0.9167 - val_loss: 0.4350 - val_accuracy: 0.8354 - val_precision: 0.8696 - val_recall: 0.8511\n",
            "Epoch 28/200\n",
            "23/23 [==============================] - 2s 94ms/step - loss: 0.2613 - accuracy: 0.8791 - precision: 0.8981 - recall: 0.8981 - val_loss: 0.3915 - val_accuracy: 0.8354 - val_precision: 0.8542 - val_recall: 0.8723\n",
            "Epoch 29/200\n",
            "23/23 [==============================] - 2s 95ms/step - loss: 0.2730 - accuracy: 0.8681 - precision: 0.8818 - recall: 0.8981 - val_loss: 0.4477 - val_accuracy: 0.8228 - val_precision: 0.8113 - val_recall: 0.9149\n",
            "Epoch 30/200\n",
            "23/23 [==============================] - 2s 102ms/step - loss: 0.2684 - accuracy: 0.8901 - precision: 0.9074 - recall: 0.9074 - val_loss: 0.3780 - val_accuracy: 0.8354 - val_precision: 0.8542 - val_recall: 0.8723\n",
            "Epoch 31/200\n",
            "23/23 [==============================] - 2s 99ms/step - loss: 0.2085 - accuracy: 0.9231 - precision: 0.9352 - recall: 0.9352 - val_loss: 0.4800 - val_accuracy: 0.8101 - val_precision: 0.8200 - val_recall: 0.8723\n",
            "Epoch 32/200\n",
            "23/23 [==============================] - 2s 101ms/step - loss: 0.2336 - accuracy: 0.8901 - precision: 0.8860 - recall: 0.9352 - val_loss: 0.3995 - val_accuracy: 0.8101 - val_precision: 0.8333 - val_recall: 0.8511\n",
            "Epoch 33/200\n",
            "23/23 [==============================] - 2s 99ms/step - loss: 0.2969 - accuracy: 0.8571 - precision: 0.8727 - recall: 0.8889 - val_loss: 0.3684 - val_accuracy: 0.8608 - val_precision: 0.8600 - val_recall: 0.9149\n",
            "Epoch 34/200\n",
            "23/23 [==============================] - 2s 99ms/step - loss: 0.2210 - accuracy: 0.9066 - precision: 0.8957 - recall: 0.9537 - val_loss: 0.3219 - val_accuracy: 0.8987 - val_precision: 0.9535 - val_recall: 0.8723\n",
            "Epoch 35/200\n",
            "23/23 [==============================] - 2s 95ms/step - loss: 0.2111 - accuracy: 0.9121 - precision: 0.9259 - recall: 0.9259 - val_loss: 0.5007 - val_accuracy: 0.7848 - val_precision: 0.8750 - val_recall: 0.7447\n",
            "Epoch 36/200\n",
            "23/23 [==============================] - 2s 93ms/step - loss: 0.2237 - accuracy: 0.9066 - precision: 0.9099 - recall: 0.9352 - val_loss: 0.5097 - val_accuracy: 0.7975 - val_precision: 0.8780 - val_recall: 0.7660\n",
            "Epoch 37/200\n",
            "23/23 [==============================] - 2s 95ms/step - loss: 0.2299 - accuracy: 0.9066 - precision: 0.9333 - recall: 0.9074 - val_loss: 0.4430 - val_accuracy: 0.8608 - val_precision: 0.8214 - val_recall: 0.9787\n",
            "Epoch 38/200\n",
            "23/23 [==============================] - 2s 95ms/step - loss: 0.2210 - accuracy: 0.9231 - precision: 0.9273 - recall: 0.9444 - val_loss: 0.4033 - val_accuracy: 0.8354 - val_precision: 0.8542 - val_recall: 0.8723\n",
            "Epoch 39/200\n",
            "23/23 [==============================] - 2s 94ms/step - loss: 0.2619 - accuracy: 0.8901 - precision: 0.9151 - recall: 0.8981 - val_loss: 0.6120 - val_accuracy: 0.7468 - val_precision: 0.7143 - val_recall: 0.9574\n",
            "Epoch 40/200\n",
            "23/23 [==============================] - 2s 96ms/step - loss: 0.2452 - accuracy: 0.9011 - precision: 0.8947 - recall: 0.9444 - val_loss: 0.4154 - val_accuracy: 0.7975 - val_precision: 0.7925 - val_recall: 0.8936\n",
            "Epoch 41/200\n",
            "23/23 [==============================] - 2s 95ms/step - loss: 0.2270 - accuracy: 0.9011 - precision: 0.9018 - recall: 0.9352 - val_loss: 0.3224 - val_accuracy: 0.8481 - val_precision: 0.8571 - val_recall: 0.8936\n",
            "Epoch 42/200\n",
            "23/23 [==============================] - 2s 94ms/step - loss: 0.2254 - accuracy: 0.8956 - precision: 0.9238 - recall: 0.8981 - val_loss: 0.4993 - val_accuracy: 0.7722 - val_precision: 0.8085 - val_recall: 0.8085\n",
            "Epoch 43/200\n",
            "23/23 [==============================] - 2s 95ms/step - loss: 0.1981 - accuracy: 0.9066 - precision: 0.9252 - recall: 0.9167 - val_loss: 0.4353 - val_accuracy: 0.8481 - val_precision: 0.8431 - val_recall: 0.9149\n",
            "Epoch 44/200\n",
            "23/23 [==============================] - 2s 95ms/step - loss: 0.2450 - accuracy: 0.9121 - precision: 0.9259 - recall: 0.9259 - val_loss: 0.3698 - val_accuracy: 0.8861 - val_precision: 0.9130 - val_recall: 0.8936\n",
            "Epoch 45/200\n",
            "23/23 [==============================] - 2s 93ms/step - loss: 0.1905 - accuracy: 0.9451 - precision: 0.9537 - recall: 0.9537 - val_loss: 0.4707 - val_accuracy: 0.8354 - val_precision: 0.8148 - val_recall: 0.9362\n",
            "Epoch 46/200\n",
            "23/23 [==============================] - 2s 94ms/step - loss: 0.2904 - accuracy: 0.8846 - precision: 0.9223 - recall: 0.8796 - val_loss: 0.3277 - val_accuracy: 0.8861 - val_precision: 0.8958 - val_recall: 0.9149\n",
            "Epoch 47/200\n",
            "23/23 [==============================] - 2s 96ms/step - loss: 0.2153 - accuracy: 0.9121 - precision: 0.9107 - recall: 0.9444 - val_loss: 0.3740 - val_accuracy: 0.8608 - val_precision: 0.9500 - val_recall: 0.8085\n",
            "Epoch 48/200\n",
            "23/23 [==============================] - 2s 96ms/step - loss: 0.2410 - accuracy: 0.9176 - precision: 0.9429 - recall: 0.9167 - val_loss: 0.3328 - val_accuracy: 0.8354 - val_precision: 0.8400 - val_recall: 0.8936\n",
            "Epoch 49/200\n",
            "23/23 [==============================] - 2s 93ms/step - loss: 0.1826 - accuracy: 0.9286 - precision: 0.9439 - recall: 0.9352 - val_loss: 0.3428 - val_accuracy: 0.8481 - val_precision: 0.9070 - val_recall: 0.8298\n",
            "Epoch 50/200\n",
            "23/23 [==============================] - 2s 93ms/step - loss: 0.1938 - accuracy: 0.9176 - precision: 0.9346 - recall: 0.9259 - val_loss: 0.4945 - val_accuracy: 0.8354 - val_precision: 0.9048 - val_recall: 0.8085\n",
            "Epoch 51/200\n",
            "23/23 [==============================] - 2s 96ms/step - loss: 0.1652 - accuracy: 0.9396 - precision: 0.9619 - recall: 0.9352 - val_loss: 0.4213 - val_accuracy: 0.7975 - val_precision: 0.8039 - val_recall: 0.8723\n",
            "Epoch 52/200\n",
            "23/23 [==============================] - 2s 95ms/step - loss: 0.2293 - accuracy: 0.9066 - precision: 0.9099 - recall: 0.9352 - val_loss: 0.4663 - val_accuracy: 0.8354 - val_precision: 0.9048 - val_recall: 0.8085\n",
            "Epoch 53/200\n",
            "23/23 [==============================] - 2s 95ms/step - loss: 0.1692 - accuracy: 0.9341 - precision: 0.9364 - recall: 0.9537 - val_loss: 0.4393 - val_accuracy: 0.8228 - val_precision: 0.8837 - val_recall: 0.8085\n",
            "Epoch 54/200\n",
            "23/23 [==============================] - 2s 94ms/step - loss: 0.2103 - accuracy: 0.9176 - precision: 0.9189 - recall: 0.9444 - val_loss: 0.4100 - val_accuracy: 0.8608 - val_precision: 0.9286 - val_recall: 0.8298\n",
            "Epoch 55/200\n",
            "23/23 [==============================] - 2s 95ms/step - loss: 0.1920 - accuracy: 0.9286 - precision: 0.9358 - recall: 0.9444 - val_loss: 0.4359 - val_accuracy: 0.7975 - val_precision: 0.8444 - val_recall: 0.8085\n",
            "Epoch 56/200\n",
            "23/23 [==============================] - 2s 95ms/step - loss: 0.1763 - accuracy: 0.9396 - precision: 0.9619 - recall: 0.9352 - val_loss: 0.4233 - val_accuracy: 0.8101 - val_precision: 0.8200 - val_recall: 0.8723\n",
            "Epoch 57/200\n",
            "23/23 [==============================] - 2s 95ms/step - loss: 0.1740 - accuracy: 0.9341 - precision: 0.9444 - recall: 0.9444 - val_loss: 0.4910 - val_accuracy: 0.8101 - val_precision: 0.8077 - val_recall: 0.8936\n",
            "Epoch 58/200\n",
            "23/23 [==============================] - 2s 95ms/step - loss: 0.1993 - accuracy: 0.9341 - precision: 0.9444 - recall: 0.9444 - val_loss: 0.2931 - val_accuracy: 0.8608 - val_precision: 0.9286 - val_recall: 0.8298\n",
            "Epoch 59/200\n",
            "23/23 [==============================] - 2s 94ms/step - loss: 0.1972 - accuracy: 0.9286 - precision: 0.9358 - recall: 0.9444 - val_loss: 0.4938 - val_accuracy: 0.7722 - val_precision: 0.7959 - val_recall: 0.8298\n",
            "Epoch 60/200\n",
            "23/23 [==============================] - 2s 96ms/step - loss: 0.1737 - accuracy: 0.9560 - precision: 0.9630 - recall: 0.9630 - val_loss: 0.5367 - val_accuracy: 0.8101 - val_precision: 0.7963 - val_recall: 0.9149\n",
            "Epoch 61/200\n",
            "23/23 [==============================] - 2s 94ms/step - loss: 0.1433 - accuracy: 0.9396 - precision: 0.9533 - recall: 0.9444 - val_loss: 0.4541 - val_accuracy: 0.8354 - val_precision: 0.8036 - val_recall: 0.9574\n",
            "Epoch 62/200\n",
            "23/23 [==============================] - 2s 94ms/step - loss: 0.1519 - accuracy: 0.9451 - precision: 0.9455 - recall: 0.9630 - val_loss: 0.3442 - val_accuracy: 0.8608 - val_precision: 0.9091 - val_recall: 0.8511\n",
            "Epoch 63/200\n",
            "23/23 [==============================] - 2s 93ms/step - loss: 0.2616 - accuracy: 0.9011 - precision: 0.9091 - recall: 0.9259 - val_loss: 0.4827 - val_accuracy: 0.8481 - val_precision: 0.8431 - val_recall: 0.9149\n",
            "Epoch 64/200\n",
            "23/23 [==============================] - 2s 96ms/step - loss: 0.2105 - accuracy: 0.9121 - precision: 0.9259 - recall: 0.9259 - val_loss: 0.3227 - val_accuracy: 0.8481 - val_precision: 0.8571 - val_recall: 0.8936\n",
            "Epoch 65/200\n",
            "23/23 [==============================] - 2s 93ms/step - loss: 0.1865 - accuracy: 0.9121 - precision: 0.9107 - recall: 0.9444 - val_loss: 0.4033 - val_accuracy: 0.8101 - val_precision: 0.7963 - val_recall: 0.9149\n",
            "Epoch 66/200\n",
            "23/23 [==============================] - 2s 93ms/step - loss: 0.1613 - accuracy: 0.9286 - precision: 0.9358 - recall: 0.9444 - val_loss: 0.4236 - val_accuracy: 0.8734 - val_precision: 0.9512 - val_recall: 0.8298\n",
            "Epoch 67/200\n",
            "23/23 [==============================] - 2s 94ms/step - loss: 0.1017 - accuracy: 0.9560 - precision: 0.9545 - recall: 0.9722 - val_loss: 0.3941 - val_accuracy: 0.8861 - val_precision: 0.9130 - val_recall: 0.8936\n",
            "Epoch 68/200\n",
            "23/23 [==============================] - 2s 94ms/step - loss: 0.2293 - accuracy: 0.9066 - precision: 0.9099 - recall: 0.9352 - val_loss: 0.4988 - val_accuracy: 0.7848 - val_precision: 0.8947 - val_recall: 0.7234\n",
            "Epoch 69/200\n",
            "23/23 [==============================] - 2s 96ms/step - loss: 0.2854 - accuracy: 0.9176 - precision: 0.9266 - recall: 0.9352 - val_loss: 0.4328 - val_accuracy: 0.8608 - val_precision: 0.9286 - val_recall: 0.8298\n",
            "Epoch 70/200\n",
            "23/23 [==============================] - 2s 96ms/step - loss: 0.1690 - accuracy: 0.9505 - precision: 0.9626 - recall: 0.9537 - val_loss: 0.4715 - val_accuracy: 0.7975 - val_precision: 0.8298 - val_recall: 0.8298\n",
            "Epoch 71/200\n",
            "23/23 [==============================] - 2s 95ms/step - loss: 0.2202 - accuracy: 0.9121 - precision: 0.9107 - recall: 0.9444 - val_loss: 0.4364 - val_accuracy: 0.8101 - val_precision: 0.8478 - val_recall: 0.8298\n",
            "Epoch 72/200\n",
            "23/23 [==============================] - 2s 93ms/step - loss: 0.1581 - accuracy: 0.9505 - precision: 0.9626 - recall: 0.9537 - val_loss: 0.3863 - val_accuracy: 0.8354 - val_precision: 0.8269 - val_recall: 0.9149\n",
            "Epoch 73/200\n",
            "23/23 [==============================] - 2s 94ms/step - loss: 0.1314 - accuracy: 0.9560 - precision: 0.9808 - recall: 0.9444 - val_loss: 0.4501 - val_accuracy: 0.8354 - val_precision: 0.8269 - val_recall: 0.9149\n",
            "Epoch 74/200\n",
            "23/23 [==============================] - 2s 95ms/step - loss: 0.1620 - accuracy: 0.9396 - precision: 0.9450 - recall: 0.9537 - val_loss: 0.4413 - val_accuracy: 0.8354 - val_precision: 0.8148 - val_recall: 0.9362\n",
            "Epoch 75/200\n",
            "23/23 [==============================] - 2s 96ms/step - loss: 0.1628 - accuracy: 0.9505 - precision: 0.9541 - recall: 0.9630 - val_loss: 0.4535 - val_accuracy: 0.7975 - val_precision: 0.8298 - val_recall: 0.8298\n",
            "Epoch 76/200\n",
            "23/23 [==============================] - 2s 96ms/step - loss: 0.1443 - accuracy: 0.9341 - precision: 0.9615 - recall: 0.9259 - val_loss: 0.5477 - val_accuracy: 0.8228 - val_precision: 0.8113 - val_recall: 0.9149\n",
            "Epoch 77/200\n",
            "23/23 [==============================] - 2s 96ms/step - loss: 0.1388 - accuracy: 0.9670 - precision: 0.9722 - recall: 0.9722 - val_loss: 0.5195 - val_accuracy: 0.8228 - val_precision: 0.8113 - val_recall: 0.9149\n",
            "Epoch 78/200\n",
            "23/23 [==============================] - 2s 95ms/step - loss: 0.1518 - accuracy: 0.9286 - precision: 0.9439 - recall: 0.9352 - val_loss: 0.5268 - val_accuracy: 0.8101 - val_precision: 0.8333 - val_recall: 0.8511\n",
            "Epoch 79/200\n",
            "23/23 [==============================] - 2s 95ms/step - loss: 0.1599 - accuracy: 0.9341 - precision: 0.9364 - recall: 0.9537 - val_loss: 0.4324 - val_accuracy: 0.8228 - val_precision: 0.8837 - val_recall: 0.8085\n",
            "Epoch 80/200\n",
            "23/23 [==============================] - 2s 95ms/step - loss: 0.2006 - accuracy: 0.9176 - precision: 0.9266 - recall: 0.9352 - val_loss: 0.3274 - val_accuracy: 0.8734 - val_precision: 0.8936 - val_recall: 0.8936\n",
            "Epoch 81/200\n",
            "23/23 [==============================] - 2s 94ms/step - loss: 0.1693 - accuracy: 0.9396 - precision: 0.9450 - recall: 0.9537 - val_loss: 0.4379 - val_accuracy: 0.8228 - val_precision: 0.8000 - val_recall: 0.9362\n",
            "Epoch 82/200\n",
            "23/23 [==============================] - 2s 97ms/step - loss: 0.1686 - accuracy: 0.9451 - precision: 0.9537 - recall: 0.9537 - val_loss: 0.6269 - val_accuracy: 0.7722 - val_precision: 0.7636 - val_recall: 0.8936\n",
            "Epoch 83/200\n",
            "23/23 [==============================] - 2s 94ms/step - loss: 0.1824 - accuracy: 0.9176 - precision: 0.9266 - recall: 0.9352 - val_loss: 0.6111 - val_accuracy: 0.7975 - val_precision: 0.8298 - val_recall: 0.8298\n",
            "Epoch 84/200\n",
            "23/23 [==============================] - 2s 95ms/step - loss: 0.0963 - accuracy: 0.9725 - precision: 0.9725 - recall: 0.9815 - val_loss: 0.4794 - val_accuracy: 0.8228 - val_precision: 0.8113 - val_recall: 0.9149\n",
            "Epoch 85/200\n",
            "23/23 [==============================] - 2s 94ms/step - loss: 0.0832 - accuracy: 0.9615 - precision: 0.9633 - recall: 0.9722 - val_loss: 0.5268 - val_accuracy: 0.8481 - val_precision: 0.8431 - val_recall: 0.9149\n",
            "Epoch 86/200\n",
            "23/23 [==============================] - 2s 95ms/step - loss: 0.1309 - accuracy: 0.9505 - precision: 0.9541 - recall: 0.9630 - val_loss: 0.4566 - val_accuracy: 0.8481 - val_precision: 0.8431 - val_recall: 0.9149\n",
            "Epoch 87/200\n",
            "23/23 [==============================] - 2s 95ms/step - loss: 0.1558 - accuracy: 0.9451 - precision: 0.9623 - recall: 0.9444 - val_loss: 0.4378 - val_accuracy: 0.8101 - val_precision: 0.7963 - val_recall: 0.9149\n",
            "Epoch 88/200\n",
            "23/23 [==============================] - 2s 95ms/step - loss: 0.1670 - accuracy: 0.9341 - precision: 0.9528 - recall: 0.9352 - val_loss: 0.5049 - val_accuracy: 0.8228 - val_precision: 0.8113 - val_recall: 0.9149\n",
            "Epoch 89/200\n",
            "23/23 [==============================] - 2s 94ms/step - loss: 0.1594 - accuracy: 0.9451 - precision: 0.9623 - recall: 0.9444 - val_loss: 0.4871 - val_accuracy: 0.8354 - val_precision: 0.8148 - val_recall: 0.9362\n",
            "Epoch 90/200\n",
            "23/23 [==============================] - 2s 95ms/step - loss: 0.1198 - accuracy: 0.9725 - precision: 0.9725 - recall: 0.9815 - val_loss: 0.4214 - val_accuracy: 0.8481 - val_precision: 0.8302 - val_recall: 0.9362\n",
            "Epoch 91/200\n",
            "23/23 [==============================] - 2s 95ms/step - loss: 0.1533 - accuracy: 0.9341 - precision: 0.9444 - recall: 0.9444 - val_loss: 0.3254 - val_accuracy: 0.8481 - val_precision: 0.8571 - val_recall: 0.8936\n",
            "Epoch 92/200\n",
            "23/23 [==============================] - 2s 94ms/step - loss: 0.1262 - accuracy: 0.9505 - precision: 0.9459 - recall: 0.9722 - val_loss: 0.4565 - val_accuracy: 0.8101 - val_precision: 0.9000 - val_recall: 0.7660\n",
            "Epoch 93/200\n",
            "23/23 [==============================] - 2s 94ms/step - loss: 0.1632 - accuracy: 0.9505 - precision: 0.9541 - recall: 0.9630 - val_loss: 0.5941 - val_accuracy: 0.7848 - val_precision: 0.7778 - val_recall: 0.8936\n",
            "Epoch 94/200\n",
            "23/23 [==============================] - 2s 94ms/step - loss: 0.1699 - accuracy: 0.9341 - precision: 0.9286 - recall: 0.9630 - val_loss: 0.7239 - val_accuracy: 0.7215 - val_precision: 0.7193 - val_recall: 0.8723\n",
            "Epoch 95/200\n",
            "23/23 [==============================] - 2s 95ms/step - loss: 0.1164 - accuracy: 0.9670 - precision: 0.9722 - recall: 0.9722 - val_loss: 0.3847 - val_accuracy: 0.8608 - val_precision: 0.8750 - val_recall: 0.8936\n",
            "Epoch 96/200\n",
            "23/23 [==============================] - 2s 97ms/step - loss: 0.1720 - accuracy: 0.9286 - precision: 0.9279 - recall: 0.9537 - val_loss: 0.4235 - val_accuracy: 0.8228 - val_precision: 0.8667 - val_recall: 0.8298\n",
            "Epoch 97/200\n",
            "23/23 [==============================] - 2s 95ms/step - loss: 0.1250 - accuracy: 0.9670 - precision: 0.9811 - recall: 0.9630 - val_loss: 0.5999 - val_accuracy: 0.7595 - val_precision: 0.7692 - val_recall: 0.8511\n",
            "Epoch 98/200\n",
            "23/23 [==============================] - 2s 95ms/step - loss: 0.1143 - accuracy: 0.9615 - precision: 0.9720 - recall: 0.9630 - val_loss: 0.4929 - val_accuracy: 0.7848 - val_precision: 0.7885 - val_recall: 0.8723\n",
            "Epoch 99/200\n",
            "23/23 [==============================] - 2s 94ms/step - loss: 0.1523 - accuracy: 0.9505 - precision: 0.9459 - recall: 0.9722 - val_loss: 0.4907 - val_accuracy: 0.7975 - val_precision: 0.7925 - val_recall: 0.8936\n",
            "Epoch 100/200\n",
            "23/23 [==============================] - 2s 97ms/step - loss: 0.1923 - accuracy: 0.9286 - precision: 0.9439 - recall: 0.9352 - val_loss: 0.5268 - val_accuracy: 0.7975 - val_precision: 0.8163 - val_recall: 0.8511\n",
            "Epoch 101/200\n",
            "23/23 [==============================] - 2s 96ms/step - loss: 0.1132 - accuracy: 0.9615 - precision: 0.9633 - recall: 0.9722 - val_loss: 0.4862 - val_accuracy: 0.7975 - val_precision: 0.7925 - val_recall: 0.8936\n",
            "Epoch 102/200\n",
            "23/23 [==============================] - 2s 97ms/step - loss: 0.1224 - accuracy: 0.9560 - precision: 0.9545 - recall: 0.9722 - val_loss: 0.4090 - val_accuracy: 0.8608 - val_precision: 0.9091 - val_recall: 0.8511\n",
            "Epoch 103/200\n",
            "23/23 [==============================] - 2s 94ms/step - loss: 0.1366 - accuracy: 0.9396 - precision: 0.9619 - recall: 0.9352 - val_loss: 0.5397 - val_accuracy: 0.8101 - val_precision: 0.8333 - val_recall: 0.8511\n",
            "Epoch 104/200\n",
            "23/23 [==============================] - 2s 94ms/step - loss: 0.1371 - accuracy: 0.9505 - precision: 0.9459 - recall: 0.9722 - val_loss: 0.3784 - val_accuracy: 0.8354 - val_precision: 0.9474 - val_recall: 0.7660\n",
            "Epoch 105/200\n",
            "23/23 [==============================] - 2s 95ms/step - loss: 0.1089 - accuracy: 0.9615 - precision: 0.9810 - recall: 0.9537 - val_loss: 0.4378 - val_accuracy: 0.8734 - val_precision: 0.8627 - val_recall: 0.9362\n",
            "Epoch 106/200\n",
            "23/23 [==============================] - 2s 94ms/step - loss: 0.1358 - accuracy: 0.9670 - precision: 0.9554 - recall: 0.9907 - val_loss: 0.6072 - val_accuracy: 0.7722 - val_precision: 0.8222 - val_recall: 0.7872\n",
            "Epoch 107/200\n",
            "23/23 [==============================] - 2s 94ms/step - loss: 0.1899 - accuracy: 0.9121 - precision: 0.9423 - recall: 0.9074 - val_loss: 0.4919 - val_accuracy: 0.7975 - val_precision: 0.8163 - val_recall: 0.8511\n",
            "Epoch 108/200\n",
            "23/23 [==============================] - 2s 94ms/step - loss: 0.2006 - accuracy: 0.9286 - precision: 0.9524 - recall: 0.9259 - val_loss: 0.4768 - val_accuracy: 0.8228 - val_precision: 0.8667 - val_recall: 0.8298\n",
            "Epoch 109/200\n",
            "23/23 [==============================] - 2s 96ms/step - loss: 0.1491 - accuracy: 0.9396 - precision: 0.9450 - recall: 0.9537 - val_loss: 0.4351 - val_accuracy: 0.8481 - val_precision: 0.8723 - val_recall: 0.8723\n",
            "Epoch 110/200\n",
            "23/23 [==============================] - 2s 96ms/step - loss: 0.1212 - accuracy: 0.9451 - precision: 0.9537 - recall: 0.9537 - val_loss: 0.4772 - val_accuracy: 0.8354 - val_precision: 0.9048 - val_recall: 0.8085\n",
            "Epoch 111/200\n",
            "23/23 [==============================] - 2s 94ms/step - loss: 0.1272 - accuracy: 0.9615 - precision: 0.9720 - recall: 0.9630 - val_loss: 0.5145 - val_accuracy: 0.7848 - val_precision: 0.8261 - val_recall: 0.8085\n",
            "Epoch 112/200\n",
            "23/23 [==============================] - 2s 93ms/step - loss: 0.1746 - accuracy: 0.9231 - precision: 0.9352 - recall: 0.9352 - val_loss: 0.4576 - val_accuracy: 0.7848 - val_precision: 0.7885 - val_recall: 0.8723\n",
            "Epoch 113/200\n",
            "23/23 [==============================] - 2s 97ms/step - loss: 0.1216 - accuracy: 0.9615 - precision: 0.9720 - recall: 0.9630 - val_loss: 0.4928 - val_accuracy: 0.8354 - val_precision: 0.8269 - val_recall: 0.9149\n",
            "Epoch 114/200\n",
            "23/23 [==============================] - 2s 94ms/step - loss: 0.1470 - accuracy: 0.9341 - precision: 0.9615 - recall: 0.9259 - val_loss: 0.4487 - val_accuracy: 0.8101 - val_precision: 0.8077 - val_recall: 0.8936\n",
            "Epoch 115/200\n",
            "23/23 [==============================] - 2s 93ms/step - loss: 0.1123 - accuracy: 0.9615 - precision: 0.9633 - recall: 0.9722 - val_loss: 0.3636 - val_accuracy: 0.8608 - val_precision: 0.8750 - val_recall: 0.8936\n",
            "Epoch 116/200\n",
            "23/23 [==============================] - 2s 94ms/step - loss: 0.2020 - accuracy: 0.9341 - precision: 0.9364 - recall: 0.9537 - val_loss: 0.4559 - val_accuracy: 0.8608 - val_precision: 0.8600 - val_recall: 0.9149\n",
            "Epoch 117/200\n",
            "23/23 [==============================] - 2s 96ms/step - loss: 0.1428 - accuracy: 0.9396 - precision: 0.9369 - recall: 0.9630 - val_loss: 0.3693 - val_accuracy: 0.8354 - val_precision: 0.8542 - val_recall: 0.8723\n",
            "Epoch 118/200\n",
            "23/23 [==============================] - 2s 95ms/step - loss: 0.1490 - accuracy: 0.9341 - precision: 0.9286 - recall: 0.9630 - val_loss: 0.4274 - val_accuracy: 0.8354 - val_precision: 0.8696 - val_recall: 0.8511\n",
            "Epoch 119/200\n",
            "23/23 [==============================] - 2s 99ms/step - loss: 0.0993 - accuracy: 0.9725 - precision: 0.9725 - recall: 0.9815 - val_loss: 0.3648 - val_accuracy: 0.8861 - val_precision: 0.8800 - val_recall: 0.9362\n",
            "Epoch 120/200\n",
            "23/23 [==============================] - 2s 94ms/step - loss: 0.1104 - accuracy: 0.9615 - precision: 0.9720 - recall: 0.9630 - val_loss: 0.5751 - val_accuracy: 0.7722 - val_precision: 0.7843 - val_recall: 0.8511\n",
            "Epoch 121/200\n",
            "23/23 [==============================] - 2s 96ms/step - loss: 0.1160 - accuracy: 0.9505 - precision: 0.9541 - recall: 0.9630 - val_loss: 0.6744 - val_accuracy: 0.8101 - val_precision: 0.8077 - val_recall: 0.8936\n",
            "Epoch 122/200\n",
            "23/23 [==============================] - 2s 99ms/step - loss: 0.1172 - accuracy: 0.9451 - precision: 0.9537 - recall: 0.9537 - val_loss: 0.4153 - val_accuracy: 0.8608 - val_precision: 0.8913 - val_recall: 0.8723\n",
            "Epoch 123/200\n",
            "23/23 [==============================] - 2s 96ms/step - loss: 0.1347 - accuracy: 0.9451 - precision: 0.9455 - recall: 0.9630 - val_loss: 0.5899 - val_accuracy: 0.7848 - val_precision: 0.8261 - val_recall: 0.8085\n",
            "Epoch 124/200\n",
            "23/23 [==============================] - 2s 96ms/step - loss: 0.1261 - accuracy: 0.9615 - precision: 0.9633 - recall: 0.9722 - val_loss: 0.3750 - val_accuracy: 0.8228 - val_precision: 0.8113 - val_recall: 0.9149\n",
            "Epoch 125/200\n",
            "23/23 [==============================] - 2s 95ms/step - loss: 0.0741 - accuracy: 0.9835 - precision: 0.9907 - recall: 0.9815 - val_loss: 0.7646 - val_accuracy: 0.7468 - val_precision: 0.7872 - val_recall: 0.7872\n",
            "Epoch 126/200\n",
            "23/23 [==============================] - 2s 97ms/step - loss: 0.1026 - accuracy: 0.9615 - precision: 0.9903 - recall: 0.9444 - val_loss: 0.4295 - val_accuracy: 0.8101 - val_precision: 0.8077 - val_recall: 0.8936\n",
            "Epoch 127/200\n",
            "23/23 [==============================] - 2s 93ms/step - loss: 0.1419 - accuracy: 0.9286 - precision: 0.9439 - recall: 0.9352 - val_loss: 0.4700 - val_accuracy: 0.8481 - val_precision: 0.8889 - val_recall: 0.8511\n",
            "Epoch 128/200\n",
            "23/23 [==============================] - 2s 94ms/step - loss: 0.1357 - accuracy: 0.9505 - precision: 0.9626 - recall: 0.9537 - val_loss: 0.6750 - val_accuracy: 0.8101 - val_precision: 0.9444 - val_recall: 0.7234\n",
            "Epoch 129/200\n",
            "23/23 [==============================] - 2s 95ms/step - loss: 0.1940 - accuracy: 0.9396 - precision: 0.9369 - recall: 0.9630 - val_loss: 0.6895 - val_accuracy: 0.7722 - val_precision: 0.8718 - val_recall: 0.7234\n",
            "Epoch 130/200\n",
            "23/23 [==============================] - 2s 95ms/step - loss: 0.1319 - accuracy: 0.9725 - precision: 0.9813 - recall: 0.9722 - val_loss: 0.5191 - val_accuracy: 0.8481 - val_precision: 0.8723 - val_recall: 0.8723\n",
            "Epoch 131/200\n",
            "23/23 [==============================] - 2s 94ms/step - loss: 0.1028 - accuracy: 0.9725 - precision: 0.9813 - recall: 0.9722 - val_loss: 0.4422 - val_accuracy: 0.8354 - val_precision: 0.8696 - val_recall: 0.8511\n",
            "Epoch 132/200\n",
            "23/23 [==============================] - 2s 94ms/step - loss: 0.0914 - accuracy: 0.9725 - precision: 0.9640 - recall: 0.9907 - val_loss: 0.4810 - val_accuracy: 0.8354 - val_precision: 0.8696 - val_recall: 0.8511\n",
            "Epoch 133/200\n",
            "23/23 [==============================] - 2s 94ms/step - loss: 0.0940 - accuracy: 0.9670 - precision: 0.9722 - recall: 0.9722 - val_loss: 0.4233 - val_accuracy: 0.8481 - val_precision: 0.8431 - val_recall: 0.9149\n",
            "Epoch 134/200\n",
            "23/23 [==============================] - 2s 95ms/step - loss: 0.1170 - accuracy: 0.9396 - precision: 0.9533 - recall: 0.9444 - val_loss: 0.3132 - val_accuracy: 0.8481 - val_precision: 0.8723 - val_recall: 0.8723\n",
            "Epoch 135/200\n",
            "23/23 [==============================] - 2s 95ms/step - loss: 0.1600 - accuracy: 0.9341 - precision: 0.9444 - recall: 0.9444 - val_loss: 0.4868 - val_accuracy: 0.8228 - val_precision: 0.8113 - val_recall: 0.9149\n",
            "Epoch 136/200\n",
            "23/23 [==============================] - 2s 95ms/step - loss: 0.1306 - accuracy: 0.9396 - precision: 0.9369 - recall: 0.9630 - val_loss: 0.5845 - val_accuracy: 0.8101 - val_precision: 0.9000 - val_recall: 0.7660\n",
            "Epoch 137/200\n",
            "23/23 [==============================] - 2s 97ms/step - loss: 0.1815 - accuracy: 0.9396 - precision: 0.9533 - recall: 0.9444 - val_loss: 0.4701 - val_accuracy: 0.8228 - val_precision: 0.8667 - val_recall: 0.8298\n",
            "Epoch 138/200\n",
            "23/23 [==============================] - 2s 96ms/step - loss: 0.0852 - accuracy: 0.9890 - precision: 0.9907 - recall: 0.9907 - val_loss: 0.3620 - val_accuracy: 0.8101 - val_precision: 0.8333 - val_recall: 0.8511\n",
            "Epoch 139/200\n",
            "23/23 [==============================] - 2s 95ms/step - loss: 0.0867 - accuracy: 0.9670 - precision: 0.9722 - recall: 0.9722 - val_loss: 0.4494 - val_accuracy: 0.7975 - val_precision: 0.7925 - val_recall: 0.8936\n",
            "Epoch 140/200\n",
            "23/23 [==============================] - 2s 96ms/step - loss: 0.0861 - accuracy: 0.9725 - precision: 0.9725 - recall: 0.9815 - val_loss: 0.4550 - val_accuracy: 0.8228 - val_precision: 0.9024 - val_recall: 0.7872\n",
            "Epoch 141/200\n",
            "23/23 [==============================] - 2s 94ms/step - loss: 0.1963 - accuracy: 0.9451 - precision: 0.9623 - recall: 0.9444 - val_loss: 0.4050 - val_accuracy: 0.8481 - val_precision: 0.8723 - val_recall: 0.8723\n",
            "Epoch 142/200\n",
            "23/23 [==============================] - 2s 94ms/step - loss: 0.1367 - accuracy: 0.9396 - precision: 0.9533 - recall: 0.9444 - val_loss: 0.3590 - val_accuracy: 0.8481 - val_precision: 0.9487 - val_recall: 0.7872\n",
            "Epoch 143/200\n",
            "23/23 [==============================] - 2s 94ms/step - loss: 0.1697 - accuracy: 0.9505 - precision: 0.9626 - recall: 0.9537 - val_loss: 0.4093 - val_accuracy: 0.8481 - val_precision: 0.9070 - val_recall: 0.8298\n",
            "Epoch 144/200\n",
            "23/23 [==============================] - 2s 94ms/step - loss: 0.1826 - accuracy: 0.9231 - precision: 0.9273 - recall: 0.9444 - val_loss: 0.4886 - val_accuracy: 0.8608 - val_precision: 0.8913 - val_recall: 0.8723\n",
            "Epoch 145/200\n",
            "23/23 [==============================] - 2s 96ms/step - loss: 0.1269 - accuracy: 0.9505 - precision: 0.9541 - recall: 0.9630 - val_loss: 0.4085 - val_accuracy: 0.8354 - val_precision: 0.8148 - val_recall: 0.9362\n",
            "Epoch 146/200\n",
            "23/23 [==============================] - 2s 93ms/step - loss: 0.1186 - accuracy: 0.9451 - precision: 0.9537 - recall: 0.9537 - val_loss: 0.4042 - val_accuracy: 0.7975 - val_precision: 0.8163 - val_recall: 0.8511\n",
            "Epoch 147/200\n",
            "23/23 [==============================] - 2s 95ms/step - loss: 0.0932 - accuracy: 0.9670 - precision: 0.9722 - recall: 0.9722 - val_loss: 0.4364 - val_accuracy: 0.8608 - val_precision: 0.8750 - val_recall: 0.8936\n",
            "Epoch 148/200\n",
            "23/23 [==============================] - 2s 95ms/step - loss: 0.1225 - accuracy: 0.9560 - precision: 0.9545 - recall: 0.9722 - val_loss: 0.3847 - val_accuracy: 0.8608 - val_precision: 0.8462 - val_recall: 0.9362\n",
            "Epoch 149/200\n",
            "23/23 [==============================] - 2s 93ms/step - loss: 0.1284 - accuracy: 0.9670 - precision: 0.9811 - recall: 0.9630 - val_loss: 0.4576 - val_accuracy: 0.8608 - val_precision: 0.8462 - val_recall: 0.9362\n",
            "Epoch 150/200\n",
            "23/23 [==============================] - 2s 95ms/step - loss: 0.0880 - accuracy: 0.9670 - precision: 0.9811 - recall: 0.9630 - val_loss: 0.3195 - val_accuracy: 0.8228 - val_precision: 0.8235 - val_recall: 0.8936\n",
            "Epoch 151/200\n",
            "23/23 [==============================] - 2s 97ms/step - loss: 0.1432 - accuracy: 0.9560 - precision: 0.9630 - recall: 0.9630 - val_loss: 0.4466 - val_accuracy: 0.8354 - val_precision: 0.9048 - val_recall: 0.8085\n",
            "Epoch 152/200\n",
            "23/23 [==============================] - 2s 95ms/step - loss: 0.1109 - accuracy: 0.9560 - precision: 0.9464 - recall: 0.9815 - val_loss: 0.4577 - val_accuracy: 0.8734 - val_precision: 0.9111 - val_recall: 0.8723\n",
            "Epoch 153/200\n",
            "23/23 [==============================] - 2s 94ms/step - loss: 0.1051 - accuracy: 0.9615 - precision: 0.9810 - recall: 0.9537 - val_loss: 0.5497 - val_accuracy: 0.7975 - val_precision: 0.8163 - val_recall: 0.8511\n",
            "Epoch 154/200\n",
            "23/23 [==============================] - 2s 97ms/step - loss: 0.1378 - accuracy: 0.9396 - precision: 0.9369 - recall: 0.9630 - val_loss: 0.4800 - val_accuracy: 0.8228 - val_precision: 0.8367 - val_recall: 0.8723\n",
            "Epoch 155/200\n",
            "23/23 [==============================] - 2s 93ms/step - loss: 0.1238 - accuracy: 0.9451 - precision: 0.9623 - recall: 0.9444 - val_loss: 0.4463 - val_accuracy: 0.8354 - val_precision: 0.8036 - val_recall: 0.9574\n",
            "Epoch 156/200\n",
            "23/23 [==============================] - 2s 96ms/step - loss: 0.1148 - accuracy: 0.9505 - precision: 0.9714 - recall: 0.9444 - val_loss: 0.6070 - val_accuracy: 0.8228 - val_precision: 0.8667 - val_recall: 0.8298\n",
            "Epoch 157/200\n",
            "23/23 [==============================] - 2s 96ms/step - loss: 0.1255 - accuracy: 0.9560 - precision: 0.9464 - recall: 0.9815 - val_loss: 0.6058 - val_accuracy: 0.7848 - val_precision: 0.8409 - val_recall: 0.7872\n",
            "Epoch 158/200\n",
            "23/23 [==============================] - 2s 96ms/step - loss: 0.1167 - accuracy: 0.9560 - precision: 0.9717 - recall: 0.9537 - val_loss: 0.5485 - val_accuracy: 0.7722 - val_precision: 0.8085 - val_recall: 0.8085\n",
            "Epoch 159/200\n",
            "23/23 [==============================] - 2s 96ms/step - loss: 0.1504 - accuracy: 0.9176 - precision: 0.9429 - recall: 0.9167 - val_loss: 0.4741 - val_accuracy: 0.8481 - val_precision: 0.9070 - val_recall: 0.8298\n",
            "Epoch 160/200\n",
            "23/23 [==============================] - 2s 95ms/step - loss: 0.1384 - accuracy: 0.9451 - precision: 0.9455 - recall: 0.9630 - val_loss: 0.4801 - val_accuracy: 0.8354 - val_precision: 0.8036 - val_recall: 0.9574\n",
            "Epoch 161/200\n",
            "23/23 [==============================] - 2s 96ms/step - loss: 0.0711 - accuracy: 0.9835 - precision: 0.9817 - recall: 0.9907 - val_loss: 0.4599 - val_accuracy: 0.8481 - val_precision: 0.8889 - val_recall: 0.8511\n",
            "Epoch 162/200\n",
            "23/23 [==============================] - 2s 95ms/step - loss: 0.0970 - accuracy: 0.9780 - precision: 0.9815 - recall: 0.9815 - val_loss: 0.4175 - val_accuracy: 0.8861 - val_precision: 0.9130 - val_recall: 0.8936\n",
            "Epoch 163/200\n",
            "23/23 [==============================] - 2s 98ms/step - loss: 0.0781 - accuracy: 0.9780 - precision: 0.9815 - recall: 0.9815 - val_loss: 0.4839 - val_accuracy: 0.8101 - val_precision: 0.8200 - val_recall: 0.8723\n",
            "Epoch 164/200\n",
            "23/23 [==============================] - 2s 94ms/step - loss: 0.0607 - accuracy: 0.9780 - precision: 0.9815 - recall: 0.9815 - val_loss: 0.5791 - val_accuracy: 0.8101 - val_precision: 0.8077 - val_recall: 0.8936\n",
            "Epoch 165/200\n",
            "23/23 [==============================] - 2s 98ms/step - loss: 0.0670 - accuracy: 0.9835 - precision: 1.0000 - recall: 0.9722 - val_loss: 0.5710 - val_accuracy: 0.8101 - val_precision: 0.8636 - val_recall: 0.8085\n",
            "Epoch 166/200\n",
            "23/23 [==============================] - 2s 100ms/step - loss: 0.0761 - accuracy: 0.9725 - precision: 0.9725 - recall: 0.9815 - val_loss: 0.3514 - val_accuracy: 0.8734 - val_precision: 0.9302 - val_recall: 0.8511\n",
            "Epoch 167/200\n",
            "23/23 [==============================] - 2s 99ms/step - loss: 0.0504 - accuracy: 0.9890 - precision: 0.9907 - recall: 0.9907 - val_loss: 0.4772 - val_accuracy: 0.8101 - val_precision: 0.8333 - val_recall: 0.8511\n",
            "Epoch 168/200\n",
            "23/23 [==============================] - 2s 100ms/step - loss: 0.1570 - accuracy: 0.9286 - precision: 0.9279 - recall: 0.9537 - val_loss: 0.3544 - val_accuracy: 0.9114 - val_precision: 0.9348 - val_recall: 0.9149\n",
            "Epoch 169/200\n",
            "23/23 [==============================] - 2s 100ms/step - loss: 0.1035 - accuracy: 0.9670 - precision: 0.9811 - recall: 0.9630 - val_loss: 0.4972 - val_accuracy: 0.7848 - val_precision: 0.8000 - val_recall: 0.8511\n",
            "Epoch 170/200\n",
            "23/23 [==============================] - 2s 95ms/step - loss: 0.0887 - accuracy: 0.9725 - precision: 0.9813 - recall: 0.9722 - val_loss: 0.4398 - val_accuracy: 0.8481 - val_precision: 0.8302 - val_recall: 0.9362\n",
            "Epoch 171/200\n",
            "23/23 [==============================] - 2s 94ms/step - loss: 0.0817 - accuracy: 0.9725 - precision: 0.9640 - recall: 0.9907 - val_loss: 0.4317 - val_accuracy: 0.8101 - val_precision: 0.8333 - val_recall: 0.8511\n",
            "Epoch 172/200\n",
            "23/23 [==============================] - 2s 96ms/step - loss: 0.0879 - accuracy: 0.9670 - precision: 0.9722 - recall: 0.9722 - val_loss: 0.4286 - val_accuracy: 0.8608 - val_precision: 0.9091 - val_recall: 0.8511\n",
            "Epoch 173/200\n",
            "23/23 [==============================] - 2s 95ms/step - loss: 0.0948 - accuracy: 0.9725 - precision: 0.9725 - recall: 0.9815 - val_loss: 0.5504 - val_accuracy: 0.8861 - val_precision: 0.8654 - val_recall: 0.9574\n",
            "Epoch 174/200\n",
            "23/23 [==============================] - 2s 95ms/step - loss: 0.2112 - accuracy: 0.9231 - precision: 0.9196 - recall: 0.9537 - val_loss: 0.5065 - val_accuracy: 0.8354 - val_precision: 0.8269 - val_recall: 0.9149\n",
            "Epoch 175/200\n",
            "23/23 [==============================] - 2s 95ms/step - loss: 0.1357 - accuracy: 0.9615 - precision: 0.9633 - recall: 0.9722 - val_loss: 0.3895 - val_accuracy: 0.8861 - val_precision: 0.8800 - val_recall: 0.9362\n",
            "Epoch 176/200\n",
            "23/23 [==============================] - 2s 95ms/step - loss: 0.0936 - accuracy: 0.9560 - precision: 0.9717 - recall: 0.9537 - val_loss: 0.4123 - val_accuracy: 0.8734 - val_precision: 0.8491 - val_recall: 0.9574\n",
            "Epoch 177/200\n",
            "23/23 [==============================] - 2s 96ms/step - loss: 0.0722 - accuracy: 0.9725 - precision: 0.9725 - recall: 0.9815 - val_loss: 0.6105 - val_accuracy: 0.8481 - val_precision: 0.8070 - val_recall: 0.9787\n",
            "Epoch 178/200\n",
            "23/23 [==============================] - 2s 97ms/step - loss: 0.0814 - accuracy: 0.9670 - precision: 0.9636 - recall: 0.9815 - val_loss: 0.5394 - val_accuracy: 0.8481 - val_precision: 0.8571 - val_recall: 0.8936\n",
            "Epoch 179/200\n",
            "23/23 [==============================] - 2s 95ms/step - loss: 0.1039 - accuracy: 0.9341 - precision: 0.9286 - recall: 0.9630 - val_loss: 0.4421 - val_accuracy: 0.8734 - val_precision: 0.9111 - val_recall: 0.8723\n",
            "Epoch 180/200\n",
            "23/23 [==============================] - 2s 94ms/step - loss: 0.0995 - accuracy: 0.9615 - precision: 0.9720 - recall: 0.9630 - val_loss: 0.4648 - val_accuracy: 0.8354 - val_precision: 0.8400 - val_recall: 0.8936\n",
            "Epoch 181/200\n",
            "23/23 [==============================] - 2s 95ms/step - loss: 0.0730 - accuracy: 0.9835 - precision: 0.9817 - recall: 0.9907 - val_loss: 0.5718 - val_accuracy: 0.8101 - val_precision: 0.8200 - val_recall: 0.8723\n",
            "Epoch 182/200\n",
            "23/23 [==============================] - 2s 93ms/step - loss: 0.0773 - accuracy: 0.9725 - precision: 0.9905 - recall: 0.9630 - val_loss: 0.5726 - val_accuracy: 0.8101 - val_precision: 0.8333 - val_recall: 0.8511\n",
            "Epoch 183/200\n",
            "23/23 [==============================] - 2s 93ms/step - loss: 0.0472 - accuracy: 0.9945 - precision: 1.0000 - recall: 0.9907 - val_loss: 0.5433 - val_accuracy: 0.8228 - val_precision: 0.8837 - val_recall: 0.8085\n"
          ],
          "name": "stdout"
        }
      ]
    },
    {
      "cell_type": "code",
      "metadata": {
        "id": "HwJgvbdIXLxI",
        "colab_type": "code",
        "colab": {}
      },
      "source": [
        "model.save(models_directory+'HistEq_model.h5')"
      ],
      "execution_count": 18,
      "outputs": []
    },
    {
      "cell_type": "markdown",
      "metadata": {
        "id": "rR7b9rY-q2r3",
        "colab_type": "text"
      },
      "source": [
        ""
      ]
    },
    {
      "cell_type": "code",
      "metadata": {
        "id": "OGL6hW_Ll8ac",
        "colab_type": "code",
        "colab": {}
      },
      "source": [
        "epochs=200"
      ],
      "execution_count": 19,
      "outputs": []
    },
    {
      "cell_type": "code",
      "metadata": {
        "id": "nkc9WrDCG7VY",
        "colab_type": "code",
        "colab": {
          "base_uri": "https://localhost:8080/",
          "height": 826
        },
        "outputId": "159c47be-883f-40a5-ad97-df384e10cba5"
      },
      "source": [
        "import matplotlib.image  as mpimg\n",
        "import matplotlib.pyplot as plt\n",
        "\n",
        "#-----------------------------------------------------------\n",
        "# Retrieve a list of list results on training and test data\n",
        "# sets for each training epoch\n",
        "#-----------------------------------------------------------\n",
        "acc=history.history['accuracy']\n",
        "val_acc=history.history['val_accuracy']\n",
        "precision=history.history['precision']\n",
        "val_precision=history.history['val_precision']\n",
        "recall=history.history['recall']\n",
        "val_recall=history.history['val_recall']\n",
        "\n",
        "epochs=range(len(acc)) # Get number of epochs\n",
        "\n",
        "#------------------------------------------------\n",
        "# Plot training and validation accuracy per epoch\n",
        "#------------------------------------------------\n",
        "plt.plot(epochs, acc, 'r', \"Training Accuracy\")\n",
        "plt.plot(epochs, val_acc, 'b', \"Validation Accuracy\")\n",
        "plt.title('Training and validation accuracy')\n",
        "plt.figure()\n",
        "\n",
        "#------------------------------------------------\n",
        "# Plot training and validation Precision per epoch\n",
        "#------------------------------------------------\n",
        "plt.plot(epochs, precision, 'r', \"Training Precision\")\n",
        "plt.plot(epochs, val_precision, 'b', \"Validation Precision\")\n",
        "plt.title('Training and validation Precision')\n",
        "plt.figure()\n",
        "\n",
        "plt.plot(epochs, recall, 'r', \"Training Recall\")\n",
        "plt.plot(epochs, val_recall, 'b', \"Validation Recall\")\n",
        "plt.title('Training and validation Recall')\n"
      ],
      "execution_count": 20,
      "outputs": [
        {
          "output_type": "execute_result",
          "data": {
            "text/plain": [
              "Text(0.5, 1.0, 'Training and validation Recall')"
            ]
          },
          "metadata": {
            "tags": []
          },
          "execution_count": 20
        },
        {
          "output_type": "display_data",
          "data": {
            "image/png": "[encoded data removed]",
            "text/plain": [
              "<Figure size 432x288 with 1 Axes>"
            ]
          },
          "metadata": {
            "tags": [],
            "needs_background": "light"
          }
        },
        {
          "output_type": "display_data",
          "data": {
            "image/png": "[encoded data removed]",
            "text/plain": [
              "<Figure size 432x288 with 1 Axes>"
            ]
          },
          "metadata": {
            "tags": [],
            "needs_background": "light"
          }
        },
        {
          "output_type": "display_data",
          "data": {
            "image/png": "[encoded data removed]",
            "text/plain": [
              "<Figure size 432x288 with 1 Axes>"
            ]
          },
          "metadata": {
            "tags": [],
            "needs_background": "light"
          }
        }
      ]
    },
    {
      "cell_type": "code",
      "metadata": {
        "id": "weBpRLfAl69Z",
        "colab_type": "code",
        "colab": {}
      },
      "source": [
        ""
      ],
      "execution_count": null,
      "outputs": []
    },
    {
      "cell_type": "code",
      "metadata": {
        "id": "A86zE99Uai-P",
        "colab_type": "code",
        "colab": {}
      },
      "source": [
        ""
      ],
      "execution_count": null,
      "outputs": []
    }
  ]
}