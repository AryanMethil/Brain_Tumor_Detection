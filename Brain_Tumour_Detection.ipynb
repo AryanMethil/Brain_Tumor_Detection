{
  "nbformat": 4,
  "nbformat_minor": 0,
  "metadata": {
    "colab": {
      "name": "Brain_Tumour_Detection.ipynb",
      "provenance": [],
      "collapsed_sections": [],
      "toc_visible": true,
      "include_colab_link": true
    },
    "kernelspec": {
      "name": "python3",
      "display_name": "Python 3"
    },
    "accelerator": "GPU"
  },
  "cells": [
    {
      "cell_type": "markdown",
      "metadata": {
        "id": "view-in-github",
        "colab_type": "text"
      },
      "source": [
        "<a href=\"https://colab.research.google.com/github/AryanMethil/Brain_Tumor_Detection/blob/master/Brain_Tumour_Detection.ipynb\" target=\"_parent\"><img src=\"https://colab.research.google.com/assets/colab-badge.svg\" alt=\"Open In Colab\"/></a>"
      ]
    },
    {
      "cell_type": "code",
      "metadata": {
        "id": "Rx6Li8Xl4Dp5",
        "outputId": "514d17cc-e193-4d3b-fd61-b79377a299fc",
        "colab": {
          "base_uri": "https://localhost:8080/",
          "height": 34
        }
      },
      "source": [
        "from google.colab import drive\n",
        "drive.mount('/content/drive')\n"
      ],
      "execution_count": 1,
      "outputs": [
        {
          "output_type": "stream",
          "text": [
            "Mounted at /content/drive\n"
          ],
          "name": "stdout"
        }
      ]
    },
    {
      "cell_type": "code",
      "metadata": {
        "id": "KiEH_7xLicrp",
        "outputId": "087189dc-e095-45f9-a4c5-6bb5cb72bd31",
        "colab": {
          "base_uri": "https://localhost:8080/",
          "height": 34
        }
      },
      "source": [
        "%cd '/content/drive/My Drive/Brain_Tumor_Classification/src'"
      ],
      "execution_count": 2,
      "outputs": [
        {
          "output_type": "stream",
          "text": [
            "/content/drive/My Drive/Brain_Tumor_Classification/src\n"
          ],
          "name": "stdout"
        }
      ]
    },
    {
      "cell_type": "code",
      "metadata": {
        "id": "Kw4svy8RinXy",
        "outputId": "e564a583-b51a-48a7-fc35-3aef2d034bdc",
        "colab": {
          "base_uri": "https://localhost:8080/",
          "height": 34
        }
      },
      "source": [
        "!pwd"
      ],
      "execution_count": 3,
      "outputs": [
        {
          "output_type": "stream",
          "text": [
            "/content/drive/My Drive/Brain_Tumor_Classification/src\n"
          ],
          "name": "stdout"
        }
      ]
    },
    {
      "cell_type": "code",
      "metadata": {
        "id": "A9KilanhhY0v"
      },
      "source": [
        "import os\n",
        "import shutil\n",
        "from cv2 import *\n",
        "from google.colab.patches import cv2_imshow\n",
        "from constants import *\n",
        "import numpy as np"
      ],
      "execution_count": 4,
      "outputs": []
    },
    {
      "cell_type": "code",
      "metadata": {
        "id": "W-eCsnH9lygK",
        "outputId": "8a1b3995-d050-4d07-e73b-89936272144b",
        "colab": {
          "base_uri": "https://localhost:8080/",
          "height": 34
        }
      },
      "source": [
        "%cd '/content/'\n"
      ],
      "execution_count": 5,
      "outputs": [
        {
          "output_type": "stream",
          "text": [
            "/content\n"
          ],
          "name": "stdout"
        }
      ]
    },
    {
      "cell_type": "markdown",
      "metadata": {
        "id": "DgPiz0Cjba_u"
      },
      "source": [
        "# Image Preprocessing"
      ]
    },
    {
      "cell_type": "code",
      "metadata": {
        "id": "MWrzktW9YuhK"
      },
      "source": [
        "os.makedirs(image_preprocessed_yes,exist_ok=True)\n",
        "for _,_,files in os.walk(yes):\n",
        "  for f in files:\n",
        "    img_path=os.path.join(yes,f)\n",
        "    norm=imread(img_path)\n",
        "    norm=cvtColor(norm,COLOR_BGR2GRAY)\n",
        "\n",
        "    th1=equalizeHist(norm)\n",
        "   \n",
        "    th1=erode(th1,np.ones((4,4),np.uint8),iterations=1)\n",
        "    th1=dilate(th1,np.ones((4,4),np.uint8),iterations=1)\n",
        "\n",
        "    imwrite(image_preprocessed_yes+f,th1)\n",
        "\n",
        "os.makedirs(image_preprocessed_no,exist_ok=True)\n",
        "for _,_,files in os.walk(no):\n",
        "  for f in files:\n",
        "    img_path=os.path.join(no,f)\n",
        "    norm=imread(img_path)\n",
        "    norm=cvtColor(norm,COLOR_BGR2GRAY)\n",
        "\n",
        "    th1=equalizeHist(norm)\n",
        "   \n",
        "    th1=erode(th1,np.ones((4,4),np.uint8),iterations=1)\n",
        "    th1=dilate(th1,np.ones((4,4),np.uint8),iterations=1)\n",
        "    \n",
        "    imwrite(image_preprocessed_no+f,th1)"
      ],
      "execution_count": null,
      "outputs": []
    },
    {
      "cell_type": "code",
      "metadata": {
        "id": "RuEg5FXqu9Iv"
      },
      "source": [
        "os.makedirs(image_generator_test_yes,exist_ok=True)\n",
        "for _,_,files in os.walk(test_yes):\n",
        "  for f in files:\n",
        "    img_path=os.path.join(test_yes,f)\n",
        "    norm=imread(img_path)\n",
        "    norm=cvtColor(norm,COLOR_BGR2GRAY)\n",
        "\n",
        "    th1=equalizeHist(norm)\n",
        "   \n",
        "    th1=erode(th1,np.ones((4,4),np.uint8),iterations=1)\n",
        "    th1=dilate(th1,np.ones((4,4),np.uint8),iterations=1)\n",
        "\n",
        "    imwrite(image_generator_test_yes+r'/'+f,th1)\n",
        "\n",
        "os.makedirs(image_generator_test_no,exist_ok=True)\n",
        "for _,_,files in os.walk(test_no):\n",
        "  for f in files:\n",
        "    img_path=os.path.join(test_no,f)\n",
        "    norm=imread(img_path)\n",
        "    norm=cvtColor(norm,COLOR_BGR2GRAY)\n",
        "\n",
        "    th1=equalizeHist(norm)\n",
        "   \n",
        "    th1=erode(th1,np.ones((4,4),np.uint8),iterations=1)\n",
        "    th1=dilate(th1,np.ones((4,4),np.uint8),iterations=1)\n",
        "    \n",
        "    imwrite(image_generator_test_no+r'/'+f,th1)"
      ],
      "execution_count": 6,
      "outputs": []
    },
    {
      "cell_type": "code",
      "metadata": {
        "id": "AnMe_3gA4llW"
      },
      "source": [
        "brain_tumour_no= image_preprocessed_no\n",
        "brain_tumour_yes=image_preprocessed_yes"
      ],
      "execution_count": null,
      "outputs": []
    },
    {
      "cell_type": "code",
      "metadata": {
        "id": "4GCpGZKK5j5v"
      },
      "source": [
        "os.makedirs(image_generator_train_yes,exist_ok=True)\n",
        "os.makedirs(image_generator_train_no,exist_ok=True)\n",
        "os.makedirs(image_generator_validation_yes,exist_ok=True)\n",
        "os.makedirs(image_generator_validation_no,exist_ok=True)"
      ],
      "execution_count": null,
      "outputs": []
    },
    {
      "cell_type": "code",
      "metadata": {
        "id": "gHo61zzu-Ngb"
      },
      "source": [
        "for dir,subdir,files in os.walk(brain_tumour_no):\n",
        "  for f in files[:int(len(files)*0.7)]:\n",
        "    shutil.copy(os.path.join(brain_tumour_no,f),image_generator_train_no)\n",
        "  for f in files[int(len(files)*0.7):]:\n",
        "    shutil.copy(os.path.join(brain_tumour_no,f),image_generator_validation_no)\n"
      ],
      "execution_count": null,
      "outputs": []
    },
    {
      "cell_type": "code",
      "metadata": {
        "id": "zCsZh6pM_nFu"
      },
      "source": [
        "for dir,subdir,files in os.walk(brain_tumour_yes):\n",
        "  for f in files[:int(len(files)*0.7)]:\n",
        "    shutil.copy(os.path.join(brain_tumour_yes,f),image_generator_train_yes)\n",
        "  for f in files[int(len(files)*0.7):]:\n",
        "    shutil.copy(os.path.join(brain_tumour_yes,f),image_generator_validation_yes)"
      ],
      "execution_count": null,
      "outputs": []
    },
    {
      "cell_type": "code",
      "metadata": {
        "id": "bXe464jivCvh",
        "outputId": "b2acdb90-4f97-4299-d413-7abbffd1be6a",
        "colab": {
          "base_uri": "https://localhost:8080/",
          "height": 51
        }
      },
      "source": [
        "for dir,subdir,files in os.walk(image_generator_train_yes):\n",
        "  print(len(files))\n",
        "for dir,subdir,files in os.walk(image_generator_train_no):\n",
        "  print(len(files))\n"
      ],
      "execution_count": 7,
      "outputs": [
        {
          "output_type": "stream",
          "text": [
            "1547\n",
            "420\n"
          ],
          "name": "stdout"
        }
      ]
    },
    {
      "cell_type": "markdown",
      "metadata": {
        "id": "K6z7S9j0bR5o"
      },
      "source": [
        "# Model"
      ]
    },
    {
      "cell_type": "code",
      "metadata": {
        "id": "GH0TT4mXAeWX"
      },
      "source": [
        "import tensorflow as tf\n"
      ],
      "execution_count": 8,
      "outputs": []
    },
    {
      "cell_type": "code",
      "metadata": {
        "id": "uwb-mgByBlY6",
        "outputId": "f96cdab9-8f7c-4c62-beec-15fe253d606f",
        "colab": {
          "base_uri": "https://localhost:8080/",
          "height": 377
        }
      },
      "source": [
        "\n",
        "base_model=tf.keras.applications.InceptionV3(include_top=False,weights='imagenet',input_shape=(150,150,3))\n",
        "base_model.trainable=False\n",
        "model=tf.keras.Sequential()\n",
        "model.add(base_model)\n",
        "model.add(tf.keras.layers.Flatten())\n",
        "model.add(tf.keras.layers.Dense(128,activation='relu'))\n",
        "model.add(tf.keras.layers.Dropout(0.2))\n",
        "model.add(tf.keras.layers.Dense(1,activation='sigmoid'))\n",
        "model.summary()"
      ],
      "execution_count": 9,
      "outputs": [
        {
          "output_type": "stream",
          "text": [
            "Downloading data from https://storage.googleapis.com/tensorflow/keras-applications/inception_v3/inception_v3_weights_tf_dim_ordering_tf_kernels_notop.h5\n",
            "87916544/87910968 [==============================] - 1s 0us/step\n",
            "Model: \"sequential\"\n",
            "_________________________________________________________________\n",
            "Layer (type)                 Output Shape              Param #   \n",
            "=================================================================\n",
            "inception_v3 (Functional)    (None, 3, 3, 2048)        21802784  \n",
            "_________________________________________________________________\n",
            "flatten (Flatten)            (None, 18432)             0         \n",
            "_________________________________________________________________\n",
            "dense (Dense)                (None, 128)               2359424   \n",
            "_________________________________________________________________\n",
            "dropout (Dropout)            (None, 128)               0         \n",
            "_________________________________________________________________\n",
            "dense_1 (Dense)              (None, 1)                 129       \n",
            "=================================================================\n",
            "Total params: 24,162,337\n",
            "Trainable params: 2,359,553\n",
            "Non-trainable params: 21,802,784\n",
            "_________________________________________________________________\n"
          ],
          "name": "stdout"
        }
      ]
    },
    {
      "cell_type": "code",
      "metadata": {
        "id": "rOOJYQTyDPZ4"
      },
      "source": [
        "model.compile(loss='binary_crossentropy',\n",
        "              optimizer=tf.keras.optimizers.Adam(learning_rate=0.0005),\n",
        "              metrics=['accuracy',tf.keras.metrics.Precision(name='precision'),tf.keras.metrics.Recall(name='recall')])"
      ],
      "execution_count": 10,
      "outputs": []
    },
    {
      "cell_type": "code",
      "metadata": {
        "id": "xidHZ3J5Dt21"
      },
      "source": [
        "train_data_generator=tf.keras.preprocessing.image.ImageDataGenerator(rescale=1/255,\n",
        "                                  rotation_range=30,\n",
        "                                  height_shift_range=0.2,\n",
        "                                  width_shift_range=0.2,\n",
        "                                  shear_range=0.6,\n",
        "                                  zoom_range=0.2,\n",
        "                                  horizontal_flip=True,\n",
        "                                  fill_mode='nearest')\n",
        "validation_data_generator=tf.keras.preprocessing.image.ImageDataGenerator(rescale=1/255)\n",
        "\n",
        "test_data_generator=tf.keras.preprocessing.image.ImageDataGenerator(rescale=1/255)"
      ],
      "execution_count": 11,
      "outputs": []
    },
    {
      "cell_type": "code",
      "metadata": {
        "id": "YCvIq7YGEZpW",
        "outputId": "d8b6ce3a-c00d-4e66-eacf-24a2b2ed6d00",
        "colab": {
          "base_uri": "https://localhost:8080/",
          "height": 68
        }
      },
      "source": [
        "train_gen=train_data_generator.flow_from_directory(image_generator_train,\n",
        "                                                   target_size=(150,150),\n",
        "                                                   class_mode='binary',\n",
        "                                                   batch_size=8,\n",
        "                                                   shuffle=True)\n",
        "validation_gen=train_data_generator.flow_from_directory(image_generator_validation,\n",
        "                                                   target_size=(150,150),\n",
        "                                                   class_mode='binary',\n",
        "                                                   batch_size=8,\n",
        "                                                   shuffle=True)\n",
        "test_gen=test_data_generator.flow_from_directory(image_generator_test,\n",
        "                                                   target_size=(150,150),\n",
        "                                                   class_mode='binary',\n",
        "                                                   batch_size=8,\n",
        "                                                   shuffle=True)"
      ],
      "execution_count": 12,
      "outputs": [
        {
          "output_type": "stream",
          "text": [
            "Found 1967 images belonging to 2 classes.\n",
            "Found 1050 images belonging to 2 classes.\n",
            "Found 20 images belonging to 2 classes.\n"
          ],
          "name": "stdout"
        }
      ]
    },
    {
      "cell_type": "code",
      "metadata": {
        "id": "aQpDVApsFILx"
      },
      "source": [
        "class MyCallback(tf.keras.callbacks.Callback):\n",
        "  def on_epoch_end(self,epoch,logs={}):\n",
        "    if(logs['accuracy']>0.99):\n",
        "      self.model.stop_training=True\n",
        "callbacks=MyCallback()"
      ],
      "execution_count": 13,
      "outputs": []
    },
    {
      "cell_type": "code",
      "metadata": {
        "id": "j-xX6HF9GdSO",
        "outputId": "912fde11-a04d-4024-e238-25a2c27f0161",
        "colab": {
          "base_uri": "https://localhost:8080/",
          "height": 717
        }
      },
      "source": [
        "history=model.fit(train_gen,validation_data=validation_gen,epochs=20,callbacks=callbacks)"
      ],
      "execution_count": 20,
      "outputs": [
        {
          "output_type": "stream",
          "text": [
            "Epoch 1/20\n",
            "246/246 [==============================] - 21s 87ms/step - loss: 0.0904 - accuracy: 0.9593 - precision: 0.9842 - recall: 0.9638 - val_loss: 0.0269 - val_accuracy: 0.9952 - val_precision: 0.9943 - val_recall: 1.0000\n",
            "Epoch 2/20\n",
            "246/246 [==============================] - 21s 87ms/step - loss: 0.0972 - accuracy: 0.9532 - precision: 0.9860 - recall: 0.9541 - val_loss: 0.0175 - val_accuracy: 0.9952 - val_precision: 0.9954 - val_recall: 0.9988\n",
            "Epoch 3/20\n",
            "246/246 [==============================] - 21s 87ms/step - loss: 0.0763 - accuracy: 0.9644 - precision: 0.9887 - recall: 0.9657 - val_loss: 0.0291 - val_accuracy: 0.9924 - val_precision: 0.9909 - val_recall: 1.0000\n",
            "Epoch 4/20\n",
            "246/246 [==============================] - 21s 86ms/step - loss: 0.0962 - accuracy: 0.9578 - precision: 0.9828 - recall: 0.9632 - val_loss: 0.0554 - val_accuracy: 0.9752 - val_precision: 0.9709 - val_recall: 1.0000\n",
            "Epoch 5/20\n",
            "246/246 [==============================] - 22s 89ms/step - loss: 0.0990 - accuracy: 0.9532 - precision: 0.9860 - recall: 0.9541 - val_loss: 0.0271 - val_accuracy: 0.9933 - val_precision: 0.9920 - val_recall: 1.0000\n",
            "Epoch 6/20\n",
            "246/246 [==============================] - 22s 91ms/step - loss: 0.0802 - accuracy: 0.9670 - precision: 0.9907 - recall: 0.9670 - val_loss: 0.0203 - val_accuracy: 0.9933 - val_precision: 0.9943 - val_recall: 0.9977\n",
            "Epoch 7/20\n",
            "246/246 [==============================] - 23s 92ms/step - loss: 0.0862 - accuracy: 0.9624 - precision: 0.9842 - recall: 0.9677 - val_loss: 0.0241 - val_accuracy: 0.9914 - val_precision: 0.9920 - val_recall: 0.9977\n",
            "Epoch 8/20\n",
            "246/246 [==============================] - 22s 89ms/step - loss: 0.0843 - accuracy: 0.9583 - precision: 0.9861 - recall: 0.9606 - val_loss: 0.0285 - val_accuracy: 0.9895 - val_precision: 0.9875 - val_recall: 1.0000\n",
            "Epoch 9/20\n",
            "246/246 [==============================] - 21s 87ms/step - loss: 0.0927 - accuracy: 0.9548 - precision: 0.9796 - recall: 0.9625 - val_loss: 0.0380 - val_accuracy: 0.9886 - val_precision: 0.9864 - val_recall: 1.0000\n",
            "Epoch 10/20\n",
            "246/246 [==============================] - 22s 89ms/step - loss: 0.1030 - accuracy: 0.9609 - precision: 0.9842 - recall: 0.9657 - val_loss: 0.0294 - val_accuracy: 0.9876 - val_precision: 0.9853 - val_recall: 1.0000\n",
            "Epoch 11/20\n",
            "246/246 [==============================] - 22s 91ms/step - loss: 0.0866 - accuracy: 0.9583 - precision: 0.9861 - recall: 0.9606 - val_loss: 0.0285 - val_accuracy: 0.9886 - val_precision: 0.9886 - val_recall: 0.9977\n",
            "Epoch 12/20\n",
            "246/246 [==============================] - 22s 89ms/step - loss: 0.0808 - accuracy: 0.9644 - precision: 0.9855 - recall: 0.9690 - val_loss: 0.0192 - val_accuracy: 0.9952 - val_precision: 0.9943 - val_recall: 1.0000\n",
            "Epoch 13/20\n",
            "246/246 [==============================] - 22s 91ms/step - loss: 0.0737 - accuracy: 0.9685 - precision: 0.9875 - recall: 0.9722 - val_loss: 0.0238 - val_accuracy: 0.9933 - val_precision: 0.9931 - val_recall: 0.9988\n",
            "Epoch 14/20\n",
            "246/246 [==============================] - 22s 88ms/step - loss: 0.0889 - accuracy: 0.9659 - precision: 0.9868 - recall: 0.9696 - val_loss: 0.0533 - val_accuracy: 0.9810 - val_precision: 0.9775 - val_recall: 1.0000\n",
            "Epoch 15/20\n",
            "246/246 [==============================] - 21s 87ms/step - loss: 0.0986 - accuracy: 0.9603 - precision: 0.9861 - recall: 0.9632 - val_loss: 0.0391 - val_accuracy: 0.9857 - val_precision: 0.9830 - val_recall: 1.0000\n",
            "Epoch 16/20\n",
            "246/246 [==============================] - 22s 88ms/step - loss: 0.0814 - accuracy: 0.9659 - precision: 0.9875 - recall: 0.9690 - val_loss: 0.0222 - val_accuracy: 0.9943 - val_precision: 0.9931 - val_recall: 1.0000\n",
            "Epoch 17/20\n",
            "246/246 [==============================] - 22s 89ms/step - loss: 0.0883 - accuracy: 0.9649 - precision: 0.9855 - recall: 0.9696 - val_loss: 0.0858 - val_accuracy: 0.9800 - val_precision: 0.9775 - val_recall: 0.9988\n",
            "Epoch 18/20\n",
            "246/246 [==============================] - 22s 89ms/step - loss: 0.1012 - accuracy: 0.9614 - precision: 0.9804 - recall: 0.9703 - val_loss: 0.0248 - val_accuracy: 0.9952 - val_precision: 0.9954 - val_recall: 0.9988\n",
            "Epoch 19/20\n",
            "246/246 [==============================] - 22s 90ms/step - loss: 0.0880 - accuracy: 0.9634 - precision: 0.9855 - recall: 0.9677 - val_loss: 0.0240 - val_accuracy: 0.9895 - val_precision: 0.9875 - val_recall: 1.0000\n",
            "Epoch 20/20\n",
            "246/246 [==============================] - 21s 87ms/step - loss: 0.0749 - accuracy: 0.9624 - precision: 0.9881 - recall: 0.9638 - val_loss: 0.0166 - val_accuracy: 0.9962 - val_precision: 0.9954 - val_recall: 1.0000\n"
          ],
          "name": "stdout"
        }
      ]
    },
    {
      "cell_type": "code",
      "metadata": {
        "id": "dIMO1Q_BRBld"
      },
      "source": [
        "\n",
        "model.save(models_directory+'DS2_Updated_without_class_weights_Histo_Erode_Dilate.h5')"
      ],
      "execution_count": 21,
      "outputs": []
    },
    {
      "cell_type": "code",
      "metadata": {
        "id": "ODM15a5RKCCE"
      },
      "source": [
        ""
      ],
      "execution_count": null,
      "outputs": []
    },
    {
      "cell_type": "markdown",
      "metadata": {
        "id": "rR7b9rY-q2r3"
      },
      "source": [
        "# Plotting Accuracy, Precision & Recall"
      ]
    },
    {
      "cell_type": "code",
      "metadata": {
        "id": "OGL6hW_Ll8ac"
      },
      "source": [
        "epochs=30"
      ],
      "execution_count": 15,
      "outputs": []
    },
    {
      "cell_type": "code",
      "metadata": {
        "id": "nkc9WrDCG7VY",
        "outputId": "a5c3a33c-91c2-44c5-e95d-d8ad8981b0ac",
        "colab": {
          "base_uri": "https://localhost:8080/",
          "height": 826
        }
      },
      "source": [
        "import matplotlib.image  as mpimg\n",
        "import matplotlib.pyplot as plt\n",
        "\n",
        "#-----------------------------------------------------------\n",
        "# Retrieve a list of list results on training and test data\n",
        "# sets for each training epoch\n",
        "#-----------------------------------------------------------\n",
        "acc=history.history['accuracy']\n",
        "val_acc=history.history['val_accuracy']\n",
        "precision=history.history['precision']\n",
        "val_precision=history.history['val_precision']\n",
        "recall=history.history['recall']\n",
        "val_recall=history.history['val_recall']\n",
        "\n",
        "epochs=range(len(acc)) # Get number of epochs\n",
        "\n",
        "#------------------------------------------------\n",
        "# Plot training and validation accuracy per epoch\n",
        "#------------------------------------------------\n",
        "plt.plot(epochs, acc, 'r', \"Training Accuracy\")\n",
        "plt.plot(epochs, val_acc, 'b', \"Validation Accuracy\")\n",
        "plt.title('Training and validation accuracy')\n",
        "plt.figure()\n",
        "\n",
        "#------------------------------------------------\n",
        "# Plot training and validation Precision per epoch\n",
        "#------------------------------------------------\n",
        "plt.plot(epochs, precision, 'r', \"Training Precision\")\n",
        "plt.plot(epochs, val_precision, 'b', \"Validation Precision\")\n",
        "plt.title('Training and validation Precision')\n",
        "plt.figure()\n",
        "\n",
        "plt.plot(epochs, recall, 'r', \"Training Recall\")\n",
        "plt.plot(epochs, val_recall, 'b', \"Validation Recall\")\n",
        "plt.title('Training and validation Recall')\n"
      ],
      "execution_count": 16,
      "outputs": [
        {
          "output_type": "execute_result",
          "data": {
            "text/plain": [
              "Text(0.5, 1.0, 'Training and validation Recall')"
            ]
          },
          "metadata": {
            "tags": []
          },
          "execution_count": 16
        },
        {
          "output_type": "display_data",
          "data": {
            "image/png": "[encoded data removed]",
            "text/plain": [
              "<Figure size 432x288 with 1 Axes>"
            ]
          },
          "metadata": {
            "tags": [],
            "needs_background": "light"
          }
        },
        {
          "output_type": "display_data",
          "data": {
            "image/png": "[encoded data removed]",
            "text/plain": [
              "<Figure size 432x288 with 1 Axes>"
            ]
          },
          "metadata": {
            "tags": [],
            "needs_background": "light"
          }
        },
        {
          "output_type": "display_data",
          "data": {
            "image/png": "[encoded data removed]",
            "text/plain": [
              "<Figure size 432x288 with 1 Axes>"
            ]
          },
          "metadata": {
            "tags": [],
            "needs_background": "light"
          }
        }
      ]
    },
    {
      "cell_type": "markdown",
      "metadata": {
        "id": "E2X3ikcUQQiG"
      },
      "source": [
        "# Predicting against Test Images from the Internet"
      ]
    },
    {
      "cell_type": "code",
      "metadata": {
        "id": "7-jdwJoNwWFN"
      },
      "source": [
        "reloaded_model=tf.keras.models.load_model(models_directory+'DS2_Updated_without_class_weights_Histo_Erode_Dilate.h5')"
      ],
      "execution_count": 22,
      "outputs": []
    },
    {
      "cell_type": "code",
      "metadata": {
        "id": "HCTJJ1UPO74u",
        "outputId": "63a48eb7-6c99-4fc4-ae69-4e89a8a72f0c",
        "colab": {
          "base_uri": "https://localhost:8080/",
          "height": 34
        }
      },
      "source": [
        "predictions=reloaded_model.evaluate(test_gen,batch_size=32)"
      ],
      "execution_count": 23,
      "outputs": [
        {
          "output_type": "stream",
          "text": [
            "3/3 [==============================] - 0s 14ms/step - loss: 1.4370 - accuracy: 0.8000 - precision: 1.0000 - recall: 0.6000\n"
          ],
          "name": "stdout"
        }
      ]
    },
    {
      "cell_type": "code",
      "metadata": {
        "id": "A86zE99Uai-P"
      },
      "source": [
        ""
      ],
      "execution_count": null,
      "outputs": []
    }
  ]
}