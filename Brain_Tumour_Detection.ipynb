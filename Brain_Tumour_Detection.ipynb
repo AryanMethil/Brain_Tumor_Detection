{
  "nbformat": 4,
  "nbformat_minor": 0,
  "metadata": {
    "colab": {
      "name": "Brain_Tumour_Detection.ipynb",
      "provenance": [],
      "collapsed_sections": [],
      "include_colab_link": true
    },
    "kernelspec": {
      "name": "python3",
      "display_name": "Python 3"
    },
    "accelerator": "GPU"
  },
  "cells": [
    {
      "cell_type": "markdown",
      "metadata": {
        "id": "view-in-github",
        "colab_type": "text"
      },
      "source": [
        "<a href=\"https://colab.research.google.com/github/AryanMethil/Brain_Tumor_Detection/blob/master/Brain_Tumour_Detection.ipynb\" target=\"_parent\"><img src=\"https://colab.research.google.com/assets/colab-badge.svg\" alt=\"Open In Colab\"/></a>"
      ]
    },
    {
      "cell_type": "code",
      "metadata": {
        "id": "Rx6Li8Xl4Dp5",
        "colab_type": "code",
        "colab": {
          "base_uri": "https://localhost:8080/",
          "height": 34
        },
        "outputId": "c7454298-709e-4721-ab07-236d51514f91"
      },
      "source": [
        "from google.colab import drive\n",
        "drive.mount('/content/drive')\n"
      ],
      "execution_count": 1,
      "outputs": [
        {
          "output_type": "stream",
          "text": [
            "Mounted at /content/drive\n"
          ],
          "name": "stdout"
        }
      ]
    },
    {
      "cell_type": "code",
      "metadata": {
        "id": "KiEH_7xLicrp",
        "colab_type": "code",
        "colab": {
          "base_uri": "https://localhost:8080/",
          "height": 34
        },
        "outputId": "d6db3a32-65f3-462e-f807-b5ab31ae0874"
      },
      "source": [
        "%cd '/content/drive/My Drive/Brain_Tumor_Classification/src'"
      ],
      "execution_count": 2,
      "outputs": [
        {
          "output_type": "stream",
          "text": [
            "/content/drive/My Drive/Brain_Tumor_Classification/src\n"
          ],
          "name": "stdout"
        }
      ]
    },
    {
      "cell_type": "code",
      "metadata": {
        "id": "Kw4svy8RinXy",
        "colab_type": "code",
        "colab": {
          "base_uri": "https://localhost:8080/",
          "height": 34
        },
        "outputId": "647f66f4-8fd6-490e-84f3-bd22ddc3bf02"
      },
      "source": [
        "!pwd"
      ],
      "execution_count": 3,
      "outputs": [
        {
          "output_type": "stream",
          "text": [
            "/content/drive/My Drive/Brain_Tumor_Classification/src\n"
          ],
          "name": "stdout"
        }
      ]
    },
    {
      "cell_type": "code",
      "metadata": {
        "id": "A9KilanhhY0v",
        "colab_type": "code",
        "colab": {}
      },
      "source": [
        "import os\n",
        "import shutil\n",
        "from cv2 import *\n",
        "from google.colab.patches import cv2_imshow\n",
        "from constants import *\n",
        "import numpy as np"
      ],
      "execution_count": 4,
      "outputs": []
    },
    {
      "cell_type": "code",
      "metadata": {
        "id": "W-eCsnH9lygK",
        "colab_type": "code",
        "colab": {
          "base_uri": "https://localhost:8080/",
          "height": 34
        },
        "outputId": "6fd4c9d1-4862-44b9-e68e-f243f248c65a"
      },
      "source": [
        "%cd '/content/'\n"
      ],
      "execution_count": 5,
      "outputs": [
        {
          "output_type": "stream",
          "text": [
            "/content\n"
          ],
          "name": "stdout"
        }
      ]
    },
    {
      "cell_type": "code",
      "metadata": {
        "id": "MWrzktW9YuhK",
        "colab_type": "code",
        "colab": {}
      },
      "source": [
        "os.makedirs(image_preprocessed_yes,exist_ok=True)\n",
        "for _,_,files in os.walk(yes):\n",
        "  for f in files:\n",
        "    img_path=os.path.join(yes,f)\n",
        "    norm=imread(img_path)\n",
        "    norm=cvtColor(norm,COLOR_BGR2GRAY)\n",
        "    th1=equalizeHist(norm)\n",
        "    \n",
        "    th1=erode(th1,np.ones((4,4),np.uint8),iterations=1)\n",
        "    th1=dilate(th1,np.ones((4,4),np.uint8),iterations=1)\n",
        "    imwrite(image_preprocessed_yes+f,th1)\n",
        "\n",
        "os.makedirs(image_preprocessed_no,exist_ok=True)\n",
        "for _,_,files in os.walk(no):\n",
        "  for f in files:\n",
        "    img_path=os.path.join(no,f)\n",
        "    norm=imread(img_path)\n",
        "    norm=cvtColor(norm,COLOR_BGR2GRAY)\n",
        "    th1=equalizeHist(norm)\n",
        "    \n",
        "    th1=erode(th1,np.ones((4,4),np.uint8),iterations=1)\n",
        "    th1=dilate(th1,np.ones((4,4),np.uint8),iterations=1)\n",
        "    imwrite(image_preprocessed_no+f,th1)"
      ],
      "execution_count": 6,
      "outputs": []
    },
    {
      "cell_type": "code",
      "metadata": {
        "id": "AnMe_3gA4llW",
        "colab_type": "code",
        "colab": {}
      },
      "source": [
        "brain_tumour_no= image_preprocessed_no\n",
        "brain_tumour_yes=image_preprocessed_yes"
      ],
      "execution_count": 7,
      "outputs": []
    },
    {
      "cell_type": "code",
      "metadata": {
        "id": "4GCpGZKK5j5v",
        "colab_type": "code",
        "colab": {}
      },
      "source": [
        "os.makedirs(image_generator_train_yes,exist_ok=True)\n",
        "os.makedirs(image_generator_train_no,exist_ok=True)\n",
        "os.makedirs(image_generator_validation_yes,exist_ok=True)\n",
        "os.makedirs(image_generator_validation_no,exist_ok=True)"
      ],
      "execution_count": 8,
      "outputs": []
    },
    {
      "cell_type": "code",
      "metadata": {
        "id": "gHo61zzu-Ngb",
        "colab_type": "code",
        "colab": {}
      },
      "source": [
        "for dir,subdir,files in os.walk(brain_tumour_no):\n",
        "  for f in files[:int(len(files)*0.7)]:\n",
        "    shutil.copy(os.path.join(brain_tumour_no,f),image_generator_train_no)\n",
        "  for f in files[int(len(files)*0.7):]:\n",
        "    shutil.copy(os.path.join(brain_tumour_no,f),image_generator_validation_no)\n"
      ],
      "execution_count": 9,
      "outputs": []
    },
    {
      "cell_type": "code",
      "metadata": {
        "id": "zCsZh6pM_nFu",
        "colab_type": "code",
        "colab": {}
      },
      "source": [
        "for dir,subdir,files in os.walk(brain_tumour_yes):\n",
        "  for f in files[:int(len(files)*0.7)]:\n",
        "    shutil.copy(os.path.join(brain_tumour_yes,f),image_generator_train_yes)\n",
        "  for f in files[int(len(files)*0.7):]:\n",
        "    shutil.copy(os.path.join(brain_tumour_yes,f),image_generator_validation_yes)"
      ],
      "execution_count": 10,
      "outputs": []
    },
    {
      "cell_type": "code",
      "metadata": {
        "id": "GH0TT4mXAeWX",
        "colab_type": "code",
        "colab": {}
      },
      "source": [
        "import tensorflow as tf\n"
      ],
      "execution_count": 11,
      "outputs": []
    },
    {
      "cell_type": "code",
      "metadata": {
        "id": "uwb-mgByBlY6",
        "colab_type": "code",
        "colab": {
          "base_uri": "https://localhost:8080/",
          "height": 377
        },
        "outputId": "b036bc0c-51c4-4274-bacc-fb8ed6349843"
      },
      "source": [
        "\n",
        "base_model=tf.keras.applications.InceptionV3(include_top=False,weights='imagenet',input_shape=(150,150,3))\n",
        "base_model.trainable=False\n",
        "model=tf.keras.Sequential()\n",
        "model.add(base_model)\n",
        "model.add(tf.keras.layers.Flatten())\n",
        "model.add(tf.keras.layers.Dense(128,activation='relu'))\n",
        "model.add(tf.keras.layers.Dropout(0.3))\n",
        "model.add(tf.keras.layers.Dense(1,activation='sigmoid'))\n",
        "model.summary()"
      ],
      "execution_count": 12,
      "outputs": [
        {
          "output_type": "stream",
          "text": [
            "Downloading data from https://storage.googleapis.com/tensorflow/keras-applications/inception_v3/inception_v3_weights_tf_dim_ordering_tf_kernels_notop.h5\n",
            "87916544/87910968 [==============================] - 2s 0us/step\n",
            "Model: \"sequential\"\n",
            "_________________________________________________________________\n",
            "Layer (type)                 Output Shape              Param #   \n",
            "=================================================================\n",
            "inception_v3 (Functional)    (None, 3, 3, 2048)        21802784  \n",
            "_________________________________________________________________\n",
            "flatten (Flatten)            (None, 18432)             0         \n",
            "_________________________________________________________________\n",
            "dense (Dense)                (None, 128)               2359424   \n",
            "_________________________________________________________________\n",
            "dropout (Dropout)            (None, 128)               0         \n",
            "_________________________________________________________________\n",
            "dense_1 (Dense)              (None, 1)                 129       \n",
            "=================================================================\n",
            "Total params: 24,162,337\n",
            "Trainable params: 2,359,553\n",
            "Non-trainable params: 21,802,784\n",
            "_________________________________________________________________\n"
          ],
          "name": "stdout"
        }
      ]
    },
    {
      "cell_type": "code",
      "metadata": {
        "id": "rOOJYQTyDPZ4",
        "colab_type": "code",
        "colab": {}
      },
      "source": [
        "model.compile(loss='binary_crossentropy',\n",
        "              optimizer=tf.keras.optimizers.Adam(learning_rate=0.0001),\n",
        "              metrics=['accuracy',tf.keras.metrics.Precision(name='precision'),tf.keras.metrics.Recall(name='recall')])"
      ],
      "execution_count": 13,
      "outputs": []
    },
    {
      "cell_type": "code",
      "metadata": {
        "id": "xidHZ3J5Dt21",
        "colab_type": "code",
        "colab": {}
      },
      "source": [
        "train_data_generator=tf.keras.preprocessing.image.ImageDataGenerator(rescale=1/255,\n",
        "                                  rotation_range=30,\n",
        "                                  height_shift_range=0.2,\n",
        "                                  width_shift_range=0.2,\n",
        "                                  shear_range=0.6,\n",
        "                                  zoom_range=0.2,\n",
        "                                  horizontal_flip=True,\n",
        "                                  fill_mode='nearest')\n",
        "validation_data_generator=tf.keras.preprocessing.image.ImageDataGenerator(rescale=1/255)"
      ],
      "execution_count": 14,
      "outputs": []
    },
    {
      "cell_type": "code",
      "metadata": {
        "id": "YCvIq7YGEZpW",
        "colab_type": "code",
        "colab": {
          "base_uri": "https://localhost:8080/",
          "height": 51
        },
        "outputId": "a53d7285-0a01-48bd-f34f-2b34e9a8f151"
      },
      "source": [
        "train_gen=train_data_generator.flow_from_directory(image_generator_train,\n",
        "                                                   target_size=(150,150),\n",
        "                                                   class_mode='binary',\n",
        "                                                   batch_size=8,\n",
        "                                                   shuffle=True)\n",
        "validation_gen=train_data_generator.flow_from_directory(image_generator_validation,\n",
        "                                                   target_size=(150,150),\n",
        "                                                   class_mode='binary',\n",
        "                                                   batch_size=8,\n",
        "                                                   shuffle=True)"
      ],
      "execution_count": 15,
      "outputs": [
        {
          "output_type": "stream",
          "text": [
            "Found 182 images belonging to 2 classes.\n",
            "Found 79 images belonging to 2 classes.\n"
          ],
          "name": "stdout"
        }
      ]
    },
    {
      "cell_type": "code",
      "metadata": {
        "id": "aQpDVApsFILx",
        "colab_type": "code",
        "colab": {}
      },
      "source": [
        "class MyCallback(tf.keras.callbacks.Callback):\n",
        "  def on_epoch_end(self,epoch,logs={}):\n",
        "    if(logs['accuracy']>0.99):\n",
        "      self.model.stop_training=True\n",
        "callbacks=MyCallback()"
      ],
      "execution_count": 16,
      "outputs": []
    },
    {
      "cell_type": "code",
      "metadata": {
        "id": "j-xX6HF9GdSO",
        "colab_type": "code",
        "colab": {
          "base_uri": "https://localhost:8080/",
          "height": 1000
        },
        "outputId": "a54512a4-cc1f-4aa0-b269-3c939d06056b"
      },
      "source": [
        "history=model.fit(train_gen,validation_data=validation_gen,epochs=200,callbacks=callbacks)"
      ],
      "execution_count": 17,
      "outputs": [
        {
          "output_type": "stream",
          "text": [
            "Epoch 1/200\n",
            "23/23 [==============================] - 6s 263ms/step - loss: 1.3350 - accuracy: 0.6264 - precision: 0.6786 - recall: 0.7037 - val_loss: 0.5631 - val_accuracy: 0.7595 - val_precision: 0.7258 - val_recall: 0.9574\n",
            "Epoch 2/200\n",
            "23/23 [==============================] - 3s 127ms/step - loss: 0.6541 - accuracy: 0.6868 - precision: 0.7073 - recall: 0.8056 - val_loss: 0.5355 - val_accuracy: 0.7089 - val_precision: 0.7222 - val_recall: 0.8298\n",
            "Epoch 3/200\n",
            "23/23 [==============================] - 3s 128ms/step - loss: 0.4772 - accuracy: 0.7308 - precision: 0.7757 - recall: 0.7685 - val_loss: 0.4929 - val_accuracy: 0.7722 - val_precision: 0.7736 - val_recall: 0.8723\n",
            "Epoch 4/200\n",
            "23/23 [==============================] - 3s 127ms/step - loss: 0.5172 - accuracy: 0.7582 - precision: 0.7807 - recall: 0.8241 - val_loss: 0.4699 - val_accuracy: 0.8354 - val_precision: 0.8542 - val_recall: 0.8723\n",
            "Epoch 5/200\n",
            "23/23 [==============================] - 3s 127ms/step - loss: 0.4997 - accuracy: 0.7802 - precision: 0.7982 - recall: 0.8426 - val_loss: 0.4524 - val_accuracy: 0.7848 - val_precision: 0.8571 - val_recall: 0.7660\n",
            "Epoch 6/200\n",
            "23/23 [==============================] - 3s 126ms/step - loss: 0.5508 - accuracy: 0.7143 - precision: 0.7745 - recall: 0.7315 - val_loss: 0.5372 - val_accuracy: 0.7722 - val_precision: 0.9394 - val_recall: 0.6596\n",
            "Epoch 7/200\n",
            "23/23 [==============================] - 3s 129ms/step - loss: 0.4287 - accuracy: 0.8022 - precision: 0.8158 - recall: 0.8611 - val_loss: 0.4477 - val_accuracy: 0.8481 - val_precision: 0.9070 - val_recall: 0.8298\n",
            "Epoch 8/200\n",
            "23/23 [==============================] - 3s 128ms/step - loss: 0.4270 - accuracy: 0.8022 - precision: 0.8333 - recall: 0.8333 - val_loss: 0.4400 - val_accuracy: 0.7595 - val_precision: 0.7593 - val_recall: 0.8723\n",
            "Epoch 9/200\n",
            "23/23 [==============================] - 3s 128ms/step - loss: 0.3880 - accuracy: 0.8462 - precision: 0.8636 - recall: 0.8796 - val_loss: 0.4934 - val_accuracy: 0.7468 - val_precision: 0.8000 - val_recall: 0.7660\n",
            "Epoch 10/200\n",
            "23/23 [==============================] - 3s 128ms/step - loss: 0.3726 - accuracy: 0.8407 - precision: 0.8762 - recall: 0.8519 - val_loss: 0.4208 - val_accuracy: 0.8354 - val_precision: 0.8400 - val_recall: 0.8936\n",
            "Epoch 11/200\n",
            "23/23 [==============================] - 3s 127ms/step - loss: 0.3869 - accuracy: 0.7912 - precision: 0.7917 - recall: 0.8796 - val_loss: 0.4238 - val_accuracy: 0.8228 - val_precision: 0.8667 - val_recall: 0.8298\n",
            "Epoch 12/200\n",
            "23/23 [==============================] - 3s 130ms/step - loss: 0.3367 - accuracy: 0.8297 - precision: 0.8532 - recall: 0.8611 - val_loss: 0.5120 - val_accuracy: 0.7342 - val_precision: 0.7097 - val_recall: 0.9362\n",
            "Epoch 13/200\n",
            "23/23 [==============================] - 3s 132ms/step - loss: 0.3260 - accuracy: 0.8516 - precision: 0.8649 - recall: 0.8889 - val_loss: 0.4527 - val_accuracy: 0.7975 - val_precision: 0.7818 - val_recall: 0.9149\n",
            "Epoch 14/200\n",
            "23/23 [==============================] - 3s 130ms/step - loss: 0.3699 - accuracy: 0.8242 - precision: 0.8333 - recall: 0.8796 - val_loss: 0.4431 - val_accuracy: 0.8101 - val_precision: 0.8333 - val_recall: 0.8511\n",
            "Epoch 15/200\n",
            "23/23 [==============================] - 3s 127ms/step - loss: 0.3963 - accuracy: 0.8022 - precision: 0.8103 - recall: 0.8704 - val_loss: 0.4726 - val_accuracy: 0.8354 - val_precision: 0.9474 - val_recall: 0.7660\n",
            "Epoch 16/200\n",
            "23/23 [==============================] - 3s 129ms/step - loss: 0.3711 - accuracy: 0.8187 - precision: 0.8440 - recall: 0.8519 - val_loss: 0.4103 - val_accuracy: 0.8101 - val_precision: 0.7963 - val_recall: 0.9149\n",
            "Epoch 17/200\n",
            "23/23 [==============================] - 3s 137ms/step - loss: 0.3397 - accuracy: 0.8736 - precision: 0.8696 - recall: 0.9259 - val_loss: 0.3711 - val_accuracy: 0.8734 - val_precision: 0.9302 - val_recall: 0.8511\n",
            "Epoch 18/200\n",
            "23/23 [==============================] - 3s 137ms/step - loss: 0.3186 - accuracy: 0.8462 - precision: 0.8636 - recall: 0.8796 - val_loss: 0.4277 - val_accuracy: 0.8354 - val_precision: 0.8036 - val_recall: 0.9574\n",
            "Epoch 19/200\n",
            "23/23 [==============================] - 3s 132ms/step - loss: 0.2866 - accuracy: 0.8901 - precision: 0.9000 - recall: 0.9167 - val_loss: 0.3315 - val_accuracy: 0.8354 - val_precision: 0.8148 - val_recall: 0.9362\n",
            "Epoch 20/200\n",
            "23/23 [==============================] - 3s 134ms/step - loss: 0.2728 - accuracy: 0.8846 - precision: 0.8991 - recall: 0.9074 - val_loss: 0.4324 - val_accuracy: 0.7848 - val_precision: 0.7500 - val_recall: 0.9574\n",
            "Epoch 21/200\n",
            "23/23 [==============================] - 3s 134ms/step - loss: 0.3161 - accuracy: 0.8901 - precision: 0.8860 - recall: 0.9352 - val_loss: 0.3932 - val_accuracy: 0.8481 - val_precision: 0.8571 - val_recall: 0.8936\n",
            "Epoch 22/200\n",
            "23/23 [==============================] - 3s 133ms/step - loss: 0.2855 - accuracy: 0.8846 - precision: 0.9143 - recall: 0.8889 - val_loss: 0.4376 - val_accuracy: 0.7975 - val_precision: 0.7541 - val_recall: 0.9787\n",
            "Epoch 23/200\n",
            "23/23 [==============================] - 3s 133ms/step - loss: 0.3065 - accuracy: 0.8791 - precision: 0.8981 - recall: 0.8981 - val_loss: 0.3723 - val_accuracy: 0.8228 - val_precision: 0.7895 - val_recall: 0.9574\n",
            "Epoch 24/200\n",
            "23/23 [==============================] - 3s 136ms/step - loss: 0.3393 - accuracy: 0.8681 - precision: 0.8750 - recall: 0.9074 - val_loss: 0.3179 - val_accuracy: 0.8481 - val_precision: 0.8182 - val_recall: 0.9574\n",
            "Epoch 25/200\n",
            "23/23 [==============================] - 3s 135ms/step - loss: 0.2568 - accuracy: 0.8681 - precision: 0.8962 - recall: 0.8796 - val_loss: 0.3336 - val_accuracy: 0.8861 - val_precision: 0.9524 - val_recall: 0.8511\n",
            "Epoch 26/200\n",
            "23/23 [==============================] - 3s 134ms/step - loss: 0.2963 - accuracy: 0.8681 - precision: 0.8889 - recall: 0.8889 - val_loss: 0.4548 - val_accuracy: 0.7975 - val_precision: 0.7627 - val_recall: 0.9574\n",
            "Epoch 27/200\n",
            "23/23 [==============================] - 3s 132ms/step - loss: 0.3174 - accuracy: 0.8516 - precision: 0.8403 - recall: 0.9259 - val_loss: 0.4356 - val_accuracy: 0.8101 - val_precision: 0.8077 - val_recall: 0.8936\n",
            "Epoch 28/200\n",
            "23/23 [==============================] - 3s 133ms/step - loss: 0.3256 - accuracy: 0.8571 - precision: 0.8796 - recall: 0.8796 - val_loss: 0.3333 - val_accuracy: 0.8987 - val_precision: 0.9756 - val_recall: 0.8511\n",
            "Epoch 29/200\n",
            "23/23 [==============================] - 3s 131ms/step - loss: 0.2484 - accuracy: 0.9011 - precision: 0.9167 - recall: 0.9167 - val_loss: 0.3614 - val_accuracy: 0.8228 - val_precision: 0.8367 - val_recall: 0.8723\n",
            "Epoch 30/200\n",
            "23/23 [==============================] - 3s 133ms/step - loss: 0.2707 - accuracy: 0.8736 - precision: 0.8972 - recall: 0.8889 - val_loss: 0.3685 - val_accuracy: 0.8481 - val_precision: 0.8070 - val_recall: 0.9787\n",
            "Epoch 31/200\n",
            "23/23 [==============================] - 3s 131ms/step - loss: 0.2979 - accuracy: 0.8956 - precision: 0.8803 - recall: 0.9537 - val_loss: 0.4309 - val_accuracy: 0.8101 - val_precision: 0.7857 - val_recall: 0.9362\n",
            "Epoch 32/200\n",
            "23/23 [==============================] - 3s 133ms/step - loss: 0.2462 - accuracy: 0.8956 - precision: 0.9159 - recall: 0.9074 - val_loss: 0.3926 - val_accuracy: 0.8354 - val_precision: 0.9722 - val_recall: 0.7447\n",
            "Epoch 33/200\n",
            "23/23 [==============================] - 3s 133ms/step - loss: 0.2657 - accuracy: 0.8791 - precision: 0.8981 - recall: 0.8981 - val_loss: 0.3564 - val_accuracy: 0.8861 - val_precision: 0.9524 - val_recall: 0.8511\n",
            "Epoch 34/200\n",
            "23/23 [==============================] - 3s 134ms/step - loss: 0.2933 - accuracy: 0.8791 - precision: 0.8981 - recall: 0.8981 - val_loss: 0.3769 - val_accuracy: 0.8987 - val_precision: 0.9535 - val_recall: 0.8723\n",
            "Epoch 35/200\n",
            "23/23 [==============================] - 3s 134ms/step - loss: 0.2889 - accuracy: 0.8626 - precision: 0.8673 - recall: 0.9074 - val_loss: 0.3207 - val_accuracy: 0.8228 - val_precision: 0.8113 - val_recall: 0.9149\n",
            "Epoch 36/200\n",
            "23/23 [==============================] - 3s 138ms/step - loss: 0.2589 - accuracy: 0.8901 - precision: 0.9000 - recall: 0.9167 - val_loss: 0.4262 - val_accuracy: 0.8101 - val_precision: 0.7857 - val_recall: 0.9362\n",
            "Epoch 37/200\n",
            "23/23 [==============================] - 3s 137ms/step - loss: 0.3219 - accuracy: 0.8681 - precision: 0.8818 - recall: 0.8981 - val_loss: 0.4383 - val_accuracy: 0.8228 - val_precision: 0.8511 - val_recall: 0.8511\n",
            "Epoch 38/200\n",
            "23/23 [==============================] - 3s 133ms/step - loss: 0.1961 - accuracy: 0.9176 - precision: 0.9189 - recall: 0.9444 - val_loss: 0.3963 - val_accuracy: 0.8481 - val_precision: 0.8889 - val_recall: 0.8511\n",
            "Epoch 39/200\n",
            "23/23 [==============================] - 3s 132ms/step - loss: 0.1940 - accuracy: 0.9451 - precision: 0.9537 - recall: 0.9537 - val_loss: 0.5661 - val_accuracy: 0.7722 - val_precision: 0.7636 - val_recall: 0.8936\n",
            "Epoch 40/200\n",
            "23/23 [==============================] - 3s 132ms/step - loss: 0.2087 - accuracy: 0.9011 - precision: 0.9327 - recall: 0.8981 - val_loss: 0.3821 - val_accuracy: 0.8354 - val_precision: 0.8696 - val_recall: 0.8511\n",
            "Epoch 41/200\n",
            "23/23 [==============================] - 3s 133ms/step - loss: 0.1549 - accuracy: 0.9231 - precision: 0.9273 - recall: 0.9444 - val_loss: 0.4846 - val_accuracy: 0.8608 - val_precision: 0.9091 - val_recall: 0.8511\n",
            "Epoch 42/200\n",
            "23/23 [==============================] - 3s 139ms/step - loss: 0.2225 - accuracy: 0.8956 - precision: 0.9009 - recall: 0.9259 - val_loss: 0.4096 - val_accuracy: 0.8481 - val_precision: 0.9070 - val_recall: 0.8298\n",
            "Epoch 43/200\n",
            "23/23 [==============================] - 3s 144ms/step - loss: 0.2751 - accuracy: 0.8736 - precision: 0.9048 - recall: 0.8796 - val_loss: 0.3906 - val_accuracy: 0.8608 - val_precision: 0.8750 - val_recall: 0.8936\n",
            "Epoch 44/200\n",
            "23/23 [==============================] - 3s 140ms/step - loss: 0.1479 - accuracy: 0.9505 - precision: 0.9626 - recall: 0.9537 - val_loss: 0.2633 - val_accuracy: 0.8987 - val_precision: 0.8824 - val_recall: 0.9574\n",
            "Epoch 45/200\n",
            "23/23 [==============================] - 3s 133ms/step - loss: 0.1815 - accuracy: 0.9231 - precision: 0.9123 - recall: 0.9630 - val_loss: 0.3678 - val_accuracy: 0.8481 - val_precision: 0.8571 - val_recall: 0.8936\n",
            "Epoch 46/200\n",
            "23/23 [==============================] - 3s 134ms/step - loss: 0.1925 - accuracy: 0.9011 - precision: 0.9327 - recall: 0.8981 - val_loss: 0.4075 - val_accuracy: 0.7722 - val_precision: 0.7736 - val_recall: 0.8723\n",
            "Epoch 47/200\n",
            "23/23 [==============================] - 3s 134ms/step - loss: 0.2518 - accuracy: 0.8846 - precision: 0.8991 - recall: 0.9074 - val_loss: 0.4141 - val_accuracy: 0.8354 - val_precision: 0.8036 - val_recall: 0.9574\n",
            "Epoch 48/200\n",
            "23/23 [==============================] - 3s 134ms/step - loss: 0.2431 - accuracy: 0.8846 - precision: 0.9307 - recall: 0.8704 - val_loss: 0.6956 - val_accuracy: 0.6962 - val_precision: 0.6716 - val_recall: 0.9574\n",
            "Epoch 49/200\n",
            "23/23 [==============================] - 3s 134ms/step - loss: 0.3132 - accuracy: 0.8462 - precision: 0.8509 - recall: 0.8981 - val_loss: 0.3823 - val_accuracy: 0.8354 - val_precision: 0.8148 - val_recall: 0.9362\n",
            "Epoch 50/200\n",
            "23/23 [==============================] - 3s 132ms/step - loss: 0.2528 - accuracy: 0.8901 - precision: 0.9151 - recall: 0.8981 - val_loss: 0.4703 - val_accuracy: 0.7722 - val_precision: 0.7458 - val_recall: 0.9362\n",
            "Epoch 51/200\n",
            "23/23 [==============================] - 3s 134ms/step - loss: 0.2557 - accuracy: 0.9066 - precision: 0.9027 - recall: 0.9444 - val_loss: 0.4265 - val_accuracy: 0.8101 - val_precision: 0.8077 - val_recall: 0.8936\n",
            "Epoch 52/200\n",
            "23/23 [==============================] - 3s 135ms/step - loss: 0.2054 - accuracy: 0.9121 - precision: 0.9035 - recall: 0.9537 - val_loss: 0.3859 - val_accuracy: 0.8481 - val_precision: 0.8889 - val_recall: 0.8511\n",
            "Epoch 53/200\n",
            "23/23 [==============================] - 3s 132ms/step - loss: 0.1642 - accuracy: 0.9341 - precision: 0.9528 - recall: 0.9352 - val_loss: 0.3854 - val_accuracy: 0.8734 - val_precision: 0.8936 - val_recall: 0.8936\n",
            "Epoch 54/200\n",
            "23/23 [==============================] - 3s 135ms/step - loss: 0.3502 - accuracy: 0.8516 - precision: 0.8649 - recall: 0.8889 - val_loss: 0.3053 - val_accuracy: 0.8861 - val_precision: 0.8800 - val_recall: 0.9362\n",
            "Epoch 55/200\n",
            "23/23 [==============================] - 3s 138ms/step - loss: 0.2985 - accuracy: 0.8901 - precision: 0.9074 - recall: 0.9074 - val_loss: 0.3295 - val_accuracy: 0.8608 - val_precision: 0.8750 - val_recall: 0.8936\n",
            "Epoch 56/200\n",
            "23/23 [==============================] - 3s 139ms/step - loss: 0.2253 - accuracy: 0.9121 - precision: 0.8966 - recall: 0.9630 - val_loss: 0.4109 - val_accuracy: 0.8734 - val_precision: 0.9744 - val_recall: 0.8085\n",
            "Epoch 57/200\n",
            "23/23 [==============================] - 3s 134ms/step - loss: 0.2162 - accuracy: 0.9176 - precision: 0.9266 - recall: 0.9352 - val_loss: 0.3865 - val_accuracy: 0.8734 - val_precision: 0.8936 - val_recall: 0.8936\n",
            "Epoch 58/200\n",
            "23/23 [==============================] - 3s 133ms/step - loss: 0.2536 - accuracy: 0.9066 - precision: 0.9252 - recall: 0.9167 - val_loss: 0.3334 - val_accuracy: 0.8608 - val_precision: 0.9091 - val_recall: 0.8511\n",
            "Epoch 59/200\n",
            "23/23 [==============================] - 3s 134ms/step - loss: 0.1999 - accuracy: 0.9176 - precision: 0.9189 - recall: 0.9444 - val_loss: 0.2607 - val_accuracy: 0.8987 - val_precision: 0.9535 - val_recall: 0.8723\n",
            "Epoch 60/200\n",
            "23/23 [==============================] - 3s 134ms/step - loss: 0.1965 - accuracy: 0.9066 - precision: 0.9099 - recall: 0.9352 - val_loss: 0.3997 - val_accuracy: 0.8101 - val_precision: 0.9211 - val_recall: 0.7447\n",
            "Epoch 61/200\n",
            "23/23 [==============================] - 3s 136ms/step - loss: 0.2141 - accuracy: 0.8846 - precision: 0.8919 - recall: 0.9167 - val_loss: 0.3661 - val_accuracy: 0.8861 - val_precision: 0.9524 - val_recall: 0.8511\n",
            "Epoch 62/200\n",
            "23/23 [==============================] - 3s 133ms/step - loss: 0.1873 - accuracy: 0.9176 - precision: 0.9266 - recall: 0.9352 - val_loss: 0.4092 - val_accuracy: 0.8101 - val_precision: 0.7963 - val_recall: 0.9149\n",
            "Epoch 63/200\n",
            "23/23 [==============================] - 3s 135ms/step - loss: 0.1882 - accuracy: 0.9176 - precision: 0.9266 - recall: 0.9352 - val_loss: 0.4840 - val_accuracy: 0.7722 - val_precision: 0.7959 - val_recall: 0.8298\n",
            "Epoch 64/200\n",
            "23/23 [==============================] - 3s 136ms/step - loss: 0.2003 - accuracy: 0.9176 - precision: 0.9115 - recall: 0.9537 - val_loss: 0.3498 - val_accuracy: 0.8354 - val_precision: 0.8269 - val_recall: 0.9149\n",
            "Epoch 65/200\n",
            "23/23 [==============================] - 3s 137ms/step - loss: 0.1591 - accuracy: 0.9396 - precision: 0.9369 - recall: 0.9630 - val_loss: 0.3605 - val_accuracy: 0.8861 - val_precision: 0.9524 - val_recall: 0.8511\n",
            "Epoch 66/200\n",
            "23/23 [==============================] - 3s 135ms/step - loss: 0.1782 - accuracy: 0.9176 - precision: 0.9346 - recall: 0.9259 - val_loss: 0.5037 - val_accuracy: 0.7848 - val_precision: 0.8571 - val_recall: 0.7660\n",
            "Epoch 67/200\n",
            "23/23 [==============================] - 3s 137ms/step - loss: 0.2412 - accuracy: 0.8901 - precision: 0.9074 - recall: 0.9074 - val_loss: 0.3746 - val_accuracy: 0.8481 - val_precision: 0.8431 - val_recall: 0.9149\n",
            "Epoch 68/200\n",
            "23/23 [==============================] - 3s 135ms/step - loss: 0.2158 - accuracy: 0.8956 - precision: 0.9238 - recall: 0.8981 - val_loss: 0.4466 - val_accuracy: 0.8481 - val_precision: 0.8723 - val_recall: 0.8723\n",
            "Epoch 69/200\n",
            "23/23 [==============================] - 3s 138ms/step - loss: 0.1846 - accuracy: 0.9231 - precision: 0.9123 - recall: 0.9630 - val_loss: 0.4537 - val_accuracy: 0.7975 - val_precision: 0.7925 - val_recall: 0.8936\n",
            "Epoch 70/200\n",
            "23/23 [==============================] - 3s 137ms/step - loss: 0.1704 - accuracy: 0.9121 - precision: 0.9340 - recall: 0.9167 - val_loss: 0.3550 - val_accuracy: 0.8101 - val_precision: 0.8077 - val_recall: 0.8936\n",
            "Epoch 71/200\n",
            "23/23 [==============================] - 3s 136ms/step - loss: 0.1571 - accuracy: 0.9286 - precision: 0.9358 - recall: 0.9444 - val_loss: 0.4178 - val_accuracy: 0.8354 - val_precision: 0.8400 - val_recall: 0.8936\n",
            "Epoch 72/200\n",
            "23/23 [==============================] - 3s 135ms/step - loss: 0.1854 - accuracy: 0.9176 - precision: 0.9266 - recall: 0.9352 - val_loss: 0.4675 - val_accuracy: 0.7975 - val_precision: 0.7925 - val_recall: 0.8936\n",
            "Epoch 73/200\n",
            "23/23 [==============================] - 3s 141ms/step - loss: 0.1431 - accuracy: 0.9231 - precision: 0.9196 - recall: 0.9537 - val_loss: 0.5772 - val_accuracy: 0.7975 - val_precision: 0.8444 - val_recall: 0.8085\n",
            "Epoch 74/200\n",
            "23/23 [==============================] - 3s 142ms/step - loss: 0.1252 - accuracy: 0.9505 - precision: 0.9541 - recall: 0.9630 - val_loss: 0.3793 - val_accuracy: 0.8228 - val_precision: 0.8113 - val_recall: 0.9149\n",
            "Epoch 75/200\n",
            "23/23 [==============================] - 3s 136ms/step - loss: 0.0939 - accuracy: 0.9670 - precision: 0.9722 - recall: 0.9722 - val_loss: 0.3828 - val_accuracy: 0.8608 - val_precision: 0.9091 - val_recall: 0.8511\n",
            "Epoch 76/200\n",
            "23/23 [==============================] - 3s 135ms/step - loss: 0.1542 - accuracy: 0.9396 - precision: 0.9369 - recall: 0.9630 - val_loss: 0.4778 - val_accuracy: 0.7848 - val_precision: 0.8261 - val_recall: 0.8085\n",
            "Epoch 77/200\n",
            "23/23 [==============================] - 3s 136ms/step - loss: 0.1235 - accuracy: 0.9505 - precision: 0.9541 - recall: 0.9630 - val_loss: 0.4290 - val_accuracy: 0.7975 - val_precision: 0.8163 - val_recall: 0.8511\n",
            "Epoch 78/200\n",
            "23/23 [==============================] - 3s 136ms/step - loss: 0.1348 - accuracy: 0.9396 - precision: 0.9533 - recall: 0.9444 - val_loss: 0.4443 - val_accuracy: 0.8734 - val_precision: 0.8776 - val_recall: 0.9149\n",
            "Epoch 79/200\n",
            "23/23 [==============================] - 3s 138ms/step - loss: 0.1694 - accuracy: 0.9451 - precision: 0.9455 - recall: 0.9630 - val_loss: 0.4944 - val_accuracy: 0.8228 - val_precision: 0.7895 - val_recall: 0.9574\n",
            "Epoch 80/200\n",
            "23/23 [==============================] - 3s 138ms/step - loss: 0.1619 - accuracy: 0.9396 - precision: 0.9619 - recall: 0.9352 - val_loss: 0.4612 - val_accuracy: 0.8101 - val_precision: 0.7857 - val_recall: 0.9362\n",
            "Epoch 81/200\n",
            "23/23 [==============================] - 3s 135ms/step - loss: 0.2729 - accuracy: 0.8791 - precision: 0.8707 - recall: 0.9352 - val_loss: 0.3845 - val_accuracy: 0.8354 - val_precision: 0.8696 - val_recall: 0.8511\n",
            "Epoch 82/200\n",
            "23/23 [==============================] - 3s 134ms/step - loss: 0.2122 - accuracy: 0.9121 - precision: 0.9340 - recall: 0.9167 - val_loss: 0.3526 - val_accuracy: 0.8734 - val_precision: 0.9302 - val_recall: 0.8511\n",
            "Epoch 83/200\n",
            "23/23 [==============================] - 3s 134ms/step - loss: 0.1677 - accuracy: 0.9451 - precision: 0.9623 - recall: 0.9444 - val_loss: 0.4516 - val_accuracy: 0.7722 - val_precision: 0.7843 - val_recall: 0.8511\n",
            "Epoch 84/200\n",
            "23/23 [==============================] - 3s 134ms/step - loss: 0.1480 - accuracy: 0.9505 - precision: 0.9541 - recall: 0.9630 - val_loss: 0.3701 - val_accuracy: 0.8101 - val_precision: 0.8636 - val_recall: 0.8085\n",
            "Epoch 85/200\n",
            "23/23 [==============================] - 3s 134ms/step - loss: 0.1269 - accuracy: 0.9451 - precision: 0.9375 - recall: 0.9722 - val_loss: 0.5257 - val_accuracy: 0.7595 - val_precision: 0.7692 - val_recall: 0.8511\n",
            "Epoch 86/200\n",
            "23/23 [==============================] - 3s 135ms/step - loss: 0.1189 - accuracy: 0.9615 - precision: 0.9633 - recall: 0.9722 - val_loss: 0.3777 - val_accuracy: 0.8228 - val_precision: 0.8113 - val_recall: 0.9149\n",
            "Epoch 87/200\n",
            "23/23 [==============================] - 3s 132ms/step - loss: 0.1541 - accuracy: 0.9451 - precision: 0.9455 - recall: 0.9630 - val_loss: 0.4955 - val_accuracy: 0.8608 - val_precision: 0.8600 - val_recall: 0.9149\n",
            "Epoch 88/200\n",
            "23/23 [==============================] - 3s 134ms/step - loss: 0.1684 - accuracy: 0.9341 - precision: 0.9286 - recall: 0.9630 - val_loss: 0.4020 - val_accuracy: 0.8608 - val_precision: 0.9091 - val_recall: 0.8511\n",
            "Epoch 89/200\n",
            "23/23 [==============================] - 3s 136ms/step - loss: 0.1454 - accuracy: 0.9505 - precision: 0.9541 - recall: 0.9630 - val_loss: 0.3561 - val_accuracy: 0.8101 - val_precision: 0.8333 - val_recall: 0.8511\n",
            "Epoch 90/200\n",
            "23/23 [==============================] - 3s 135ms/step - loss: 0.1602 - accuracy: 0.9286 - precision: 0.9130 - recall: 0.9722 - val_loss: 0.4025 - val_accuracy: 0.8354 - val_precision: 0.9722 - val_recall: 0.7447\n",
            "Epoch 91/200\n",
            "23/23 [==============================] - 3s 135ms/step - loss: 0.1716 - accuracy: 0.9286 - precision: 0.9439 - recall: 0.9352 - val_loss: 0.3332 - val_accuracy: 0.8608 - val_precision: 0.8750 - val_recall: 0.8936\n",
            "Epoch 92/200\n",
            "23/23 [==============================] - 3s 146ms/step - loss: 0.1815 - accuracy: 0.9231 - precision: 0.9352 - recall: 0.9352 - val_loss: 0.4196 - val_accuracy: 0.8354 - val_precision: 0.8542 - val_recall: 0.8723\n",
            "Epoch 93/200\n",
            "23/23 [==============================] - 3s 136ms/step - loss: 0.1269 - accuracy: 0.9505 - precision: 0.9626 - recall: 0.9537 - val_loss: 0.3998 - val_accuracy: 0.8481 - val_precision: 0.8431 - val_recall: 0.9149\n",
            "Epoch 94/200\n",
            "23/23 [==============================] - 3s 135ms/step - loss: 0.0995 - accuracy: 0.9835 - precision: 0.9730 - recall: 1.0000 - val_loss: 0.4023 - val_accuracy: 0.8734 - val_precision: 0.8776 - val_recall: 0.9149\n",
            "Epoch 95/200\n",
            "23/23 [==============================] - 3s 134ms/step - loss: 0.1296 - accuracy: 0.9560 - precision: 0.9545 - recall: 0.9722 - val_loss: 0.5049 - val_accuracy: 0.7595 - val_precision: 0.7500 - val_recall: 0.8936\n",
            "Epoch 96/200\n",
            "23/23 [==============================] - 3s 136ms/step - loss: 0.1778 - accuracy: 0.9451 - precision: 0.9455 - recall: 0.9630 - val_loss: 0.5154 - val_accuracy: 0.7722 - val_precision: 0.8718 - val_recall: 0.7234\n",
            "Epoch 97/200\n",
            "23/23 [==============================] - 3s 136ms/step - loss: 0.1720 - accuracy: 0.9396 - precision: 0.9450 - recall: 0.9537 - val_loss: 0.4126 - val_accuracy: 0.8481 - val_precision: 0.8431 - val_recall: 0.9149\n",
            "Epoch 98/200\n",
            "23/23 [==============================] - 3s 135ms/step - loss: 0.1713 - accuracy: 0.9286 - precision: 0.9358 - recall: 0.9444 - val_loss: 0.3348 - val_accuracy: 0.8987 - val_precision: 0.8980 - val_recall: 0.9362\n",
            "Epoch 99/200\n",
            "23/23 [==============================] - 3s 136ms/step - loss: 0.1308 - accuracy: 0.9451 - precision: 0.9455 - recall: 0.9630 - val_loss: 0.3433 - val_accuracy: 0.8481 - val_precision: 0.9070 - val_recall: 0.8298\n",
            "Epoch 100/200\n",
            "23/23 [==============================] - 3s 137ms/step - loss: 0.1188 - accuracy: 0.9615 - precision: 0.9720 - recall: 0.9630 - val_loss: 0.4183 - val_accuracy: 0.8228 - val_precision: 0.8511 - val_recall: 0.8511\n",
            "Epoch 101/200\n",
            "23/23 [==============================] - 3s 135ms/step - loss: 0.1570 - accuracy: 0.9341 - precision: 0.9528 - recall: 0.9352 - val_loss: 0.3458 - val_accuracy: 0.8861 - val_precision: 0.8800 - val_recall: 0.9362\n",
            "Epoch 102/200\n",
            "23/23 [==============================] - 3s 137ms/step - loss: 0.1587 - accuracy: 0.9396 - precision: 0.9450 - recall: 0.9537 - val_loss: 0.4186 - val_accuracy: 0.7975 - val_precision: 0.8163 - val_recall: 0.8511\n",
            "Epoch 103/200\n",
            "23/23 [==============================] - 3s 134ms/step - loss: 0.1650 - accuracy: 0.9231 - precision: 0.9352 - recall: 0.9352 - val_loss: 0.3379 - val_accuracy: 0.8734 - val_precision: 0.9111 - val_recall: 0.8723\n",
            "Epoch 104/200\n",
            "23/23 [==============================] - 3s 133ms/step - loss: 0.0886 - accuracy: 0.9835 - precision: 0.9730 - recall: 1.0000 - val_loss: 0.3105 - val_accuracy: 0.8861 - val_precision: 0.9318 - val_recall: 0.8723\n",
            "Epoch 105/200\n",
            "23/23 [==============================] - 3s 132ms/step - loss: 0.1216 - accuracy: 0.9615 - precision: 0.9720 - recall: 0.9630 - val_loss: 0.2725 - val_accuracy: 0.9114 - val_precision: 0.9000 - val_recall: 0.9574\n",
            "Epoch 106/200\n",
            "23/23 [==============================] - 3s 137ms/step - loss: 0.1567 - accuracy: 0.9615 - precision: 0.9469 - recall: 0.9907 - val_loss: 0.4589 - val_accuracy: 0.8608 - val_precision: 0.9500 - val_recall: 0.8085\n",
            "Epoch 107/200\n",
            "23/23 [==============================] - 3s 137ms/step - loss: 0.1063 - accuracy: 0.9560 - precision: 0.9717 - recall: 0.9537 - val_loss: 0.3710 - val_accuracy: 0.8101 - val_precision: 0.7963 - val_recall: 0.9149\n",
            "Epoch 108/200\n",
            "23/23 [==============================] - 3s 133ms/step - loss: 0.1262 - accuracy: 0.9451 - precision: 0.9455 - recall: 0.9630 - val_loss: 0.4382 - val_accuracy: 0.8354 - val_precision: 0.9048 - val_recall: 0.8085\n",
            "Epoch 109/200\n",
            "23/23 [==============================] - 3s 134ms/step - loss: 0.1334 - accuracy: 0.9341 - precision: 0.9364 - recall: 0.9537 - val_loss: 0.4196 - val_accuracy: 0.8608 - val_precision: 0.8913 - val_recall: 0.8723\n",
            "Epoch 110/200\n",
            "23/23 [==============================] - 3s 136ms/step - loss: 0.1304 - accuracy: 0.9451 - precision: 0.9455 - recall: 0.9630 - val_loss: 0.4034 - val_accuracy: 0.8608 - val_precision: 0.9286 - val_recall: 0.8298\n",
            "Epoch 111/200\n",
            "23/23 [==============================] - 3s 140ms/step - loss: 0.1367 - accuracy: 0.9341 - precision: 0.9528 - recall: 0.9352 - val_loss: 0.5200 - val_accuracy: 0.8228 - val_precision: 0.9231 - val_recall: 0.7660\n",
            "Epoch 112/200\n",
            "23/23 [==============================] - 3s 137ms/step - loss: 0.1519 - accuracy: 0.9505 - precision: 0.9626 - recall: 0.9537 - val_loss: 0.3632 - val_accuracy: 0.8228 - val_precision: 0.8367 - val_recall: 0.8723\n",
            "Epoch 113/200\n",
            "23/23 [==============================] - 3s 135ms/step - loss: 0.1050 - accuracy: 0.9725 - precision: 0.9725 - recall: 0.9815 - val_loss: 0.3784 - val_accuracy: 0.8734 - val_precision: 0.9512 - val_recall: 0.8298\n",
            "Epoch 114/200\n",
            "23/23 [==============================] - 3s 132ms/step - loss: 0.1197 - accuracy: 0.9725 - precision: 0.9813 - recall: 0.9722 - val_loss: 0.4096 - val_accuracy: 0.8481 - val_precision: 0.8571 - val_recall: 0.8936\n",
            "Epoch 115/200\n",
            "23/23 [==============================] - 3s 133ms/step - loss: 0.1244 - accuracy: 0.9505 - precision: 0.9459 - recall: 0.9722 - val_loss: 0.3300 - val_accuracy: 0.8608 - val_precision: 0.8750 - val_recall: 0.8936\n",
            "Epoch 116/200\n",
            "23/23 [==============================] - 3s 131ms/step - loss: 0.1066 - accuracy: 0.9615 - precision: 0.9550 - recall: 0.9815 - val_loss: 0.4986 - val_accuracy: 0.8354 - val_precision: 0.9474 - val_recall: 0.7660\n",
            "Epoch 117/200\n",
            "23/23 [==============================] - 3s 132ms/step - loss: 0.1628 - accuracy: 0.9341 - precision: 0.9364 - recall: 0.9537 - val_loss: 0.5420 - val_accuracy: 0.8354 - val_precision: 0.9048 - val_recall: 0.8085\n",
            "Epoch 118/200\n",
            "23/23 [==============================] - 3s 134ms/step - loss: 0.1263 - accuracy: 0.9560 - precision: 0.9545 - recall: 0.9722 - val_loss: 0.3782 - val_accuracy: 0.8354 - val_precision: 0.8269 - val_recall: 0.9149\n",
            "Epoch 119/200\n",
            "23/23 [==============================] - 3s 134ms/step - loss: 0.1369 - accuracy: 0.9396 - precision: 0.9450 - recall: 0.9537 - val_loss: 0.3863 - val_accuracy: 0.8481 - val_precision: 0.8723 - val_recall: 0.8723\n",
            "Epoch 120/200\n",
            "23/23 [==============================] - 3s 134ms/step - loss: 0.1348 - accuracy: 0.9615 - precision: 0.9633 - recall: 0.9722 - val_loss: 0.4144 - val_accuracy: 0.8608 - val_precision: 0.8913 - val_recall: 0.8723\n",
            "Epoch 121/200\n",
            "23/23 [==============================] - 3s 134ms/step - loss: 0.1070 - accuracy: 0.9670 - precision: 0.9636 - recall: 0.9815 - val_loss: 0.5134 - val_accuracy: 0.7975 - val_precision: 0.8444 - val_recall: 0.8085\n",
            "Epoch 122/200\n",
            "23/23 [==============================] - 3s 136ms/step - loss: 0.0787 - accuracy: 0.9835 - precision: 0.9817 - recall: 0.9907 - val_loss: 0.3977 - val_accuracy: 0.8987 - val_precision: 0.9149 - val_recall: 0.9149\n",
            "Epoch 123/200\n",
            "23/23 [==============================] - 3s 135ms/step - loss: 0.1175 - accuracy: 0.9505 - precision: 0.9459 - recall: 0.9722 - val_loss: 0.5940 - val_accuracy: 0.7595 - val_precision: 0.8500 - val_recall: 0.7234\n",
            "Epoch 124/200\n",
            "23/23 [==============================] - 3s 134ms/step - loss: 0.1544 - accuracy: 0.9286 - precision: 0.9439 - recall: 0.9352 - val_loss: 0.3581 - val_accuracy: 0.8481 - val_precision: 0.9070 - val_recall: 0.8298\n",
            "Epoch 125/200\n",
            "23/23 [==============================] - 3s 133ms/step - loss: 0.1590 - accuracy: 0.9286 - precision: 0.9439 - recall: 0.9352 - val_loss: 0.3517 - val_accuracy: 0.8734 - val_precision: 0.9111 - val_recall: 0.8723\n",
            "Epoch 126/200\n",
            "23/23 [==============================] - 3s 132ms/step - loss: 0.1270 - accuracy: 0.9396 - precision: 0.9533 - recall: 0.9444 - val_loss: 0.3614 - val_accuracy: 0.8608 - val_precision: 0.8913 - val_recall: 0.8723\n",
            "Epoch 127/200\n",
            "23/23 [==============================] - 3s 132ms/step - loss: 0.1300 - accuracy: 0.9396 - precision: 0.9619 - recall: 0.9352 - val_loss: 0.3345 - val_accuracy: 0.8481 - val_precision: 0.8723 - val_recall: 0.8723\n",
            "Epoch 128/200\n",
            "23/23 [==============================] - 3s 133ms/step - loss: 0.1116 - accuracy: 0.9615 - precision: 0.9633 - recall: 0.9722 - val_loss: 0.5346 - val_accuracy: 0.7975 - val_precision: 0.8605 - val_recall: 0.7872\n",
            "Epoch 129/200\n",
            "23/23 [==============================] - 3s 137ms/step - loss: 0.1020 - accuracy: 0.9615 - precision: 0.9469 - recall: 0.9907 - val_loss: 0.4472 - val_accuracy: 0.8481 - val_precision: 0.9070 - val_recall: 0.8298\n",
            "Epoch 130/200\n",
            "23/23 [==============================] - 3s 135ms/step - loss: 0.1622 - accuracy: 0.9286 - precision: 0.9358 - recall: 0.9444 - val_loss: 0.4875 - val_accuracy: 0.8481 - val_precision: 0.9070 - val_recall: 0.8298\n",
            "Epoch 131/200\n",
            "23/23 [==============================] - 3s 134ms/step - loss: 0.1100 - accuracy: 0.9505 - precision: 0.9626 - recall: 0.9537 - val_loss: 0.6433 - val_accuracy: 0.7848 - val_precision: 0.7778 - val_recall: 0.8936\n",
            "Epoch 132/200\n",
            "23/23 [==============================] - 3s 137ms/step - loss: 0.0902 - accuracy: 0.9725 - precision: 0.9725 - recall: 0.9815 - val_loss: 0.4097 - val_accuracy: 0.8481 - val_precision: 0.9268 - val_recall: 0.8085\n",
            "Epoch 133/200\n",
            "23/23 [==============================] - 3s 134ms/step - loss: 0.1186 - accuracy: 0.9670 - precision: 0.9722 - recall: 0.9722 - val_loss: 0.4984 - val_accuracy: 0.8101 - val_precision: 0.8200 - val_recall: 0.8723\n",
            "Epoch 134/200\n",
            "23/23 [==============================] - 3s 134ms/step - loss: 0.0787 - accuracy: 0.9725 - precision: 0.9813 - recall: 0.9722 - val_loss: 0.3172 - val_accuracy: 0.8987 - val_precision: 0.9149 - val_recall: 0.9149\n",
            "Epoch 135/200\n",
            "23/23 [==============================] - 3s 134ms/step - loss: 0.1602 - accuracy: 0.9341 - precision: 0.9528 - recall: 0.9352 - val_loss: 0.4148 - val_accuracy: 0.8101 - val_precision: 0.8200 - val_recall: 0.8723\n",
            "Epoch 136/200\n",
            "23/23 [==============================] - 3s 134ms/step - loss: 0.1232 - accuracy: 0.9286 - precision: 0.9358 - recall: 0.9444 - val_loss: 0.2970 - val_accuracy: 0.8734 - val_precision: 0.9111 - val_recall: 0.8723\n",
            "Epoch 137/200\n",
            "23/23 [==============================] - 3s 141ms/step - loss: 0.1279 - accuracy: 0.9505 - precision: 0.9714 - recall: 0.9444 - val_loss: 0.2760 - val_accuracy: 0.8861 - val_precision: 0.8800 - val_recall: 0.9362\n",
            "Epoch 138/200\n",
            "23/23 [==============================] - 3s 140ms/step - loss: 0.1350 - accuracy: 0.9505 - precision: 0.9541 - recall: 0.9630 - val_loss: 0.4055 - val_accuracy: 0.8861 - val_precision: 0.9130 - val_recall: 0.8936\n",
            "Epoch 139/200\n",
            "23/23 [==============================] - 3s 140ms/step - loss: 0.1257 - accuracy: 0.9615 - precision: 0.9720 - recall: 0.9630 - val_loss: 0.4742 - val_accuracy: 0.8101 - val_precision: 0.7963 - val_recall: 0.9149\n",
            "Epoch 140/200\n",
            "23/23 [==============================] - 3s 131ms/step - loss: 0.1418 - accuracy: 0.9451 - precision: 0.9455 - recall: 0.9630 - val_loss: 0.4203 - val_accuracy: 0.8354 - val_precision: 0.8542 - val_recall: 0.8723\n",
            "Epoch 141/200\n",
            "23/23 [==============================] - 3s 133ms/step - loss: 0.1367 - accuracy: 0.9560 - precision: 0.9630 - recall: 0.9630 - val_loss: 0.4652 - val_accuracy: 0.8354 - val_precision: 0.8542 - val_recall: 0.8723\n",
            "Epoch 142/200\n",
            "23/23 [==============================] - 3s 134ms/step - loss: 0.1148 - accuracy: 0.9560 - precision: 0.9630 - recall: 0.9630 - val_loss: 0.3862 - val_accuracy: 0.8354 - val_precision: 0.8269 - val_recall: 0.9149\n",
            "Epoch 143/200\n",
            "23/23 [==============================] - 3s 135ms/step - loss: 0.0961 - accuracy: 0.9670 - precision: 0.9722 - recall: 0.9722 - val_loss: 0.4263 - val_accuracy: 0.8354 - val_precision: 0.8148 - val_recall: 0.9362\n",
            "Epoch 144/200\n",
            "23/23 [==============================] - 3s 133ms/step - loss: 0.1275 - accuracy: 0.9615 - precision: 0.9633 - recall: 0.9722 - val_loss: 0.4256 - val_accuracy: 0.8734 - val_precision: 0.9302 - val_recall: 0.8511\n",
            "Epoch 145/200\n",
            "23/23 [==============================] - 3s 134ms/step - loss: 0.1101 - accuracy: 0.9670 - precision: 0.9636 - recall: 0.9815 - val_loss: 0.3961 - val_accuracy: 0.8101 - val_precision: 0.8636 - val_recall: 0.8085\n",
            "Epoch 146/200\n",
            "23/23 [==============================] - 3s 134ms/step - loss: 0.1136 - accuracy: 0.9615 - precision: 0.9633 - recall: 0.9722 - val_loss: 0.4449 - val_accuracy: 0.8481 - val_precision: 0.8723 - val_recall: 0.8723\n",
            "Epoch 147/200\n",
            "23/23 [==============================] - 3s 138ms/step - loss: 0.1400 - accuracy: 0.9451 - precision: 0.9712 - recall: 0.9352 - val_loss: 0.4575 - val_accuracy: 0.8228 - val_precision: 0.8113 - val_recall: 0.9149\n",
            "Epoch 148/200\n",
            "23/23 [==============================] - 3s 140ms/step - loss: 0.0805 - accuracy: 0.9725 - precision: 0.9725 - recall: 0.9815 - val_loss: 0.3163 - val_accuracy: 0.8608 - val_precision: 0.9091 - val_recall: 0.8511\n",
            "Epoch 149/200\n",
            "23/23 [==============================] - 3s 135ms/step - loss: 0.1270 - accuracy: 0.9451 - precision: 0.9537 - recall: 0.9537 - val_loss: 0.5059 - val_accuracy: 0.8354 - val_precision: 0.8400 - val_recall: 0.8936\n",
            "Epoch 150/200\n",
            "23/23 [==============================] - 3s 134ms/step - loss: 0.1383 - accuracy: 0.9341 - precision: 0.9286 - recall: 0.9630 - val_loss: 0.4315 - val_accuracy: 0.8228 - val_precision: 0.9459 - val_recall: 0.7447\n",
            "Epoch 151/200\n",
            "23/23 [==============================] - 3s 133ms/step - loss: 0.1230 - accuracy: 0.9505 - precision: 0.9806 - recall: 0.9352 - val_loss: 0.4754 - val_accuracy: 0.8481 - val_precision: 0.8431 - val_recall: 0.9149\n",
            "Epoch 152/200\n",
            "23/23 [==============================] - 3s 134ms/step - loss: 0.1453 - accuracy: 0.9396 - precision: 0.9533 - recall: 0.9444 - val_loss: 0.2236 - val_accuracy: 0.8861 - val_precision: 0.8958 - val_recall: 0.9149\n",
            "Epoch 153/200\n",
            "23/23 [==============================] - 3s 134ms/step - loss: 0.0890 - accuracy: 0.9780 - precision: 0.9815 - recall: 0.9815 - val_loss: 0.3200 - val_accuracy: 0.8987 - val_precision: 0.9149 - val_recall: 0.9149\n",
            "Epoch 154/200\n",
            "23/23 [==============================] - 3s 137ms/step - loss: 0.1186 - accuracy: 0.9451 - precision: 0.9623 - recall: 0.9444 - val_loss: 0.6030 - val_accuracy: 0.7975 - val_precision: 0.7818 - val_recall: 0.9149\n",
            "Epoch 155/200\n",
            "23/23 [==============================] - 3s 135ms/step - loss: 0.1495 - accuracy: 0.9451 - precision: 0.9623 - recall: 0.9444 - val_loss: 0.5498 - val_accuracy: 0.8101 - val_precision: 0.7963 - val_recall: 0.9149\n",
            "Epoch 156/200\n",
            "23/23 [==============================] - 3s 134ms/step - loss: 0.0926 - accuracy: 0.9670 - precision: 0.9722 - recall: 0.9722 - val_loss: 0.5614 - val_accuracy: 0.7848 - val_precision: 0.8750 - val_recall: 0.7447\n",
            "Epoch 157/200\n",
            "23/23 [==============================] - 3s 135ms/step - loss: 0.1586 - accuracy: 0.9396 - precision: 0.9450 - recall: 0.9537 - val_loss: 0.5369 - val_accuracy: 0.7848 - val_precision: 0.8125 - val_recall: 0.8298\n",
            "Epoch 158/200\n",
            "23/23 [==============================] - 3s 134ms/step - loss: 0.1086 - accuracy: 0.9451 - precision: 0.9537 - recall: 0.9537 - val_loss: 0.4493 - val_accuracy: 0.8101 - val_precision: 0.8478 - val_recall: 0.8298\n",
            "Epoch 159/200\n",
            "23/23 [==============================] - 3s 134ms/step - loss: 0.1015 - accuracy: 0.9725 - precision: 0.9813 - recall: 0.9722 - val_loss: 0.4428 - val_accuracy: 0.8608 - val_precision: 0.8333 - val_recall: 0.9574\n",
            "Epoch 160/200\n",
            "23/23 [==============================] - 3s 134ms/step - loss: 0.0911 - accuracy: 0.9615 - precision: 0.9810 - recall: 0.9537 - val_loss: 0.5782 - val_accuracy: 0.8101 - val_precision: 0.8478 - val_recall: 0.8298\n",
            "Epoch 161/200\n",
            "23/23 [==============================] - 3s 134ms/step - loss: 0.1148 - accuracy: 0.9670 - precision: 0.9636 - recall: 0.9815 - val_loss: 0.4364 - val_accuracy: 0.7975 - val_precision: 0.7818 - val_recall: 0.9149\n",
            "Epoch 162/200\n",
            "23/23 [==============================] - 3s 135ms/step - loss: 0.0898 - accuracy: 0.9670 - precision: 0.9636 - recall: 0.9815 - val_loss: 0.3755 - val_accuracy: 0.8481 - val_precision: 0.8723 - val_recall: 0.8723\n",
            "Epoch 163/200\n",
            "23/23 [==============================] - 3s 134ms/step - loss: 0.1288 - accuracy: 0.9615 - precision: 0.9633 - recall: 0.9722 - val_loss: 0.4521 - val_accuracy: 0.8354 - val_precision: 0.8864 - val_recall: 0.8298\n",
            "Epoch 164/200\n",
            "23/23 [==============================] - 3s 135ms/step - loss: 0.1024 - accuracy: 0.9505 - precision: 0.9541 - recall: 0.9630 - val_loss: 0.3815 - val_accuracy: 0.8354 - val_precision: 0.8542 - val_recall: 0.8723\n",
            "Epoch 165/200\n",
            "23/23 [==============================] - 3s 134ms/step - loss: 0.0833 - accuracy: 0.9615 - precision: 0.9720 - recall: 0.9630 - val_loss: 0.5836 - val_accuracy: 0.7848 - val_precision: 0.8125 - val_recall: 0.8298\n",
            "Epoch 166/200\n",
            "23/23 [==============================] - 3s 137ms/step - loss: 0.0613 - accuracy: 0.9670 - precision: 0.9811 - recall: 0.9630 - val_loss: 0.5705 - val_accuracy: 0.7595 - val_precision: 0.7500 - val_recall: 0.8936\n",
            "Epoch 167/200\n",
            "23/23 [==============================] - 3s 140ms/step - loss: 0.1699 - accuracy: 0.9231 - precision: 0.9519 - recall: 0.9167 - val_loss: 0.5023 - val_accuracy: 0.8354 - val_precision: 0.8148 - val_recall: 0.9362\n",
            "Epoch 168/200\n",
            "23/23 [==============================] - 3s 134ms/step - loss: 0.1448 - accuracy: 0.9396 - precision: 0.9533 - recall: 0.9444 - val_loss: 0.6237 - val_accuracy: 0.8228 - val_precision: 0.8511 - val_recall: 0.8511\n",
            "Epoch 169/200\n",
            "23/23 [==============================] - 3s 136ms/step - loss: 0.1064 - accuracy: 0.9725 - precision: 0.9640 - recall: 0.9907 - val_loss: 0.4895 - val_accuracy: 0.8608 - val_precision: 0.9500 - val_recall: 0.8085\n",
            "Epoch 170/200\n",
            "23/23 [==============================] - 3s 135ms/step - loss: 0.0601 - accuracy: 0.9835 - precision: 0.9907 - recall: 0.9815 - val_loss: 0.5311 - val_accuracy: 0.8101 - val_precision: 0.7963 - val_recall: 0.9149\n",
            "Epoch 171/200\n",
            "23/23 [==============================] - 3s 133ms/step - loss: 0.0582 - accuracy: 0.9835 - precision: 0.9817 - recall: 0.9907 - val_loss: 0.2601 - val_accuracy: 0.8734 - val_precision: 0.8491 - val_recall: 0.9574\n",
            "Epoch 172/200\n",
            "23/23 [==============================] - 3s 133ms/step - loss: 0.1353 - accuracy: 0.9396 - precision: 0.9450 - recall: 0.9537 - val_loss: 0.5524 - val_accuracy: 0.8354 - val_precision: 0.8696 - val_recall: 0.8511\n",
            "Epoch 173/200\n",
            "23/23 [==============================] - 3s 133ms/step - loss: 0.1768 - accuracy: 0.9451 - precision: 0.9455 - recall: 0.9630 - val_loss: 0.3812 - val_accuracy: 0.8481 - val_precision: 0.8571 - val_recall: 0.8936\n",
            "Epoch 174/200\n",
            "23/23 [==============================] - 3s 135ms/step - loss: 0.0565 - accuracy: 0.9890 - precision: 0.9907 - recall: 0.9907 - val_loss: 0.3266 - val_accuracy: 0.8987 - val_precision: 0.9149 - val_recall: 0.9149\n",
            "Epoch 175/200\n",
            "23/23 [==============================] - 3s 132ms/step - loss: 0.1567 - accuracy: 0.9505 - precision: 0.9541 - recall: 0.9630 - val_loss: 0.4043 - val_accuracy: 0.8734 - val_precision: 0.9744 - val_recall: 0.8085\n",
            "Epoch 176/200\n",
            "23/23 [==============================] - 3s 133ms/step - loss: 0.1395 - accuracy: 0.9560 - precision: 0.9717 - recall: 0.9537 - val_loss: 0.4703 - val_accuracy: 0.8354 - val_precision: 0.8269 - val_recall: 0.9149\n",
            "Epoch 177/200\n",
            "23/23 [==============================] - 3s 135ms/step - loss: 0.0704 - accuracy: 0.9780 - precision: 0.9727 - recall: 0.9907 - val_loss: 0.4942 - val_accuracy: 0.8101 - val_precision: 0.8200 - val_recall: 0.8723\n",
            "Epoch 178/200\n",
            "23/23 [==============================] - 3s 135ms/step - loss: 0.0746 - accuracy: 0.9780 - precision: 0.9906 - recall: 0.9722 - val_loss: 0.5994 - val_accuracy: 0.8228 - val_precision: 0.8113 - val_recall: 0.9149\n",
            "Epoch 179/200\n",
            "23/23 [==============================] - 3s 133ms/step - loss: 0.0665 - accuracy: 0.9615 - precision: 0.9633 - recall: 0.9722 - val_loss: 0.3854 - val_accuracy: 0.8861 - val_precision: 0.9318 - val_recall: 0.8723\n",
            "Epoch 180/200\n",
            "23/23 [==============================] - 3s 134ms/step - loss: 0.0838 - accuracy: 0.9670 - precision: 0.9636 - recall: 0.9815 - val_loss: 0.3906 - val_accuracy: 0.8481 - val_precision: 0.8889 - val_recall: 0.8511\n",
            "Epoch 181/200\n",
            "23/23 [==============================] - 3s 135ms/step - loss: 0.1168 - accuracy: 0.9615 - precision: 0.9633 - recall: 0.9722 - val_loss: 0.5425 - val_accuracy: 0.8608 - val_precision: 0.8750 - val_recall: 0.8936\n",
            "Epoch 182/200\n",
            "23/23 [==============================] - 3s 133ms/step - loss: 0.0929 - accuracy: 0.9560 - precision: 0.9630 - recall: 0.9630 - val_loss: 0.5066 - val_accuracy: 0.8608 - val_precision: 0.8462 - val_recall: 0.9362\n",
            "Epoch 183/200\n",
            "23/23 [==============================] - 3s 132ms/step - loss: 0.0973 - accuracy: 0.9725 - precision: 0.9813 - recall: 0.9722 - val_loss: 0.3675 - val_accuracy: 0.8861 - val_precision: 0.9318 - val_recall: 0.8723\n",
            "Epoch 184/200\n",
            "23/23 [==============================] - 3s 138ms/step - loss: 0.0705 - accuracy: 0.9725 - precision: 0.9640 - recall: 0.9907 - val_loss: 0.5371 - val_accuracy: 0.8101 - val_precision: 0.8200 - val_recall: 0.8723\n",
            "Epoch 185/200\n",
            "23/23 [==============================] - 3s 139ms/step - loss: 0.0797 - accuracy: 0.9670 - precision: 0.9722 - recall: 0.9722 - val_loss: 0.4855 - val_accuracy: 0.8734 - val_precision: 0.9111 - val_recall: 0.8723\n",
            "Epoch 186/200\n",
            "23/23 [==============================] - 3s 134ms/step - loss: 0.0541 - accuracy: 0.9780 - precision: 0.9906 - recall: 0.9722 - val_loss: 0.3134 - val_accuracy: 0.8734 - val_precision: 0.9302 - val_recall: 0.8511\n",
            "Epoch 187/200\n",
            "23/23 [==============================] - 3s 134ms/step - loss: 0.1368 - accuracy: 0.9396 - precision: 0.9369 - recall: 0.9630 - val_loss: 0.4608 - val_accuracy: 0.8608 - val_precision: 0.9500 - val_recall: 0.8085\n",
            "Epoch 188/200\n",
            "23/23 [==============================] - 3s 134ms/step - loss: 0.0977 - accuracy: 0.9725 - precision: 0.9725 - recall: 0.9815 - val_loss: 0.5015 - val_accuracy: 0.8481 - val_precision: 0.8571 - val_recall: 0.8936\n",
            "Epoch 189/200\n",
            "23/23 [==============================] - 3s 132ms/step - loss: 0.0861 - accuracy: 0.9725 - precision: 0.9725 - recall: 0.9815 - val_loss: 0.3663 - val_accuracy: 0.8734 - val_precision: 0.9111 - val_recall: 0.8723\n",
            "Epoch 190/200\n",
            "23/23 [==============================] - 3s 131ms/step - loss: 0.0687 - accuracy: 0.9670 - precision: 0.9811 - recall: 0.9630 - val_loss: 0.5133 - val_accuracy: 0.8228 - val_precision: 0.8000 - val_recall: 0.9362\n",
            "Epoch 191/200\n",
            "23/23 [==============================] - 3s 133ms/step - loss: 0.0788 - accuracy: 0.9615 - precision: 0.9720 - recall: 0.9630 - val_loss: 0.5310 - val_accuracy: 0.8228 - val_precision: 0.8837 - val_recall: 0.8085\n",
            "Epoch 192/200\n",
            "23/23 [==============================] - 3s 133ms/step - loss: 0.0680 - accuracy: 0.9780 - precision: 0.9727 - recall: 0.9907 - val_loss: 0.5830 - val_accuracy: 0.7975 - val_precision: 0.8298 - val_recall: 0.8298\n",
            "Epoch 193/200\n",
            "23/23 [==============================] - 3s 135ms/step - loss: 0.0826 - accuracy: 0.9670 - precision: 0.9636 - recall: 0.9815 - val_loss: 0.6219 - val_accuracy: 0.8354 - val_precision: 0.9722 - val_recall: 0.7447\n",
            "Epoch 194/200\n",
            "23/23 [==============================] - 3s 133ms/step - loss: 0.1403 - accuracy: 0.9231 - precision: 0.9608 - recall: 0.9074 - val_loss: 0.6219 - val_accuracy: 0.7975 - val_precision: 0.7627 - val_recall: 0.9574\n",
            "Epoch 195/200\n",
            "23/23 [==============================] - 3s 131ms/step - loss: 0.0850 - accuracy: 0.9780 - precision: 0.9727 - recall: 0.9907 - val_loss: 0.4726 - val_accuracy: 0.8481 - val_precision: 0.9487 - val_recall: 0.7872\n",
            "Epoch 196/200\n",
            "23/23 [==============================] - 3s 131ms/step - loss: 0.0910 - accuracy: 0.9505 - precision: 0.9541 - recall: 0.9630 - val_loss: 0.5594 - val_accuracy: 0.7848 - val_precision: 0.8000 - val_recall: 0.8511\n",
            "Epoch 197/200\n",
            "23/23 [==============================] - 3s 132ms/step - loss: 0.0435 - accuracy: 0.9945 - precision: 1.0000 - recall: 0.9907 - val_loss: 0.3974 - val_accuracy: 0.8608 - val_precision: 0.8913 - val_recall: 0.8723\n"
          ],
          "name": "stdout"
        }
      ]
    },
    {
      "cell_type": "code",
      "metadata": {
        "id": "HwJgvbdIXLxI",
        "colab_type": "code",
        "colab": {}
      },
      "source": [
        "model.save(models_directory+'HistEq_Morphological_Erode_Dilate_model.h5')"
      ],
      "execution_count": 18,
      "outputs": []
    },
    {
      "cell_type": "markdown",
      "metadata": {
        "id": "rR7b9rY-q2r3",
        "colab_type": "text"
      },
      "source": [
        ""
      ]
    },
    {
      "cell_type": "code",
      "metadata": {
        "id": "OGL6hW_Ll8ac",
        "colab_type": "code",
        "colab": {}
      },
      "source": [
        "epochs=200"
      ],
      "execution_count": 19,
      "outputs": []
    },
    {
      "cell_type": "code",
      "metadata": {
        "id": "nkc9WrDCG7VY",
        "colab_type": "code",
        "colab": {
          "base_uri": "https://localhost:8080/",
          "height": 826
        },
        "outputId": "9c4cb679-d845-4b5e-dc73-1968cfe87e3f"
      },
      "source": [
        "import matplotlib.image  as mpimg\n",
        "import matplotlib.pyplot as plt\n",
        "\n",
        "#-----------------------------------------------------------\n",
        "# Retrieve a list of list results on training and test data\n",
        "# sets for each training epoch\n",
        "#-----------------------------------------------------------\n",
        "acc=history.history['accuracy']\n",
        "val_acc=history.history['val_accuracy']\n",
        "precision=history.history['precision']\n",
        "val_precision=history.history['val_precision']\n",
        "recall=history.history['recall']\n",
        "val_recall=history.history['val_recall']\n",
        "\n",
        "epochs=range(len(acc)) # Get number of epochs\n",
        "\n",
        "#------------------------------------------------\n",
        "# Plot training and validation accuracy per epoch\n",
        "#------------------------------------------------\n",
        "plt.plot(epochs, acc, 'r', \"Training Accuracy\")\n",
        "plt.plot(epochs, val_acc, 'b', \"Validation Accuracy\")\n",
        "plt.title('Training and validation accuracy')\n",
        "plt.figure()\n",
        "\n",
        "#------------------------------------------------\n",
        "# Plot training and validation Precision per epoch\n",
        "#------------------------------------------------\n",
        "plt.plot(epochs, precision, 'r', \"Training Precision\")\n",
        "plt.plot(epochs, val_precision, 'b', \"Validation Precision\")\n",
        "plt.title('Training and validation Precision')\n",
        "plt.figure()\n",
        "\n",
        "plt.plot(epochs, recall, 'r', \"Training Recall\")\n",
        "plt.plot(epochs, val_recall, 'b', \"Validation Recall\")\n",
        "plt.title('Training and validation Recall')\n"
      ],
      "execution_count": 20,
      "outputs": [
        {
          "output_type": "execute_result",
          "data": {
            "text/plain": [
              "Text(0.5, 1.0, 'Training and validation Recall')"
            ]
          },
          "metadata": {
            "tags": []
          },
          "execution_count": 20
        },
        {
          "output_type": "display_data",
          "data": {
            "image/png": "[encoded data removed]",
            "text/plain": [
              "<Figure size 432x288 with 1 Axes>"
            ]
          },
          "metadata": {
            "tags": [],
            "needs_background": "light"
          }
        },
        {
          "output_type": "display_data",
          "data": {
            "image/png": "[encoded data removed]",
            "text/plain": [
              "<Figure size 432x288 with 1 Axes>"
            ]
          },
          "metadata": {
            "tags": [],
            "needs_background": "light"
          }
        },
        {
          "output_type": "display_data",
          "data": {
            "image/png": "[encoded data removed]",
            "text/plain": [
              "<Figure size 432x288 with 1 Axes>"
            ]
          },
          "metadata": {
            "tags": [],
            "needs_background": "light"
          }
        }
      ]
    },
    {
      "cell_type": "code",
      "metadata": {
        "id": "weBpRLfAl69Z",
        "colab_type": "code",
        "colab": {}
      },
      "source": [
        ""
      ],
      "execution_count": null,
      "outputs": []
    },
    {
      "cell_type": "code",
      "metadata": {
        "id": "A86zE99Uai-P",
        "colab_type": "code",
        "colab": {}
      },
      "source": [
        ""
      ],
      "execution_count": null,
      "outputs": []
    }
  ]
}