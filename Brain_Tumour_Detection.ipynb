{
  "nbformat": 4,
  "nbformat_minor": 0,
  "metadata": {
    "colab": {
      "name": "Brain_Tumour_Detection.ipynb",
      "provenance": [],
      "collapsed_sections": [],
      "toc_visible": true,
      "include_colab_link": true
    },
    "kernelspec": {
      "name": "python3",
      "display_name": "Python 3"
    },
    "accelerator": "GPU"
  },
  "cells": [
    {
      "cell_type": "markdown",
      "metadata": {
        "id": "view-in-github",
        "colab_type": "text"
      },
      "source": [
        "<a href=\"https://colab.research.google.com/github/AryanMethil/Brain_Tumor_Detection/blob/master/Brain_Tumour_Detection.ipynb\" target=\"_parent\"><img src=\"https://colab.research.google.com/assets/colab-badge.svg\" alt=\"Open In Colab\"/></a>"
      ]
    },
    {
      "cell_type": "code",
      "metadata": {
        "id": "Rx6Li8Xl4Dp5",
        "outputId": "7d243dde-adfe-4633-fa11-62a0347102a2",
        "colab": {
          "base_uri": "https://localhost:8080/",
          "height": 34
        }
      },
      "source": [
        "from google.colab import drive\n",
        "drive.mount('/content/drive')\n"
      ],
      "execution_count": 1,
      "outputs": [
        {
          "output_type": "stream",
          "text": [
            "Mounted at /content/drive\n"
          ],
          "name": "stdout"
        }
      ]
    },
    {
      "cell_type": "code",
      "metadata": {
        "id": "KiEH_7xLicrp",
        "outputId": "26bb6a12-0c78-4c8a-c41a-53b4d6cc399b",
        "colab": {
          "base_uri": "https://localhost:8080/",
          "height": 34
        }
      },
      "source": [
        "%cd '/content/drive/My Drive/Brain_Tumor_Classification/src'"
      ],
      "execution_count": 2,
      "outputs": [
        {
          "output_type": "stream",
          "text": [
            "/content/drive/My Drive/Brain_Tumor_Classification/src\n"
          ],
          "name": "stdout"
        }
      ]
    },
    {
      "cell_type": "code",
      "metadata": {
        "id": "Kw4svy8RinXy",
        "outputId": "8670ba10-b4f9-46c0-dce1-32e0aadc9aff",
        "colab": {
          "base_uri": "https://localhost:8080/",
          "height": 34
        }
      },
      "source": [
        "!pwd"
      ],
      "execution_count": 3,
      "outputs": [
        {
          "output_type": "stream",
          "text": [
            "/content/drive/My Drive/Brain_Tumor_Classification/src\n"
          ],
          "name": "stdout"
        }
      ]
    },
    {
      "cell_type": "code",
      "metadata": {
        "id": "A9KilanhhY0v"
      },
      "source": [
        "import os\n",
        "import shutil\n",
        "from cv2 import *\n",
        "from google.colab.patches import cv2_imshow\n",
        "from constants import *\n",
        "import numpy as np"
      ],
      "execution_count": 4,
      "outputs": []
    },
    {
      "cell_type": "code",
      "metadata": {
        "id": "W-eCsnH9lygK",
        "outputId": "a8ddcedc-be2f-4c98-eb89-ba76ca52a22a",
        "colab": {
          "base_uri": "https://localhost:8080/",
          "height": 34
        }
      },
      "source": [
        "%cd '/content/'\n"
      ],
      "execution_count": 5,
      "outputs": [
        {
          "output_type": "stream",
          "text": [
            "/content\n"
          ],
          "name": "stdout"
        }
      ]
    },
    {
      "cell_type": "markdown",
      "metadata": {
        "id": "DgPiz0Cjba_u"
      },
      "source": [
        "# Image Preprocessing"
      ]
    },
    {
      "cell_type": "code",
      "metadata": {
        "id": "MWrzktW9YuhK"
      },
      "source": [
        "os.makedirs(image_preprocessed_yes,exist_ok=True)\n",
        "for _,_,files in os.walk(yes):\n",
        "  for f in files:\n",
        "    img_path=os.path.join(yes,f)\n",
        "    norm=imread(img_path)\n",
        "    norm=cvtColor(norm,COLOR_BGR2GRAY)\n",
        "\n",
        "    th1=equalizeHist(norm)\n",
        "   \n",
        "    th1=erode(th1,np.ones((4,4),np.uint8),iterations=1)\n",
        "    th1=dilate(th1,np.ones((4,4),np.uint8),iterations=1)\n",
        "\n",
        "    imwrite(image_preprocessed_yes+f,th1)\n",
        "\n",
        "os.makedirs(image_preprocessed_no,exist_ok=True)\n",
        "for _,_,files in os.walk(no):\n",
        "  for f in files:\n",
        "    img_path=os.path.join(no,f)\n",
        "    norm=imread(img_path)\n",
        "    norm=cvtColor(norm,COLOR_BGR2GRAY)\n",
        "\n",
        "    th1=equalizeHist(norm)\n",
        "   \n",
        "    th1=erode(th1,np.ones((4,4),np.uint8),iterations=1)\n",
        "    th1=dilate(th1,np.ones((4,4),np.uint8),iterations=1)\n",
        "    \n",
        "    imwrite(image_preprocessed_no+f,th1)"
      ],
      "execution_count": null,
      "outputs": []
    },
    {
      "cell_type": "code",
      "metadata": {
        "id": "RuEg5FXqu9Iv"
      },
      "source": [
        "os.makedirs(image_generator_test_yes,exist_ok=True)\n",
        "for _,_,files in os.walk(test_yes):\n",
        "  for f in files:\n",
        "    img_path=os.path.join(test_yes,f)\n",
        "    norm=imread(img_path)\n",
        "    norm=cvtColor(norm,COLOR_BGR2GRAY)\n",
        "\n",
        "    th1=equalizeHist(norm)\n",
        "   \n",
        "    th1=erode(th1,np.ones((4,4),np.uint8),iterations=1)\n",
        "    th1=dilate(th1,np.ones((4,4),np.uint8),iterations=1)\n",
        "\n",
        "    imwrite(image_generator_test_yes+r'/'+f,th1)\n",
        "\n",
        "os.makedirs(image_generator_test_no,exist_ok=True)\n",
        "for _,_,files in os.walk(test_no):\n",
        "  for f in files:\n",
        "    img_path=os.path.join(test_no,f)\n",
        "    norm=imread(img_path)\n",
        "    norm=cvtColor(norm,COLOR_BGR2GRAY)\n",
        "\n",
        "    th1=equalizeHist(norm)\n",
        "   \n",
        "    th1=erode(th1,np.ones((4,4),np.uint8),iterations=1)\n",
        "    th1=dilate(th1,np.ones((4,4),np.uint8),iterations=1)\n",
        "    \n",
        "    imwrite(image_generator_test_no+r'/'+f,th1)"
      ],
      "execution_count": null,
      "outputs": []
    },
    {
      "cell_type": "code",
      "metadata": {
        "id": "AnMe_3gA4llW"
      },
      "source": [
        "brain_tumour_no= image_preprocessed_no\n",
        "brain_tumour_yes=image_preprocessed_yes"
      ],
      "execution_count": null,
      "outputs": []
    },
    {
      "cell_type": "code",
      "metadata": {
        "id": "4GCpGZKK5j5v"
      },
      "source": [
        "os.makedirs(image_generator_train_yes,exist_ok=True)\n",
        "os.makedirs(image_generator_train_no,exist_ok=True)\n",
        "os.makedirs(image_generator_validation_yes,exist_ok=True)\n",
        "os.makedirs(image_generator_validation_no,exist_ok=True)"
      ],
      "execution_count": null,
      "outputs": []
    },
    {
      "cell_type": "code",
      "metadata": {
        "id": "gHo61zzu-Ngb"
      },
      "source": [
        "for dir,subdir,files in os.walk(brain_tumour_no):\n",
        "  for f in files[:int(len(files)*0.7)]:\n",
        "    shutil.copy(os.path.join(brain_tumour_no,f),image_generator_train_no)\n",
        "  for f in files[int(len(files)*0.7):]:\n",
        "    shutil.copy(os.path.join(brain_tumour_no,f),image_generator_validation_no)\n"
      ],
      "execution_count": null,
      "outputs": []
    },
    {
      "cell_type": "code",
      "metadata": {
        "id": "zCsZh6pM_nFu"
      },
      "source": [
        "for dir,subdir,files in os.walk(brain_tumour_yes):\n",
        "  for f in files[:int(len(files)*0.7)]:\n",
        "    shutil.copy(os.path.join(brain_tumour_yes,f),image_generator_train_yes)\n",
        "  for f in files[int(len(files)*0.7):]:\n",
        "    shutil.copy(os.path.join(brain_tumour_yes,f),image_generator_validation_yes)"
      ],
      "execution_count": null,
      "outputs": []
    },
    {
      "cell_type": "code",
      "metadata": {
        "id": "bXe464jivCvh",
        "outputId": "b2acdb90-4f97-4299-d413-7abbffd1be6a",
        "colab": {
          "base_uri": "https://localhost:8080/",
          "height": 51
        }
      },
      "source": [
        "for dir,subdir,files in os.walk(image_generator_train_yes):\n",
        "  print(len(files))\n",
        "for dir,subdir,files in os.walk(image_generator_train_no):\n",
        "  print(len(files))\n"
      ],
      "execution_count": null,
      "outputs": [
        {
          "output_type": "stream",
          "text": [
            "1547\n",
            "420\n"
          ],
          "name": "stdout"
        }
      ]
    },
    {
      "cell_type": "markdown",
      "metadata": {
        "id": "K6z7S9j0bR5o"
      },
      "source": [
        "# Model"
      ]
    },
    {
      "cell_type": "code",
      "metadata": {
        "id": "GH0TT4mXAeWX"
      },
      "source": [
        "import tensorflow as tf"
      ],
      "execution_count": 6,
      "outputs": []
    },
    {
      "cell_type": "code",
      "metadata": {
        "id": "uwb-mgByBlY6",
        "outputId": "0297a3e2-62c2-4aa1-fdb4-c60551e32db6",
        "colab": {
          "base_uri": "https://localhost:8080/",
          "height": 377
        }
      },
      "source": [
        "\n",
        "base_model=tf.keras.applications.ResNet101V2(include_top=False,weights='imagenet',input_shape=(150,150,3))\n",
        "base_model.trainable=False\n",
        "model=tf.keras.Sequential()\n",
        "model.add(base_model)\n",
        "model.add(tf.keras.layers.Flatten())\n",
        "model.add(tf.keras.layers.Dense(256,activation='relu'))\n",
        "model.add(tf.keras.layers.Dropout(0.2))\n",
        "model.add(tf.keras.layers.Dense(1,activation='sigmoid'))\n",
        "model.summary()"
      ],
      "execution_count": 7,
      "outputs": [
        {
          "output_type": "stream",
          "text": [
            "Downloading data from https://storage.googleapis.com/tensorflow/keras-applications/resnet/resnet101v2_weights_tf_dim_ordering_tf_kernels_notop.h5\n",
            "171319296/171317808 [==============================] - 7s 0us/step\n",
            "Model: \"sequential\"\n",
            "_________________________________________________________________\n",
            "Layer (type)                 Output Shape              Param #   \n",
            "=================================================================\n",
            "resnet101v2 (Functional)     (None, 5, 5, 2048)        42626560  \n",
            "_________________________________________________________________\n",
            "flatten (Flatten)            (None, 51200)             0         \n",
            "_________________________________________________________________\n",
            "dense (Dense)                (None, 256)               13107456  \n",
            "_________________________________________________________________\n",
            "dropout (Dropout)            (None, 256)               0         \n",
            "_________________________________________________________________\n",
            "dense_1 (Dense)              (None, 1)                 257       \n",
            "=================================================================\n",
            "Total params: 55,734,273\n",
            "Trainable params: 13,107,713\n",
            "Non-trainable params: 42,626,560\n",
            "_________________________________________________________________\n"
          ],
          "name": "stdout"
        }
      ]
    },
    {
      "cell_type": "code",
      "metadata": {
        "id": "rOOJYQTyDPZ4"
      },
      "source": [
        "model.compile(loss='binary_crossentropy',\n",
        "              optimizer=tf.keras.optimizers.Adam(learning_rate=0.0002),\n",
        "              metrics=['accuracy',tf.keras.metrics.Precision(name='precision'),tf.keras.metrics.Recall(name='recall')])"
      ],
      "execution_count": 8,
      "outputs": []
    },
    {
      "cell_type": "code",
      "metadata": {
        "id": "xidHZ3J5Dt21"
      },
      "source": [
        "train_data_generator=tf.keras.preprocessing.image.ImageDataGenerator(rescale=1/255,\n",
        "                                  rotation_range=30,\n",
        "                                  height_shift_range=0.2,\n",
        "                                  width_shift_range=0.2,\n",
        "                                  shear_range=0.6,\n",
        "                                  zoom_range=0.2,\n",
        "                                  horizontal_flip=True,\n",
        "                                  fill_mode='nearest')\n",
        "validation_data_generator=tf.keras.preprocessing.image.ImageDataGenerator(rescale=1/255)\n",
        "\n",
        "test_data_generator=tf.keras.preprocessing.image.ImageDataGenerator(rescale=1/255)"
      ],
      "execution_count": 9,
      "outputs": []
    },
    {
      "cell_type": "code",
      "metadata": {
        "id": "YCvIq7YGEZpW",
        "outputId": "3f67e681-8c93-4167-fce6-71c44ec228be",
        "colab": {
          "base_uri": "https://localhost:8080/",
          "height": 68
        }
      },
      "source": [
        "train_gen=train_data_generator.flow_from_directory(image_generator_train,\n",
        "                                                   target_size=(150,150),\n",
        "                                                   class_mode='binary',\n",
        "                                                   batch_size=8,\n",
        "                                                   shuffle=True)\n",
        "validation_gen=train_data_generator.flow_from_directory(image_generator_validation,\n",
        "                                                   target_size=(150,150),\n",
        "                                                   class_mode='binary',\n",
        "                                                   batch_size=8,\n",
        "                                                   shuffle=True)\n",
        "test_gen=test_data_generator.flow_from_directory(image_generator_test,\n",
        "                                                   target_size=(150,150),\n",
        "                                                   class_mode='binary',\n",
        "                                                   batch_size=8,\n",
        "                                                   shuffle=True)"
      ],
      "execution_count": 10,
      "outputs": [
        {
          "output_type": "stream",
          "text": [
            "Found 1967 images belonging to 2 classes.\n",
            "Found 1050 images belonging to 2 classes.\n",
            "Found 20 images belonging to 2 classes.\n"
          ],
          "name": "stdout"
        }
      ]
    },
    {
      "cell_type": "code",
      "metadata": {
        "id": "aQpDVApsFILx"
      },
      "source": [
        "class MyCallback(tf.keras.callbacks.Callback):\n",
        "  def on_epoch_end(self,epoch,logs={}):\n",
        "    if(logs['accuracy']>0.99):\n",
        "      self.model.stop_training=True\n",
        "callbacks=MyCallback()"
      ],
      "execution_count": 11,
      "outputs": []
    },
    {
      "cell_type": "code",
      "metadata": {
        "id": "j-xX6HF9GdSO",
        "outputId": "f09a0505-f36f-4280-b7e4-1b169aa6b18f",
        "colab": {
          "base_uri": "https://localhost:8080/",
          "height": 717
        }
      },
      "source": [
        "history=model.fit(train_gen,validation_data=validation_gen,epochs=20,callbacks=callbacks)"
      ],
      "execution_count": 12,
      "outputs": [
        {
          "output_type": "stream",
          "text": [
            "Epoch 1/20\n",
            "246/246 [==============================] - 1982s 8s/step - loss: 0.4963 - accuracy: 0.9131 - precision: 0.9427 - recall: 0.9470 - val_loss: 0.0548 - val_accuracy: 0.9810 - val_precision: 0.9807 - val_recall: 0.9965\n",
            "Epoch 2/20\n",
            "246/246 [==============================] - 26s 106ms/step - loss: 0.1626 - accuracy: 0.9446 - precision: 0.9693 - recall: 0.9599 - val_loss: 0.0673 - val_accuracy: 0.9810 - val_precision: 0.9786 - val_recall: 0.9988\n",
            "Epoch 3/20\n",
            "246/246 [==============================] - 26s 106ms/step - loss: 0.1434 - accuracy: 0.9476 - precision: 0.9731 - recall: 0.9599 - val_loss: 0.0551 - val_accuracy: 0.9790 - val_precision: 0.9753 - val_recall: 1.0000\n",
            "Epoch 4/20\n",
            "246/246 [==============================] - 26s 105ms/step - loss: 0.1076 - accuracy: 0.9563 - precision: 0.9765 - recall: 0.9677 - val_loss: 0.0366 - val_accuracy: 0.9857 - val_precision: 0.9841 - val_recall: 0.9988\n",
            "Epoch 5/20\n",
            "246/246 [==============================] - 26s 105ms/step - loss: 0.1285 - accuracy: 0.9517 - precision: 0.9733 - recall: 0.9651 - val_loss: 0.0534 - val_accuracy: 0.9867 - val_precision: 0.9852 - val_recall: 0.9988\n",
            "Epoch 6/20\n",
            "246/246 [==============================] - 26s 104ms/step - loss: 0.1001 - accuracy: 0.9603 - precision: 0.9810 - recall: 0.9683 - val_loss: 0.0366 - val_accuracy: 0.9838 - val_precision: 0.9830 - val_recall: 0.9977\n",
            "Epoch 7/20\n",
            "246/246 [==============================] - 26s 107ms/step - loss: 0.1128 - accuracy: 0.9583 - precision: 0.9778 - recall: 0.9690 - val_loss: 0.0225 - val_accuracy: 0.9933 - val_precision: 0.9920 - val_recall: 1.0000\n",
            "Epoch 8/20\n",
            "246/246 [==============================] - 26s 105ms/step - loss: 0.0981 - accuracy: 0.9619 - precision: 0.9785 - recall: 0.9729 - val_loss: 0.0202 - val_accuracy: 0.9933 - val_precision: 0.9965 - val_recall: 0.9954\n",
            "Epoch 9/20\n",
            "246/246 [==============================] - 26s 104ms/step - loss: 0.0754 - accuracy: 0.9670 - precision: 0.9843 - recall: 0.9735 - val_loss: 0.0307 - val_accuracy: 0.9914 - val_precision: 0.9897 - val_recall: 1.0000\n",
            "Epoch 10/20\n",
            "246/246 [==============================] - 26s 105ms/step - loss: 0.0745 - accuracy: 0.9695 - precision: 0.9812 - recall: 0.9800 - val_loss: 0.0282 - val_accuracy: 0.9924 - val_precision: 0.9920 - val_recall: 0.9988\n",
            "Epoch 11/20\n",
            "246/246 [==============================] - 26s 104ms/step - loss: 0.0822 - accuracy: 0.9680 - precision: 0.9818 - recall: 0.9774 - val_loss: 0.0381 - val_accuracy: 0.9829 - val_precision: 0.9797 - val_recall: 1.0000\n",
            "Epoch 12/20\n",
            "246/246 [==============================] - 26s 104ms/step - loss: 0.0845 - accuracy: 0.9685 - precision: 0.9850 - recall: 0.9748 - val_loss: 0.0349 - val_accuracy: 0.9867 - val_precision: 0.9841 - val_recall: 1.0000\n",
            "Epoch 13/20\n",
            "246/246 [==============================] - 25s 103ms/step - loss: 0.0788 - accuracy: 0.9695 - precision: 0.9875 - recall: 0.9735 - val_loss: 0.0413 - val_accuracy: 0.9876 - val_precision: 0.9853 - val_recall: 1.0000\n",
            "Epoch 14/20\n",
            "246/246 [==============================] - 25s 101ms/step - loss: 0.0909 - accuracy: 0.9659 - precision: 0.9805 - recall: 0.9761 - val_loss: 0.0449 - val_accuracy: 0.9838 - val_precision: 0.9808 - val_recall: 1.0000\n",
            "Epoch 15/20\n",
            "246/246 [==============================] - 25s 101ms/step - loss: 0.0855 - accuracy: 0.9725 - precision: 0.9876 - recall: 0.9774 - val_loss: 0.0320 - val_accuracy: 0.9905 - val_precision: 0.9886 - val_recall: 1.0000\n",
            "Epoch 16/20\n",
            "246/246 [==============================] - 25s 102ms/step - loss: 0.0796 - accuracy: 0.9680 - precision: 0.9831 - recall: 0.9761 - val_loss: 0.0193 - val_accuracy: 0.9924 - val_precision: 0.9920 - val_recall: 0.9988\n",
            "Epoch 17/20\n",
            "246/246 [==============================] - 25s 102ms/step - loss: 0.0703 - accuracy: 0.9715 - precision: 0.9850 - recall: 0.9787 - val_loss: 0.0419 - val_accuracy: 0.9838 - val_precision: 0.9808 - val_recall: 1.0000\n",
            "Epoch 18/20\n",
            "246/246 [==============================] - 25s 101ms/step - loss: 0.0457 - accuracy: 0.9822 - precision: 0.9903 - recall: 0.9871 - val_loss: 0.0178 - val_accuracy: 0.9933 - val_precision: 0.9920 - val_recall: 1.0000\n",
            "Epoch 19/20\n",
            "246/246 [==============================] - 25s 103ms/step - loss: 0.0680 - accuracy: 0.9781 - precision: 0.9883 - recall: 0.9838 - val_loss: 0.0159 - val_accuracy: 0.9924 - val_precision: 0.9965 - val_recall: 0.9942\n",
            "Epoch 20/20\n",
            "246/246 [==============================] - 25s 101ms/step - loss: 0.0703 - accuracy: 0.9761 - precision: 0.9876 - recall: 0.9819 - val_loss: 0.0632 - val_accuracy: 0.9771 - val_precision: 0.9731 - val_recall: 1.0000\n"
          ],
          "name": "stdout"
        }
      ]
    },
    {
      "cell_type": "code",
      "metadata": {
        "id": "dIMO1Q_BRBld"
      },
      "source": [
        "\n",
        "model.save(models_directory+'DS2_ResNet_1_Histo_Erode_Dilate.h5')"
      ],
      "execution_count": 13,
      "outputs": []
    },
    {
      "cell_type": "code",
      "metadata": {
        "id": "ODM15a5RKCCE"
      },
      "source": [
        ""
      ],
      "execution_count": null,
      "outputs": []
    },
    {
      "cell_type": "markdown",
      "metadata": {
        "id": "rR7b9rY-q2r3"
      },
      "source": [
        "# Plotting Accuracy, Precision & Recall"
      ]
    },
    {
      "cell_type": "code",
      "metadata": {
        "id": "OGL6hW_Ll8ac"
      },
      "source": [
        "epochs=20"
      ],
      "execution_count": 14,
      "outputs": []
    },
    {
      "cell_type": "code",
      "metadata": {
        "id": "nkc9WrDCG7VY",
        "outputId": "9b65ec56-2fef-492b-da6d-38e751d434f3",
        "colab": {
          "base_uri": "https://localhost:8080/",
          "height": 826
        }
      },
      "source": [
        "import matplotlib.image  as mpimg\n",
        "import matplotlib.pyplot as plt\n",
        "\n",
        "#-----------------------------------------------------------\n",
        "# Retrieve a list of list results on training and test data\n",
        "# sets for each training epoch\n",
        "#-----------------------------------------------------------\n",
        "acc=history.history['accuracy']\n",
        "val_acc=history.history['val_accuracy']\n",
        "precision=history.history['precision']\n",
        "val_precision=history.history['val_precision']\n",
        "recall=history.history['recall']\n",
        "val_recall=history.history['val_recall']\n",
        "\n",
        "epochs=range(len(acc)) # Get number of epochs\n",
        "\n",
        "#------------------------------------------------\n",
        "# Plot training and validation accuracy per epoch\n",
        "#------------------------------------------------\n",
        "plt.plot(epochs, acc, 'r', \"Training Accuracy\")\n",
        "plt.plot(epochs, val_acc, 'b', \"Validation Accuracy\")\n",
        "plt.title('Training and validation accuracy')\n",
        "plt.figure()\n",
        "\n",
        "#------------------------------------------------\n",
        "# Plot training and validation Precision per epoch\n",
        "#------------------------------------------------\n",
        "plt.plot(epochs, precision, 'r', \"Training Precision\")\n",
        "plt.plot(epochs, val_precision, 'b', \"Validation Precision\")\n",
        "plt.title('Training and validation Precision')\n",
        "plt.figure()\n",
        "\n",
        "plt.plot(epochs, recall, 'r', \"Training Recall\")\n",
        "plt.plot(epochs, val_recall, 'b', \"Validation Recall\")\n",
        "plt.title('Training and validation Recall')\n"
      ],
      "execution_count": 15,
      "outputs": [
        {
          "output_type": "execute_result",
          "data": {
            "text/plain": [
              "Text(0.5, 1.0, 'Training and validation Recall')"
            ]
          },
          "metadata": {
            "tags": []
          },
          "execution_count": 15
        },
        {
          "output_type": "display_data",
          "data": {
            "image/png": "[encoded data removed]",
            "text/plain": [
              "<Figure size 432x288 with 1 Axes>"
            ]
          },
          "metadata": {
            "tags": [],
            "needs_background": "light"
          }
        },
        {
          "output_type": "display_data",
          "data": {
            "image/png": "[encoded data removed]",
            "text/plain": [
              "<Figure size 432x288 with 1 Axes>"
            ]
          },
          "metadata": {
            "tags": [],
            "needs_background": "light"
          }
        },
        {
          "output_type": "display_data",
          "data": {
            "image/png": "[encoded data removed]",
            "text/plain": [
              "<Figure size 432x288 with 1 Axes>"
            ]
          },
          "metadata": {
            "tags": [],
            "needs_background": "light"
          }
        }
      ]
    },
    {
      "cell_type": "markdown",
      "metadata": {
        "id": "E2X3ikcUQQiG"
      },
      "source": [
        "# Predicting against Test Images from the Internet"
      ]
    },
    {
      "cell_type": "code",
      "metadata": {
        "id": "7-jdwJoNwWFN"
      },
      "source": [
        "reloaded_model=tf.keras.models.load_model(models_directory+'DS2_ResNet_1_Histo_Erode_Dilate.h5')"
      ],
      "execution_count": 16,
      "outputs": []
    },
    {
      "cell_type": "code",
      "metadata": {
        "id": "HCTJJ1UPO74u",
        "outputId": "636a312d-7ecd-480e-a1aa-732dc6dea356",
        "colab": {
          "base_uri": "https://localhost:8080/",
          "height": 34
        }
      },
      "source": [
        "predictions=reloaded_model.evaluate(test_gen,batch_size=32)"
      ],
      "execution_count": 17,
      "outputs": [
        {
          "output_type": "stream",
          "text": [
            "3/3 [==============================] - 5s 2s/step - loss: 0.6894 - accuracy: 0.8000 - precision: 1.0000 - recall: 0.6000\n"
          ],
          "name": "stdout"
        }
      ]
    },
    {
      "cell_type": "code",
      "metadata": {
        "id": "mwn_5FS5zgk4"
      },
      "source": [
        ""
      ],
      "execution_count": null,
      "outputs": []
    }
  ]
}