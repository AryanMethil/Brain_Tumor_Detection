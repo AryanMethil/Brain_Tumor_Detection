{
  "nbformat": 4,
  "nbformat_minor": 0,
  "metadata": {
    "colab": {
      "name": "Brain_Tumour_Detection.ipynb",
      "provenance": [],
      "collapsed_sections": [],
      "include_colab_link": true
    },
    "kernelspec": {
      "name": "python3",
      "display_name": "Python 3"
    },
    "accelerator": "GPU"
  },
  "cells": [
    {
      "cell_type": "markdown",
      "metadata": {
        "id": "view-in-github",
        "colab_type": "text"
      },
      "source": [
        "<a href=\"https://colab.research.google.com/github/AryanMethil/Brain_Tumor_Detection/blob/master/Brain_Tumour_Detection.ipynb\" target=\"_parent\"><img src=\"https://colab.research.google.com/assets/colab-badge.svg\" alt=\"Open In Colab\"/></a>"
      ]
    },
    {
      "cell_type": "code",
      "metadata": {
        "id": "Rx6Li8Xl4Dp5",
        "colab_type": "code",
        "colab": {
          "base_uri": "https://localhost:8080/",
          "height": 54
        },
        "outputId": "28eb7b2d-25e3-4e7d-eb7b-5a09c1c59114"
      },
      "source": [
        "from google.colab import drive\n",
        "drive.mount('/content/drive')\n"
      ],
      "execution_count": 1,
      "outputs": [
        {
          "output_type": "stream",
          "text": [
            "Drive already mounted at /content/drive; to attempt to forcibly remount, call drive.mount(\"/content/drive\", force_remount=True).\n"
          ],
          "name": "stdout"
        }
      ]
    },
    {
      "cell_type": "code",
      "metadata": {
        "id": "KiEH_7xLicrp",
        "colab_type": "code",
        "colab": {
          "base_uri": "https://localhost:8080/",
          "height": 34
        },
        "outputId": "7a689350-0ff9-4d75-e4de-ff596f869b3a"
      },
      "source": [
        "%cd '/content/drive/My Drive/Brain_Tumor_Classification/src'"
      ],
      "execution_count": 2,
      "outputs": [
        {
          "output_type": "stream",
          "text": [
            "/content/drive/My Drive/Brain_Tumor_Classification/src\n"
          ],
          "name": "stdout"
        }
      ]
    },
    {
      "cell_type": "code",
      "metadata": {
        "id": "Kw4svy8RinXy",
        "colab_type": "code",
        "colab": {
          "base_uri": "https://localhost:8080/",
          "height": 34
        },
        "outputId": "a9ded504-32e0-427f-ecfb-517f0c2dcc1e"
      },
      "source": [
        "!pwd"
      ],
      "execution_count": 3,
      "outputs": [
        {
          "output_type": "stream",
          "text": [
            "/content/drive/My Drive/Brain_Tumor_Classification/src\n"
          ],
          "name": "stdout"
        }
      ]
    },
    {
      "cell_type": "code",
      "metadata": {
        "id": "A9KilanhhY0v",
        "colab_type": "code",
        "colab": {}
      },
      "source": [
        "import os\n",
        "import shutil\n",
        "from cv2 import *\n",
        "from google.colab.patches import cv2_imshow\n",
        "from constants import *\n",
        "import numpy as np"
      ],
      "execution_count": 4,
      "outputs": []
    },
    {
      "cell_type": "code",
      "metadata": {
        "id": "W-eCsnH9lygK",
        "colab_type": "code",
        "colab": {
          "base_uri": "https://localhost:8080/",
          "height": 34
        },
        "outputId": "761da632-38e8-4d34-f603-a838a2827cd9"
      },
      "source": [
        "%cd '/content/'\n"
      ],
      "execution_count": 5,
      "outputs": [
        {
          "output_type": "stream",
          "text": [
            "/content\n"
          ],
          "name": "stdout"
        }
      ]
    },
    {
      "cell_type": "code",
      "metadata": {
        "id": "MWrzktW9YuhK",
        "colab_type": "code",
        "colab": {}
      },
      "source": [
        "os.makedirs(image_preprocessed_yes,exist_ok=True)\n",
        "for _,_,files in os.walk(yes):\n",
        "  for f in files:\n",
        "    img_path=os.path.join(yes,f)\n",
        "    norm=imread(img_path)\n",
        "    norm=cvtColor(norm,COLOR_BGR2GRAY)\n",
        "    th1=equalizeHist(norm)\n",
        "    \n",
        "    th1=dilate(th1,np.ones((4,4),np.uint8),iterations=1)\n",
        "    th1=erode(th1,np.ones((4,4),np.uint8),iterations=1)\n",
        "    imwrite(image_preprocessed_yes+f,th1)\n",
        "\n",
        "os.makedirs(image_preprocessed_no,exist_ok=True)\n",
        "for _,_,files in os.walk(no):\n",
        "  for f in files:\n",
        "    img_path=os.path.join(no,f)\n",
        "    norm=imread(img_path)\n",
        "    norm=cvtColor(norm,COLOR_BGR2GRAY)\n",
        "    th1=equalizeHist(norm)\n",
        "    \n",
        "    th1=dilate(th1,np.ones((4,4),np.uint8),iterations=1)\n",
        "    th1=erode(th1,np.ones((4,4),np.uint8),iterations=1)\n",
        "    imwrite(image_preprocessed_no+f,th1)"
      ],
      "execution_count": 7,
      "outputs": []
    },
    {
      "cell_type": "code",
      "metadata": {
        "id": "AnMe_3gA4llW",
        "colab_type": "code",
        "colab": {}
      },
      "source": [
        "brain_tumour_no= image_preprocessed_no\n",
        "brain_tumour_yes=image_preprocessed_yes"
      ],
      "execution_count": 8,
      "outputs": []
    },
    {
      "cell_type": "code",
      "metadata": {
        "id": "4GCpGZKK5j5v",
        "colab_type": "code",
        "colab": {}
      },
      "source": [
        "os.makedirs(image_generator_train_yes,exist_ok=True)\n",
        "os.makedirs(image_generator_train_no,exist_ok=True)\n",
        "os.makedirs(image_generator_validation_yes,exist_ok=True)\n",
        "os.makedirs(image_generator_validation_no,exist_ok=True)"
      ],
      "execution_count": 9,
      "outputs": []
    },
    {
      "cell_type": "code",
      "metadata": {
        "id": "gHo61zzu-Ngb",
        "colab_type": "code",
        "colab": {}
      },
      "source": [
        "for dir,subdir,files in os.walk(brain_tumour_no):\n",
        "  for f in files[:int(len(files)*0.7)]:\n",
        "    shutil.copy(os.path.join(brain_tumour_no,f),image_generator_train_no)\n",
        "  for f in files[int(len(files)*0.7):]:\n",
        "    shutil.copy(os.path.join(brain_tumour_no,f),image_generator_validation_no)\n"
      ],
      "execution_count": 10,
      "outputs": []
    },
    {
      "cell_type": "code",
      "metadata": {
        "id": "zCsZh6pM_nFu",
        "colab_type": "code",
        "colab": {}
      },
      "source": [
        "for dir,subdir,files in os.walk(brain_tumour_yes):\n",
        "  for f in files[:int(len(files)*0.7)]:\n",
        "    shutil.copy(os.path.join(brain_tumour_yes,f),image_generator_train_yes)\n",
        "  for f in files[int(len(files)*0.7):]:\n",
        "    shutil.copy(os.path.join(brain_tumour_yes,f),image_generator_validation_yes)"
      ],
      "execution_count": 11,
      "outputs": []
    },
    {
      "cell_type": "code",
      "metadata": {
        "id": "GH0TT4mXAeWX",
        "colab_type": "code",
        "colab": {}
      },
      "source": [
        "import tensorflow as tf\n"
      ],
      "execution_count": 12,
      "outputs": []
    },
    {
      "cell_type": "code",
      "metadata": {
        "id": "uwb-mgByBlY6",
        "colab_type": "code",
        "colab": {
          "base_uri": "https://localhost:8080/",
          "height": 377
        },
        "outputId": "02cf5f18-100e-4eb4-d8a7-baf90ff810ac"
      },
      "source": [
        "\n",
        "base_model=tf.keras.applications.InceptionV3(include_top=False,weights='imagenet',input_shape=(150,150,3))\n",
        "base_model.trainable=False\n",
        "model=tf.keras.Sequential()\n",
        "model.add(base_model)\n",
        "model.add(tf.keras.layers.Flatten())\n",
        "model.add(tf.keras.layers.Dense(128,activation='relu'))\n",
        "model.add(tf.keras.layers.Dropout(0.3))\n",
        "model.add(tf.keras.layers.Dense(1,activation='sigmoid'))\n",
        "model.summary()"
      ],
      "execution_count": 13,
      "outputs": [
        {
          "output_type": "stream",
          "text": [
            "Downloading data from https://storage.googleapis.com/tensorflow/keras-applications/inception_v3/inception_v3_weights_tf_dim_ordering_tf_kernels_notop.h5\n",
            "87916544/87910968 [==============================] - 2s 0us/step\n",
            "Model: \"sequential\"\n",
            "_________________________________________________________________\n",
            "Layer (type)                 Output Shape              Param #   \n",
            "=================================================================\n",
            "inception_v3 (Functional)    (None, 3, 3, 2048)        21802784  \n",
            "_________________________________________________________________\n",
            "flatten (Flatten)            (None, 18432)             0         \n",
            "_________________________________________________________________\n",
            "dense (Dense)                (None, 128)               2359424   \n",
            "_________________________________________________________________\n",
            "dropout (Dropout)            (None, 128)               0         \n",
            "_________________________________________________________________\n",
            "dense_1 (Dense)              (None, 1)                 129       \n",
            "=================================================================\n",
            "Total params: 24,162,337\n",
            "Trainable params: 2,359,553\n",
            "Non-trainable params: 21,802,784\n",
            "_________________________________________________________________\n"
          ],
          "name": "stdout"
        }
      ]
    },
    {
      "cell_type": "code",
      "metadata": {
        "id": "rOOJYQTyDPZ4",
        "colab_type": "code",
        "colab": {}
      },
      "source": [
        "model.compile(loss='binary_crossentropy',\n",
        "              optimizer=tf.keras.optimizers.Adam(learning_rate=0.0001),\n",
        "              metrics=['accuracy',tf.keras.metrics.Precision(name='precision'),tf.keras.metrics.Recall(name='recall')])"
      ],
      "execution_count": 14,
      "outputs": []
    },
    {
      "cell_type": "code",
      "metadata": {
        "id": "xidHZ3J5Dt21",
        "colab_type": "code",
        "colab": {}
      },
      "source": [
        "train_data_generator=tf.keras.preprocessing.image.ImageDataGenerator(rescale=1/255,\n",
        "                                  rotation_range=30,\n",
        "                                  height_shift_range=0.2,\n",
        "                                  width_shift_range=0.2,\n",
        "                                  shear_range=0.6,\n",
        "                                  zoom_range=0.2,\n",
        "                                  horizontal_flip=True,\n",
        "                                  fill_mode='nearest')\n",
        "validation_data_generator=tf.keras.preprocessing.image.ImageDataGenerator(rescale=1/255)"
      ],
      "execution_count": 15,
      "outputs": []
    },
    {
      "cell_type": "code",
      "metadata": {
        "id": "YCvIq7YGEZpW",
        "colab_type": "code",
        "colab": {
          "base_uri": "https://localhost:8080/",
          "height": 51
        },
        "outputId": "021a5c23-7a89-4d28-e0eb-48737bb96c09"
      },
      "source": [
        "train_gen=train_data_generator.flow_from_directory(image_generator_train,\n",
        "                                                   target_size=(150,150),\n",
        "                                                   class_mode='binary',\n",
        "                                                   batch_size=8,\n",
        "                                                   shuffle=True)\n",
        "validation_gen=train_data_generator.flow_from_directory(image_generator_validation,\n",
        "                                                   target_size=(150,150),\n",
        "                                                   class_mode='binary',\n",
        "                                                   batch_size=8,\n",
        "                                                   shuffle=True)"
      ],
      "execution_count": 16,
      "outputs": [
        {
          "output_type": "stream",
          "text": [
            "Found 182 images belonging to 2 classes.\n",
            "Found 79 images belonging to 2 classes.\n"
          ],
          "name": "stdout"
        }
      ]
    },
    {
      "cell_type": "code",
      "metadata": {
        "id": "aQpDVApsFILx",
        "colab_type": "code",
        "colab": {}
      },
      "source": [
        "class MyCallback(tf.keras.callbacks.Callback):\n",
        "  def on_epoch_end(self,epoch,logs={}):\n",
        "    if(logs['accuracy']>0.99):\n",
        "      self.model.stop_training=True\n",
        "callbacks=MyCallback()"
      ],
      "execution_count": 17,
      "outputs": []
    },
    {
      "cell_type": "code",
      "metadata": {
        "id": "j-xX6HF9GdSO",
        "colab_type": "code",
        "colab": {
          "base_uri": "https://localhost:8080/",
          "height": 1000
        },
        "outputId": "17b06909-a4b0-48a3-cd92-d8f05b6ab017"
      },
      "source": [
        "history=model.fit(train_gen,validation_data=validation_gen,epochs=200,callbacks=callbacks)"
      ],
      "execution_count": 18,
      "outputs": [
        {
          "output_type": "stream",
          "text": [
            "Epoch 1/200\n",
            "23/23 [==============================] - 4s 185ms/step - loss: 1.3092 - accuracy: 0.5495 - precision: 0.6226 - recall: 0.6111 - val_loss: 0.4472 - val_accuracy: 0.7848 - val_precision: 0.8000 - val_recall: 0.8511\n",
            "Epoch 2/200\n",
            "23/23 [==============================] - 2s 90ms/step - loss: 0.6556 - accuracy: 0.6923 - precision: 0.7321 - recall: 0.7593 - val_loss: 0.4731 - val_accuracy: 0.7595 - val_precision: 0.7333 - val_recall: 0.9362\n",
            "Epoch 3/200\n",
            "23/23 [==============================] - 2s 94ms/step - loss: 0.4338 - accuracy: 0.8077 - precision: 0.8349 - recall: 0.8426 - val_loss: 0.3691 - val_accuracy: 0.8354 - val_precision: 0.8400 - val_recall: 0.8936\n",
            "Epoch 4/200\n",
            "23/23 [==============================] - 2s 96ms/step - loss: 0.4427 - accuracy: 0.8077 - precision: 0.8476 - recall: 0.8241 - val_loss: 0.4560 - val_accuracy: 0.7848 - val_precision: 0.8125 - val_recall: 0.8298\n",
            "Epoch 5/200\n",
            "23/23 [==============================] - 2s 96ms/step - loss: 0.4226 - accuracy: 0.7912 - precision: 0.8070 - recall: 0.8519 - val_loss: 0.4598 - val_accuracy: 0.8101 - val_precision: 0.7857 - val_recall: 0.9362\n",
            "Epoch 6/200\n",
            "23/23 [==============================] - 2s 94ms/step - loss: 0.4193 - accuracy: 0.7967 - precision: 0.8142 - recall: 0.8519 - val_loss: 0.4894 - val_accuracy: 0.7975 - val_precision: 0.8039 - val_recall: 0.8723\n",
            "Epoch 7/200\n",
            "23/23 [==============================] - 2s 94ms/step - loss: 0.3972 - accuracy: 0.8242 - precision: 0.8393 - recall: 0.8704 - val_loss: 0.3955 - val_accuracy: 0.7722 - val_precision: 0.7636 - val_recall: 0.8936\n",
            "Epoch 8/200\n",
            "23/23 [==============================] - 2s 96ms/step - loss: 0.4205 - accuracy: 0.8352 - precision: 0.8545 - recall: 0.8704 - val_loss: 0.3608 - val_accuracy: 0.8228 - val_precision: 0.8235 - val_recall: 0.8936\n",
            "Epoch 9/200\n",
            "23/23 [==============================] - 2s 96ms/step - loss: 0.3736 - accuracy: 0.7967 - precision: 0.8381 - recall: 0.8148 - val_loss: 0.5067 - val_accuracy: 0.8101 - val_precision: 0.7759 - val_recall: 0.9574\n",
            "Epoch 10/200\n",
            "23/23 [==============================] - 2s 96ms/step - loss: 0.3633 - accuracy: 0.8352 - precision: 0.8482 - recall: 0.8796 - val_loss: 0.4028 - val_accuracy: 0.7848 - val_precision: 0.8125 - val_recall: 0.8298\n",
            "Epoch 11/200\n",
            "23/23 [==============================] - 2s 95ms/step - loss: 0.3926 - accuracy: 0.8242 - precision: 0.8333 - recall: 0.8796 - val_loss: 0.4065 - val_accuracy: 0.8228 - val_precision: 0.9459 - val_recall: 0.7447\n",
            "Epoch 12/200\n",
            "23/23 [==============================] - 2s 96ms/step - loss: 0.3988 - accuracy: 0.8297 - precision: 0.8468 - recall: 0.8704 - val_loss: 0.3987 - val_accuracy: 0.8101 - val_precision: 0.8333 - val_recall: 0.8511\n",
            "Epoch 13/200\n",
            "23/23 [==============================] - 2s 97ms/step - loss: 0.3393 - accuracy: 0.8571 - precision: 0.8868 - recall: 0.8704 - val_loss: 0.4746 - val_accuracy: 0.7468 - val_precision: 0.8293 - val_recall: 0.7234\n",
            "Epoch 14/200\n",
            "23/23 [==============================] - 2s 98ms/step - loss: 0.3508 - accuracy: 0.8132 - precision: 0.8246 - recall: 0.8704 - val_loss: 0.4316 - val_accuracy: 0.7848 - val_precision: 0.9167 - val_recall: 0.7021\n",
            "Epoch 15/200\n",
            "23/23 [==============================] - 2s 95ms/step - loss: 0.3380 - accuracy: 0.8516 - precision: 0.8785 - recall: 0.8704 - val_loss: 0.4416 - val_accuracy: 0.8101 - val_precision: 0.8077 - val_recall: 0.8936\n",
            "Epoch 16/200\n",
            "23/23 [==============================] - 2s 95ms/step - loss: 0.3072 - accuracy: 0.8626 - precision: 0.8739 - recall: 0.8981 - val_loss: 0.4364 - val_accuracy: 0.7848 - val_precision: 0.8125 - val_recall: 0.8298\n",
            "Epoch 17/200\n",
            "23/23 [==============================] - 2s 98ms/step - loss: 0.3311 - accuracy: 0.8626 - precision: 0.8609 - recall: 0.9167 - val_loss: 0.4788 - val_accuracy: 0.8101 - val_precision: 0.8478 - val_recall: 0.8298\n",
            "Epoch 18/200\n",
            "23/23 [==============================] - 2s 104ms/step - loss: 0.3005 - accuracy: 0.8736 - precision: 0.8972 - recall: 0.8889 - val_loss: 0.5367 - val_accuracy: 0.7468 - val_precision: 0.7547 - val_recall: 0.8511\n",
            "Epoch 19/200\n",
            "23/23 [==============================] - 2s 99ms/step - loss: 0.3220 - accuracy: 0.8626 - precision: 0.8807 - recall: 0.8889 - val_loss: 0.3890 - val_accuracy: 0.8101 - val_precision: 0.8810 - val_recall: 0.7872\n",
            "Epoch 20/200\n",
            "23/23 [==============================] - 2s 97ms/step - loss: 0.4169 - accuracy: 0.8187 - precision: 0.8641 - recall: 0.8241 - val_loss: 0.4852 - val_accuracy: 0.8354 - val_precision: 0.8696 - val_recall: 0.8511\n",
            "Epoch 21/200\n",
            "23/23 [==============================] - 2s 97ms/step - loss: 0.3721 - accuracy: 0.8242 - precision: 0.8167 - recall: 0.9074 - val_loss: 0.4285 - val_accuracy: 0.7975 - val_precision: 0.8039 - val_recall: 0.8723\n",
            "Epoch 22/200\n",
            "23/23 [==============================] - 2s 97ms/step - loss: 0.3157 - accuracy: 0.8571 - precision: 0.8942 - recall: 0.8611 - val_loss: 0.4295 - val_accuracy: 0.7975 - val_precision: 0.7925 - val_recall: 0.8936\n",
            "Epoch 23/200\n",
            "23/23 [==============================] - 2s 96ms/step - loss: 0.3560 - accuracy: 0.8462 - precision: 0.8636 - recall: 0.8796 - val_loss: 0.5515 - val_accuracy: 0.7215 - val_precision: 0.6923 - val_recall: 0.9574\n",
            "Epoch 24/200\n",
            "23/23 [==============================] - 2s 98ms/step - loss: 0.3180 - accuracy: 0.8571 - precision: 0.8727 - recall: 0.8889 - val_loss: 0.3762 - val_accuracy: 0.8228 - val_precision: 0.8235 - val_recall: 0.8936\n",
            "Epoch 25/200\n",
            "23/23 [==============================] - 2s 96ms/step - loss: 0.3081 - accuracy: 0.8571 - precision: 0.8661 - recall: 0.8981 - val_loss: 0.5199 - val_accuracy: 0.7215 - val_precision: 0.6923 - val_recall: 0.9574\n",
            "Epoch 26/200\n",
            "23/23 [==============================] - 2s 95ms/step - loss: 0.3435 - accuracy: 0.8571 - precision: 0.8727 - recall: 0.8889 - val_loss: 0.4578 - val_accuracy: 0.7722 - val_precision: 0.7636 - val_recall: 0.8936\n",
            "Epoch 27/200\n",
            "23/23 [==============================] - 2s 97ms/step - loss: 0.2585 - accuracy: 0.8956 - precision: 0.8938 - recall: 0.9352 - val_loss: 0.5145 - val_accuracy: 0.7595 - val_precision: 0.7692 - val_recall: 0.8511\n",
            "Epoch 28/200\n",
            "23/23 [==============================] - 2s 97ms/step - loss: 0.2725 - accuracy: 0.8846 - precision: 0.8783 - recall: 0.9352 - val_loss: 0.3819 - val_accuracy: 0.8228 - val_precision: 0.8837 - val_recall: 0.8085\n",
            "Epoch 29/200\n",
            "23/23 [==============================] - 2s 97ms/step - loss: 0.2314 - accuracy: 0.9011 - precision: 0.9412 - recall: 0.8889 - val_loss: 0.4059 - val_accuracy: 0.7975 - val_precision: 0.8605 - val_recall: 0.7872\n",
            "Epoch 30/200\n",
            "23/23 [==============================] - 2s 103ms/step - loss: 0.2321 - accuracy: 0.9231 - precision: 0.9352 - recall: 0.9352 - val_loss: 0.3373 - val_accuracy: 0.8987 - val_precision: 0.9149 - val_recall: 0.9149\n",
            "Epoch 31/200\n",
            "23/23 [==============================] - 2s 102ms/step - loss: 0.2708 - accuracy: 0.9011 - precision: 0.9167 - recall: 0.9167 - val_loss: 0.3859 - val_accuracy: 0.8101 - val_precision: 0.7963 - val_recall: 0.9149\n",
            "Epoch 32/200\n",
            "23/23 [==============================] - 2s 104ms/step - loss: 0.2974 - accuracy: 0.8681 - precision: 0.8500 - recall: 0.9444 - val_loss: 0.3869 - val_accuracy: 0.8481 - val_precision: 0.8182 - val_recall: 0.9574\n",
            "Epoch 33/200\n",
            "23/23 [==============================] - 2s 103ms/step - loss: 0.2470 - accuracy: 0.8901 - precision: 0.8860 - recall: 0.9352 - val_loss: 0.4775 - val_accuracy: 0.7975 - val_precision: 0.7818 - val_recall: 0.9149\n",
            "Epoch 34/200\n",
            "23/23 [==============================] - 2s 97ms/step - loss: 0.2856 - accuracy: 0.8846 - precision: 0.8783 - recall: 0.9352 - val_loss: 0.4960 - val_accuracy: 0.7468 - val_precision: 0.7647 - val_recall: 0.8298\n",
            "Epoch 35/200\n",
            "23/23 [==============================] - 2s 95ms/step - loss: 0.2274 - accuracy: 0.9011 - precision: 0.8879 - recall: 0.9537 - val_loss: 0.3800 - val_accuracy: 0.7722 - val_precision: 0.7736 - val_recall: 0.8723\n",
            "Epoch 36/200\n",
            "23/23 [==============================] - 2s 98ms/step - loss: 0.2469 - accuracy: 0.8736 - precision: 0.8829 - recall: 0.9074 - val_loss: 0.4171 - val_accuracy: 0.8101 - val_precision: 0.8333 - val_recall: 0.8511\n",
            "Epoch 37/200\n",
            "23/23 [==============================] - 2s 96ms/step - loss: 0.2609 - accuracy: 0.8791 - precision: 0.8909 - recall: 0.9074 - val_loss: 0.5539 - val_accuracy: 0.7848 - val_precision: 0.8571 - val_recall: 0.7660\n",
            "Epoch 38/200\n",
            "23/23 [==============================] - 2s 95ms/step - loss: 0.2267 - accuracy: 0.9066 - precision: 0.9417 - recall: 0.8981 - val_loss: 0.4651 - val_accuracy: 0.7848 - val_precision: 0.7885 - val_recall: 0.8723\n",
            "Epoch 39/200\n",
            "23/23 [==============================] - 2s 95ms/step - loss: 0.2287 - accuracy: 0.9121 - precision: 0.9259 - recall: 0.9259 - val_loss: 0.4339 - val_accuracy: 0.7848 - val_precision: 0.7679 - val_recall: 0.9149\n",
            "Epoch 40/200\n",
            "23/23 [==============================] - 2s 97ms/step - loss: 0.2571 - accuracy: 0.8956 - precision: 0.9083 - recall: 0.9167 - val_loss: 0.3504 - val_accuracy: 0.8228 - val_precision: 0.8235 - val_recall: 0.8936\n",
            "Epoch 41/200\n",
            "23/23 [==============================] - 2s 97ms/step - loss: 0.2222 - accuracy: 0.8901 - precision: 0.8929 - recall: 0.9259 - val_loss: 0.3824 - val_accuracy: 0.8481 - val_precision: 0.8431 - val_recall: 0.9149\n",
            "Epoch 42/200\n",
            "23/23 [==============================] - 2s 99ms/step - loss: 0.2314 - accuracy: 0.9011 - precision: 0.9167 - recall: 0.9167 - val_loss: 0.3834 - val_accuracy: 0.8481 - val_precision: 0.8571 - val_recall: 0.8936\n",
            "Epoch 43/200\n",
            "23/23 [==============================] - 2s 98ms/step - loss: 0.1903 - accuracy: 0.9286 - precision: 0.9358 - recall: 0.9444 - val_loss: 0.4098 - val_accuracy: 0.8228 - val_precision: 0.8113 - val_recall: 0.9149\n",
            "Epoch 44/200\n",
            "23/23 [==============================] - 2s 98ms/step - loss: 0.1877 - accuracy: 0.9396 - precision: 0.9369 - recall: 0.9630 - val_loss: 0.4459 - val_accuracy: 0.8228 - val_precision: 0.8837 - val_recall: 0.8085\n",
            "Epoch 45/200\n",
            "23/23 [==============================] - 2s 97ms/step - loss: 0.2489 - accuracy: 0.8956 - precision: 0.9009 - recall: 0.9259 - val_loss: 0.4186 - val_accuracy: 0.8354 - val_precision: 0.8269 - val_recall: 0.9149\n",
            "Epoch 46/200\n",
            "23/23 [==============================] - 2s 95ms/step - loss: 0.2187 - accuracy: 0.9066 - precision: 0.9174 - recall: 0.9259 - val_loss: 0.5778 - val_accuracy: 0.7848 - val_precision: 0.8571 - val_recall: 0.7660\n",
            "Epoch 47/200\n",
            "23/23 [==============================] - 2s 96ms/step - loss: 0.2439 - accuracy: 0.9176 - precision: 0.9266 - recall: 0.9352 - val_loss: 0.3897 - val_accuracy: 0.7975 - val_precision: 0.7818 - val_recall: 0.9149\n",
            "Epoch 48/200\n",
            "23/23 [==============================] - 2s 98ms/step - loss: 0.2156 - accuracy: 0.9121 - precision: 0.9259 - recall: 0.9259 - val_loss: 0.3748 - val_accuracy: 0.8101 - val_precision: 0.8636 - val_recall: 0.8085\n",
            "Epoch 49/200\n",
            "23/23 [==============================] - 2s 94ms/step - loss: 0.1665 - accuracy: 0.9451 - precision: 0.9375 - recall: 0.9722 - val_loss: 0.4737 - val_accuracy: 0.8228 - val_precision: 0.8000 - val_recall: 0.9362\n",
            "Epoch 50/200\n",
            "23/23 [==============================] - 2s 96ms/step - loss: 0.1661 - accuracy: 0.9341 - precision: 0.9528 - recall: 0.9352 - val_loss: 0.4703 - val_accuracy: 0.8101 - val_precision: 0.8478 - val_recall: 0.8298\n",
            "Epoch 51/200\n",
            "23/23 [==============================] - 2s 95ms/step - loss: 0.1839 - accuracy: 0.9121 - precision: 0.9035 - recall: 0.9537 - val_loss: 0.3708 - val_accuracy: 0.8354 - val_precision: 0.9048 - val_recall: 0.8085\n",
            "Epoch 52/200\n",
            "23/23 [==============================] - 2s 96ms/step - loss: 0.2221 - accuracy: 0.8956 - precision: 0.9238 - recall: 0.8981 - val_loss: 0.3951 - val_accuracy: 0.8481 - val_precision: 0.9070 - val_recall: 0.8298\n",
            "Epoch 53/200\n",
            "23/23 [==============================] - 2s 96ms/step - loss: 0.1765 - accuracy: 0.9451 - precision: 0.9375 - recall: 0.9722 - val_loss: 0.3627 - val_accuracy: 0.8608 - val_precision: 0.8462 - val_recall: 0.9362\n",
            "Epoch 54/200\n",
            "23/23 [==============================] - 2s 95ms/step - loss: 0.1845 - accuracy: 0.9176 - precision: 0.9346 - recall: 0.9259 - val_loss: 0.4246 - val_accuracy: 0.8228 - val_precision: 0.9024 - val_recall: 0.7872\n",
            "Epoch 55/200\n",
            "23/23 [==============================] - 2s 96ms/step - loss: 0.2050 - accuracy: 0.9231 - precision: 0.9434 - recall: 0.9259 - val_loss: 0.5343 - val_accuracy: 0.7848 - val_precision: 0.7778 - val_recall: 0.8936\n",
            "Epoch 56/200\n",
            "23/23 [==============================] - 2s 98ms/step - loss: 0.1793 - accuracy: 0.9176 - precision: 0.9043 - recall: 0.9630 - val_loss: 0.3621 - val_accuracy: 0.8608 - val_precision: 0.9286 - val_recall: 0.8298\n",
            "Epoch 57/200\n",
            "23/23 [==============================] - 2s 96ms/step - loss: 0.2755 - accuracy: 0.9011 - precision: 0.9091 - recall: 0.9259 - val_loss: 0.4882 - val_accuracy: 0.8101 - val_precision: 0.8636 - val_recall: 0.8085\n",
            "Epoch 58/200\n",
            "23/23 [==============================] - 2s 97ms/step - loss: 0.1720 - accuracy: 0.9286 - precision: 0.9358 - recall: 0.9444 - val_loss: 0.3832 - val_accuracy: 0.8354 - val_precision: 0.8269 - val_recall: 0.9149\n",
            "Epoch 59/200\n",
            "23/23 [==============================] - 2s 97ms/step - loss: 0.2060 - accuracy: 0.9066 - precision: 0.9333 - recall: 0.9074 - val_loss: 0.4979 - val_accuracy: 0.7848 - val_precision: 0.7679 - val_recall: 0.9149\n",
            "Epoch 60/200\n",
            "23/23 [==============================] - 2s 97ms/step - loss: 0.1408 - accuracy: 0.9396 - precision: 0.9450 - recall: 0.9537 - val_loss: 0.3685 - val_accuracy: 0.8861 - val_precision: 0.9318 - val_recall: 0.8723\n",
            "Epoch 61/200\n",
            "23/23 [==============================] - 2s 96ms/step - loss: 0.1928 - accuracy: 0.9176 - precision: 0.9266 - recall: 0.9352 - val_loss: 0.4172 - val_accuracy: 0.8101 - val_precision: 0.8333 - val_recall: 0.8511\n",
            "Epoch 62/200\n",
            "23/23 [==============================] - 2s 97ms/step - loss: 0.2223 - accuracy: 0.9286 - precision: 0.9439 - recall: 0.9352 - val_loss: 0.4322 - val_accuracy: 0.8101 - val_precision: 0.7963 - val_recall: 0.9149\n",
            "Epoch 63/200\n",
            "23/23 [==============================] - 2s 97ms/step - loss: 0.1723 - accuracy: 0.9341 - precision: 0.9364 - recall: 0.9537 - val_loss: 0.6116 - val_accuracy: 0.7595 - val_precision: 0.7917 - val_recall: 0.8085\n",
            "Epoch 64/200\n",
            "23/23 [==============================] - 2s 99ms/step - loss: 0.1810 - accuracy: 0.9231 - precision: 0.9123 - recall: 0.9630 - val_loss: 0.3610 - val_accuracy: 0.8608 - val_precision: 0.9091 - val_recall: 0.8511\n",
            "Epoch 65/200\n",
            "23/23 [==============================] - 2s 97ms/step - loss: 0.2028 - accuracy: 0.9176 - precision: 0.9346 - recall: 0.9259 - val_loss: 0.5013 - val_accuracy: 0.8101 - val_precision: 0.8077 - val_recall: 0.8936\n",
            "Epoch 66/200\n",
            "23/23 [==============================] - 2s 99ms/step - loss: 0.1792 - accuracy: 0.9451 - precision: 0.9375 - recall: 0.9722 - val_loss: 0.4808 - val_accuracy: 0.8228 - val_precision: 0.8511 - val_recall: 0.8511\n",
            "Epoch 67/200\n",
            "23/23 [==============================] - 2s 98ms/step - loss: 0.1982 - accuracy: 0.8901 - precision: 0.9151 - recall: 0.8981 - val_loss: 0.3803 - val_accuracy: 0.8481 - val_precision: 0.8571 - val_recall: 0.8936\n",
            "Epoch 68/200\n",
            "23/23 [==============================] - 2s 101ms/step - loss: 0.2026 - accuracy: 0.9176 - precision: 0.9189 - recall: 0.9444 - val_loss: 0.5216 - val_accuracy: 0.7595 - val_precision: 0.7917 - val_recall: 0.8085\n",
            "Epoch 69/200\n",
            "23/23 [==============================] - 2s 106ms/step - loss: 0.1638 - accuracy: 0.9341 - precision: 0.9444 - recall: 0.9444 - val_loss: 0.4181 - val_accuracy: 0.8608 - val_precision: 0.8750 - val_recall: 0.8936\n",
            "Epoch 70/200\n",
            "23/23 [==============================] - 2s 96ms/step - loss: 0.1791 - accuracy: 0.9341 - precision: 0.9364 - recall: 0.9537 - val_loss: 0.3855 - val_accuracy: 0.8354 - val_precision: 0.8148 - val_recall: 0.9362\n",
            "Epoch 71/200\n",
            "23/23 [==============================] - 2s 97ms/step - loss: 0.1463 - accuracy: 0.9396 - precision: 0.9292 - recall: 0.9722 - val_loss: 0.4462 - val_accuracy: 0.8101 - val_precision: 0.8810 - val_recall: 0.7872\n",
            "Epoch 72/200\n",
            "23/23 [==============================] - 2s 95ms/step - loss: 0.1650 - accuracy: 0.9396 - precision: 0.9450 - recall: 0.9537 - val_loss: 0.4915 - val_accuracy: 0.7975 - val_precision: 0.8444 - val_recall: 0.8085\n",
            "Epoch 73/200\n",
            "23/23 [==============================] - 2s 97ms/step - loss: 0.1759 - accuracy: 0.9066 - precision: 0.9099 - recall: 0.9352 - val_loss: 0.4835 - val_accuracy: 0.7848 - val_precision: 0.8409 - val_recall: 0.7872\n",
            "Epoch 74/200\n",
            "23/23 [==============================] - 2s 95ms/step - loss: 0.1353 - accuracy: 0.9396 - precision: 0.9533 - recall: 0.9444 - val_loss: 0.4294 - val_accuracy: 0.7975 - val_precision: 0.8163 - val_recall: 0.8511\n",
            "Epoch 75/200\n",
            "23/23 [==============================] - 2s 95ms/step - loss: 0.1714 - accuracy: 0.9341 - precision: 0.9615 - recall: 0.9259 - val_loss: 0.4367 - val_accuracy: 0.8101 - val_precision: 0.8077 - val_recall: 0.8936\n",
            "Epoch 76/200\n",
            "23/23 [==============================] - 2s 96ms/step - loss: 0.2274 - accuracy: 0.9176 - precision: 0.9115 - recall: 0.9537 - val_loss: 0.4160 - val_accuracy: 0.8481 - val_precision: 0.9268 - val_recall: 0.8085\n",
            "Epoch 77/200\n",
            "23/23 [==============================] - 2s 97ms/step - loss: 0.1137 - accuracy: 0.9560 - precision: 0.9717 - recall: 0.9537 - val_loss: 0.5946 - val_accuracy: 0.7722 - val_precision: 0.7636 - val_recall: 0.8936\n",
            "Epoch 78/200\n",
            "23/23 [==============================] - 2s 96ms/step - loss: 0.1744 - accuracy: 0.9286 - precision: 0.9524 - recall: 0.9259 - val_loss: 0.5778 - val_accuracy: 0.7468 - val_precision: 0.7143 - val_recall: 0.9574\n",
            "Epoch 79/200\n",
            "23/23 [==============================] - 2s 98ms/step - loss: 0.2130 - accuracy: 0.8791 - precision: 0.9057 - recall: 0.8889 - val_loss: 0.5846 - val_accuracy: 0.7848 - val_precision: 0.7885 - val_recall: 0.8723\n",
            "Epoch 80/200\n",
            "23/23 [==============================] - 2s 97ms/step - loss: 0.2578 - accuracy: 0.8956 - precision: 0.9159 - recall: 0.9074 - val_loss: 0.5613 - val_accuracy: 0.7215 - val_precision: 0.7119 - val_recall: 0.8936\n",
            "Epoch 81/200\n",
            "23/23 [==============================] - 2s 96ms/step - loss: 0.2012 - accuracy: 0.9231 - precision: 0.9352 - recall: 0.9352 - val_loss: 0.4450 - val_accuracy: 0.7722 - val_precision: 0.7544 - val_recall: 0.9149\n",
            "Epoch 82/200\n",
            "23/23 [==============================] - 2s 98ms/step - loss: 0.1766 - accuracy: 0.9176 - precision: 0.9189 - recall: 0.9444 - val_loss: 0.5699 - val_accuracy: 0.7848 - val_precision: 0.7778 - val_recall: 0.8936\n",
            "Epoch 83/200\n",
            "23/23 [==============================] - 2s 97ms/step - loss: 0.1090 - accuracy: 0.9615 - precision: 0.9550 - recall: 0.9815 - val_loss: 0.3998 - val_accuracy: 0.8608 - val_precision: 0.8750 - val_recall: 0.8936\n",
            "Epoch 84/200\n",
            "23/23 [==============================] - 2s 96ms/step - loss: 0.1936 - accuracy: 0.9231 - precision: 0.9352 - recall: 0.9352 - val_loss: 0.4539 - val_accuracy: 0.7848 - val_precision: 0.7679 - val_recall: 0.9149\n",
            "Epoch 85/200\n",
            "23/23 [==============================] - 2s 97ms/step - loss: 0.1586 - accuracy: 0.9231 - precision: 0.9273 - recall: 0.9444 - val_loss: 0.3589 - val_accuracy: 0.8481 - val_precision: 0.9268 - val_recall: 0.8085\n",
            "Epoch 86/200\n",
            "23/23 [==============================] - 2s 95ms/step - loss: 0.1465 - accuracy: 0.9451 - precision: 0.9298 - recall: 0.9815 - val_loss: 0.4504 - val_accuracy: 0.8354 - val_precision: 0.8542 - val_recall: 0.8723\n",
            "Epoch 87/200\n",
            "23/23 [==============================] - 2s 97ms/step - loss: 0.1497 - accuracy: 0.9341 - precision: 0.9364 - recall: 0.9537 - val_loss: 0.4812 - val_accuracy: 0.8354 - val_precision: 0.9048 - val_recall: 0.8085\n",
            "Epoch 88/200\n",
            "23/23 [==============================] - 2s 99ms/step - loss: 0.1723 - accuracy: 0.9286 - precision: 0.9358 - recall: 0.9444 - val_loss: 0.4672 - val_accuracy: 0.8228 - val_precision: 0.8511 - val_recall: 0.8511\n",
            "Epoch 89/200\n",
            "23/23 [==============================] - 2s 98ms/step - loss: 0.1448 - accuracy: 0.9615 - precision: 0.9633 - recall: 0.9722 - val_loss: 0.5522 - val_accuracy: 0.7848 - val_precision: 0.7885 - val_recall: 0.8723\n",
            "Epoch 90/200\n",
            "23/23 [==============================] - 2s 97ms/step - loss: 0.1285 - accuracy: 0.9505 - precision: 0.9459 - recall: 0.9722 - val_loss: 0.3900 - val_accuracy: 0.8608 - val_precision: 0.9091 - val_recall: 0.8511\n",
            "Epoch 91/200\n",
            "23/23 [==============================] - 2s 97ms/step - loss: 0.1324 - accuracy: 0.9451 - precision: 0.9455 - recall: 0.9630 - val_loss: 0.4488 - val_accuracy: 0.8608 - val_precision: 0.8913 - val_recall: 0.8723\n",
            "Epoch 92/200\n",
            "23/23 [==============================] - 2s 98ms/step - loss: 0.1603 - accuracy: 0.9231 - precision: 0.9196 - recall: 0.9537 - val_loss: 0.6259 - val_accuracy: 0.7848 - val_precision: 0.7885 - val_recall: 0.8723\n",
            "Epoch 93/200\n",
            "23/23 [==============================] - 2s 96ms/step - loss: 0.1846 - accuracy: 0.9396 - precision: 0.9619 - recall: 0.9352 - val_loss: 0.5238 - val_accuracy: 0.7342 - val_precision: 0.7241 - val_recall: 0.8936\n",
            "Epoch 94/200\n",
            "23/23 [==============================] - 2s 96ms/step - loss: 0.1606 - accuracy: 0.9505 - precision: 0.9459 - recall: 0.9722 - val_loss: 0.4675 - val_accuracy: 0.8101 - val_precision: 0.7963 - val_recall: 0.9149\n",
            "Epoch 95/200\n",
            "23/23 [==============================] - 2s 100ms/step - loss: 0.1314 - accuracy: 0.9396 - precision: 0.9292 - recall: 0.9722 - val_loss: 0.3515 - val_accuracy: 0.8608 - val_precision: 0.8750 - val_recall: 0.8936\n",
            "Epoch 96/200\n",
            "23/23 [==============================] - 2s 99ms/step - loss: 0.1362 - accuracy: 0.9451 - precision: 0.9375 - recall: 0.9722 - val_loss: 0.5376 - val_accuracy: 0.8228 - val_precision: 0.8667 - val_recall: 0.8298\n",
            "Epoch 97/200\n",
            "23/23 [==============================] - 2s 105ms/step - loss: 0.1863 - accuracy: 0.9121 - precision: 0.9259 - recall: 0.9259 - val_loss: 0.4120 - val_accuracy: 0.8101 - val_precision: 0.8810 - val_recall: 0.7872\n",
            "Epoch 98/200\n",
            "23/23 [==============================] - 2s 97ms/step - loss: 0.1265 - accuracy: 0.9451 - precision: 0.9537 - recall: 0.9537 - val_loss: 0.4961 - val_accuracy: 0.7848 - val_precision: 0.7885 - val_recall: 0.8723\n",
            "Epoch 99/200\n",
            "23/23 [==============================] - 2s 98ms/step - loss: 0.1037 - accuracy: 0.9505 - precision: 0.9541 - recall: 0.9630 - val_loss: 0.7723 - val_accuracy: 0.7342 - val_precision: 0.7097 - val_recall: 0.9362\n",
            "Epoch 100/200\n",
            "23/23 [==============================] - 2s 97ms/step - loss: 0.1510 - accuracy: 0.9560 - precision: 0.9630 - recall: 0.9630 - val_loss: 0.6436 - val_accuracy: 0.7468 - val_precision: 0.7288 - val_recall: 0.9149\n",
            "Epoch 101/200\n",
            "23/23 [==============================] - 2s 98ms/step - loss: 0.1312 - accuracy: 0.9396 - precision: 0.9533 - recall: 0.9444 - val_loss: 0.5030 - val_accuracy: 0.7722 - val_precision: 0.7736 - val_recall: 0.8723\n",
            "Epoch 102/200\n",
            "23/23 [==============================] - 2s 101ms/step - loss: 0.1186 - accuracy: 0.9615 - precision: 0.9633 - recall: 0.9722 - val_loss: 0.5371 - val_accuracy: 0.7975 - val_precision: 0.7818 - val_recall: 0.9149\n",
            "Epoch 103/200\n",
            "23/23 [==============================] - 2s 99ms/step - loss: 0.1038 - accuracy: 0.9505 - precision: 0.9381 - recall: 0.9815 - val_loss: 0.3371 - val_accuracy: 0.8481 - val_precision: 0.8723 - val_recall: 0.8723\n",
            "Epoch 104/200\n",
            "23/23 [==============================] - 2s 99ms/step - loss: 0.1305 - accuracy: 0.9341 - precision: 0.9444 - recall: 0.9444 - val_loss: 0.5208 - val_accuracy: 0.8608 - val_precision: 0.9091 - val_recall: 0.8511\n",
            "Epoch 105/200\n",
            "23/23 [==============================] - 2s 97ms/step - loss: 0.1477 - accuracy: 0.9396 - precision: 0.9369 - recall: 0.9630 - val_loss: 0.4171 - val_accuracy: 0.8101 - val_precision: 0.8200 - val_recall: 0.8723\n",
            "Epoch 106/200\n",
            "23/23 [==============================] - 2s 95ms/step - loss: 0.1748 - accuracy: 0.9286 - precision: 0.9358 - recall: 0.9444 - val_loss: 0.4710 - val_accuracy: 0.7975 - val_precision: 0.8298 - val_recall: 0.8298\n",
            "Epoch 107/200\n",
            "23/23 [==============================] - 2s 95ms/step - loss: 0.0920 - accuracy: 0.9670 - precision: 0.9811 - recall: 0.9630 - val_loss: 0.8021 - val_accuracy: 0.7342 - val_precision: 0.7321 - val_recall: 0.8723\n",
            "Epoch 108/200\n",
            "23/23 [==============================] - 2s 94ms/step - loss: 0.1258 - accuracy: 0.9615 - precision: 0.9633 - recall: 0.9722 - val_loss: 0.4412 - val_accuracy: 0.8228 - val_precision: 0.8511 - val_recall: 0.8511\n",
            "Epoch 109/200\n",
            "23/23 [==============================] - 2s 97ms/step - loss: 0.1592 - accuracy: 0.9286 - precision: 0.9439 - recall: 0.9352 - val_loss: 0.4521 - val_accuracy: 0.8101 - val_precision: 0.8077 - val_recall: 0.8936\n",
            "Epoch 110/200\n",
            "23/23 [==============================] - 2s 97ms/step - loss: 0.1051 - accuracy: 0.9560 - precision: 0.9630 - recall: 0.9630 - val_loss: 0.6012 - val_accuracy: 0.7722 - val_precision: 0.7636 - val_recall: 0.8936\n",
            "Epoch 111/200\n",
            "23/23 [==============================] - 2s 96ms/step - loss: 0.1163 - accuracy: 0.9560 - precision: 0.9630 - recall: 0.9630 - val_loss: 0.3644 - val_accuracy: 0.8228 - val_precision: 0.8667 - val_recall: 0.8298\n",
            "Epoch 112/200\n",
            "23/23 [==============================] - 2s 96ms/step - loss: 0.1488 - accuracy: 0.9505 - precision: 0.9626 - recall: 0.9537 - val_loss: 0.3778 - val_accuracy: 0.8228 - val_precision: 0.8235 - val_recall: 0.8936\n",
            "Epoch 113/200\n",
            "23/23 [==============================] - 2s 97ms/step - loss: 0.1635 - accuracy: 0.9286 - precision: 0.9439 - recall: 0.9352 - val_loss: 0.4373 - val_accuracy: 0.7848 - val_precision: 0.8125 - val_recall: 0.8298\n",
            "Epoch 114/200\n",
            "23/23 [==============================] - 2s 97ms/step - loss: 0.1470 - accuracy: 0.9505 - precision: 0.9459 - recall: 0.9722 - val_loss: 0.3370 - val_accuracy: 0.8734 - val_precision: 0.8627 - val_recall: 0.9362\n",
            "Epoch 115/200\n",
            "23/23 [==============================] - 2s 98ms/step - loss: 0.1162 - accuracy: 0.9560 - precision: 0.9545 - recall: 0.9722 - val_loss: 0.4349 - val_accuracy: 0.8608 - val_precision: 0.8462 - val_recall: 0.9362\n",
            "Epoch 116/200\n",
            "23/23 [==============================] - 2s 96ms/step - loss: 0.1496 - accuracy: 0.9505 - precision: 0.9459 - recall: 0.9722 - val_loss: 0.4814 - val_accuracy: 0.8101 - val_precision: 0.8810 - val_recall: 0.7872\n",
            "Epoch 117/200\n",
            "23/23 [==============================] - 2s 96ms/step - loss: 0.1877 - accuracy: 0.9505 - precision: 0.9459 - recall: 0.9722 - val_loss: 0.4677 - val_accuracy: 0.8608 - val_precision: 0.9091 - val_recall: 0.8511\n",
            "Epoch 118/200\n",
            "23/23 [==============================] - 2s 95ms/step - loss: 0.1269 - accuracy: 0.9451 - precision: 0.9623 - recall: 0.9444 - val_loss: 0.6703 - val_accuracy: 0.8228 - val_precision: 0.8235 - val_recall: 0.8936\n",
            "Epoch 119/200\n",
            "23/23 [==============================] - 2s 96ms/step - loss: 0.1382 - accuracy: 0.9451 - precision: 0.9455 - recall: 0.9630 - val_loss: 0.4346 - val_accuracy: 0.8228 - val_precision: 0.8511 - val_recall: 0.8511\n",
            "Epoch 120/200\n",
            "23/23 [==============================] - 2s 97ms/step - loss: 0.1057 - accuracy: 0.9670 - precision: 0.9636 - recall: 0.9815 - val_loss: 0.3844 - val_accuracy: 0.7975 - val_precision: 0.7925 - val_recall: 0.8936\n",
            "Epoch 121/200\n",
            "23/23 [==============================] - 2s 98ms/step - loss: 0.1208 - accuracy: 0.9505 - precision: 0.9381 - recall: 0.9815 - val_loss: 0.5957 - val_accuracy: 0.7848 - val_precision: 0.8409 - val_recall: 0.7872\n",
            "Epoch 122/200\n",
            "23/23 [==============================] - 2s 105ms/step - loss: 0.1401 - accuracy: 0.9396 - precision: 0.9450 - recall: 0.9537 - val_loss: 0.5991 - val_accuracy: 0.8101 - val_precision: 0.8636 - val_recall: 0.8085\n",
            "Epoch 123/200\n",
            "23/23 [==============================] - 2s 97ms/step - loss: 0.1619 - accuracy: 0.9286 - precision: 0.9524 - recall: 0.9259 - val_loss: 0.5491 - val_accuracy: 0.7848 - val_precision: 0.7679 - val_recall: 0.9149\n",
            "Epoch 124/200\n",
            "23/23 [==============================] - 2s 98ms/step - loss: 0.1461 - accuracy: 0.9396 - precision: 0.9533 - recall: 0.9444 - val_loss: 0.5222 - val_accuracy: 0.7722 - val_precision: 0.7544 - val_recall: 0.9149\n",
            "Epoch 125/200\n",
            "23/23 [==============================] - 2s 96ms/step - loss: 0.0981 - accuracy: 0.9670 - precision: 0.9636 - recall: 0.9815 - val_loss: 0.4392 - val_accuracy: 0.8228 - val_precision: 0.8511 - val_recall: 0.8511\n",
            "Epoch 126/200\n",
            "23/23 [==============================] - 2s 96ms/step - loss: 0.1329 - accuracy: 0.9451 - precision: 0.9537 - recall: 0.9537 - val_loss: 0.3935 - val_accuracy: 0.8861 - val_precision: 0.9318 - val_recall: 0.8723\n",
            "Epoch 127/200\n",
            "23/23 [==============================] - 2s 95ms/step - loss: 0.1762 - accuracy: 0.9560 - precision: 0.9545 - recall: 0.9722 - val_loss: 0.5237 - val_accuracy: 0.8228 - val_precision: 0.8837 - val_recall: 0.8085\n",
            "Epoch 128/200\n",
            "23/23 [==============================] - 2s 95ms/step - loss: 0.1022 - accuracy: 0.9615 - precision: 0.9633 - recall: 0.9722 - val_loss: 0.5491 - val_accuracy: 0.7595 - val_precision: 0.7800 - val_recall: 0.8298\n",
            "Epoch 129/200\n",
            "23/23 [==============================] - 2s 97ms/step - loss: 0.1511 - accuracy: 0.9396 - precision: 0.9533 - recall: 0.9444 - val_loss: 0.6200 - val_accuracy: 0.7975 - val_precision: 0.7719 - val_recall: 0.9362\n",
            "Epoch 130/200\n",
            "23/23 [==============================] - 2s 96ms/step - loss: 0.1174 - accuracy: 0.9615 - precision: 0.9550 - recall: 0.9815 - val_loss: 0.3613 - val_accuracy: 0.8734 - val_precision: 0.8627 - val_recall: 0.9362\n",
            "Epoch 131/200\n",
            "23/23 [==============================] - 2s 95ms/step - loss: 0.1453 - accuracy: 0.9286 - precision: 0.9358 - recall: 0.9444 - val_loss: 0.6871 - val_accuracy: 0.7215 - val_precision: 0.7273 - val_recall: 0.8511\n",
            "Epoch 132/200\n",
            "23/23 [==============================] - 2s 99ms/step - loss: 0.1295 - accuracy: 0.9451 - precision: 0.9623 - recall: 0.9444 - val_loss: 0.5801 - val_accuracy: 0.7975 - val_precision: 0.8039 - val_recall: 0.8723\n",
            "Epoch 133/200\n",
            "23/23 [==============================] - 2s 98ms/step - loss: 0.1665 - accuracy: 0.9286 - precision: 0.9439 - recall: 0.9352 - val_loss: 0.4366 - val_accuracy: 0.8354 - val_precision: 0.8036 - val_recall: 0.9574\n",
            "Epoch 134/200\n",
            "23/23 [==============================] - 2s 98ms/step - loss: 0.1635 - accuracy: 0.9396 - precision: 0.9369 - recall: 0.9630 - val_loss: 0.5337 - val_accuracy: 0.7975 - val_precision: 0.7719 - val_recall: 0.9362\n",
            "Epoch 135/200\n",
            "23/23 [==============================] - 2s 98ms/step - loss: 0.1092 - accuracy: 0.9725 - precision: 0.9640 - recall: 0.9907 - val_loss: 0.5233 - val_accuracy: 0.8608 - val_precision: 0.8750 - val_recall: 0.8936\n",
            "Epoch 136/200\n",
            "23/23 [==============================] - 2s 98ms/step - loss: 0.1394 - accuracy: 0.9451 - precision: 0.9455 - recall: 0.9630 - val_loss: 0.5225 - val_accuracy: 0.7848 - val_precision: 0.7885 - val_recall: 0.8723\n",
            "Epoch 137/200\n",
            "23/23 [==============================] - 2s 97ms/step - loss: 0.1518 - accuracy: 0.9341 - precision: 0.9444 - recall: 0.9444 - val_loss: 0.4804 - val_accuracy: 0.7848 - val_precision: 0.8000 - val_recall: 0.8511\n",
            "Epoch 138/200\n",
            "23/23 [==============================] - 2s 98ms/step - loss: 0.0913 - accuracy: 0.9780 - precision: 0.9727 - recall: 0.9907 - val_loss: 0.5028 - val_accuracy: 0.8228 - val_precision: 0.8367 - val_recall: 0.8723\n",
            "Epoch 139/200\n",
            "23/23 [==============================] - 2s 97ms/step - loss: 0.1525 - accuracy: 0.9560 - precision: 0.9630 - recall: 0.9630 - val_loss: 0.5265 - val_accuracy: 0.8481 - val_precision: 0.9070 - val_recall: 0.8298\n",
            "Epoch 140/200\n",
            "23/23 [==============================] - 2s 95ms/step - loss: 0.1646 - accuracy: 0.9505 - precision: 0.9626 - recall: 0.9537 - val_loss: 0.4818 - val_accuracy: 0.8101 - val_precision: 0.8333 - val_recall: 0.8511\n",
            "Epoch 141/200\n",
            "23/23 [==============================] - 2s 97ms/step - loss: 0.0826 - accuracy: 0.9670 - precision: 0.9722 - recall: 0.9722 - val_loss: 0.6462 - val_accuracy: 0.7595 - val_precision: 0.8043 - val_recall: 0.7872\n",
            "Epoch 142/200\n",
            "23/23 [==============================] - 2s 96ms/step - loss: 0.1297 - accuracy: 0.9286 - precision: 0.9358 - recall: 0.9444 - val_loss: 0.6410 - val_accuracy: 0.7468 - val_precision: 0.7288 - val_recall: 0.9149\n",
            "Epoch 143/200\n",
            "23/23 [==============================] - 2s 98ms/step - loss: 0.1511 - accuracy: 0.9396 - precision: 0.9533 - recall: 0.9444 - val_loss: 0.5343 - val_accuracy: 0.7468 - val_precision: 0.7547 - val_recall: 0.8511\n",
            "Epoch 144/200\n",
            "23/23 [==============================] - 2s 96ms/step - loss: 0.1349 - accuracy: 0.9286 - precision: 0.9279 - recall: 0.9537 - val_loss: 0.3158 - val_accuracy: 0.8354 - val_precision: 0.8696 - val_recall: 0.8511\n",
            "Epoch 145/200\n",
            "23/23 [==============================] - 2s 97ms/step - loss: 0.1121 - accuracy: 0.9560 - precision: 0.9545 - recall: 0.9722 - val_loss: 0.6622 - val_accuracy: 0.7975 - val_precision: 0.7818 - val_recall: 0.9149\n",
            "Epoch 146/200\n",
            "23/23 [==============================] - 2s 97ms/step - loss: 0.0997 - accuracy: 0.9670 - precision: 0.9722 - recall: 0.9722 - val_loss: 0.5122 - val_accuracy: 0.8228 - val_precision: 0.8000 - val_recall: 0.9362\n",
            "Epoch 147/200\n",
            "23/23 [==============================] - 2s 101ms/step - loss: 0.0804 - accuracy: 0.9725 - precision: 0.9640 - recall: 0.9907 - val_loss: 0.5614 - val_accuracy: 0.8101 - val_precision: 0.8200 - val_recall: 0.8723\n",
            "Epoch 148/200\n",
            "23/23 [==============================] - 2s 104ms/step - loss: 0.1242 - accuracy: 0.9451 - precision: 0.9375 - recall: 0.9722 - val_loss: 0.5340 - val_accuracy: 0.8101 - val_precision: 0.9000 - val_recall: 0.7660\n",
            "Epoch 149/200\n",
            "23/23 [==============================] - 2s 97ms/step - loss: 0.1189 - accuracy: 0.9505 - precision: 0.9626 - recall: 0.9537 - val_loss: 0.5914 - val_accuracy: 0.8228 - val_precision: 0.8235 - val_recall: 0.8936\n",
            "Epoch 150/200\n",
            "23/23 [==============================] - 2s 95ms/step - loss: 0.0874 - accuracy: 0.9725 - precision: 0.9558 - recall: 1.0000 - val_loss: 0.5407 - val_accuracy: 0.7975 - val_precision: 0.8163 - val_recall: 0.8511\n",
            "Epoch 151/200\n",
            "23/23 [==============================] - 2s 96ms/step - loss: 0.1221 - accuracy: 0.9725 - precision: 0.9813 - recall: 0.9722 - val_loss: 0.4799 - val_accuracy: 0.8228 - val_precision: 0.8511 - val_recall: 0.8511\n",
            "Epoch 152/200\n",
            "23/23 [==============================] - 2s 95ms/step - loss: 0.1417 - accuracy: 0.9286 - precision: 0.9358 - recall: 0.9444 - val_loss: 0.6569 - val_accuracy: 0.7975 - val_precision: 0.8039 - val_recall: 0.8723\n",
            "Epoch 153/200\n",
            "23/23 [==============================] - 2s 97ms/step - loss: 0.1074 - accuracy: 0.9615 - precision: 0.9810 - recall: 0.9537 - val_loss: 0.6030 - val_accuracy: 0.7722 - val_precision: 0.7636 - val_recall: 0.8936\n",
            "Epoch 154/200\n",
            "23/23 [==============================] - 2s 96ms/step - loss: 0.1454 - accuracy: 0.9505 - precision: 0.9459 - recall: 0.9722 - val_loss: 0.5951 - val_accuracy: 0.7468 - val_precision: 0.8000 - val_recall: 0.7660\n",
            "Epoch 155/200\n",
            "23/23 [==============================] - 2s 96ms/step - loss: 0.1767 - accuracy: 0.9341 - precision: 0.9444 - recall: 0.9444 - val_loss: 0.5054 - val_accuracy: 0.8228 - val_precision: 0.8113 - val_recall: 0.9149\n",
            "Epoch 156/200\n",
            "23/23 [==============================] - 2s 95ms/step - loss: 0.1673 - accuracy: 0.9286 - precision: 0.9279 - recall: 0.9537 - val_loss: 0.4731 - val_accuracy: 0.8228 - val_precision: 0.8367 - val_recall: 0.8723\n",
            "Epoch 157/200\n",
            "23/23 [==============================] - 2s 95ms/step - loss: 0.1235 - accuracy: 0.9505 - precision: 0.9541 - recall: 0.9630 - val_loss: 0.4772 - val_accuracy: 0.8101 - val_precision: 0.8200 - val_recall: 0.8723\n",
            "Epoch 158/200\n",
            "23/23 [==============================] - 2s 98ms/step - loss: 0.1128 - accuracy: 0.9560 - precision: 0.9464 - recall: 0.9815 - val_loss: 0.3760 - val_accuracy: 0.8987 - val_precision: 0.8824 - val_recall: 0.9574\n",
            "Epoch 159/200\n",
            "23/23 [==============================] - 2s 96ms/step - loss: 0.1110 - accuracy: 0.9341 - precision: 0.9211 - recall: 0.9722 - val_loss: 0.3689 - val_accuracy: 0.8354 - val_precision: 0.8864 - val_recall: 0.8298\n",
            "Epoch 160/200\n",
            "23/23 [==============================] - 2s 97ms/step - loss: 0.1162 - accuracy: 0.9560 - precision: 0.9464 - recall: 0.9815 - val_loss: 0.3773 - val_accuracy: 0.8481 - val_precision: 0.8723 - val_recall: 0.8723\n",
            "Epoch 161/200\n",
            "23/23 [==============================] - 2s 97ms/step - loss: 0.1158 - accuracy: 0.9505 - precision: 0.9541 - recall: 0.9630 - val_loss: 0.7426 - val_accuracy: 0.7595 - val_precision: 0.7500 - val_recall: 0.8936\n",
            "Epoch 162/200\n",
            "23/23 [==============================] - 2s 102ms/step - loss: 0.0604 - accuracy: 0.9835 - precision: 0.9907 - recall: 0.9815 - val_loss: 0.5259 - val_accuracy: 0.8228 - val_precision: 0.8113 - val_recall: 0.9149\n",
            "Epoch 163/200\n",
            "23/23 [==============================] - 2s 104ms/step - loss: 0.1346 - accuracy: 0.9451 - precision: 0.9375 - recall: 0.9722 - val_loss: 0.6182 - val_accuracy: 0.7342 - val_precision: 0.7600 - val_recall: 0.8085\n",
            "Epoch 164/200\n",
            "23/23 [==============================] - 2s 103ms/step - loss: 0.0835 - accuracy: 0.9670 - precision: 0.9722 - recall: 0.9722 - val_loss: 0.4648 - val_accuracy: 0.8101 - val_precision: 0.7963 - val_recall: 0.9149\n",
            "Epoch 165/200\n",
            "23/23 [==============================] - 2s 102ms/step - loss: 0.0748 - accuracy: 0.9725 - precision: 0.9725 - recall: 0.9815 - val_loss: 0.4894 - val_accuracy: 0.8228 - val_precision: 0.8113 - val_recall: 0.9149\n",
            "Epoch 166/200\n",
            "23/23 [==============================] - 2s 100ms/step - loss: 0.1017 - accuracy: 0.9560 - precision: 0.9545 - recall: 0.9722 - val_loss: 0.5730 - val_accuracy: 0.7722 - val_precision: 0.8222 - val_recall: 0.7872\n",
            "Epoch 167/200\n",
            "23/23 [==============================] - 2s 96ms/step - loss: 0.0980 - accuracy: 0.9670 - precision: 0.9722 - recall: 0.9722 - val_loss: 0.3972 - val_accuracy: 0.8101 - val_precision: 0.7963 - val_recall: 0.9149\n",
            "Epoch 168/200\n",
            "23/23 [==============================] - 2s 98ms/step - loss: 0.0835 - accuracy: 0.9670 - precision: 0.9722 - recall: 0.9722 - val_loss: 0.6160 - val_accuracy: 0.8228 - val_precision: 0.8113 - val_recall: 0.9149\n",
            "Epoch 169/200\n",
            "23/23 [==============================] - 2s 100ms/step - loss: 0.1398 - accuracy: 0.9396 - precision: 0.9450 - recall: 0.9537 - val_loss: 0.3550 - val_accuracy: 0.8608 - val_precision: 0.9737 - val_recall: 0.7872\n",
            "Epoch 170/200\n",
            "23/23 [==============================] - 2s 99ms/step - loss: 0.1069 - accuracy: 0.9560 - precision: 0.9545 - recall: 0.9722 - val_loss: 0.4876 - val_accuracy: 0.8228 - val_precision: 0.8235 - val_recall: 0.8936\n",
            "Epoch 171/200\n",
            "23/23 [==============================] - 2s 99ms/step - loss: 0.1116 - accuracy: 0.9615 - precision: 0.9720 - recall: 0.9630 - val_loss: 0.5211 - val_accuracy: 0.7848 - val_precision: 0.7778 - val_recall: 0.8936\n",
            "Epoch 172/200\n",
            "23/23 [==============================] - 2s 101ms/step - loss: 0.1123 - accuracy: 0.9560 - precision: 0.9545 - recall: 0.9722 - val_loss: 0.4755 - val_accuracy: 0.8481 - val_precision: 0.9070 - val_recall: 0.8298\n",
            "Epoch 173/200\n",
            "23/23 [==============================] - 2s 108ms/step - loss: 0.1254 - accuracy: 0.9451 - precision: 0.9375 - recall: 0.9722 - val_loss: 0.5503 - val_accuracy: 0.7722 - val_precision: 0.7959 - val_recall: 0.8298\n",
            "Epoch 174/200\n",
            "23/23 [==============================] - 2s 98ms/step - loss: 0.0937 - accuracy: 0.9560 - precision: 0.9630 - recall: 0.9630 - val_loss: 0.7426 - val_accuracy: 0.7848 - val_precision: 0.7679 - val_recall: 0.9149\n",
            "Epoch 175/200\n",
            "23/23 [==============================] - 2s 97ms/step - loss: 0.0794 - accuracy: 0.9725 - precision: 0.9640 - recall: 0.9907 - val_loss: 0.6734 - val_accuracy: 0.7722 - val_precision: 0.8085 - val_recall: 0.8085\n",
            "Epoch 176/200\n",
            "23/23 [==============================] - 2s 98ms/step - loss: 0.1256 - accuracy: 0.9396 - precision: 0.9533 - recall: 0.9444 - val_loss: 0.3323 - val_accuracy: 0.8608 - val_precision: 0.8600 - val_recall: 0.9149\n",
            "Epoch 177/200\n",
            "23/23 [==============================] - 2s 96ms/step - loss: 0.0825 - accuracy: 0.9780 - precision: 0.9727 - recall: 0.9907 - val_loss: 0.5691 - val_accuracy: 0.8354 - val_precision: 0.8696 - val_recall: 0.8511\n",
            "Epoch 178/200\n",
            "23/23 [==============================] - 2s 98ms/step - loss: 0.1403 - accuracy: 0.9451 - precision: 0.9537 - recall: 0.9537 - val_loss: 0.3391 - val_accuracy: 0.8354 - val_precision: 0.8269 - val_recall: 0.9149\n",
            "Epoch 179/200\n",
            "23/23 [==============================] - 2s 96ms/step - loss: 0.0996 - accuracy: 0.9670 - precision: 0.9811 - recall: 0.9630 - val_loss: 0.5303 - val_accuracy: 0.8101 - val_precision: 0.8200 - val_recall: 0.8723\n",
            "Epoch 180/200\n",
            "23/23 [==============================] - 2s 96ms/step - loss: 0.0947 - accuracy: 0.9780 - precision: 0.9727 - recall: 0.9907 - val_loss: 0.4915 - val_accuracy: 0.7848 - val_precision: 0.8571 - val_recall: 0.7660\n",
            "Epoch 181/200\n",
            "23/23 [==============================] - 2s 96ms/step - loss: 0.0768 - accuracy: 0.9670 - precision: 0.9722 - recall: 0.9722 - val_loss: 0.5021 - val_accuracy: 0.8354 - val_precision: 0.8542 - val_recall: 0.8723\n",
            "Epoch 182/200\n",
            "23/23 [==============================] - 2s 95ms/step - loss: 0.1461 - accuracy: 0.9341 - precision: 0.9364 - recall: 0.9537 - val_loss: 0.5307 - val_accuracy: 0.7975 - val_precision: 0.7925 - val_recall: 0.8936\n",
            "Epoch 183/200\n",
            "23/23 [==============================] - 2s 98ms/step - loss: 0.0791 - accuracy: 0.9725 - precision: 0.9558 - recall: 1.0000 - val_loss: 0.3881 - val_accuracy: 0.8354 - val_precision: 0.8269 - val_recall: 0.9149\n",
            "Epoch 184/200\n",
            "23/23 [==============================] - 2s 96ms/step - loss: 0.0736 - accuracy: 0.9780 - precision: 1.0000 - recall: 0.9630 - val_loss: 0.3828 - val_accuracy: 0.8228 - val_precision: 0.7895 - val_recall: 0.9574\n",
            "Epoch 185/200\n",
            "23/23 [==============================] - 2s 97ms/step - loss: 0.0699 - accuracy: 0.9780 - precision: 0.9727 - recall: 0.9907 - val_loss: 0.4708 - val_accuracy: 0.8101 - val_precision: 0.8200 - val_recall: 0.8723\n",
            "Epoch 186/200\n",
            "23/23 [==============================] - 2s 97ms/step - loss: 0.1078 - accuracy: 0.9615 - precision: 0.9469 - recall: 0.9907 - val_loss: 0.5078 - val_accuracy: 0.8608 - val_precision: 0.8750 - val_recall: 0.8936\n",
            "Epoch 187/200\n",
            "23/23 [==============================] - 2s 98ms/step - loss: 0.0867 - accuracy: 0.9725 - precision: 0.9725 - recall: 0.9815 - val_loss: 0.4118 - val_accuracy: 0.7975 - val_precision: 0.7627 - val_recall: 0.9574\n",
            "Epoch 188/200\n",
            "23/23 [==============================] - 2s 97ms/step - loss: 0.1071 - accuracy: 0.9560 - precision: 0.9630 - recall: 0.9630 - val_loss: 0.5365 - val_accuracy: 0.8354 - val_precision: 0.8542 - val_recall: 0.8723\n",
            "Epoch 189/200\n",
            "23/23 [==============================] - 2s 99ms/step - loss: 0.1060 - accuracy: 0.9560 - precision: 0.9717 - recall: 0.9537 - val_loss: 0.5176 - val_accuracy: 0.8101 - val_precision: 0.8200 - val_recall: 0.8723\n",
            "Epoch 190/200\n",
            "23/23 [==============================] - 2s 97ms/step - loss: 0.0781 - accuracy: 0.9780 - precision: 0.9727 - recall: 0.9907 - val_loss: 0.5355 - val_accuracy: 0.7975 - val_precision: 0.8780 - val_recall: 0.7660\n",
            "Epoch 191/200\n",
            "23/23 [==============================] - 2s 98ms/step - loss: 0.0817 - accuracy: 0.9835 - precision: 0.9817 - recall: 0.9907 - val_loss: 0.5929 - val_accuracy: 0.8101 - val_precision: 0.7963 - val_recall: 0.9149\n",
            "Epoch 192/200\n",
            "23/23 [==============================] - 2s 98ms/step - loss: 0.0888 - accuracy: 0.9615 - precision: 0.9469 - recall: 0.9907 - val_loss: 0.5729 - val_accuracy: 0.7975 - val_precision: 0.8163 - val_recall: 0.8511\n",
            "Epoch 193/200\n",
            "23/23 [==============================] - 2s 96ms/step - loss: 0.0712 - accuracy: 0.9780 - precision: 0.9815 - recall: 0.9815 - val_loss: 0.5513 - val_accuracy: 0.8481 - val_precision: 0.9268 - val_recall: 0.8085\n",
            "Epoch 194/200\n",
            "23/23 [==============================] - 2s 97ms/step - loss: 0.1377 - accuracy: 0.9615 - precision: 0.9550 - recall: 0.9815 - val_loss: 0.3763 - val_accuracy: 0.8481 - val_precision: 0.8889 - val_recall: 0.8511\n",
            "Epoch 195/200\n",
            "23/23 [==============================] - 2s 96ms/step - loss: 0.1538 - accuracy: 0.9396 - precision: 0.9709 - recall: 0.9259 - val_loss: 0.5600 - val_accuracy: 0.7722 - val_precision: 0.7458 - val_recall: 0.9362\n",
            "Epoch 196/200\n",
            "23/23 [==============================] - 2s 100ms/step - loss: 0.1146 - accuracy: 0.9615 - precision: 0.9469 - recall: 0.9907 - val_loss: 0.3698 - val_accuracy: 0.8481 - val_precision: 0.8723 - val_recall: 0.8723\n",
            "Epoch 197/200\n",
            "23/23 [==============================] - 2s 98ms/step - loss: 0.1197 - accuracy: 0.9505 - precision: 0.9381 - recall: 0.9815 - val_loss: 0.4538 - val_accuracy: 0.8228 - val_precision: 0.8511 - val_recall: 0.8511\n",
            "Epoch 198/200\n",
            "23/23 [==============================] - 2s 103ms/step - loss: 0.1086 - accuracy: 0.9505 - precision: 0.9541 - recall: 0.9630 - val_loss: 0.4282 - val_accuracy: 0.8354 - val_precision: 0.8696 - val_recall: 0.8511\n",
            "Epoch 199/200\n",
            "23/23 [==============================] - 2s 107ms/step - loss: 0.1331 - accuracy: 0.9505 - precision: 0.9541 - recall: 0.9630 - val_loss: 0.5734 - val_accuracy: 0.8101 - val_precision: 0.8478 - val_recall: 0.8298\n",
            "Epoch 200/200\n",
            "23/23 [==============================] - 2s 99ms/step - loss: 0.0993 - accuracy: 0.9615 - precision: 0.9550 - recall: 0.9815 - val_loss: 0.4747 - val_accuracy: 0.8481 - val_precision: 0.9268 - val_recall: 0.8085\n"
          ],
          "name": "stdout"
        }
      ]
    },
    {
      "cell_type": "code",
      "metadata": {
        "id": "HwJgvbdIXLxI",
        "colab_type": "code",
        "colab": {}
      },
      "source": [
        "model.save(models_directory+'HistEq_Morphological_model.h5')"
      ],
      "execution_count": 19,
      "outputs": []
    },
    {
      "cell_type": "markdown",
      "metadata": {
        "id": "rR7b9rY-q2r3",
        "colab_type": "text"
      },
      "source": [
        ""
      ]
    },
    {
      "cell_type": "code",
      "metadata": {
        "id": "OGL6hW_Ll8ac",
        "colab_type": "code",
        "colab": {}
      },
      "source": [
        "epochs=200"
      ],
      "execution_count": 20,
      "outputs": []
    },
    {
      "cell_type": "code",
      "metadata": {
        "id": "nkc9WrDCG7VY",
        "colab_type": "code",
        "colab": {
          "base_uri": "https://localhost:8080/",
          "height": 826
        },
        "outputId": "604f46a0-8412-4495-ca5e-7642302cd7a6"
      },
      "source": [
        "import matplotlib.image  as mpimg\n",
        "import matplotlib.pyplot as plt\n",
        "\n",
        "#-----------------------------------------------------------\n",
        "# Retrieve a list of list results on training and test data\n",
        "# sets for each training epoch\n",
        "#-----------------------------------------------------------\n",
        "acc=history.history['accuracy']\n",
        "val_acc=history.history['val_accuracy']\n",
        "precision=history.history['precision']\n",
        "val_precision=history.history['val_precision']\n",
        "recall=history.history['recall']\n",
        "val_recall=history.history['val_recall']\n",
        "\n",
        "epochs=range(len(acc)) # Get number of epochs\n",
        "\n",
        "#------------------------------------------------\n",
        "# Plot training and validation accuracy per epoch\n",
        "#------------------------------------------------\n",
        "plt.plot(epochs, acc, 'r', \"Training Accuracy\")\n",
        "plt.plot(epochs, val_acc, 'b', \"Validation Accuracy\")\n",
        "plt.title('Training and validation accuracy')\n",
        "plt.figure()\n",
        "\n",
        "#------------------------------------------------\n",
        "# Plot training and validation Precision per epoch\n",
        "#------------------------------------------------\n",
        "plt.plot(epochs, precision, 'r', \"Training Precision\")\n",
        "plt.plot(epochs, val_precision, 'b', \"Validation Precision\")\n",
        "plt.title('Training and validation Precision')\n",
        "plt.figure()\n",
        "\n",
        "plt.plot(epochs, recall, 'r', \"Training Recall\")\n",
        "plt.plot(epochs, val_recall, 'b', \"Validation Recall\")\n",
        "plt.title('Training and validation Recall')\n"
      ],
      "execution_count": 21,
      "outputs": [
        {
          "output_type": "execute_result",
          "data": {
            "text/plain": [
              "Text(0.5, 1.0, 'Training and validation Recall')"
            ]
          },
          "metadata": {
            "tags": []
          },
          "execution_count": 21
        },
        {
          "output_type": "display_data",
          "data": {
            "image/png": "[encoded data removed]",
            "text/plain": [
              "<Figure size 432x288 with 1 Axes>"
            ]
          },
          "metadata": {
            "tags": [],
            "needs_background": "light"
          }
        },
        {
          "output_type": "display_data",
          "data": {
            "image/png": "[encoded data removed]",
            "text/plain": [
              "<Figure size 432x288 with 1 Axes>"
            ]
          },
          "metadata": {
            "tags": [],
            "needs_background": "light"
          }
        },
        {
          "output_type": "display_data",
          "data": {
            "image/png": "[encoded data removed]",
            "text/plain": [
              "<Figure size 432x288 with 1 Axes>"
            ]
          },
          "metadata": {
            "tags": [],
            "needs_background": "light"
          }
        }
      ]
    },
    {
      "cell_type": "code",
      "metadata": {
        "id": "weBpRLfAl69Z",
        "colab_type": "code",
        "colab": {}
      },
      "source": [
        ""
      ],
      "execution_count": null,
      "outputs": []
    },
    {
      "cell_type": "code",
      "metadata": {
        "id": "A86zE99Uai-P",
        "colab_type": "code",
        "colab": {}
      },
      "source": [
        ""
      ],
      "execution_count": null,
      "outputs": []
    }
  ]
}