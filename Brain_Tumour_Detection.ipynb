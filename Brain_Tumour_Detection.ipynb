{
  "nbformat": 4,
  "nbformat_minor": 0,
  "metadata": {
    "colab": {
      "name": "Brain_Tumour_Detection.ipynb",
      "provenance": [],
      "collapsed_sections": [],
      "toc_visible": true,
      "include_colab_link": true
    },
    "kernelspec": {
      "name": "python3",
      "display_name": "Python 3"
    },
    "accelerator": "GPU"
  },
  "cells": [
    {
      "cell_type": "markdown",
      "metadata": {
        "id": "view-in-github",
        "colab_type": "text"
      },
      "source": [
        "<a href=\"https://colab.research.google.com/github/AryanMethil/Brain_Tumor_Detection/blob/master/Brain_Tumour_Detection.ipynb\" target=\"_parent\"><img src=\"https://colab.research.google.com/assets/colab-badge.svg\" alt=\"Open In Colab\"/></a>"
      ]
    },
    {
      "cell_type": "code",
      "metadata": {
        "id": "Rx6Li8Xl4Dp5",
        "colab_type": "code",
        "colab": {
          "base_uri": "https://localhost:8080/",
          "height": 34
        },
        "outputId": "5a82209a-0e4e-4e81-dfee-9cbf5f4a4d0b"
      },
      "source": [
        "from google.colab import drive\n",
        "drive.mount('/content/drive')\n"
      ],
      "execution_count": 1,
      "outputs": [
        {
          "output_type": "stream",
          "text": [
            "Mounted at /content/drive\n"
          ],
          "name": "stdout"
        }
      ]
    },
    {
      "cell_type": "code",
      "metadata": {
        "id": "KiEH_7xLicrp",
        "colab_type": "code",
        "colab": {
          "base_uri": "https://localhost:8080/",
          "height": 34
        },
        "outputId": "be0d8f1b-acab-4547-cc01-9004c02c67b3"
      },
      "source": [
        "%cd '/content/drive/My Drive/Brain_Tumor_Classification/src'"
      ],
      "execution_count": 2,
      "outputs": [
        {
          "output_type": "stream",
          "text": [
            "/content/drive/My Drive/Brain_Tumor_Classification/src\n"
          ],
          "name": "stdout"
        }
      ]
    },
    {
      "cell_type": "code",
      "metadata": {
        "id": "Kw4svy8RinXy",
        "colab_type": "code",
        "colab": {
          "base_uri": "https://localhost:8080/",
          "height": 34
        },
        "outputId": "619d206c-d569-4257-cea0-e642aba4a416"
      },
      "source": [
        "!pwd"
      ],
      "execution_count": 3,
      "outputs": [
        {
          "output_type": "stream",
          "text": [
            "/content/drive/My Drive/Brain_Tumor_Classification/src\n"
          ],
          "name": "stdout"
        }
      ]
    },
    {
      "cell_type": "code",
      "metadata": {
        "id": "A9KilanhhY0v",
        "colab_type": "code",
        "colab": {}
      },
      "source": [
        "import os\n",
        "import shutil\n",
        "from cv2 import *\n",
        "from google.colab.patches import cv2_imshow\n",
        "from constants import *\n",
        "import numpy as np"
      ],
      "execution_count": 4,
      "outputs": []
    },
    {
      "cell_type": "code",
      "metadata": {
        "id": "W-eCsnH9lygK",
        "colab_type": "code",
        "colab": {
          "base_uri": "https://localhost:8080/",
          "height": 34
        },
        "outputId": "27b22a8c-2b9f-405a-d5b4-6ace9ca8fd31"
      },
      "source": [
        "%cd '/content/'\n"
      ],
      "execution_count": 5,
      "outputs": [
        {
          "output_type": "stream",
          "text": [
            "/content\n"
          ],
          "name": "stdout"
        }
      ]
    },
    {
      "cell_type": "markdown",
      "metadata": {
        "id": "DgPiz0Cjba_u",
        "colab_type": "text"
      },
      "source": [
        "# Image Preprocessing"
      ]
    },
    {
      "cell_type": "code",
      "metadata": {
        "id": "MWrzktW9YuhK",
        "colab_type": "code",
        "colab": {}
      },
      "source": [
        "os.makedirs(image_preprocessed_yes,exist_ok=True)\n",
        "for _,_,files in os.walk(yes):\n",
        "  for f in files:\n",
        "    img_path=os.path.join(yes,f)\n",
        "    norm=imread(img_path)\n",
        "    norm=cvtColor(norm,COLOR_BGR2GRAY)\n",
        "\n",
        "    th1=equalizeHist(norm)\n",
        "\n",
        "    th1=erode(th1,np.ones((4,4),np.uint8),iterations=1)\n",
        "    th1=dilate(th1,np.ones((4,4),np.uint8),iterations=1)\n",
        "\n",
        "    imwrite(image_preprocessed_yes+f,th1)\n",
        "\n",
        "os.makedirs(image_preprocessed_no,exist_ok=True)\n",
        "for _,_,files in os.walk(no):\n",
        "  for f in files:\n",
        "    img_path=os.path.join(no,f)\n",
        "    norm=imread(img_path)\n",
        "    norm=cvtColor(norm,COLOR_BGR2GRAY)\n",
        "\n",
        "    th1=equalizeHist(norm)\n",
        "   \n",
        "    th1=erode(th1,np.ones((4,4),np.uint8),iterations=1)\n",
        "    th1=dilate(th1,np.ones((4,4),np.uint8),iterations=1)\n",
        "    imwrite(image_preprocessed_no+f,th1)"
      ],
      "execution_count": 6,
      "outputs": []
    },
    {
      "cell_type": "code",
      "metadata": {
        "id": "AnMe_3gA4llW",
        "colab_type": "code",
        "colab": {}
      },
      "source": [
        "brain_tumour_no= image_preprocessed_no\n",
        "brain_tumour_yes=image_preprocessed_yes"
      ],
      "execution_count": 7,
      "outputs": []
    },
    {
      "cell_type": "code",
      "metadata": {
        "id": "4GCpGZKK5j5v",
        "colab_type": "code",
        "colab": {}
      },
      "source": [
        "os.makedirs(image_generator_train_yes,exist_ok=True)\n",
        "os.makedirs(image_generator_train_no,exist_ok=True)\n",
        "os.makedirs(image_generator_validation_yes,exist_ok=True)\n",
        "os.makedirs(image_generator_validation_no,exist_ok=True)"
      ],
      "execution_count": 8,
      "outputs": []
    },
    {
      "cell_type": "code",
      "metadata": {
        "id": "gHo61zzu-Ngb",
        "colab_type": "code",
        "colab": {}
      },
      "source": [
        "for dir,subdir,files in os.walk(brain_tumour_no):\n",
        "  for f in files[:int(len(files)*0.7)]:\n",
        "    shutil.copy(os.path.join(brain_tumour_no,f),image_generator_train_no)\n",
        "  for f in files[int(len(files)*0.7):]:\n",
        "    shutil.copy(os.path.join(brain_tumour_no,f),image_generator_validation_no)\n"
      ],
      "execution_count": 9,
      "outputs": []
    },
    {
      "cell_type": "code",
      "metadata": {
        "id": "zCsZh6pM_nFu",
        "colab_type": "code",
        "colab": {}
      },
      "source": [
        "for dir,subdir,files in os.walk(brain_tumour_yes):\n",
        "  for f in files[:int(len(files)*0.7)]:\n",
        "    shutil.copy(os.path.join(brain_tumour_yes,f),image_generator_train_yes)\n",
        "  for f in files[int(len(files)*0.7):]:\n",
        "    shutil.copy(os.path.join(brain_tumour_yes,f),image_generator_validation_yes)"
      ],
      "execution_count": 10,
      "outputs": []
    },
    {
      "cell_type": "markdown",
      "metadata": {
        "id": "K6z7S9j0bR5o",
        "colab_type": "text"
      },
      "source": [
        "# Model"
      ]
    },
    {
      "cell_type": "code",
      "metadata": {
        "id": "GH0TT4mXAeWX",
        "colab_type": "code",
        "colab": {}
      },
      "source": [
        "import tensorflow as tf\n"
      ],
      "execution_count": 11,
      "outputs": []
    },
    {
      "cell_type": "code",
      "metadata": {
        "id": "uwb-mgByBlY6",
        "colab_type": "code",
        "colab": {
          "base_uri": "https://localhost:8080/",
          "height": 377
        },
        "outputId": "08e6cd1d-b159-48a3-dddf-1633b16be9d4"
      },
      "source": [
        "\n",
        "base_model=tf.keras.applications.InceptionV3(include_top=False,weights='imagenet',input_shape=(150,150,3))\n",
        "base_model.trainable=False\n",
        "model=tf.keras.Sequential()\n",
        "model.add(base_model)\n",
        "model.add(tf.keras.layers.Flatten())\n",
        "model.add(tf.keras.layers.Dense(128,activation='relu'))\n",
        "model.add(tf.keras.layers.Dropout(0.3))\n",
        "model.add(tf.keras.layers.Dense(1,activation='sigmoid'))\n",
        "model.summary()"
      ],
      "execution_count": 12,
      "outputs": [
        {
          "output_type": "stream",
          "text": [
            "Downloading data from https://storage.googleapis.com/tensorflow/keras-applications/inception_v3/inception_v3_weights_tf_dim_ordering_tf_kernels_notop.h5\n",
            "87916544/87910968 [==============================] - 2s 0us/step\n",
            "Model: \"sequential\"\n",
            "_________________________________________________________________\n",
            "Layer (type)                 Output Shape              Param #   \n",
            "=================================================================\n",
            "inception_v3 (Functional)    (None, 3, 3, 2048)        21802784  \n",
            "_________________________________________________________________\n",
            "flatten (Flatten)            (None, 18432)             0         \n",
            "_________________________________________________________________\n",
            "dense (Dense)                (None, 128)               2359424   \n",
            "_________________________________________________________________\n",
            "dropout (Dropout)            (None, 128)               0         \n",
            "_________________________________________________________________\n",
            "dense_1 (Dense)              (None, 1)                 129       \n",
            "=================================================================\n",
            "Total params: 24,162,337\n",
            "Trainable params: 2,359,553\n",
            "Non-trainable params: 21,802,784\n",
            "_________________________________________________________________\n"
          ],
          "name": "stdout"
        }
      ]
    },
    {
      "cell_type": "code",
      "metadata": {
        "id": "rOOJYQTyDPZ4",
        "colab_type": "code",
        "colab": {}
      },
      "source": [
        "model.compile(loss='binary_crossentropy',\n",
        "              optimizer=tf.keras.optimizers.Adam(learning_rate=0.0005),\n",
        "              metrics=['accuracy',tf.keras.metrics.Precision(name='precision'),tf.keras.metrics.Recall(name='recall')])"
      ],
      "execution_count": 13,
      "outputs": []
    },
    {
      "cell_type": "code",
      "metadata": {
        "id": "xidHZ3J5Dt21",
        "colab_type": "code",
        "colab": {}
      },
      "source": [
        "train_data_generator=tf.keras.preprocessing.image.ImageDataGenerator(rescale=1/255,\n",
        "                                  rotation_range=30,\n",
        "                                  height_shift_range=0.2,\n",
        "                                  width_shift_range=0.2,\n",
        "                                  shear_range=0.6,\n",
        "                                  zoom_range=0.2,\n",
        "                                  horizontal_flip=True,\n",
        "                                  fill_mode='nearest')\n",
        "validation_data_generator=tf.keras.preprocessing.image.ImageDataGenerator(rescale=1/255)"
      ],
      "execution_count": 14,
      "outputs": []
    },
    {
      "cell_type": "code",
      "metadata": {
        "id": "YCvIq7YGEZpW",
        "colab_type": "code",
        "colab": {
          "base_uri": "https://localhost:8080/",
          "height": 51
        },
        "outputId": "9f4b1564-98ba-44da-e4d5-56269e95c22d"
      },
      "source": [
        "train_gen=train_data_generator.flow_from_directory(image_generator_train,\n",
        "                                                   target_size=(150,150),\n",
        "                                                   class_mode='binary',\n",
        "                                                   batch_size=8,\n",
        "                                                   shuffle=True)\n",
        "validation_gen=train_data_generator.flow_from_directory(image_generator_validation,\n",
        "                                                   target_size=(150,150),\n",
        "                                                   class_mode='binary',\n",
        "                                                   batch_size=8,\n",
        "                                                   shuffle=True)"
      ],
      "execution_count": 15,
      "outputs": [
        {
          "output_type": "stream",
          "text": [
            "Found 1617 images belonging to 2 classes.\n",
            "Found 807 images belonging to 2 classes.\n"
          ],
          "name": "stdout"
        }
      ]
    },
    {
      "cell_type": "code",
      "metadata": {
        "id": "aQpDVApsFILx",
        "colab_type": "code",
        "colab": {}
      },
      "source": [
        "class MyCallback(tf.keras.callbacks.Callback):\n",
        "  def on_epoch_end(self,epoch,logs={}):\n",
        "    if(logs['accuracy']>0.99):\n",
        "      self.model.stop_training=True\n",
        "callbacks=MyCallback()"
      ],
      "execution_count": 16,
      "outputs": []
    },
    {
      "cell_type": "code",
      "metadata": {
        "id": "j-xX6HF9GdSO",
        "colab_type": "code",
        "colab": {
          "base_uri": "https://localhost:8080/",
          "height": 1000
        },
        "outputId": "d303237d-a081-4e70-e131-eab6ee8da1d5"
      },
      "source": [
        "history=model.fit(train_gen,validation_data=validation_gen,epochs=50,callbacks=callbacks)"
      ],
      "execution_count": 17,
      "outputs": [
        {
          "output_type": "stream",
          "text": [
            "Epoch 1/50\n",
            "203/203 [==============================] - 63s 312ms/step - loss: 0.6700 - accuracy: 0.8633 - precision: 0.9025 - recall: 0.9124 - val_loss: 0.1381 - val_accuracy: 0.9504 - val_precision: 0.9796 - val_recall: 0.9479\n",
            "Epoch 2/50\n",
            "203/203 [==============================] - 20s 100ms/step - loss: 0.2515 - accuracy: 0.8899 - precision: 0.9222 - recall: 0.9284 - val_loss: 0.1464 - val_accuracy: 0.9480 - val_precision: 0.9777 - val_recall: 0.9461\n",
            "Epoch 3/50\n",
            "203/203 [==============================] - 21s 101ms/step - loss: 0.2225 - accuracy: 0.9147 - precision: 0.9456 - recall: 0.9377 - val_loss: 0.1460 - val_accuracy: 0.9343 - val_precision: 0.9468 - val_recall: 0.9587\n",
            "Epoch 4/50\n",
            "203/203 [==============================] - 20s 100ms/step - loss: 0.1905 - accuracy: 0.9109 - precision: 0.9438 - recall: 0.9343 - val_loss: 0.1333 - val_accuracy: 0.9591 - val_precision: 0.9679 - val_recall: 0.9731\n",
            "Epoch 5/50\n",
            "203/203 [==============================] - 20s 98ms/step - loss: 0.1791 - accuracy: 0.9227 - precision: 0.9585 - recall: 0.9351 - val_loss: 0.1151 - val_accuracy: 0.9603 - val_precision: 0.9799 - val_recall: 0.9623\n",
            "Epoch 6/50\n",
            "203/203 [==============================] - 20s 101ms/step - loss: 0.1709 - accuracy: 0.9227 - precision: 0.9593 - recall: 0.9343 - val_loss: 0.1545 - val_accuracy: 0.9517 - val_precision: 0.9560 - val_recall: 0.9749\n",
            "Epoch 7/50\n",
            "203/203 [==============================] - 20s 99ms/step - loss: 0.1746 - accuracy: 0.9227 - precision: 0.9601 - recall: 0.9334 - val_loss: 0.1162 - val_accuracy: 0.9517 - val_precision: 0.9592 - val_recall: 0.9713\n",
            "Epoch 8/50\n",
            "203/203 [==============================] - 20s 100ms/step - loss: 0.1834 - accuracy: 0.9252 - precision: 0.9611 - recall: 0.9360 - val_loss: 0.1106 - val_accuracy: 0.9591 - val_precision: 0.9746 - val_recall: 0.9659\n",
            "Epoch 9/50\n",
            "203/203 [==============================] - 20s 99ms/step - loss: 0.1540 - accuracy: 0.9332 - precision: 0.9623 - recall: 0.9461 - val_loss: 0.1047 - val_accuracy: 0.9665 - val_precision: 0.9926 - val_recall: 0.9587\n",
            "Epoch 10/50\n",
            "203/203 [==============================] - 20s 99ms/step - loss: 0.1489 - accuracy: 0.9419 - precision: 0.9691 - recall: 0.9511 - val_loss: 0.0963 - val_accuracy: 0.9678 - val_precision: 0.9836 - val_recall: 0.9695\n",
            "Epoch 11/50\n",
            "203/203 [==============================] - 20s 99ms/step - loss: 0.1608 - accuracy: 0.9270 - precision: 0.9604 - recall: 0.9393 - val_loss: 0.1544 - val_accuracy: 0.9331 - val_precision: 0.9199 - val_recall: 0.9892\n",
            "Epoch 12/50\n",
            "203/203 [==============================] - 21s 101ms/step - loss: 0.1635 - accuracy: 0.9283 - precision: 0.9661 - recall: 0.9351 - val_loss: 0.1073 - val_accuracy: 0.9616 - val_precision: 0.9764 - val_recall: 0.9677\n",
            "Epoch 13/50\n",
            "203/203 [==============================] - 20s 98ms/step - loss: 0.1246 - accuracy: 0.9468 - precision: 0.9775 - recall: 0.9495 - val_loss: 0.1030 - val_accuracy: 0.9579 - val_precision: 0.9612 - val_recall: 0.9785\n",
            "Epoch 14/50\n",
            "203/203 [==============================] - 20s 99ms/step - loss: 0.1538 - accuracy: 0.9450 - precision: 0.9741 - recall: 0.9503 - val_loss: 0.1253 - val_accuracy: 0.9393 - val_precision: 0.9262 - val_recall: 0.9910\n",
            "Epoch 15/50\n",
            "203/203 [==============================] - 20s 99ms/step - loss: 0.1323 - accuracy: 0.9419 - precision: 0.9723 - recall: 0.9478 - val_loss: 0.1249 - val_accuracy: 0.9368 - val_precision: 0.9217 - val_recall: 0.9928\n",
            "Epoch 16/50\n",
            "203/203 [==============================] - 20s 99ms/step - loss: 0.1626 - accuracy: 0.9332 - precision: 0.9770 - recall: 0.9309 - val_loss: 0.1085 - val_accuracy: 0.9591 - val_precision: 0.9834 - val_recall: 0.9569\n",
            "Epoch 17/50\n",
            "203/203 [==============================] - 20s 98ms/step - loss: 0.1311 - accuracy: 0.9394 - precision: 0.9797 - recall: 0.9368 - val_loss: 0.0915 - val_accuracy: 0.9603 - val_precision: 0.9679 - val_recall: 0.9749\n",
            "Epoch 18/50\n",
            "203/203 [==============================] - 20s 98ms/step - loss: 0.1388 - accuracy: 0.9456 - precision: 0.9791 - recall: 0.9461 - val_loss: 0.1024 - val_accuracy: 0.9665 - val_precision: 0.9907 - val_recall: 0.9605\n",
            "Epoch 19/50\n",
            "203/203 [==============================] - 20s 98ms/step - loss: 0.1232 - accuracy: 0.9462 - precision: 0.9766 - recall: 0.9495 - val_loss: 0.1100 - val_accuracy: 0.9529 - val_precision: 0.9513 - val_recall: 0.9820\n",
            "Epoch 20/50\n",
            "203/203 [==============================] - 20s 98ms/step - loss: 0.1303 - accuracy: 0.9382 - precision: 0.9673 - recall: 0.9478 - val_loss: 0.0929 - val_accuracy: 0.9616 - val_precision: 0.9713 - val_recall: 0.9731\n",
            "Epoch 21/50\n",
            "203/203 [==============================] - 20s 98ms/step - loss: 0.1426 - accuracy: 0.9406 - precision: 0.9699 - recall: 0.9486 - val_loss: 0.0912 - val_accuracy: 0.9678 - val_precision: 0.9836 - val_recall: 0.9695\n",
            "Epoch 22/50\n",
            "203/203 [==============================] - 20s 99ms/step - loss: 0.1290 - accuracy: 0.9443 - precision: 0.9774 - recall: 0.9461 - val_loss: 0.1140 - val_accuracy: 0.9442 - val_precision: 0.9384 - val_recall: 0.9838\n",
            "Epoch 23/50\n",
            "203/203 [==============================] - 20s 99ms/step - loss: 0.1368 - accuracy: 0.9400 - precision: 0.9650 - recall: 0.9528 - val_loss: 0.1029 - val_accuracy: 0.9554 - val_precision: 0.9515 - val_recall: 0.9856\n",
            "Epoch 24/50\n",
            "203/203 [==============================] - 20s 98ms/step - loss: 0.1300 - accuracy: 0.9443 - precision: 0.9765 - recall: 0.9469 - val_loss: 0.0666 - val_accuracy: 0.9752 - val_precision: 0.9945 - val_recall: 0.9695\n",
            "Epoch 25/50\n",
            "203/203 [==============================] - 20s 99ms/step - loss: 0.1167 - accuracy: 0.9474 - precision: 0.9742 - recall: 0.9537 - val_loss: 0.0774 - val_accuracy: 0.9641 - val_precision: 0.9748 - val_recall: 0.9731\n",
            "Epoch 26/50\n",
            "203/203 [==============================] - 20s 98ms/step - loss: 0.1158 - accuracy: 0.9561 - precision: 0.9810 - recall: 0.9587 - val_loss: 0.0944 - val_accuracy: 0.9616 - val_precision: 0.9696 - val_recall: 0.9749\n",
            "Epoch 27/50\n",
            "203/203 [==============================] - 20s 100ms/step - loss: 0.1228 - accuracy: 0.9462 - precision: 0.9774 - recall: 0.9486 - val_loss: 0.1355 - val_accuracy: 0.9467 - val_precision: 0.9356 - val_recall: 0.9910\n",
            "Epoch 28/50\n",
            "203/203 [==============================] - 20s 100ms/step - loss: 0.1190 - accuracy: 0.9474 - precision: 0.9742 - recall: 0.9537 - val_loss: 0.1011 - val_accuracy: 0.9628 - val_precision: 0.9697 - val_recall: 0.9767\n",
            "Epoch 29/50\n",
            "203/203 [==============================] - 20s 99ms/step - loss: 0.1218 - accuracy: 0.9505 - precision: 0.9759 - recall: 0.9562 - val_loss: 0.0846 - val_accuracy: 0.9628 - val_precision: 0.9714 - val_recall: 0.9749\n",
            "Epoch 30/50\n",
            "203/203 [==============================] - 20s 99ms/step - loss: 0.1141 - accuracy: 0.9493 - precision: 0.9792 - recall: 0.9511 - val_loss: 0.0888 - val_accuracy: 0.9703 - val_precision: 0.9872 - val_recall: 0.9695\n",
            "Epoch 31/50\n",
            "203/203 [==============================] - 20s 99ms/step - loss: 0.1269 - accuracy: 0.9431 - precision: 0.9757 - recall: 0.9461 - val_loss: 0.1025 - val_accuracy: 0.9616 - val_precision: 0.9598 - val_recall: 0.9856\n",
            "Epoch 32/50\n",
            "203/203 [==============================] - 20s 98ms/step - loss: 0.1148 - accuracy: 0.9542 - precision: 0.9793 - recall: 0.9579 - val_loss: 0.1066 - val_accuracy: 0.9616 - val_precision: 0.9747 - val_recall: 0.9695\n",
            "Epoch 33/50\n",
            "203/203 [==============================] - 20s 99ms/step - loss: 0.1381 - accuracy: 0.9487 - precision: 0.9775 - recall: 0.9520 - val_loss: 0.0771 - val_accuracy: 0.9727 - val_precision: 0.9837 - val_recall: 0.9767\n",
            "Epoch 34/50\n",
            "203/203 [==============================] - 20s 99ms/step - loss: 0.1196 - accuracy: 0.9481 - precision: 0.9750 - recall: 0.9537 - val_loss: 0.0893 - val_accuracy: 0.9703 - val_precision: 0.9854 - val_recall: 0.9713\n",
            "Epoch 35/50\n",
            "203/203 [==============================] - 20s 98ms/step - loss: 0.1215 - accuracy: 0.9456 - precision: 0.9799 - recall: 0.9452 - val_loss: 0.1343 - val_accuracy: 0.9566 - val_precision: 0.9516 - val_recall: 0.9874\n",
            "Epoch 36/50\n",
            "203/203 [==============================] - 20s 98ms/step - loss: 0.1235 - accuracy: 0.9511 - precision: 0.9801 - recall: 0.9528 - val_loss: 0.0800 - val_accuracy: 0.9690 - val_precision: 0.9872 - val_recall: 0.9677\n",
            "Epoch 37/50\n",
            "203/203 [==============================] - 20s 98ms/step - loss: 0.1116 - accuracy: 0.9511 - precision: 0.9817 - recall: 0.9511 - val_loss: 0.0912 - val_accuracy: 0.9703 - val_precision: 0.9717 - val_recall: 0.9856\n",
            "Epoch 38/50\n",
            "203/203 [==============================] - 20s 99ms/step - loss: 0.1138 - accuracy: 0.9505 - precision: 0.9776 - recall: 0.9545 - val_loss: 0.1042 - val_accuracy: 0.9653 - val_precision: 0.9818 - val_recall: 0.9677\n",
            "Epoch 39/50\n",
            "203/203 [==============================] - 20s 100ms/step - loss: 0.1113 - accuracy: 0.9567 - precision: 0.9844 - recall: 0.9562 - val_loss: 0.1197 - val_accuracy: 0.9566 - val_precision: 0.9500 - val_recall: 0.9892\n",
            "Epoch 40/50\n",
            "203/203 [==============================] - 20s 99ms/step - loss: 0.1121 - accuracy: 0.9586 - precision: 0.9803 - recall: 0.9629 - val_loss: 0.0835 - val_accuracy: 0.9690 - val_precision: 0.9767 - val_recall: 0.9785\n",
            "Epoch 41/50\n",
            "203/203 [==============================] - 20s 100ms/step - loss: 0.1092 - accuracy: 0.9654 - precision: 0.9862 - recall: 0.9663 - val_loss: 0.0818 - val_accuracy: 0.9703 - val_precision: 0.9750 - val_recall: 0.9820\n",
            "Epoch 42/50\n",
            "203/203 [==============================] - 20s 99ms/step - loss: 0.1009 - accuracy: 0.9623 - precision: 0.9879 - recall: 0.9604 - val_loss: 0.0792 - val_accuracy: 0.9715 - val_precision: 0.9890 - val_recall: 0.9695\n",
            "Epoch 43/50\n",
            "203/203 [==============================] - 21s 102ms/step - loss: 0.1203 - accuracy: 0.9511 - precision: 0.9743 - recall: 0.9587 - val_loss: 0.0942 - val_accuracy: 0.9740 - val_precision: 0.9855 - val_recall: 0.9767\n",
            "Epoch 44/50\n",
            "203/203 [==============================] - 20s 100ms/step - loss: 0.1083 - accuracy: 0.9481 - precision: 0.9833 - recall: 0.9452 - val_loss: 0.1153 - val_accuracy: 0.9616 - val_precision: 0.9730 - val_recall: 0.9713\n",
            "Epoch 45/50\n",
            "203/203 [==============================] - 20s 100ms/step - loss: 0.1058 - accuracy: 0.9536 - precision: 0.9793 - recall: 0.9570 - val_loss: 0.0688 - val_accuracy: 0.9765 - val_precision: 0.9856 - val_recall: 0.9803\n",
            "Epoch 46/50\n",
            "203/203 [==============================] - 20s 99ms/step - loss: 0.1115 - accuracy: 0.9499 - precision: 0.9859 - recall: 0.9452 - val_loss: 0.2343 - val_accuracy: 0.8835 - val_precision: 0.8589 - val_recall: 0.9946\n",
            "Epoch 47/50\n",
            "203/203 [==============================] - 20s 99ms/step - loss: 0.1085 - accuracy: 0.9530 - precision: 0.9843 - recall: 0.9511 - val_loss: 0.0879 - val_accuracy: 0.9690 - val_precision: 0.9767 - val_recall: 0.9785\n",
            "Epoch 48/50\n",
            "203/203 [==============================] - 20s 98ms/step - loss: 0.1056 - accuracy: 0.9505 - precision: 0.9792 - recall: 0.9528 - val_loss: 0.0729 - val_accuracy: 0.9740 - val_precision: 0.9926 - val_recall: 0.9695\n",
            "Epoch 49/50\n",
            "203/203 [==============================] - 20s 98ms/step - loss: 0.1149 - accuracy: 0.9567 - precision: 0.9811 - recall: 0.9596 - val_loss: 0.0854 - val_accuracy: 0.9616 - val_precision: 0.9630 - val_recall: 0.9820\n",
            "Epoch 50/50\n",
            "203/203 [==============================] - 20s 98ms/step - loss: 0.1189 - accuracy: 0.9530 - precision: 0.9752 - recall: 0.9604 - val_loss: 0.1252 - val_accuracy: 0.9405 - val_precision: 0.9336 - val_recall: 0.9838\n"
          ],
          "name": "stdout"
        }
      ]
    },
    {
      "cell_type": "code",
      "metadata": {
        "id": "dIMO1Q_BRBld",
        "colab_type": "code",
        "colab": {}
      },
      "source": [
        "model.save(models_directory+'DS2_Histo_Erode_Dilate.h5')"
      ],
      "execution_count": 28,
      "outputs": []
    },
    {
      "cell_type": "markdown",
      "metadata": {
        "id": "rR7b9rY-q2r3",
        "colab_type": "text"
      },
      "source": [
        "# Plotting Accuracy, Precision & Recall"
      ]
    },
    {
      "cell_type": "code",
      "metadata": {
        "id": "OGL6hW_Ll8ac",
        "colab_type": "code",
        "colab": {}
      },
      "source": [
        "epochs=50"
      ],
      "execution_count": 19,
      "outputs": []
    },
    {
      "cell_type": "code",
      "metadata": {
        "id": "nkc9WrDCG7VY",
        "colab_type": "code",
        "colab": {
          "base_uri": "https://localhost:8080/",
          "height": 826
        },
        "outputId": "12828011-d23f-4e50-c3a0-f6b9b84e054e"
      },
      "source": [
        "import matplotlib.image  as mpimg\n",
        "import matplotlib.pyplot as plt\n",
        "\n",
        "#-----------------------------------------------------------\n",
        "# Retrieve a list of list results on training and test data\n",
        "# sets for each training epoch\n",
        "#-----------------------------------------------------------\n",
        "acc=history.history['accuracy']\n",
        "val_acc=history.history['val_accuracy']\n",
        "precision=history.history['precision']\n",
        "val_precision=history.history['val_precision']\n",
        "recall=history.history['recall']\n",
        "val_recall=history.history['val_recall']\n",
        "\n",
        "epochs=range(len(acc)) # Get number of epochs\n",
        "\n",
        "#------------------------------------------------\n",
        "# Plot training and validation accuracy per epoch\n",
        "#------------------------------------------------\n",
        "plt.plot(epochs, acc, 'r', \"Training Accuracy\")\n",
        "plt.plot(epochs, val_acc, 'b', \"Validation Accuracy\")\n",
        "plt.title('Training and validation accuracy')\n",
        "plt.figure()\n",
        "\n",
        "#------------------------------------------------\n",
        "# Plot training and validation Precision per epoch\n",
        "#------------------------------------------------\n",
        "plt.plot(epochs, precision, 'r', \"Training Precision\")\n",
        "plt.plot(epochs, val_precision, 'b', \"Validation Precision\")\n",
        "plt.title('Training and validation Precision')\n",
        "plt.figure()\n",
        "\n",
        "plt.plot(epochs, recall, 'r', \"Training Recall\")\n",
        "plt.plot(epochs, val_recall, 'b', \"Validation Recall\")\n",
        "plt.title('Training and validation Recall')\n"
      ],
      "execution_count": 20,
      "outputs": [
        {
          "output_type": "execute_result",
          "data": {
            "text/plain": [
              "Text(0.5, 1.0, 'Training and validation Recall')"
            ]
          },
          "metadata": {
            "tags": []
          },
          "execution_count": 20
        },
        {
          "output_type": "display_data",
          "data": {
            "image/png": "[encoded data removed]",
            "text/plain": [
              "<Figure size 432x288 with 1 Axes>"
            ]
          },
          "metadata": {
            "tags": [],
            "needs_background": "light"
          }
        },
        {
          "output_type": "display_data",
          "data": {
            "image/png": "[encoded data removed]",
            "text/plain": [
              "<Figure size 432x288 with 1 Axes>"
            ]
          },
          "metadata": {
            "tags": [],
            "needs_background": "light"
          }
        },
        {
          "output_type": "display_data",
          "data": {
            "image/png": "[encoded data removed]",
            "text/plain": [
              "<Figure size 432x288 with 1 Axes>"
            ]
          },
          "metadata": {
            "tags": [],
            "needs_background": "light"
          }
        }
      ]
    },
    {
      "cell_type": "markdown",
      "metadata": {
        "id": "PwXtcT8_Z7SL",
        "colab_type": "text"
      },
      "source": [
        "#Predicting on a new image & Modifying the grayscale image to make it fit for prediction\n",
        "\n",
        "The Gray training images had only 1 channel but for training they were automatically getting converted to 3 channels\n",
        "by replicating the channels 3 times. This is because input for Inception v3 has to be compulsorily 3 channel.\n",
        "\n",
        "In the above steps where we preprocessed the uploaded image, shape => (150,150)\n",
        "\n",
        "To replicate, we use np.stack() and since we want channel number in index 2 of shape ie (150,150,3) we use axis=0\n",
        "\n",
        "We also want an extra dimension for batch number at index 0 ie new shape => (1,150,150,3)"
      ]
    },
    {
      "cell_type": "code",
      "metadata": {
        "id": "weBpRLfAl69Z",
        "colab_type": "code",
        "colab": {
          "resources": {
            "http://localhost:8080/nbextensions/google.colab/files.js": {
              "data": "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",
              "ok": true,
              "headers": [
                [
                  "content-type",
                  "application/javascript"
                ]
              ],
              "status": 200,
              "status_text": ""
            }
          },
          "base_uri": "https://localhost:8080/",
          "height": 256
        },
        "outputId": "ef51432a-8204-44a5-fca8-b1c93c38515b"
      },
      "source": [
        "import numpy as np\n",
        "import PIL\n",
        "\n",
        "from google.colab import files\n",
        "from keras.preprocessing import image\n",
        "from google.colab.patches import cv2_imshow\n",
        "\n",
        "uploaded=files.upload()\n",
        "\n",
        "for fn in uploaded.keys():\n",
        " \n",
        "  # predicting images\n",
        "  path='/content/' + fn\n",
        "  \n",
        "  images=imread(path)\n",
        "  images=resize(images,(150,150))\n",
        "  norm=cvtColor(images,COLOR_RGB2GRAY)\n",
        "  \n",
        "  th1=equalizeHist(norm)\n",
        "\n",
        "  th1=erode(th1,np.ones((4,4),np.uint8),iterations=1)\n",
        "  th1=dilate(th1,np.ones((4,4),np.uint8),iterations=1)\n",
        "\n",
        "\n",
        "  # \n",
        "  th2=np.stack((th1,)*3,axis=2)\n",
        "  th2=np.expand_dims(th2,axis=0)\n",
        "\n",
        "  classes = model.predict_classes(th2,batch_size=10)\n",
        "\n",
        "  cv2_imshow(th1)\n",
        "  # print([k for k,v in train_gen.class_indices.items() if v==classes[0][0]][0])\n",
        "  print(classes)\n",
        "  print(train_gen.class_indices)"
      ],
      "execution_count": 27,
      "outputs": [
        {
          "output_type": "display_data",
          "data": {
            "text/html": [
              "\n",
              "     <input type=\"file\" id=\"files-fa834021-065b-4ad4-ac34-2bffee43c700\" name=\"files[]\" multiple disabled\n",
              "        style=\"border:none\" />\n",
              "     <output id=\"result-fa834021-065b-4ad4-ac34-2bffee43c700\">\n",
              "      Upload widget is only available when the cell has been executed in the\n",
              "      current browser session. Please rerun this cell to enable.\n",
              "      </output>\n",
              "      <script src=\"/nbextensions/google.colab/files.js\"></script> "
            ],
            "text/plain": [
              "<IPython.core.display.HTML object>"
            ]
          },
          "metadata": {
            "tags": []
          }
        },
        {
          "output_type": "stream",
          "text": [
            "Saving images (1).jpg to images (1).jpg\n"
          ],
          "name": "stdout"
        },
        {
          "output_type": "display_data",
          "data": {
            "image/png": "[encoded data removed]",
            "text/plain": [
              "<PIL.Image.Image image mode=L size=150x150 at 0x7F6AA62CEB38>"
            ]
          },
          "metadata": {
            "tags": []
          }
        },
        {
          "output_type": "stream",
          "text": [
            "[[0]]\n",
            "{'no': 0, 'yes': 1}\n"
          ],
          "name": "stdout"
        }
      ]
    },
    {
      "cell_type": "code",
      "metadata": {
        "id": "A86zE99Uai-P",
        "colab_type": "code",
        "colab": {}
      },
      "source": [
        ""
      ],
      "execution_count": null,
      "outputs": []
    }
  ]
}