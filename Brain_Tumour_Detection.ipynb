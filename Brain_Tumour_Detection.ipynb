{
  "nbformat": 4,
  "nbformat_minor": 0,
  "metadata": {
    "colab": {
      "name": "Brain_Tumour_Detection.ipynb",
      "provenance": [],
      "collapsed_sections": [],
      "include_colab_link": true
    },
    "kernelspec": {
      "name": "python3",
      "display_name": "Python 3"
    },
    "accelerator": "GPU"
  },
  "cells": [
    {
      "cell_type": "markdown",
      "metadata": {
        "id": "view-in-github",
        "colab_type": "text"
      },
      "source": [
        "<a href=\"https://colab.research.google.com/github/AryanMethil/Brain_Tumor_Detection/blob/master/Brain_Tumour_Detection.ipynb\" target=\"_parent\"><img src=\"https://colab.research.google.com/assets/colab-badge.svg\" alt=\"Open In Colab\"/></a>"
      ]
    },
    {
      "cell_type": "code",
      "metadata": {
        "id": "Rx6Li8Xl4Dp5",
        "colab_type": "code",
        "colab": {
          "base_uri": "https://localhost:8080/",
          "height": 34
        },
        "outputId": "01b5ef06-ff79-4720-84d1-885f7409ebfa"
      },
      "source": [
        "from google.colab import drive\n",
        "drive.mount('/content/drive')\n"
      ],
      "execution_count": 1,
      "outputs": [
        {
          "output_type": "stream",
          "text": [
            "Mounted at /content/drive\n"
          ],
          "name": "stdout"
        }
      ]
    },
    {
      "cell_type": "code",
      "metadata": {
        "id": "KiEH_7xLicrp",
        "colab_type": "code",
        "colab": {
          "base_uri": "https://localhost:8080/",
          "height": 34
        },
        "outputId": "a1ea0e5f-ca03-4515-9284-d895ff1fce70"
      },
      "source": [
        "%cd '/content/drive/My Drive/Brain_Tumor_Classification/src'"
      ],
      "execution_count": 2,
      "outputs": [
        {
          "output_type": "stream",
          "text": [
            "/content/drive/My Drive/Brain_Tumor_Classification/src\n"
          ],
          "name": "stdout"
        }
      ]
    },
    {
      "cell_type": "code",
      "metadata": {
        "id": "Kw4svy8RinXy",
        "colab_type": "code",
        "colab": {
          "base_uri": "https://localhost:8080/",
          "height": 34
        },
        "outputId": "48ff92ac-d94d-4c23-e70b-84788748394d"
      },
      "source": [
        "!pwd"
      ],
      "execution_count": 3,
      "outputs": [
        {
          "output_type": "stream",
          "text": [
            "/content/drive/My Drive/Brain_Tumor_Classification/src\n"
          ],
          "name": "stdout"
        }
      ]
    },
    {
      "cell_type": "code",
      "metadata": {
        "id": "A9KilanhhY0v",
        "colab_type": "code",
        "colab": {}
      },
      "source": [
        "import os\n",
        "import shutil\n",
        "from cv2 import *\n",
        "from google.colab.patches import cv2_imshow\n",
        "from constants import *\n",
        "import numpy as np"
      ],
      "execution_count": 4,
      "outputs": []
    },
    {
      "cell_type": "code",
      "metadata": {
        "id": "W-eCsnH9lygK",
        "colab_type": "code",
        "colab": {
          "base_uri": "https://localhost:8080/",
          "height": 34
        },
        "outputId": "123fb260-967b-438d-9021-12bb3ba424fd"
      },
      "source": [
        "%cd '/content/'\n"
      ],
      "execution_count": 5,
      "outputs": [
        {
          "output_type": "stream",
          "text": [
            "/content\n"
          ],
          "name": "stdout"
        }
      ]
    },
    {
      "cell_type": "code",
      "metadata": {
        "id": "MWrzktW9YuhK",
        "colab_type": "code",
        "colab": {}
      },
      "source": [
        "os.makedirs(image_preprocessed_yes,exist_ok=True)\n",
        "for _,_,files in os.walk(yes):\n",
        "  for f in files:\n",
        "    img_path=os.path.join(yes,f)\n",
        "    norm=imread(img_path)\n",
        "    norm=cvtColor(norm,COLOR_BGR2GRAY)\n",
        "\n",
        "    kernel=np.array([[-1,-1,-1],[-1,10,-1],[-1,-1,-1]])\n",
        "    norm=cv2.filter2D(norm,-1,kernel)\n",
        "\n",
        "    th1=equalizeHist(norm)\n",
        "    \n",
        "    th1=erode(th1,np.ones((4,4),np.uint8),iterations=1)\n",
        "    th1=dilate(th1,np.ones((4,4),np.uint8),iterations=1)\n",
        "\n",
        "    imwrite(image_preprocessed_yes+f,th1)\n",
        "\n",
        "os.makedirs(image_preprocessed_no,exist_ok=True)\n",
        "for _,_,files in os.walk(no):\n",
        "  for f in files:\n",
        "    img_path=os.path.join(no,f)\n",
        "    norm=imread(img_path)\n",
        "    norm=cvtColor(norm,COLOR_BGR2GRAY)\n",
        "\n",
        "    kernel=np.array([[-1,-1,-1],[-1,10,-1],[-1,-1,-1]])\n",
        "    norm=cv2.filter2D(norm,-1,kernel)\n",
        "    \n",
        "    th1=equalizeHist(norm)\n",
        "    \n",
        "    th1=erode(th1,np.ones((4,4),np.uint8),iterations=1)\n",
        "    th1=dilate(th1,np.ones((4,4),np.uint8),iterations=1)\n",
        "    imwrite(image_preprocessed_no+f,th1)"
      ],
      "execution_count": 6,
      "outputs": []
    },
    {
      "cell_type": "code",
      "metadata": {
        "id": "AnMe_3gA4llW",
        "colab_type": "code",
        "colab": {}
      },
      "source": [
        "brain_tumour_no= image_preprocessed_no\n",
        "brain_tumour_yes=image_preprocessed_yes"
      ],
      "execution_count": 7,
      "outputs": []
    },
    {
      "cell_type": "code",
      "metadata": {
        "id": "4GCpGZKK5j5v",
        "colab_type": "code",
        "colab": {}
      },
      "source": [
        "os.makedirs(image_generator_train_yes,exist_ok=True)\n",
        "os.makedirs(image_generator_train_no,exist_ok=True)\n",
        "os.makedirs(image_generator_validation_yes,exist_ok=True)\n",
        "os.makedirs(image_generator_validation_no,exist_ok=True)"
      ],
      "execution_count": 8,
      "outputs": []
    },
    {
      "cell_type": "code",
      "metadata": {
        "id": "gHo61zzu-Ngb",
        "colab_type": "code",
        "colab": {}
      },
      "source": [
        "for dir,subdir,files in os.walk(brain_tumour_no):\n",
        "  for f in files[:int(len(files)*0.7)]:\n",
        "    shutil.copy(os.path.join(brain_tumour_no,f),image_generator_train_no)\n",
        "  for f in files[int(len(files)*0.7):]:\n",
        "    shutil.copy(os.path.join(brain_tumour_no,f),image_generator_validation_no)\n"
      ],
      "execution_count": 9,
      "outputs": []
    },
    {
      "cell_type": "code",
      "metadata": {
        "id": "zCsZh6pM_nFu",
        "colab_type": "code",
        "colab": {}
      },
      "source": [
        "for dir,subdir,files in os.walk(brain_tumour_yes):\n",
        "  for f in files[:int(len(files)*0.7)]:\n",
        "    shutil.copy(os.path.join(brain_tumour_yes,f),image_generator_train_yes)\n",
        "  for f in files[int(len(files)*0.7):]:\n",
        "    shutil.copy(os.path.join(brain_tumour_yes,f),image_generator_validation_yes)"
      ],
      "execution_count": 10,
      "outputs": []
    },
    {
      "cell_type": "code",
      "metadata": {
        "id": "GH0TT4mXAeWX",
        "colab_type": "code",
        "colab": {}
      },
      "source": [
        "import tensorflow as tf\n"
      ],
      "execution_count": 11,
      "outputs": []
    },
    {
      "cell_type": "code",
      "metadata": {
        "id": "uwb-mgByBlY6",
        "colab_type": "code",
        "colab": {
          "base_uri": "https://localhost:8080/",
          "height": 377
        },
        "outputId": "314ca1d7-f70a-4d73-bad5-7f3b8993849b"
      },
      "source": [
        "\n",
        "base_model=tf.keras.applications.InceptionV3(include_top=False,weights='imagenet',input_shape=(150,150,3))\n",
        "base_model.trainable=False\n",
        "model=tf.keras.Sequential()\n",
        "model.add(base_model)\n",
        "model.add(tf.keras.layers.Flatten())\n",
        "model.add(tf.keras.layers.Dense(128,activation='relu'))\n",
        "model.add(tf.keras.layers.Dropout(0.3))\n",
        "model.add(tf.keras.layers.Dense(1,activation='sigmoid'))\n",
        "model.summary()"
      ],
      "execution_count": 12,
      "outputs": [
        {
          "output_type": "stream",
          "text": [
            "Downloading data from https://storage.googleapis.com/tensorflow/keras-applications/inception_v3/inception_v3_weights_tf_dim_ordering_tf_kernels_notop.h5\n",
            "87916544/87910968 [==============================] - 0s 0us/step\n",
            "Model: \"sequential\"\n",
            "_________________________________________________________________\n",
            "Layer (type)                 Output Shape              Param #   \n",
            "=================================================================\n",
            "inception_v3 (Functional)    (None, 3, 3, 2048)        21802784  \n",
            "_________________________________________________________________\n",
            "flatten (Flatten)            (None, 18432)             0         \n",
            "_________________________________________________________________\n",
            "dense (Dense)                (None, 128)               2359424   \n",
            "_________________________________________________________________\n",
            "dropout (Dropout)            (None, 128)               0         \n",
            "_________________________________________________________________\n",
            "dense_1 (Dense)              (None, 1)                 129       \n",
            "=================================================================\n",
            "Total params: 24,162,337\n",
            "Trainable params: 2,359,553\n",
            "Non-trainable params: 21,802,784\n",
            "_________________________________________________________________\n"
          ],
          "name": "stdout"
        }
      ]
    },
    {
      "cell_type": "code",
      "metadata": {
        "id": "rOOJYQTyDPZ4",
        "colab_type": "code",
        "colab": {}
      },
      "source": [
        "model.compile(loss='binary_crossentropy',\n",
        "              optimizer=tf.keras.optimizers.Adam(learning_rate=0.0001),\n",
        "              metrics=['accuracy',tf.keras.metrics.Precision(name='precision'),tf.keras.metrics.Recall(name='recall')])"
      ],
      "execution_count": 13,
      "outputs": []
    },
    {
      "cell_type": "code",
      "metadata": {
        "id": "xidHZ3J5Dt21",
        "colab_type": "code",
        "colab": {}
      },
      "source": [
        "train_data_generator=tf.keras.preprocessing.image.ImageDataGenerator(rescale=1/255,\n",
        "                                  rotation_range=30,\n",
        "                                  height_shift_range=0.2,\n",
        "                                  width_shift_range=0.2,\n",
        "                                  shear_range=0.6,\n",
        "                                  zoom_range=0.2,\n",
        "                                  horizontal_flip=True,\n",
        "                                  fill_mode='nearest')\n",
        "validation_data_generator=tf.keras.preprocessing.image.ImageDataGenerator(rescale=1/255)"
      ],
      "execution_count": 14,
      "outputs": []
    },
    {
      "cell_type": "code",
      "metadata": {
        "id": "YCvIq7YGEZpW",
        "colab_type": "code",
        "colab": {
          "base_uri": "https://localhost:8080/",
          "height": 51
        },
        "outputId": "a229faee-ac90-4476-d3d2-140f09b51197"
      },
      "source": [
        "train_gen=train_data_generator.flow_from_directory(image_generator_train,\n",
        "                                                   target_size=(150,150),\n",
        "                                                   class_mode='binary',\n",
        "                                                   batch_size=8,\n",
        "                                                   shuffle=True)\n",
        "validation_gen=train_data_generator.flow_from_directory(image_generator_validation,\n",
        "                                                   target_size=(150,150),\n",
        "                                                   class_mode='binary',\n",
        "                                                   batch_size=8,\n",
        "                                                   shuffle=True)"
      ],
      "execution_count": 15,
      "outputs": [
        {
          "output_type": "stream",
          "text": [
            "Found 183 images belonging to 2 classes.\n",
            "Found 80 images belonging to 2 classes.\n"
          ],
          "name": "stdout"
        }
      ]
    },
    {
      "cell_type": "code",
      "metadata": {
        "id": "aQpDVApsFILx",
        "colab_type": "code",
        "colab": {}
      },
      "source": [
        "class MyCallback(tf.keras.callbacks.Callback):\n",
        "  def on_epoch_end(self,epoch,logs={}):\n",
        "    if(logs['accuracy']>0.99):\n",
        "      self.model.stop_training=True\n",
        "callbacks=MyCallback()"
      ],
      "execution_count": 16,
      "outputs": []
    },
    {
      "cell_type": "code",
      "metadata": {
        "id": "j-xX6HF9GdSO",
        "colab_type": "code",
        "colab": {
          "base_uri": "https://localhost:8080/",
          "height": 1000
        },
        "outputId": "b17a0bc9-19e8-4725-def0-7a26ca095740"
      },
      "source": [
        "history=model.fit(train_gen,validation_data=validation_gen,epochs=200,callbacks=callbacks)"
      ],
      "execution_count": 17,
      "outputs": [
        {
          "output_type": "stream",
          "text": [
            "Epoch 1/200\n",
            "23/23 [==============================] - 5s 204ms/step - loss: 1.3287 - accuracy: 0.6503 - precision: 0.6897 - recall: 0.7407 - val_loss: 0.4369 - val_accuracy: 0.7875 - val_precision: 0.8571 - val_recall: 0.7660\n",
            "Epoch 2/200\n",
            "23/23 [==============================] - 3s 112ms/step - loss: 0.6348 - accuracy: 0.7322 - precision: 0.7810 - recall: 0.7593 - val_loss: 0.5229 - val_accuracy: 0.7750 - val_precision: 0.7377 - val_recall: 0.9574\n",
            "Epoch 3/200\n",
            "23/23 [==============================] - 3s 113ms/step - loss: 0.6123 - accuracy: 0.7268 - precision: 0.7736 - recall: 0.7593 - val_loss: 0.4221 - val_accuracy: 0.8125 - val_precision: 0.9211 - val_recall: 0.7447\n",
            "Epoch 4/200\n",
            "23/23 [==============================] - 3s 112ms/step - loss: 0.4701 - accuracy: 0.7978 - precision: 0.8198 - recall: 0.8426 - val_loss: 0.4575 - val_accuracy: 0.7625 - val_precision: 0.8500 - val_recall: 0.7234\n",
            "Epoch 5/200\n",
            "23/23 [==============================] - 3s 112ms/step - loss: 0.5355 - accuracy: 0.7596 - precision: 0.8137 - recall: 0.7685 - val_loss: 0.4452 - val_accuracy: 0.8250 - val_precision: 0.8837 - val_recall: 0.8085\n",
            "Epoch 6/200\n",
            "23/23 [==============================] - 3s 111ms/step - loss: 0.4139 - accuracy: 0.7760 - precision: 0.7863 - recall: 0.8519 - val_loss: 0.4996 - val_accuracy: 0.7375 - val_precision: 0.8250 - val_recall: 0.7021\n",
            "Epoch 7/200\n",
            "23/23 [==============================] - 3s 111ms/step - loss: 0.3993 - accuracy: 0.8306 - precision: 0.8598 - recall: 0.8519 - val_loss: 0.5602 - val_accuracy: 0.7000 - val_precision: 0.7255 - val_recall: 0.7872\n",
            "Epoch 8/200\n",
            "23/23 [==============================] - 3s 112ms/step - loss: 0.3471 - accuracy: 0.8197 - precision: 0.8641 - recall: 0.8241 - val_loss: 0.4486 - val_accuracy: 0.7875 - val_precision: 0.8000 - val_recall: 0.8511\n",
            "Epoch 9/200\n",
            "23/23 [==============================] - 3s 110ms/step - loss: 0.3137 - accuracy: 0.8743 - precision: 0.8899 - recall: 0.8981 - val_loss: 0.4305 - val_accuracy: 0.8125 - val_precision: 0.7759 - val_recall: 0.9574\n",
            "Epoch 10/200\n",
            "23/23 [==============================] - 3s 112ms/step - loss: 0.3893 - accuracy: 0.8579 - precision: 0.8596 - recall: 0.9074 - val_loss: 0.4240 - val_accuracy: 0.8000 - val_precision: 0.8444 - val_recall: 0.8085\n",
            "Epoch 11/200\n",
            "23/23 [==============================] - 3s 112ms/step - loss: 0.3764 - accuracy: 0.8361 - precision: 0.8421 - recall: 0.8889 - val_loss: 0.4640 - val_accuracy: 0.7500 - val_precision: 0.9355 - val_recall: 0.6170\n",
            "Epoch 12/200\n",
            "23/23 [==============================] - 3s 113ms/step - loss: 0.2962 - accuracy: 0.8634 - precision: 0.9192 - recall: 0.8426 - val_loss: 0.4281 - val_accuracy: 0.7750 - val_precision: 0.8718 - val_recall: 0.7234\n",
            "Epoch 13/200\n",
            "23/23 [==============================] - 3s 111ms/step - loss: 0.2683 - accuracy: 0.8689 - precision: 0.8750 - recall: 0.9074 - val_loss: 0.4846 - val_accuracy: 0.8000 - val_precision: 0.8444 - val_recall: 0.8085\n",
            "Epoch 14/200\n",
            "23/23 [==============================] - 3s 111ms/step - loss: 0.2832 - accuracy: 0.8689 - precision: 0.9038 - recall: 0.8704 - val_loss: 0.5563 - val_accuracy: 0.7875 - val_precision: 0.7778 - val_recall: 0.8936\n",
            "Epoch 15/200\n",
            "23/23 [==============================] - 3s 111ms/step - loss: 0.4590 - accuracy: 0.8306 - precision: 0.8407 - recall: 0.8796 - val_loss: 0.6130 - val_accuracy: 0.7625 - val_precision: 0.7414 - val_recall: 0.9149\n",
            "Epoch 16/200\n",
            "23/23 [==============================] - 3s 112ms/step - loss: 0.3293 - accuracy: 0.8525 - precision: 0.8785 - recall: 0.8704 - val_loss: 0.5588 - val_accuracy: 0.7875 - val_precision: 0.7500 - val_recall: 0.9574\n",
            "Epoch 17/200\n",
            "23/23 [==============================] - 3s 110ms/step - loss: 0.2986 - accuracy: 0.8579 - precision: 0.8534 - recall: 0.9167 - val_loss: 0.3684 - val_accuracy: 0.8375 - val_precision: 0.8542 - val_recall: 0.8723\n",
            "Epoch 18/200\n",
            "23/23 [==============================] - 3s 111ms/step - loss: 0.3439 - accuracy: 0.8579 - precision: 0.8942 - recall: 0.8611 - val_loss: 0.3328 - val_accuracy: 0.8250 - val_precision: 0.8667 - val_recall: 0.8298\n",
            "Epoch 19/200\n",
            "23/23 [==============================] - 3s 111ms/step - loss: 0.2664 - accuracy: 0.8743 - precision: 0.8761 - recall: 0.9167 - val_loss: 0.5108 - val_accuracy: 0.7875 - val_precision: 0.8571 - val_recall: 0.7660\n",
            "Epoch 20/200\n",
            "23/23 [==============================] - 3s 115ms/step - loss: 0.3565 - accuracy: 0.8306 - precision: 0.8667 - recall: 0.8426 - val_loss: 0.4169 - val_accuracy: 0.8000 - val_precision: 0.8605 - val_recall: 0.7872\n",
            "Epoch 21/200\n",
            "23/23 [==============================] - 3s 116ms/step - loss: 0.2327 - accuracy: 0.9126 - precision: 0.9423 - recall: 0.9074 - val_loss: 0.4333 - val_accuracy: 0.8375 - val_precision: 0.8696 - val_recall: 0.8511\n",
            "Epoch 22/200\n",
            "23/23 [==============================] - 3s 116ms/step - loss: 0.2379 - accuracy: 0.8962 - precision: 0.9083 - recall: 0.9167 - val_loss: 0.3741 - val_accuracy: 0.8375 - val_precision: 0.9250 - val_recall: 0.7872\n",
            "Epoch 23/200\n",
            "23/23 [==============================] - 3s 116ms/step - loss: 0.2814 - accuracy: 0.8743 - precision: 0.9208 - recall: 0.8611 - val_loss: 0.3761 - val_accuracy: 0.8125 - val_precision: 0.8077 - val_recall: 0.8936\n",
            "Epoch 24/200\n",
            "23/23 [==============================] - 3s 112ms/step - loss: 0.2497 - accuracy: 0.9071 - precision: 0.9333 - recall: 0.9074 - val_loss: 0.4657 - val_accuracy: 0.8250 - val_precision: 0.7895 - val_recall: 0.9574\n",
            "Epoch 25/200\n",
            "23/23 [==============================] - 3s 110ms/step - loss: 0.3718 - accuracy: 0.8361 - precision: 0.8545 - recall: 0.8704 - val_loss: 0.4019 - val_accuracy: 0.8250 - val_precision: 0.8113 - val_recall: 0.9149\n",
            "Epoch 26/200\n",
            "23/23 [==============================] - 3s 112ms/step - loss: 0.2391 - accuracy: 0.9016 - precision: 0.9091 - recall: 0.9259 - val_loss: 0.4058 - val_accuracy: 0.8250 - val_precision: 0.8667 - val_recall: 0.8298\n",
            "Epoch 27/200\n",
            "23/23 [==============================] - 3s 110ms/step - loss: 0.2392 - accuracy: 0.9016 - precision: 0.9091 - recall: 0.9259 - val_loss: 0.4603 - val_accuracy: 0.8375 - val_precision: 0.9048 - val_recall: 0.8085\n",
            "Epoch 28/200\n",
            "23/23 [==============================] - 3s 110ms/step - loss: 0.3084 - accuracy: 0.8470 - precision: 0.8774 - recall: 0.8611 - val_loss: 0.3474 - val_accuracy: 0.8375 - val_precision: 0.8864 - val_recall: 0.8298\n",
            "Epoch 29/200\n",
            "23/23 [==============================] - 2s 108ms/step - loss: 0.2142 - accuracy: 0.9126 - precision: 0.9107 - recall: 0.9444 - val_loss: 0.3965 - val_accuracy: 0.8250 - val_precision: 0.8667 - val_recall: 0.8298\n",
            "Epoch 30/200\n",
            "23/23 [==============================] - 2s 109ms/step - loss: 0.2131 - accuracy: 0.9071 - precision: 0.9333 - recall: 0.9074 - val_loss: 0.4002 - val_accuracy: 0.8000 - val_precision: 0.7719 - val_recall: 0.9362\n",
            "Epoch 31/200\n",
            "23/23 [==============================] - 3s 109ms/step - loss: 0.2083 - accuracy: 0.9126 - precision: 0.9182 - recall: 0.9352 - val_loss: 0.3469 - val_accuracy: 0.8250 - val_precision: 0.8235 - val_recall: 0.8936\n",
            "Epoch 32/200\n",
            "23/23 [==============================] - 2s 108ms/step - loss: 0.2329 - accuracy: 0.9290 - precision: 0.9612 - recall: 0.9167 - val_loss: 0.5290 - val_accuracy: 0.7875 - val_precision: 0.7778 - val_recall: 0.8936\n",
            "Epoch 33/200\n",
            "23/23 [==============================] - 3s 109ms/step - loss: 0.2431 - accuracy: 0.8962 - precision: 0.9238 - recall: 0.8981 - val_loss: 0.3697 - val_accuracy: 0.8875 - val_precision: 0.8958 - val_recall: 0.9149\n",
            "Epoch 34/200\n",
            "23/23 [==============================] - 2s 107ms/step - loss: 0.2086 - accuracy: 0.9344 - precision: 0.9528 - recall: 0.9352 - val_loss: 0.3632 - val_accuracy: 0.8625 - val_precision: 0.8462 - val_recall: 0.9362\n",
            "Epoch 35/200\n",
            "23/23 [==============================] - 3s 111ms/step - loss: 0.2392 - accuracy: 0.8962 - precision: 0.9238 - recall: 0.8981 - val_loss: 0.4825 - val_accuracy: 0.7375 - val_precision: 0.7097 - val_recall: 0.9362\n",
            "Epoch 36/200\n",
            "23/23 [==============================] - 2s 108ms/step - loss: 0.1702 - accuracy: 0.9399 - precision: 0.9217 - recall: 0.9815 - val_loss: 0.3956 - val_accuracy: 0.8500 - val_precision: 0.8431 - val_recall: 0.9149\n",
            "Epoch 37/200\n",
            "23/23 [==============================] - 2s 107ms/step - loss: 0.2759 - accuracy: 0.8634 - precision: 0.8673 - recall: 0.9074 - val_loss: 0.6443 - val_accuracy: 0.7750 - val_precision: 0.9143 - val_recall: 0.6809\n",
            "Epoch 38/200\n",
            "23/23 [==============================] - 3s 110ms/step - loss: 0.1897 - accuracy: 0.9235 - precision: 0.9434 - recall: 0.9259 - val_loss: 0.6513 - val_accuracy: 0.7500 - val_precision: 0.7077 - val_recall: 0.9787\n",
            "Epoch 39/200\n",
            "23/23 [==============================] - 3s 113ms/step - loss: 0.2117 - accuracy: 0.9180 - precision: 0.9266 - recall: 0.9352 - val_loss: 0.3869 - val_accuracy: 0.8125 - val_precision: 0.8333 - val_recall: 0.8511\n",
            "Epoch 40/200\n",
            "23/23 [==============================] - 3s 109ms/step - loss: 0.2317 - accuracy: 0.9235 - precision: 0.9352 - recall: 0.9352 - val_loss: 0.3096 - val_accuracy: 0.8250 - val_precision: 0.8367 - val_recall: 0.8723\n",
            "Epoch 41/200\n",
            "23/23 [==============================] - 2s 109ms/step - loss: 0.2071 - accuracy: 0.9126 - precision: 0.9259 - recall: 0.9259 - val_loss: 0.4729 - val_accuracy: 0.7625 - val_precision: 0.8182 - val_recall: 0.7660\n",
            "Epoch 42/200\n",
            "23/23 [==============================] - 3s 110ms/step - loss: 0.1619 - accuracy: 0.9344 - precision: 0.9364 - recall: 0.9537 - val_loss: 0.3657 - val_accuracy: 0.8875 - val_precision: 0.9318 - val_recall: 0.8723\n",
            "Epoch 43/200\n",
            "23/23 [==============================] - 3s 112ms/step - loss: 0.1519 - accuracy: 0.9508 - precision: 0.9541 - recall: 0.9630 - val_loss: 0.3624 - val_accuracy: 0.8375 - val_precision: 0.8269 - val_recall: 0.9149\n",
            "Epoch 44/200\n",
            "23/23 [==============================] - 2s 108ms/step - loss: 0.1850 - accuracy: 0.9180 - precision: 0.9429 - recall: 0.9167 - val_loss: 0.5151 - val_accuracy: 0.8125 - val_precision: 0.8200 - val_recall: 0.8723\n",
            "Epoch 45/200\n",
            "23/23 [==============================] - 3s 109ms/step - loss: 0.1238 - accuracy: 0.9508 - precision: 0.9459 - recall: 0.9722 - val_loss: 0.3702 - val_accuracy: 0.8625 - val_precision: 0.8750 - val_recall: 0.8936\n",
            "Epoch 46/200\n",
            "23/23 [==============================] - 2s 107ms/step - loss: 0.1358 - accuracy: 0.9454 - precision: 0.9537 - recall: 0.9537 - val_loss: 0.5942 - val_accuracy: 0.8250 - val_precision: 0.9024 - val_recall: 0.7872\n",
            "Epoch 47/200\n",
            "23/23 [==============================] - 3s 109ms/step - loss: 0.1708 - accuracy: 0.9563 - precision: 0.9717 - recall: 0.9537 - val_loss: 0.4204 - val_accuracy: 0.8500 - val_precision: 0.9070 - val_recall: 0.8298\n",
            "Epoch 48/200\n",
            "23/23 [==============================] - 2s 107ms/step - loss: 0.1882 - accuracy: 0.9180 - precision: 0.9346 - recall: 0.9259 - val_loss: 0.3699 - val_accuracy: 0.8250 - val_precision: 0.8000 - val_recall: 0.9362\n",
            "Epoch 49/200\n",
            "23/23 [==============================] - 2s 106ms/step - loss: 0.1621 - accuracy: 0.9180 - precision: 0.9346 - recall: 0.9259 - val_loss: 0.5490 - val_accuracy: 0.7875 - val_precision: 0.8125 - val_recall: 0.8298\n",
            "Epoch 50/200\n",
            "23/23 [==============================] - 2s 108ms/step - loss: 0.2136 - accuracy: 0.9180 - precision: 0.9346 - recall: 0.9259 - val_loss: 0.3493 - val_accuracy: 0.8250 - val_precision: 0.8511 - val_recall: 0.8511\n",
            "Epoch 51/200\n",
            "23/23 [==============================] - 2s 108ms/step - loss: 0.1483 - accuracy: 0.9344 - precision: 0.9364 - recall: 0.9537 - val_loss: 0.3186 - val_accuracy: 0.9000 - val_precision: 0.9149 - val_recall: 0.9149\n",
            "Epoch 52/200\n",
            "23/23 [==============================] - 3s 112ms/step - loss: 0.1424 - accuracy: 0.9344 - precision: 0.9528 - recall: 0.9352 - val_loss: 0.4511 - val_accuracy: 0.8375 - val_precision: 0.8269 - val_recall: 0.9149\n",
            "Epoch 53/200\n",
            "23/23 [==============================] - 2s 108ms/step - loss: 0.1421 - accuracy: 0.9508 - precision: 0.9459 - recall: 0.9722 - val_loss: 0.4775 - val_accuracy: 0.8000 - val_precision: 0.8163 - val_recall: 0.8511\n",
            "Epoch 54/200\n",
            "23/23 [==============================] - 2s 106ms/step - loss: 0.2042 - accuracy: 0.8962 - precision: 0.9083 - recall: 0.9167 - val_loss: 0.4343 - val_accuracy: 0.8000 - val_precision: 0.8298 - val_recall: 0.8298\n",
            "Epoch 55/200\n",
            "23/23 [==============================] - 2s 107ms/step - loss: 0.1114 - accuracy: 0.9563 - precision: 0.9545 - recall: 0.9722 - val_loss: 0.4073 - val_accuracy: 0.8500 - val_precision: 0.8889 - val_recall: 0.8511\n",
            "Epoch 56/200\n",
            "23/23 [==============================] - 2s 109ms/step - loss: 0.1473 - accuracy: 0.9454 - precision: 0.9537 - recall: 0.9537 - val_loss: 0.5060 - val_accuracy: 0.8250 - val_precision: 0.8113 - val_recall: 0.9149\n",
            "Epoch 57/200\n",
            "23/23 [==============================] - 2s 107ms/step - loss: 0.1872 - accuracy: 0.9180 - precision: 0.9266 - recall: 0.9352 - val_loss: 0.4502 - val_accuracy: 0.8000 - val_precision: 0.7925 - val_recall: 0.8936\n",
            "Epoch 58/200\n",
            "23/23 [==============================] - 3s 110ms/step - loss: 0.1457 - accuracy: 0.9344 - precision: 0.9364 - recall: 0.9537 - val_loss: 0.4623 - val_accuracy: 0.8625 - val_precision: 0.9091 - val_recall: 0.8511\n",
            "Epoch 59/200\n",
            "23/23 [==============================] - 2s 107ms/step - loss: 0.1492 - accuracy: 0.9290 - precision: 0.9524 - recall: 0.9259 - val_loss: 0.6042 - val_accuracy: 0.8000 - val_precision: 0.8780 - val_recall: 0.7660\n",
            "Epoch 60/200\n",
            "23/23 [==============================] - 2s 107ms/step - loss: 0.1725 - accuracy: 0.9399 - precision: 0.9533 - recall: 0.9444 - val_loss: 0.3331 - val_accuracy: 0.8750 - val_precision: 0.8776 - val_recall: 0.9149\n",
            "Epoch 61/200\n",
            "23/23 [==============================] - 2s 106ms/step - loss: 0.1786 - accuracy: 0.9344 - precision: 0.9528 - recall: 0.9352 - val_loss: 0.3933 - val_accuracy: 0.8250 - val_precision: 0.8367 - val_recall: 0.8723\n",
            "Epoch 62/200\n",
            "23/23 [==============================] - 2s 104ms/step - loss: 0.1585 - accuracy: 0.9399 - precision: 0.9450 - recall: 0.9537 - val_loss: 0.5342 - val_accuracy: 0.8250 - val_precision: 0.8667 - val_recall: 0.8298\n",
            "Epoch 63/200\n",
            "23/23 [==============================] - 2s 106ms/step - loss: 0.1924 - accuracy: 0.9016 - precision: 0.9167 - recall: 0.9167 - val_loss: 0.4010 - val_accuracy: 0.8750 - val_precision: 0.8776 - val_recall: 0.9149\n",
            "Epoch 64/200\n",
            "23/23 [==============================] - 2s 106ms/step - loss: 0.2158 - accuracy: 0.9235 - precision: 0.9434 - recall: 0.9259 - val_loss: 0.3737 - val_accuracy: 0.8000 - val_precision: 0.8605 - val_recall: 0.7872\n",
            "Epoch 65/200\n",
            "23/23 [==============================] - 2s 105ms/step - loss: 0.1202 - accuracy: 0.9454 - precision: 0.9623 - recall: 0.9444 - val_loss: 0.4044 - val_accuracy: 0.8625 - val_precision: 0.8913 - val_recall: 0.8723\n",
            "Epoch 66/200\n",
            "23/23 [==============================] - 2s 108ms/step - loss: 0.1278 - accuracy: 0.9563 - precision: 0.9717 - recall: 0.9537 - val_loss: 0.4733 - val_accuracy: 0.8000 - val_precision: 0.7925 - val_recall: 0.8936\n",
            "Epoch 67/200\n",
            "23/23 [==============================] - 3s 113ms/step - loss: 0.1794 - accuracy: 0.9126 - precision: 0.9340 - recall: 0.9167 - val_loss: 0.5009 - val_accuracy: 0.8250 - val_precision: 0.8000 - val_recall: 0.9362\n",
            "Epoch 68/200\n",
            "23/23 [==============================] - 2s 106ms/step - loss: 0.1887 - accuracy: 0.9180 - precision: 0.9189 - recall: 0.9444 - val_loss: 0.4919 - val_accuracy: 0.7875 - val_precision: 0.8261 - val_recall: 0.8085\n",
            "Epoch 69/200\n",
            "23/23 [==============================] - 2s 107ms/step - loss: 0.1318 - accuracy: 0.9454 - precision: 0.9537 - recall: 0.9537 - val_loss: 0.4740 - val_accuracy: 0.8375 - val_precision: 0.9250 - val_recall: 0.7872\n",
            "Epoch 70/200\n",
            "23/23 [==============================] - 2s 107ms/step - loss: 0.0712 - accuracy: 0.9781 - precision: 0.9815 - recall: 0.9815 - val_loss: 0.4225 - val_accuracy: 0.8750 - val_precision: 0.8776 - val_recall: 0.9149\n",
            "Epoch 71/200\n",
            "23/23 [==============================] - 2s 105ms/step - loss: 0.1389 - accuracy: 0.9344 - precision: 0.9528 - recall: 0.9352 - val_loss: 0.4773 - val_accuracy: 0.8375 - val_precision: 0.8400 - val_recall: 0.8936\n",
            "Epoch 72/200\n",
            "23/23 [==============================] - 2s 105ms/step - loss: 0.1639 - accuracy: 0.9454 - precision: 0.9455 - recall: 0.9630 - val_loss: 0.5056 - val_accuracy: 0.7625 - val_precision: 0.8182 - val_recall: 0.7660\n",
            "Epoch 73/200\n",
            "23/23 [==============================] - 2s 104ms/step - loss: 0.0955 - accuracy: 0.9563 - precision: 0.9717 - recall: 0.9537 - val_loss: 0.4716 - val_accuracy: 0.8625 - val_precision: 0.8333 - val_recall: 0.9574\n",
            "Epoch 74/200\n",
            "23/23 [==============================] - 2s 105ms/step - loss: 0.1141 - accuracy: 0.9672 - precision: 0.9636 - recall: 0.9815 - val_loss: 0.4899 - val_accuracy: 0.8375 - val_precision: 0.8400 - val_recall: 0.8936\n",
            "Epoch 75/200\n",
            "23/23 [==============================] - 2s 103ms/step - loss: 0.1354 - accuracy: 0.9508 - precision: 0.9626 - recall: 0.9537 - val_loss: 0.5765 - val_accuracy: 0.8125 - val_precision: 0.8333 - val_recall: 0.8511\n",
            "Epoch 76/200\n",
            "23/23 [==============================] - 2s 105ms/step - loss: 0.1595 - accuracy: 0.9454 - precision: 0.9537 - recall: 0.9537 - val_loss: 0.5405 - val_accuracy: 0.8000 - val_precision: 0.8444 - val_recall: 0.8085\n",
            "Epoch 77/200\n",
            "23/23 [==============================] - 2s 103ms/step - loss: 0.1648 - accuracy: 0.9399 - precision: 0.9450 - recall: 0.9537 - val_loss: 0.3959 - val_accuracy: 0.8750 - val_precision: 0.9512 - val_recall: 0.8298\n",
            "Epoch 78/200\n",
            "23/23 [==============================] - 2s 104ms/step - loss: 0.1628 - accuracy: 0.9344 - precision: 0.9528 - recall: 0.9352 - val_loss: 0.3818 - val_accuracy: 0.8875 - val_precision: 0.9130 - val_recall: 0.8936\n",
            "Epoch 79/200\n",
            "23/23 [==============================] - 2s 104ms/step - loss: 0.1241 - accuracy: 0.9508 - precision: 0.9714 - recall: 0.9444 - val_loss: 0.4516 - val_accuracy: 0.8250 - val_precision: 0.8235 - val_recall: 0.8936\n",
            "Epoch 80/200\n",
            "23/23 [==============================] - 2s 105ms/step - loss: 0.1509 - accuracy: 0.9290 - precision: 0.9358 - recall: 0.9444 - val_loss: 0.4857 - val_accuracy: 0.8000 - val_precision: 0.8974 - val_recall: 0.7447\n",
            "Epoch 81/200\n",
            "23/23 [==============================] - 2s 105ms/step - loss: 0.1422 - accuracy: 0.9399 - precision: 0.9450 - recall: 0.9537 - val_loss: 0.5354 - val_accuracy: 0.8250 - val_precision: 0.8837 - val_recall: 0.8085\n",
            "Epoch 82/200\n",
            "23/23 [==============================] - 2s 105ms/step - loss: 0.0814 - accuracy: 0.9672 - precision: 0.9636 - recall: 0.9815 - val_loss: 0.3882 - val_accuracy: 0.8500 - val_precision: 0.9268 - val_recall: 0.8085\n",
            "Epoch 83/200\n",
            "23/23 [==============================] - 2s 104ms/step - loss: 0.1774 - accuracy: 0.9180 - precision: 0.9346 - recall: 0.9259 - val_loss: 0.5244 - val_accuracy: 0.8375 - val_precision: 0.8542 - val_recall: 0.8723\n",
            "Epoch 84/200\n",
            "23/23 [==============================] - 2s 106ms/step - loss: 0.0858 - accuracy: 0.9672 - precision: 0.9722 - recall: 0.9722 - val_loss: 0.5026 - val_accuracy: 0.8625 - val_precision: 0.8462 - val_recall: 0.9362\n",
            "Epoch 85/200\n",
            "23/23 [==============================] - 2s 104ms/step - loss: 0.0826 - accuracy: 0.9781 - precision: 0.9815 - recall: 0.9815 - val_loss: 0.5664 - val_accuracy: 0.7750 - val_precision: 0.8085 - val_recall: 0.8085\n",
            "Epoch 86/200\n",
            "23/23 [==============================] - 2s 102ms/step - loss: 0.1466 - accuracy: 0.9399 - precision: 0.9619 - recall: 0.9352 - val_loss: 0.3237 - val_accuracy: 0.8625 - val_precision: 0.8913 - val_recall: 0.8723\n",
            "Epoch 87/200\n",
            "23/23 [==============================] - 2s 103ms/step - loss: 0.1058 - accuracy: 0.9563 - precision: 0.9464 - recall: 0.9815 - val_loss: 0.4406 - val_accuracy: 0.8500 - val_precision: 0.8889 - val_recall: 0.8511\n",
            "Epoch 88/200\n",
            "23/23 [==============================] - 2s 105ms/step - loss: 0.1476 - accuracy: 0.9508 - precision: 0.9626 - recall: 0.9537 - val_loss: 0.4980 - val_accuracy: 0.7750 - val_precision: 0.8537 - val_recall: 0.7447\n",
            "Epoch 89/200\n",
            "23/23 [==============================] - 2s 104ms/step - loss: 0.1435 - accuracy: 0.9399 - precision: 0.9369 - recall: 0.9630 - val_loss: 0.5252 - val_accuracy: 0.8500 - val_precision: 0.8302 - val_recall: 0.9362\n",
            "Epoch 90/200\n",
            "23/23 [==============================] - 2s 108ms/step - loss: 0.1215 - accuracy: 0.9563 - precision: 0.9630 - recall: 0.9630 - val_loss: 0.3804 - val_accuracy: 0.9000 - val_precision: 0.8980 - val_recall: 0.9362\n",
            "Epoch 91/200\n",
            "23/23 [==============================] - 3s 111ms/step - loss: 0.1431 - accuracy: 0.9508 - precision: 0.9806 - recall: 0.9352 - val_loss: 0.4546 - val_accuracy: 0.8125 - val_precision: 0.7963 - val_recall: 0.9149\n",
            "Epoch 92/200\n",
            "23/23 [==============================] - 2s 103ms/step - loss: 0.1366 - accuracy: 0.9290 - precision: 0.9439 - recall: 0.9352 - val_loss: 0.5478 - val_accuracy: 0.7750 - val_precision: 0.7736 - val_recall: 0.8723\n",
            "Epoch 93/200\n",
            "23/23 [==============================] - 2s 104ms/step - loss: 0.1580 - accuracy: 0.9563 - precision: 0.9545 - recall: 0.9722 - val_loss: 0.5342 - val_accuracy: 0.8125 - val_precision: 0.7857 - val_recall: 0.9362\n",
            "Epoch 94/200\n",
            "23/23 [==============================] - 2s 103ms/step - loss: 0.1564 - accuracy: 0.9399 - precision: 0.9533 - recall: 0.9444 - val_loss: 0.5009 - val_accuracy: 0.8000 - val_precision: 0.8298 - val_recall: 0.8298\n",
            "Epoch 95/200\n",
            "23/23 [==============================] - 2s 103ms/step - loss: 0.1220 - accuracy: 0.9563 - precision: 0.9717 - recall: 0.9537 - val_loss: 0.5650 - val_accuracy: 0.8375 - val_precision: 0.8696 - val_recall: 0.8511\n",
            "Epoch 96/200\n",
            "23/23 [==============================] - 2s 103ms/step - loss: 0.1411 - accuracy: 0.9399 - precision: 0.9450 - recall: 0.9537 - val_loss: 0.6089 - val_accuracy: 0.8750 - val_precision: 0.9111 - val_recall: 0.8723\n",
            "Epoch 97/200\n",
            "23/23 [==============================] - 2s 103ms/step - loss: 0.1531 - accuracy: 0.9508 - precision: 0.9541 - recall: 0.9630 - val_loss: 0.4743 - val_accuracy: 0.8625 - val_precision: 0.8600 - val_recall: 0.9149\n",
            "Epoch 98/200\n",
            "23/23 [==============================] - 2s 104ms/step - loss: 0.1427 - accuracy: 0.9399 - precision: 0.9450 - recall: 0.9537 - val_loss: 0.5170 - val_accuracy: 0.8500 - val_precision: 0.8571 - val_recall: 0.8936\n",
            "Epoch 99/200\n",
            "23/23 [==============================] - 2s 101ms/step - loss: 0.0902 - accuracy: 0.9672 - precision: 0.9722 - recall: 0.9722 - val_loss: 0.3465 - val_accuracy: 0.8250 - val_precision: 0.8000 - val_recall: 0.9362\n",
            "Epoch 100/200\n",
            "23/23 [==============================] - 2s 103ms/step - loss: 0.1175 - accuracy: 0.9508 - precision: 0.9459 - recall: 0.9722 - val_loss: 0.3334 - val_accuracy: 0.8625 - val_precision: 0.8750 - val_recall: 0.8936\n",
            "Epoch 101/200\n",
            "23/23 [==============================] - 2s 101ms/step - loss: 0.1673 - accuracy: 0.9508 - precision: 0.9626 - recall: 0.9537 - val_loss: 0.5442 - val_accuracy: 0.8250 - val_precision: 0.9231 - val_recall: 0.7660\n",
            "Epoch 102/200\n",
            "23/23 [==============================] - 2s 103ms/step - loss: 0.1796 - accuracy: 0.9290 - precision: 0.9439 - recall: 0.9352 - val_loss: 0.4466 - val_accuracy: 0.8125 - val_precision: 0.8077 - val_recall: 0.8936\n",
            "Epoch 103/200\n",
            "23/23 [==============================] - 2s 102ms/step - loss: 0.0922 - accuracy: 0.9781 - precision: 0.9727 - recall: 0.9907 - val_loss: 0.4619 - val_accuracy: 0.8000 - val_precision: 0.8298 - val_recall: 0.8298\n",
            "Epoch 104/200\n",
            "23/23 [==============================] - 2s 102ms/step - loss: 0.1395 - accuracy: 0.9344 - precision: 0.9528 - recall: 0.9352 - val_loss: 0.5006 - val_accuracy: 0.8625 - val_precision: 0.8600 - val_recall: 0.9149\n",
            "Epoch 105/200\n",
            "23/23 [==============================] - 2s 102ms/step - loss: 0.1314 - accuracy: 0.9508 - precision: 0.9541 - recall: 0.9630 - val_loss: 0.5607 - val_accuracy: 0.8250 - val_precision: 0.8511 - val_recall: 0.8511\n",
            "Epoch 106/200\n",
            "23/23 [==============================] - 2s 102ms/step - loss: 0.1334 - accuracy: 0.9508 - precision: 0.9381 - recall: 0.9815 - val_loss: 0.4733 - val_accuracy: 0.7875 - val_precision: 0.8261 - val_recall: 0.8085\n",
            "Epoch 107/200\n",
            "23/23 [==============================] - 2s 104ms/step - loss: 0.1288 - accuracy: 0.9235 - precision: 0.9273 - recall: 0.9444 - val_loss: 0.4061 - val_accuracy: 0.8375 - val_precision: 0.8400 - val_recall: 0.8936\n",
            "Epoch 108/200\n",
            "23/23 [==============================] - 2s 102ms/step - loss: 0.1198 - accuracy: 0.9454 - precision: 0.9455 - recall: 0.9630 - val_loss: 0.4216 - val_accuracy: 0.8250 - val_precision: 0.8837 - val_recall: 0.8085\n",
            "Epoch 109/200\n",
            "23/23 [==============================] - 2s 102ms/step - loss: 0.0769 - accuracy: 0.9727 - precision: 0.9725 - recall: 0.9815 - val_loss: 0.4166 - val_accuracy: 0.8625 - val_precision: 0.8913 - val_recall: 0.8723\n",
            "Epoch 110/200\n",
            "23/23 [==============================] - 2s 102ms/step - loss: 0.1058 - accuracy: 0.9617 - precision: 0.9633 - recall: 0.9722 - val_loss: 0.3173 - val_accuracy: 0.9000 - val_precision: 0.9535 - val_recall: 0.8723\n",
            "Epoch 111/200\n",
            "23/23 [==============================] - 2s 101ms/step - loss: 0.0786 - accuracy: 0.9727 - precision: 0.9813 - recall: 0.9722 - val_loss: 0.4241 - val_accuracy: 0.8625 - val_precision: 0.9286 - val_recall: 0.8298\n",
            "Epoch 112/200\n",
            "23/23 [==============================] - 2s 102ms/step - loss: 0.1215 - accuracy: 0.9508 - precision: 0.9541 - recall: 0.9630 - val_loss: 0.5100 - val_accuracy: 0.8750 - val_precision: 0.9302 - val_recall: 0.8511\n",
            "Epoch 113/200\n",
            "23/23 [==============================] - 2s 100ms/step - loss: 0.1264 - accuracy: 0.9563 - precision: 0.9630 - recall: 0.9630 - val_loss: 0.4066 - val_accuracy: 0.8500 - val_precision: 0.8723 - val_recall: 0.8723\n",
            "Epoch 114/200\n",
            "23/23 [==============================] - 2s 106ms/step - loss: 0.0797 - accuracy: 0.9727 - precision: 0.9725 - recall: 0.9815 - val_loss: 0.5120 - val_accuracy: 0.8000 - val_precision: 0.8444 - val_recall: 0.8085\n",
            "Epoch 115/200\n",
            "23/23 [==============================] - 2s 108ms/step - loss: 0.0985 - accuracy: 0.9727 - precision: 0.9905 - recall: 0.9630 - val_loss: 0.4459 - val_accuracy: 0.8500 - val_precision: 0.8889 - val_recall: 0.8511\n",
            "Epoch 116/200\n",
            "23/23 [==============================] - 2s 102ms/step - loss: 0.1837 - accuracy: 0.9290 - precision: 0.9279 - recall: 0.9537 - val_loss: 0.3514 - val_accuracy: 0.8875 - val_precision: 0.8800 - val_recall: 0.9362\n",
            "Epoch 117/200\n",
            "23/23 [==============================] - 2s 100ms/step - loss: 0.0953 - accuracy: 0.9617 - precision: 0.9633 - recall: 0.9722 - val_loss: 0.5075 - val_accuracy: 0.8500 - val_precision: 0.8889 - val_recall: 0.8511\n",
            "Epoch 118/200\n",
            "23/23 [==============================] - 2s 104ms/step - loss: 0.1039 - accuracy: 0.9563 - precision: 0.9630 - recall: 0.9630 - val_loss: 0.6154 - val_accuracy: 0.8125 - val_precision: 0.7963 - val_recall: 0.9149\n",
            "Epoch 119/200\n",
            "23/23 [==============================] - 2s 102ms/step - loss: 0.0913 - accuracy: 0.9563 - precision: 0.9717 - recall: 0.9537 - val_loss: 0.5159 - val_accuracy: 0.8500 - val_precision: 0.8571 - val_recall: 0.8936\n",
            "Epoch 120/200\n",
            "23/23 [==============================] - 2s 103ms/step - loss: 0.0786 - accuracy: 0.9727 - precision: 0.9813 - recall: 0.9722 - val_loss: 0.4310 - val_accuracy: 0.8875 - val_precision: 0.8958 - val_recall: 0.9149\n",
            "Epoch 121/200\n",
            "23/23 [==============================] - 2s 103ms/step - loss: 0.0572 - accuracy: 0.9836 - precision: 0.9817 - recall: 0.9907 - val_loss: 0.4026 - val_accuracy: 0.8375 - val_precision: 0.8542 - val_recall: 0.8723\n",
            "Epoch 122/200\n",
            "23/23 [==============================] - 2s 105ms/step - loss: 0.0840 - accuracy: 0.9563 - precision: 0.9545 - recall: 0.9722 - val_loss: 0.6827 - val_accuracy: 0.7500 - val_precision: 0.7755 - val_recall: 0.8085\n",
            "Epoch 123/200\n",
            "23/23 [==============================] - 2s 100ms/step - loss: 0.0773 - accuracy: 0.9672 - precision: 0.9554 - recall: 0.9907 - val_loss: 0.4458 - val_accuracy: 0.8875 - val_precision: 0.9524 - val_recall: 0.8511\n",
            "Epoch 124/200\n",
            "23/23 [==============================] - 2s 101ms/step - loss: 0.0738 - accuracy: 0.9672 - precision: 0.9636 - recall: 0.9815 - val_loss: 0.3165 - val_accuracy: 0.8750 - val_precision: 0.8627 - val_recall: 0.9362\n",
            "Epoch 125/200\n",
            "23/23 [==============================] - 2s 100ms/step - loss: 0.1113 - accuracy: 0.9508 - precision: 0.9714 - recall: 0.9444 - val_loss: 0.4646 - val_accuracy: 0.8125 - val_precision: 0.7759 - val_recall: 0.9574\n",
            "Epoch 126/200\n",
            "23/23 [==============================] - 2s 101ms/step - loss: 0.0836 - accuracy: 0.9727 - precision: 0.9905 - recall: 0.9630 - val_loss: 0.3335 - val_accuracy: 0.8875 - val_precision: 0.8654 - val_recall: 0.9574\n",
            "Epoch 127/200\n",
            "23/23 [==============================] - 2s 100ms/step - loss: 0.0856 - accuracy: 0.9672 - precision: 0.9722 - recall: 0.9722 - val_loss: 0.5018 - val_accuracy: 0.8625 - val_precision: 0.9286 - val_recall: 0.8298\n",
            "Epoch 128/200\n",
            "23/23 [==============================] - 2s 101ms/step - loss: 0.1148 - accuracy: 0.9617 - precision: 0.9550 - recall: 0.9815 - val_loss: 0.6717 - val_accuracy: 0.8000 - val_precision: 0.8780 - val_recall: 0.7660\n",
            "Epoch 129/200\n",
            "23/23 [==============================] - 2s 101ms/step - loss: 0.0896 - accuracy: 0.9672 - precision: 0.9722 - recall: 0.9722 - val_loss: 0.4301 - val_accuracy: 0.8875 - val_precision: 0.8519 - val_recall: 0.9787\n",
            "Epoch 130/200\n",
            "23/23 [==============================] - 2s 101ms/step - loss: 0.1013 - accuracy: 0.9617 - precision: 0.9810 - recall: 0.9537 - val_loss: 0.4978 - val_accuracy: 0.8375 - val_precision: 0.8148 - val_recall: 0.9362\n",
            "Epoch 131/200\n",
            "23/23 [==============================] - 2s 101ms/step - loss: 0.1071 - accuracy: 0.9508 - precision: 0.9541 - recall: 0.9630 - val_loss: 0.6063 - val_accuracy: 0.8000 - val_precision: 0.8605 - val_recall: 0.7872\n",
            "Epoch 132/200\n",
            "23/23 [==============================] - 2s 102ms/step - loss: 0.0861 - accuracy: 0.9727 - precision: 0.9813 - recall: 0.9722 - val_loss: 0.4403 - val_accuracy: 0.8625 - val_precision: 0.8600 - val_recall: 0.9149\n",
            "Epoch 133/200\n",
            "23/23 [==============================] - 2s 100ms/step - loss: 0.1042 - accuracy: 0.9617 - precision: 0.9633 - recall: 0.9722 - val_loss: 0.4668 - val_accuracy: 0.8000 - val_precision: 0.8444 - val_recall: 0.8085\n",
            "Epoch 134/200\n",
            "23/23 [==============================] - 2s 100ms/step - loss: 0.1052 - accuracy: 0.9563 - precision: 0.9630 - recall: 0.9630 - val_loss: 0.5939 - val_accuracy: 0.8000 - val_precision: 0.8039 - val_recall: 0.8723\n",
            "Epoch 135/200\n",
            "23/23 [==============================] - 2s 103ms/step - loss: 0.0873 - accuracy: 0.9617 - precision: 0.9720 - recall: 0.9630 - val_loss: 0.3857 - val_accuracy: 0.8500 - val_precision: 0.8431 - val_recall: 0.9149\n",
            "Epoch 136/200\n",
            "23/23 [==============================] - 2s 101ms/step - loss: 0.1311 - accuracy: 0.9454 - precision: 0.9537 - recall: 0.9537 - val_loss: 0.5493 - val_accuracy: 0.8625 - val_precision: 0.8333 - val_recall: 0.9574\n",
            "Epoch 137/200\n",
            "23/23 [==============================] - 2s 102ms/step - loss: 0.0972 - accuracy: 0.9727 - precision: 0.9640 - recall: 0.9907 - val_loss: 0.5946 - val_accuracy: 0.7875 - val_precision: 0.8947 - val_recall: 0.7234\n",
            "Epoch 138/200\n",
            "23/23 [==============================] - 2s 101ms/step - loss: 0.1180 - accuracy: 0.9508 - precision: 0.9541 - recall: 0.9630 - val_loss: 0.4552 - val_accuracy: 0.8375 - val_precision: 0.9048 - val_recall: 0.8085\n",
            "Epoch 139/200\n",
            "23/23 [==============================] - 2s 105ms/step - loss: 0.1483 - accuracy: 0.9399 - precision: 0.9533 - recall: 0.9444 - val_loss: 0.6138 - val_accuracy: 0.7750 - val_precision: 0.7377 - val_recall: 0.9574\n",
            "Epoch 140/200\n",
            "23/23 [==============================] - 3s 109ms/step - loss: 0.1305 - accuracy: 0.9508 - precision: 0.9541 - recall: 0.9630 - val_loss: 0.5249 - val_accuracy: 0.8125 - val_precision: 0.8636 - val_recall: 0.8085\n",
            "Epoch 141/200\n",
            "23/23 [==============================] - 2s 100ms/step - loss: 0.1361 - accuracy: 0.9454 - precision: 0.9375 - recall: 0.9722 - val_loss: 0.5039 - val_accuracy: 0.8125 - val_precision: 0.9444 - val_recall: 0.7234\n",
            "Epoch 142/200\n",
            "23/23 [==============================] - 2s 104ms/step - loss: 0.1707 - accuracy: 0.9399 - precision: 0.9450 - recall: 0.9537 - val_loss: 0.4800 - val_accuracy: 0.8375 - val_precision: 0.8542 - val_recall: 0.8723\n",
            "Epoch 143/200\n",
            "23/23 [==============================] - 2s 108ms/step - loss: 0.0732 - accuracy: 0.9727 - precision: 0.9905 - recall: 0.9630 - val_loss: 0.5678 - val_accuracy: 0.8750 - val_precision: 0.8776 - val_recall: 0.9149\n",
            "Epoch 144/200\n",
            "23/23 [==============================] - 2s 108ms/step - loss: 0.1202 - accuracy: 0.9454 - precision: 0.9537 - recall: 0.9537 - val_loss: 0.5547 - val_accuracy: 0.8250 - val_precision: 0.8511 - val_recall: 0.8511\n",
            "Epoch 145/200\n",
            "23/23 [==============================] - 3s 109ms/step - loss: 0.0719 - accuracy: 0.9781 - precision: 0.9906 - recall: 0.9722 - val_loss: 0.3681 - val_accuracy: 0.8750 - val_precision: 0.9111 - val_recall: 0.8723\n",
            "Epoch 146/200\n",
            "23/23 [==============================] - 2s 106ms/step - loss: 0.0675 - accuracy: 0.9672 - precision: 0.9722 - recall: 0.9722 - val_loss: 0.4511 - val_accuracy: 0.8625 - val_precision: 0.8913 - val_recall: 0.8723\n",
            "Epoch 147/200\n",
            "23/23 [==============================] - 2s 102ms/step - loss: 0.1037 - accuracy: 0.9563 - precision: 0.9717 - recall: 0.9537 - val_loss: 0.3776 - val_accuracy: 0.8500 - val_precision: 0.8723 - val_recall: 0.8723\n",
            "Epoch 148/200\n",
            "23/23 [==============================] - 2s 104ms/step - loss: 0.1107 - accuracy: 0.9563 - precision: 0.9717 - recall: 0.9537 - val_loss: 0.6377 - val_accuracy: 0.7875 - val_precision: 0.7885 - val_recall: 0.8723\n",
            "Epoch 149/200\n",
            "23/23 [==============================] - 2s 101ms/step - loss: 0.0883 - accuracy: 0.9672 - precision: 0.9722 - recall: 0.9722 - val_loss: 0.5955 - val_accuracy: 0.8125 - val_precision: 0.8077 - val_recall: 0.8936\n",
            "Epoch 150/200\n",
            "23/23 [==============================] - 2s 103ms/step - loss: 0.0864 - accuracy: 0.9672 - precision: 0.9722 - recall: 0.9722 - val_loss: 0.3785 - val_accuracy: 0.8375 - val_precision: 0.8696 - val_recall: 0.8511\n",
            "Epoch 151/200\n",
            "23/23 [==============================] - 2s 101ms/step - loss: 0.0969 - accuracy: 0.9563 - precision: 0.9717 - recall: 0.9537 - val_loss: 0.4051 - val_accuracy: 0.8375 - val_precision: 0.8148 - val_recall: 0.9362\n",
            "Epoch 152/200\n",
            "23/23 [==============================] - 2s 103ms/step - loss: 0.0820 - accuracy: 0.9672 - precision: 0.9636 - recall: 0.9815 - val_loss: 0.5514 - val_accuracy: 0.7750 - val_precision: 0.8537 - val_recall: 0.7447\n",
            "Epoch 153/200\n",
            "23/23 [==============================] - 2s 103ms/step - loss: 0.0969 - accuracy: 0.9563 - precision: 0.9630 - recall: 0.9630 - val_loss: 0.5839 - val_accuracy: 0.8000 - val_precision: 0.7818 - val_recall: 0.9149\n",
            "Epoch 154/200\n",
            "23/23 [==============================] - 2s 104ms/step - loss: 0.0658 - accuracy: 0.9781 - precision: 0.9727 - recall: 0.9907 - val_loss: 0.5497 - val_accuracy: 0.8250 - val_precision: 0.8837 - val_recall: 0.8085\n",
            "Epoch 155/200\n",
            "23/23 [==============================] - 2s 103ms/step - loss: 0.0747 - accuracy: 0.9672 - precision: 0.9636 - recall: 0.9815 - val_loss: 0.5260 - val_accuracy: 0.8125 - val_precision: 0.8200 - val_recall: 0.8723\n",
            "Epoch 156/200\n",
            "23/23 [==============================] - 2s 105ms/step - loss: 0.0692 - accuracy: 0.9891 - precision: 1.0000 - recall: 0.9815 - val_loss: 0.6528 - val_accuracy: 0.8000 - val_precision: 0.7818 - val_recall: 0.9149\n",
            "Epoch 157/200\n",
            "23/23 [==============================] - 2s 102ms/step - loss: 0.1043 - accuracy: 0.9454 - precision: 0.9375 - recall: 0.9722 - val_loss: 0.6759 - val_accuracy: 0.7625 - val_precision: 0.8333 - val_recall: 0.7447\n",
            "Epoch 158/200\n",
            "23/23 [==============================] - 2s 103ms/step - loss: 0.1101 - accuracy: 0.9617 - precision: 0.9810 - recall: 0.9537 - val_loss: 0.5470 - val_accuracy: 0.7875 - val_precision: 0.7885 - val_recall: 0.8723\n",
            "Epoch 159/200\n",
            "23/23 [==============================] - 2s 106ms/step - loss: 0.0668 - accuracy: 0.9781 - precision: 0.9815 - recall: 0.9815 - val_loss: 0.4869 - val_accuracy: 0.8500 - val_precision: 0.8431 - val_recall: 0.9149\n",
            "Epoch 160/200\n",
            "23/23 [==============================] - 2s 106ms/step - loss: 0.0851 - accuracy: 0.9672 - precision: 0.9722 - recall: 0.9722 - val_loss: 0.7029 - val_accuracy: 0.7750 - val_precision: 0.8372 - val_recall: 0.7660\n",
            "Epoch 161/200\n",
            "23/23 [==============================] - 2s 104ms/step - loss: 0.1160 - accuracy: 0.9727 - precision: 0.9813 - recall: 0.9722 - val_loss: 0.3906 - val_accuracy: 0.8375 - val_precision: 0.8400 - val_recall: 0.8936\n",
            "Epoch 162/200\n",
            "23/23 [==============================] - 2s 101ms/step - loss: 0.0870 - accuracy: 0.9617 - precision: 0.9550 - recall: 0.9815 - val_loss: 0.6635 - val_accuracy: 0.7875 - val_precision: 0.8750 - val_recall: 0.7447\n",
            "Epoch 163/200\n",
            "23/23 [==============================] - 2s 104ms/step - loss: 0.0639 - accuracy: 0.9672 - precision: 0.9811 - recall: 0.9630 - val_loss: 0.2767 - val_accuracy: 0.8875 - val_precision: 0.9130 - val_recall: 0.8936\n",
            "Epoch 164/200\n",
            "23/23 [==============================] - 3s 109ms/step - loss: 0.0894 - accuracy: 0.9836 - precision: 0.9817 - recall: 0.9907 - val_loss: 0.5224 - val_accuracy: 0.8250 - val_precision: 0.8113 - val_recall: 0.9149\n",
            "Epoch 165/200\n",
            "23/23 [==============================] - 2s 102ms/step - loss: 0.0632 - accuracy: 0.9672 - precision: 0.9722 - recall: 0.9722 - val_loss: 0.3794 - val_accuracy: 0.8375 - val_precision: 0.8542 - val_recall: 0.8723\n",
            "Epoch 166/200\n",
            "23/23 [==============================] - 2s 101ms/step - loss: 0.0695 - accuracy: 0.9891 - precision: 0.9907 - recall: 0.9907 - val_loss: 0.5780 - val_accuracy: 0.8000 - val_precision: 0.8444 - val_recall: 0.8085\n",
            "Epoch 167/200\n",
            "23/23 [==============================] - 2s 101ms/step - loss: 0.0617 - accuracy: 0.9727 - precision: 0.9813 - recall: 0.9722 - val_loss: 0.5688 - val_accuracy: 0.8500 - val_precision: 0.8571 - val_recall: 0.8936\n",
            "Epoch 168/200\n",
            "23/23 [==============================] - 2s 100ms/step - loss: 0.0702 - accuracy: 0.9727 - precision: 0.9813 - recall: 0.9722 - val_loss: 0.3547 - val_accuracy: 0.8750 - val_precision: 0.9302 - val_recall: 0.8511\n",
            "Epoch 169/200\n",
            "23/23 [==============================] - 2s 100ms/step - loss: 0.0756 - accuracy: 0.9672 - precision: 0.9811 - recall: 0.9630 - val_loss: 0.7098 - val_accuracy: 0.8500 - val_precision: 0.8571 - val_recall: 0.8936\n",
            "Epoch 170/200\n",
            "23/23 [==============================] - 2s 100ms/step - loss: 0.0578 - accuracy: 0.9727 - precision: 0.9725 - recall: 0.9815 - val_loss: 0.2523 - val_accuracy: 0.9000 - val_precision: 0.9149 - val_recall: 0.9149\n",
            "Epoch 171/200\n",
            "23/23 [==============================] - 2s 101ms/step - loss: 0.0961 - accuracy: 0.9617 - precision: 0.9720 - recall: 0.9630 - val_loss: 0.6299 - val_accuracy: 0.8250 - val_precision: 0.8511 - val_recall: 0.8511\n",
            "Epoch 172/200\n",
            "23/23 [==============================] - 2s 100ms/step - loss: 0.1295 - accuracy: 0.9454 - precision: 0.9537 - recall: 0.9537 - val_loss: 0.6365 - val_accuracy: 0.8000 - val_precision: 0.7925 - val_recall: 0.8936\n",
            "Epoch 173/200\n",
            "23/23 [==============================] - 2s 102ms/step - loss: 0.0974 - accuracy: 0.9672 - precision: 0.9722 - recall: 0.9722 - val_loss: 0.5269 - val_accuracy: 0.8250 - val_precision: 0.8667 - val_recall: 0.8298\n",
            "Epoch 174/200\n",
            "23/23 [==============================] - 2s 100ms/step - loss: 0.0569 - accuracy: 0.9891 - precision: 0.9907 - recall: 0.9907 - val_loss: 0.6942 - val_accuracy: 0.7625 - val_precision: 0.8043 - val_recall: 0.7872\n",
            "Epoch 175/200\n",
            "23/23 [==============================] - 2s 101ms/step - loss: 0.0718 - accuracy: 0.9727 - precision: 1.0000 - recall: 0.9537 - val_loss: 0.5497 - val_accuracy: 0.8250 - val_precision: 0.8000 - val_recall: 0.9362\n",
            "Epoch 176/200\n",
            "23/23 [==============================] - 2s 102ms/step - loss: 0.1045 - accuracy: 0.9727 - precision: 0.9725 - recall: 0.9815 - val_loss: 0.5875 - val_accuracy: 0.8500 - val_precision: 0.8431 - val_recall: 0.9149\n",
            "Epoch 177/200\n",
            "23/23 [==============================] - 2s 102ms/step - loss: 0.0941 - accuracy: 0.9617 - precision: 0.9810 - recall: 0.9537 - val_loss: 0.4177 - val_accuracy: 0.8250 - val_precision: 0.8367 - val_recall: 0.8723\n",
            "Epoch 178/200\n",
            "23/23 [==============================] - 2s 100ms/step - loss: 0.0508 - accuracy: 0.9781 - precision: 0.9906 - recall: 0.9722 - val_loss: 0.4377 - val_accuracy: 0.8625 - val_precision: 0.8750 - val_recall: 0.8936\n",
            "Epoch 179/200\n",
            "23/23 [==============================] - 2s 101ms/step - loss: 0.0680 - accuracy: 0.9781 - precision: 0.9815 - recall: 0.9815 - val_loss: 0.5264 - val_accuracy: 0.8000 - val_precision: 0.8163 - val_recall: 0.8511\n",
            "Epoch 180/200\n",
            "23/23 [==============================] - 2s 100ms/step - loss: 0.1098 - accuracy: 0.9563 - precision: 0.9630 - recall: 0.9630 - val_loss: 0.5972 - val_accuracy: 0.7750 - val_precision: 0.7544 - val_recall: 0.9149\n",
            "Epoch 181/200\n",
            "23/23 [==============================] - 2s 100ms/step - loss: 0.1746 - accuracy: 0.9454 - precision: 0.9455 - recall: 0.9630 - val_loss: 0.7332 - val_accuracy: 0.8000 - val_precision: 0.7925 - val_recall: 0.8936\n",
            "Epoch 182/200\n",
            "23/23 [==============================] - 2s 100ms/step - loss: 0.0873 - accuracy: 0.9727 - precision: 0.9640 - recall: 0.9907 - val_loss: 0.8138 - val_accuracy: 0.7750 - val_precision: 0.8919 - val_recall: 0.7021\n",
            "Epoch 183/200\n",
            "23/23 [==============================] - 2s 101ms/step - loss: 0.1910 - accuracy: 0.9399 - precision: 0.9619 - recall: 0.9352 - val_loss: 0.8978 - val_accuracy: 0.7625 - val_precision: 0.9118 - val_recall: 0.6596\n",
            "Epoch 184/200\n",
            "23/23 [==============================] - 2s 101ms/step - loss: 0.1358 - accuracy: 0.9617 - precision: 0.9633 - recall: 0.9722 - val_loss: 0.4388 - val_accuracy: 0.8625 - val_precision: 0.8333 - val_recall: 0.9574\n",
            "Epoch 185/200\n",
            "23/23 [==============================] - 2s 101ms/step - loss: 0.0977 - accuracy: 0.9617 - precision: 0.9810 - recall: 0.9537 - val_loss: 0.3784 - val_accuracy: 0.8625 - val_precision: 0.8462 - val_recall: 0.9362\n",
            "Epoch 186/200\n",
            "23/23 [==============================] - 2s 101ms/step - loss: 0.0362 - accuracy: 0.9945 - precision: 1.0000 - recall: 0.9907 - val_loss: 0.4973 - val_accuracy: 0.8625 - val_precision: 0.8750 - val_recall: 0.8936\n"
          ],
          "name": "stdout"
        }
      ]
    },
    {
      "cell_type": "code",
      "metadata": {
        "id": "HwJgvbdIXLxI",
        "colab_type": "code",
        "colab": {}
      },
      "source": [
        "model.save(models_directory+'Sharpening_HistEq_Morphological_Erode_Dilate_model.h5')"
      ],
      "execution_count": 18,
      "outputs": []
    },
    {
      "cell_type": "markdown",
      "metadata": {
        "id": "rR7b9rY-q2r3",
        "colab_type": "text"
      },
      "source": [
        ""
      ]
    },
    {
      "cell_type": "code",
      "metadata": {
        "id": "OGL6hW_Ll8ac",
        "colab_type": "code",
        "colab": {}
      },
      "source": [
        "epochs=200"
      ],
      "execution_count": 19,
      "outputs": []
    },
    {
      "cell_type": "code",
      "metadata": {
        "id": "nkc9WrDCG7VY",
        "colab_type": "code",
        "colab": {
          "base_uri": "https://localhost:8080/",
          "height": 826
        },
        "outputId": "bcce1fbf-7e80-45b8-ec2f-6d46089d46e3"
      },
      "source": [
        "import matplotlib.image  as mpimg\n",
        "import matplotlib.pyplot as plt\n",
        "\n",
        "#-----------------------------------------------------------\n",
        "# Retrieve a list of list results on training and test data\n",
        "# sets for each training epoch\n",
        "#-----------------------------------------------------------\n",
        "acc=history.history['accuracy']\n",
        "val_acc=history.history['val_accuracy']\n",
        "precision=history.history['precision']\n",
        "val_precision=history.history['val_precision']\n",
        "recall=history.history['recall']\n",
        "val_recall=history.history['val_recall']\n",
        "\n",
        "epochs=range(len(acc)) # Get number of epochs\n",
        "\n",
        "#------------------------------------------------\n",
        "# Plot training and validation accuracy per epoch\n",
        "#------------------------------------------------\n",
        "plt.plot(epochs, acc, 'r', \"Training Accuracy\")\n",
        "plt.plot(epochs, val_acc, 'b', \"Validation Accuracy\")\n",
        "plt.title('Training and validation accuracy')\n",
        "plt.figure()\n",
        "\n",
        "#------------------------------------------------\n",
        "# Plot training and validation Precision per epoch\n",
        "#------------------------------------------------\n",
        "plt.plot(epochs, precision, 'r', \"Training Precision\")\n",
        "plt.plot(epochs, val_precision, 'b', \"Validation Precision\")\n",
        "plt.title('Training and validation Precision')\n",
        "plt.figure()\n",
        "\n",
        "plt.plot(epochs, recall, 'r', \"Training Recall\")\n",
        "plt.plot(epochs, val_recall, 'b', \"Validation Recall\")\n",
        "plt.title('Training and validation Recall')\n"
      ],
      "execution_count": 20,
      "outputs": [
        {
          "output_type": "execute_result",
          "data": {
            "text/plain": [
              "Text(0.5, 1.0, 'Training and validation Recall')"
            ]
          },
          "metadata": {
            "tags": []
          },
          "execution_count": 20
        },
        {
          "output_type": "display_data",
          "data": {
            "image/png": "[encoded data removed]",
            "text/plain": [
              "<Figure size 432x288 with 1 Axes>"
            ]
          },
          "metadata": {
            "tags": [],
            "needs_background": "light"
          }
        },
        {
          "output_type": "display_data",
          "data": {
            "image/png": "[encoded data removed]",
            "text/plain": [
              "<Figure size 432x288 with 1 Axes>"
            ]
          },
          "metadata": {
            "tags": [],
            "needs_background": "light"
          }
        },
        {
          "output_type": "display_data",
          "data": {
            "image/png": "[encoded data removed]",
            "text/plain": [
              "<Figure size 432x288 with 1 Axes>"
            ]
          },
          "metadata": {
            "tags": [],
            "needs_background": "light"
          }
        }
      ]
    },
    {
      "cell_type": "code",
      "metadata": {
        "id": "weBpRLfAl69Z",
        "colab_type": "code",
        "colab": {}
      },
      "source": [
        ""
      ],
      "execution_count": null,
      "outputs": []
    },
    {
      "cell_type": "code",
      "metadata": {
        "id": "A86zE99Uai-P",
        "colab_type": "code",
        "colab": {}
      },
      "source": [
        ""
      ],
      "execution_count": null,
      "outputs": []
    }
  ]
}