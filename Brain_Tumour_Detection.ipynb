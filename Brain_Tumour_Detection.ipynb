{
  "nbformat": 4,
  "nbformat_minor": 0,
  "metadata": {
    "colab": {
      "name": "Brain_Tumour_Detection.ipynb",
      "provenance": [],
      "collapsed_sections": [],
      "toc_visible": true,
      "include_colab_link": true
    },
    "kernelspec": {
      "name": "python3",
      "display_name": "Python 3"
    },
    "accelerator": "GPU"
  },
  "cells": [
    {
      "cell_type": "markdown",
      "metadata": {
        "id": "view-in-github",
        "colab_type": "text"
      },
      "source": [
        "<a href=\"https://colab.research.google.com/github/AryanMethil/Brain_Tumor_Detection/blob/master/Brain_Tumour_Detection.ipynb\" target=\"_parent\"><img src=\"https://colab.research.google.com/assets/colab-badge.svg\" alt=\"Open In Colab\"/></a>"
      ]
    },
    {
      "cell_type": "code",
      "metadata": {
        "id": "Rx6Li8Xl4Dp5",
        "outputId": "27bf6e46-6520-45a7-d05e-2a461e79876d",
        "colab": {
          "base_uri": "https://localhost:8080/",
          "height": 34
        }
      },
      "source": [
        "from google.colab import drive\n",
        "drive.mount('/content/drive')\n"
      ],
      "execution_count": 1,
      "outputs": [
        {
          "output_type": "stream",
          "text": [
            "Mounted at /content/drive\n"
          ],
          "name": "stdout"
        }
      ]
    },
    {
      "cell_type": "code",
      "metadata": {
        "id": "KiEH_7xLicrp",
        "outputId": "ff04363e-952c-455a-ff6e-9fa9e509f7e6",
        "colab": {
          "base_uri": "https://localhost:8080/",
          "height": 34
        }
      },
      "source": [
        "%cd '/content/drive/My Drive/Brain_Tumor_Classification/src'"
      ],
      "execution_count": 2,
      "outputs": [
        {
          "output_type": "stream",
          "text": [
            "/content/drive/My Drive/Brain_Tumor_Classification/src\n"
          ],
          "name": "stdout"
        }
      ]
    },
    {
      "cell_type": "code",
      "metadata": {
        "id": "Kw4svy8RinXy",
        "outputId": "5c9d51aa-f018-494e-9361-6fb80ad75e81",
        "colab": {
          "base_uri": "https://localhost:8080/",
          "height": 34
        }
      },
      "source": [
        "!pwd"
      ],
      "execution_count": 3,
      "outputs": [
        {
          "output_type": "stream",
          "text": [
            "/content/drive/My Drive/Brain_Tumor_Classification/src\n"
          ],
          "name": "stdout"
        }
      ]
    },
    {
      "cell_type": "code",
      "metadata": {
        "id": "A9KilanhhY0v"
      },
      "source": [
        "import os\n",
        "import shutil\n",
        "from cv2 import *\n",
        "from google.colab.patches import cv2_imshow\n",
        "from constants import *\n",
        "import numpy as np"
      ],
      "execution_count": 4,
      "outputs": []
    },
    {
      "cell_type": "code",
      "metadata": {
        "id": "W-eCsnH9lygK",
        "outputId": "8253410e-4d72-4910-e861-f9b1438a655c",
        "colab": {
          "base_uri": "https://localhost:8080/",
          "height": 34
        }
      },
      "source": [
        "%cd '/content/'\n"
      ],
      "execution_count": 5,
      "outputs": [
        {
          "output_type": "stream",
          "text": [
            "/content\n"
          ],
          "name": "stdout"
        }
      ]
    },
    {
      "cell_type": "markdown",
      "metadata": {
        "id": "DgPiz0Cjba_u"
      },
      "source": [
        "# Image Preprocessing"
      ]
    },
    {
      "cell_type": "code",
      "metadata": {
        "id": "MWrzktW9YuhK"
      },
      "source": [
        "os.makedirs(image_preprocessed_yes,exist_ok=True)\n",
        "for _,_,files in os.walk(yes):\n",
        "  for f in files:\n",
        "    img_path=os.path.join(yes,f)\n",
        "    norm=imread(img_path)\n",
        "    norm=cvtColor(norm,COLOR_BGR2GRAY)\n",
        "\n",
        "    th1=equalizeHist(norm)\n",
        "   \n",
        "    th1=erode(th1,np.ones((4,4),np.uint8),iterations=1)\n",
        "    th1=dilate(th1,np.ones((4,4),np.uint8),iterations=1)\n",
        "\n",
        "    imwrite(image_preprocessed_yes+f,th1)\n",
        "\n",
        "os.makedirs(image_preprocessed_no,exist_ok=True)\n",
        "for _,_,files in os.walk(no):\n",
        "  for f in files:\n",
        "    img_path=os.path.join(no,f)\n",
        "    norm=imread(img_path)\n",
        "    norm=cvtColor(norm,COLOR_BGR2GRAY)\n",
        "\n",
        "    th1=equalizeHist(norm)\n",
        "   \n",
        "    th1=erode(th1,np.ones((4,4),np.uint8),iterations=1)\n",
        "    th1=dilate(th1,np.ones((4,4),np.uint8),iterations=1)\n",
        "    \n",
        "    imwrite(image_preprocessed_no+f,th1)"
      ],
      "execution_count": 5,
      "outputs": []
    },
    {
      "cell_type": "code",
      "metadata": {
        "id": "RuEg5FXqu9Iv"
      },
      "source": [
        "os.makedirs(image_generator_test_yes,exist_ok=True)\n",
        "for _,_,files in os.walk(test_yes):\n",
        "  for f in files:\n",
        "    img_path=os.path.join(test_yes,f)\n",
        "    norm=imread(img_path)\n",
        "    norm=cvtColor(norm,COLOR_BGR2GRAY)\n",
        "\n",
        "    th1=equalizeHist(norm)\n",
        "   \n",
        "    th1=erode(th1,np.ones((4,4),np.uint8),iterations=1)\n",
        "    th1=dilate(th1,np.ones((4,4),np.uint8),iterations=1)\n",
        "\n",
        "    imwrite(image_generator_test_yes+r'/'+f,th1)\n",
        "\n",
        "os.makedirs(image_generator_test_no,exist_ok=True)\n",
        "for _,_,files in os.walk(test_no):\n",
        "  for f in files:\n",
        "    img_path=os.path.join(test_no,f)\n",
        "    norm=imread(img_path)\n",
        "    norm=cvtColor(norm,COLOR_BGR2GRAY)\n",
        "\n",
        "    th1=equalizeHist(norm)\n",
        "   \n",
        "    th1=erode(th1,np.ones((4,4),np.uint8),iterations=1)\n",
        "    th1=dilate(th1,np.ones((4,4),np.uint8),iterations=1)\n",
        "    \n",
        "    imwrite(image_generator_test_no+r'/'+f,th1)"
      ],
      "execution_count": 7,
      "outputs": []
    },
    {
      "cell_type": "code",
      "metadata": {
        "id": "AnMe_3gA4llW"
      },
      "source": [
        "brain_tumour_no= image_preprocessed_no\n",
        "brain_tumour_yes=image_preprocessed_yes"
      ],
      "execution_count": 8,
      "outputs": []
    },
    {
      "cell_type": "code",
      "metadata": {
        "id": "4GCpGZKK5j5v"
      },
      "source": [
        "os.makedirs(image_generator_train_yes,exist_ok=True)\n",
        "os.makedirs(image_generator_train_no,exist_ok=True)\n",
        "os.makedirs(image_generator_validation_yes,exist_ok=True)\n",
        "os.makedirs(image_generator_validation_no,exist_ok=True)"
      ],
      "execution_count": 9,
      "outputs": []
    },
    {
      "cell_type": "code",
      "metadata": {
        "id": "gHo61zzu-Ngb"
      },
      "source": [
        "for dir,subdir,files in os.walk(brain_tumour_no):\n",
        "  for f in files[:int(len(files)*0.7)]:\n",
        "    shutil.copy(os.path.join(brain_tumour_no,f),image_generator_train_no)\n",
        "  for f in files[int(len(files)*0.7):]:\n",
        "    shutil.copy(os.path.join(brain_tumour_no,f),image_generator_validation_no)\n"
      ],
      "execution_count": 10,
      "outputs": []
    },
    {
      "cell_type": "code",
      "metadata": {
        "id": "zCsZh6pM_nFu"
      },
      "source": [
        "for dir,subdir,files in os.walk(brain_tumour_yes):\n",
        "  for f in files[:int(len(files)*0.7)]:\n",
        "    shutil.copy(os.path.join(brain_tumour_yes,f),image_generator_train_yes)\n",
        "  for f in files[int(len(files)*0.7):]:\n",
        "    shutil.copy(os.path.join(brain_tumour_yes,f),image_generator_validation_yes)"
      ],
      "execution_count": 11,
      "outputs": []
    },
    {
      "cell_type": "code",
      "metadata": {
        "id": "bXe464jivCvh",
        "outputId": "ef359088-a0f9-41f5-e9b8-ce431b94cb1c",
        "colab": {
          "base_uri": "https://localhost:8080/",
          "height": 51
        }
      },
      "source": [
        "for dir,subdir,files in os.walk(image_generator_train_yes):\n",
        "  print(len(files))\n",
        "for dir,subdir,files in os.walk(image_generator_train_no):\n",
        "  print(len(files))\n"
      ],
      "execution_count": 12,
      "outputs": [
        {
          "output_type": "stream",
          "text": [
            "1547\n",
            "420\n"
          ],
          "name": "stdout"
        }
      ]
    },
    {
      "cell_type": "markdown",
      "metadata": {
        "id": "K6z7S9j0bR5o"
      },
      "source": [
        "# Model"
      ]
    },
    {
      "cell_type": "code",
      "metadata": {
        "id": "GH0TT4mXAeWX"
      },
      "source": [
        "import tensorflow as tf\n"
      ],
      "execution_count": 13,
      "outputs": []
    },
    {
      "cell_type": "code",
      "metadata": {
        "id": "uwb-mgByBlY6",
        "outputId": "98071da6-cb88-479c-ffc6-a4ad78622f96",
        "colab": {
          "base_uri": "https://localhost:8080/",
          "height": 377
        }
      },
      "source": [
        "\n",
        "base_model=tf.keras.applications.InceptionV3(include_top=False,weights='imagenet',input_shape=(150,150,3))\n",
        "base_model.trainable=False\n",
        "model=tf.keras.Sequential()\n",
        "model.add(base_model)\n",
        "model.add(tf.keras.layers.Flatten())\n",
        "model.add(tf.keras.layers.Dense(128,activation='relu'))\n",
        "model.add(tf.keras.layers.Dropout(0.2))\n",
        "model.add(tf.keras.layers.Dense(1,activation='sigmoid'))\n",
        "model.summary()"
      ],
      "execution_count": 14,
      "outputs": [
        {
          "output_type": "stream",
          "text": [
            "Downloading data from https://storage.googleapis.com/tensorflow/keras-applications/inception_v3/inception_v3_weights_tf_dim_ordering_tf_kernels_notop.h5\n",
            "87916544/87910968 [==============================] - 1s 0us/step\n",
            "Model: \"sequential\"\n",
            "_________________________________________________________________\n",
            "Layer (type)                 Output Shape              Param #   \n",
            "=================================================================\n",
            "inception_v3 (Functional)    (None, 3, 3, 2048)        21802784  \n",
            "_________________________________________________________________\n",
            "flatten (Flatten)            (None, 18432)             0         \n",
            "_________________________________________________________________\n",
            "dense (Dense)                (None, 128)               2359424   \n",
            "_________________________________________________________________\n",
            "dropout (Dropout)            (None, 128)               0         \n",
            "_________________________________________________________________\n",
            "dense_1 (Dense)              (None, 1)                 129       \n",
            "=================================================================\n",
            "Total params: 24,162,337\n",
            "Trainable params: 2,359,553\n",
            "Non-trainable params: 21,802,784\n",
            "_________________________________________________________________\n"
          ],
          "name": "stdout"
        }
      ]
    },
    {
      "cell_type": "code",
      "metadata": {
        "id": "rOOJYQTyDPZ4"
      },
      "source": [
        "model.compile(loss='binary_crossentropy',\n",
        "              optimizer=tf.keras.optimizers.Adam(learning_rate=0.0005),\n",
        "              metrics=['accuracy',tf.keras.metrics.Precision(name='precision'),tf.keras.metrics.Recall(name='recall')])"
      ],
      "execution_count": 15,
      "outputs": []
    },
    {
      "cell_type": "code",
      "metadata": {
        "id": "xidHZ3J5Dt21"
      },
      "source": [
        "train_data_generator=tf.keras.preprocessing.image.ImageDataGenerator(rescale=1/255,\n",
        "                                  rotation_range=30,\n",
        "                                  height_shift_range=0.2,\n",
        "                                  width_shift_range=0.2,\n",
        "                                  shear_range=0.6,\n",
        "                                  zoom_range=0.2,\n",
        "                                  horizontal_flip=True,\n",
        "                                  fill_mode='nearest')\n",
        "validation_data_generator=tf.keras.preprocessing.image.ImageDataGenerator(rescale=1/255)\n",
        "\n",
        "test_data_generator=tf.keras.preprocessing.image.ImageDataGenerator(rescale=1/255)"
      ],
      "execution_count": 16,
      "outputs": []
    },
    {
      "cell_type": "code",
      "metadata": {
        "id": "YCvIq7YGEZpW",
        "outputId": "fcafdd19-f84c-4d85-90e9-db41c42de6c1",
        "colab": {
          "base_uri": "https://localhost:8080/",
          "height": 68
        }
      },
      "source": [
        "train_gen=train_data_generator.flow_from_directory(image_generator_train,\n",
        "                                                   target_size=(150,150),\n",
        "                                                   class_mode='binary',\n",
        "                                                   batch_size=8,\n",
        "                                                   shuffle=True)\n",
        "validation_gen=train_data_generator.flow_from_directory(image_generator_validation,\n",
        "                                                   target_size=(150,150),\n",
        "                                                   class_mode='binary',\n",
        "                                                   batch_size=8,\n",
        "                                                   shuffle=True)\n",
        "test_gen=test_data_generator.flow_from_directory(image_generator_test,\n",
        "                                                   target_size=(150,150),\n",
        "                                                   class_mode='binary',\n",
        "                                                   batch_size=8,\n",
        "                                                   shuffle=True)"
      ],
      "execution_count": 17,
      "outputs": [
        {
          "output_type": "stream",
          "text": [
            "Found 1967 images belonging to 2 classes.\n",
            "Found 1050 images belonging to 2 classes.\n",
            "Found 10 images belonging to 2 classes.\n"
          ],
          "name": "stdout"
        }
      ]
    },
    {
      "cell_type": "code",
      "metadata": {
        "id": "aQpDVApsFILx"
      },
      "source": [
        "class MyCallback(tf.keras.callbacks.Callback):\n",
        "  def on_epoch_end(self,epoch,logs={}):\n",
        "    if(logs['accuracy']>0.99):\n",
        "      self.model.stop_training=True\n",
        "callbacks=MyCallback()"
      ],
      "execution_count": 18,
      "outputs": []
    },
    {
      "cell_type": "code",
      "metadata": {
        "id": "j-xX6HF9GdSO",
        "outputId": "25423ea2-9bab-4e50-8eed-7146dd47e765",
        "colab": {
          "base_uri": "https://localhost:8080/",
          "height": 1000
        }
      },
      "source": [
        "history=model.fit(train_gen,validation_data=validation_gen,epochs=30,callbacks=callbacks,class_weight={0:1.0,1:2.0})"
      ],
      "execution_count": 19,
      "outputs": [
        {
          "output_type": "stream",
          "text": [
            "Epoch 1/30\n",
            "246/246 [==============================] - 214s 871ms/step - loss: 1.2500 - accuracy: 0.8749 - precision: 0.8988 - recall: 0.9476 - val_loss: 0.0850 - val_accuracy: 0.9686 - val_precision: 0.9634 - val_recall: 1.0000\n",
            "Epoch 2/30\n",
            "246/246 [==============================] - 27s 111ms/step - loss: 0.2395 - accuracy: 0.9171 - precision: 0.9303 - recall: 0.9670 - val_loss: 0.0670 - val_accuracy: 0.9790 - val_precision: 0.9753 - val_recall: 1.0000\n",
            "Epoch 3/30\n",
            "246/246 [==============================] - 27s 110ms/step - loss: 0.2213 - accuracy: 0.9192 - precision: 0.9258 - recall: 0.9754 - val_loss: 0.0869 - val_accuracy: 0.9629 - val_precision: 0.9570 - val_recall: 1.0000\n",
            "Epoch 4/30\n",
            "246/246 [==============================] - 27s 109ms/step - loss: 0.2238 - accuracy: 0.9090 - precision: 0.9201 - recall: 0.9683 - val_loss: 0.0928 - val_accuracy: 0.9629 - val_precision: 0.9570 - val_recall: 1.0000\n",
            "Epoch 5/30\n",
            "246/246 [==============================] - 27s 109ms/step - loss: 0.2345 - accuracy: 0.9207 - precision: 0.9317 - recall: 0.9703 - val_loss: 0.0604 - val_accuracy: 0.9733 - val_precision: 0.9709 - val_recall: 0.9977\n",
            "Epoch 6/30\n",
            "246/246 [==============================] - 27s 111ms/step - loss: 0.1949 - accuracy: 0.9359 - precision: 0.9494 - recall: 0.9703 - val_loss: 0.0683 - val_accuracy: 0.9629 - val_precision: 0.9570 - val_recall: 1.0000\n",
            "Epoch 7/30\n",
            "246/246 [==============================] - 27s 110ms/step - loss: 0.1823 - accuracy: 0.9324 - precision: 0.9430 - recall: 0.9729 - val_loss: 0.0661 - val_accuracy: 0.9724 - val_precision: 0.9698 - val_recall: 0.9977\n",
            "Epoch 8/30\n",
            "246/246 [==============================] - 27s 109ms/step - loss: 0.2015 - accuracy: 0.9319 - precision: 0.9474 - recall: 0.9670 - val_loss: 0.0372 - val_accuracy: 0.9857 - val_precision: 0.9852 - val_recall: 0.9977\n",
            "Epoch 9/30\n",
            "246/246 [==============================] - 27s 109ms/step - loss: 0.1999 - accuracy: 0.9390 - precision: 0.9524 - recall: 0.9709 - val_loss: 0.0375 - val_accuracy: 0.9867 - val_precision: 0.9841 - val_recall: 1.0000\n",
            "Epoch 10/30\n",
            "246/246 [==============================] - 27s 109ms/step - loss: 0.1632 - accuracy: 0.9436 - precision: 0.9585 - recall: 0.9703 - val_loss: 0.0595 - val_accuracy: 0.9781 - val_precision: 0.9742 - val_recall: 1.0000\n",
            "Epoch 11/30\n",
            "246/246 [==============================] - 27s 110ms/step - loss: 0.1634 - accuracy: 0.9522 - precision: 0.9601 - recall: 0.9800 - val_loss: 0.1061 - val_accuracy: 0.9381 - val_precision: 0.9313 - val_recall: 0.9988\n",
            "Epoch 12/30\n",
            "246/246 [==============================] - 27s 111ms/step - loss: 0.1744 - accuracy: 0.9426 - precision: 0.9573 - recall: 0.9703 - val_loss: 0.0419 - val_accuracy: 0.9886 - val_precision: 0.9875 - val_recall: 0.9988\n",
            "Epoch 13/30\n",
            "246/246 [==============================] - 27s 111ms/step - loss: 0.1648 - accuracy: 0.9466 - precision: 0.9610 - recall: 0.9716 - val_loss: 0.0610 - val_accuracy: 0.9790 - val_precision: 0.9753 - val_recall: 1.0000\n",
            "Epoch 14/30\n",
            "246/246 [==============================] - 27s 111ms/step - loss: 0.1407 - accuracy: 0.9497 - precision: 0.9611 - recall: 0.9754 - val_loss: 0.0690 - val_accuracy: 0.9762 - val_precision: 0.9720 - val_recall: 1.0000\n",
            "Epoch 15/30\n",
            "246/246 [==============================] - 27s 110ms/step - loss: 0.1560 - accuracy: 0.9517 - precision: 0.9654 - recall: 0.9735 - val_loss: 0.0680 - val_accuracy: 0.9686 - val_precision: 0.9665 - val_recall: 0.9965\n",
            "Epoch 16/30\n",
            "246/246 [==============================] - 27s 111ms/step - loss: 0.1622 - accuracy: 0.9492 - precision: 0.9594 - recall: 0.9767 - val_loss: 0.0414 - val_accuracy: 0.9848 - val_precision: 0.9819 - val_recall: 1.0000\n",
            "Epoch 17/30\n",
            "246/246 [==============================] - 27s 111ms/step - loss: 0.1746 - accuracy: 0.9492 - precision: 0.9565 - recall: 0.9800 - val_loss: 0.0510 - val_accuracy: 0.9781 - val_precision: 0.9742 - val_recall: 1.0000\n",
            "Epoch 18/30\n",
            "246/246 [==============================] - 28s 114ms/step - loss: 0.1492 - accuracy: 0.9497 - precision: 0.9582 - recall: 0.9787 - val_loss: 0.0412 - val_accuracy: 0.9867 - val_precision: 0.9841 - val_recall: 1.0000\n",
            "Epoch 19/30\n",
            "246/246 [==============================] - 27s 111ms/step - loss: 0.1448 - accuracy: 0.9548 - precision: 0.9649 - recall: 0.9780 - val_loss: 0.0453 - val_accuracy: 0.9829 - val_precision: 0.9819 - val_recall: 0.9977\n",
            "Epoch 20/30\n",
            "246/246 [==============================] - 27s 111ms/step - loss: 0.1477 - accuracy: 0.9532 - precision: 0.9691 - recall: 0.9716 - val_loss: 0.1293 - val_accuracy: 0.9343 - val_precision: 0.9264 - val_recall: 1.0000\n",
            "Epoch 21/30\n",
            "246/246 [==============================] - 28s 112ms/step - loss: 0.1266 - accuracy: 0.9583 - precision: 0.9699 - recall: 0.9774 - val_loss: 0.0915 - val_accuracy: 0.9581 - val_precision: 0.9518 - val_recall: 1.0000\n",
            "Epoch 22/30\n",
            "246/246 [==============================] - 27s 111ms/step - loss: 0.1340 - accuracy: 0.9558 - precision: 0.9668 - recall: 0.9774 - val_loss: 0.0267 - val_accuracy: 0.9895 - val_precision: 0.9875 - val_recall: 1.0000\n",
            "Epoch 23/30\n",
            "246/246 [==============================] - 28s 113ms/step - loss: 0.1569 - accuracy: 0.9507 - precision: 0.9636 - recall: 0.9741 - val_loss: 0.0766 - val_accuracy: 0.9686 - val_precision: 0.9634 - val_recall: 1.0000\n",
            "Epoch 24/30\n",
            "246/246 [==============================] - 27s 112ms/step - loss: 0.1391 - accuracy: 0.9558 - precision: 0.9656 - recall: 0.9787 - val_loss: 0.0768 - val_accuracy: 0.9648 - val_precision: 0.9592 - val_recall: 1.0000\n",
            "Epoch 25/30\n",
            "246/246 [==============================] - 27s 111ms/step - loss: 0.1379 - accuracy: 0.9583 - precision: 0.9645 - recall: 0.9832 - val_loss: 0.0525 - val_accuracy: 0.9838 - val_precision: 0.9808 - val_recall: 1.0000\n",
            "Epoch 26/30\n",
            "246/246 [==============================] - 27s 111ms/step - loss: 0.1507 - accuracy: 0.9537 - precision: 0.9691 - recall: 0.9722 - val_loss: 0.0262 - val_accuracy: 0.9933 - val_precision: 0.9920 - val_recall: 1.0000\n",
            "Epoch 27/30\n",
            "246/246 [==============================] - 27s 111ms/step - loss: 0.1507 - accuracy: 0.9512 - precision: 0.9678 - recall: 0.9703 - val_loss: 0.0527 - val_accuracy: 0.9800 - val_precision: 0.9764 - val_recall: 1.0000\n",
            "Epoch 28/30\n",
            "246/246 [==============================] - 27s 111ms/step - loss: 0.1217 - accuracy: 0.9603 - precision: 0.9711 - recall: 0.9787 - val_loss: 0.0539 - val_accuracy: 0.9848 - val_precision: 0.9830 - val_recall: 0.9988\n",
            "Epoch 29/30\n",
            "246/246 [==============================] - 28s 114ms/step - loss: 0.1340 - accuracy: 0.9583 - precision: 0.9663 - recall: 0.9813 - val_loss: 0.0352 - val_accuracy: 0.9924 - val_precision: 0.9909 - val_recall: 1.0000\n",
            "Epoch 30/30\n",
            "246/246 [==============================] - 27s 112ms/step - loss: 0.1094 - accuracy: 0.9659 - precision: 0.9750 - recall: 0.9819 - val_loss: 0.0222 - val_accuracy: 0.9933 - val_precision: 0.9931 - val_recall: 0.9988\n"
          ],
          "name": "stdout"
        }
      ]
    },
    {
      "cell_type": "code",
      "metadata": {
        "id": "dIMO1Q_BRBld"
      },
      "source": [
        "\n",
        "model.save(models_directory+'DS2_Updated_2_Histo_Erode_Dilate.h5')"
      ],
      "execution_count": 22,
      "outputs": []
    },
    {
      "cell_type": "code",
      "metadata": {
        "id": "ODM15a5RKCCE"
      },
      "source": [
        ""
      ],
      "execution_count": null,
      "outputs": []
    },
    {
      "cell_type": "markdown",
      "metadata": {
        "id": "rR7b9rY-q2r3"
      },
      "source": [
        "# Plotting Accuracy, Precision & Recall"
      ]
    },
    {
      "cell_type": "code",
      "metadata": {
        "id": "OGL6hW_Ll8ac"
      },
      "source": [
        "epochs=30"
      ],
      "execution_count": 20,
      "outputs": []
    },
    {
      "cell_type": "code",
      "metadata": {
        "id": "nkc9WrDCG7VY",
        "outputId": "83a1957f-29cf-4c5a-8217-320341af9647",
        "colab": {
          "base_uri": "https://localhost:8080/",
          "height": 826
        }
      },
      "source": [
        "import matplotlib.image  as mpimg\n",
        "import matplotlib.pyplot as plt\n",
        "\n",
        "#-----------------------------------------------------------\n",
        "# Retrieve a list of list results on training and test data\n",
        "# sets for each training epoch\n",
        "#-----------------------------------------------------------\n",
        "acc=history.history['accuracy']\n",
        "val_acc=history.history['val_accuracy']\n",
        "precision=history.history['precision']\n",
        "val_precision=history.history['val_precision']\n",
        "recall=history.history['recall']\n",
        "val_recall=history.history['val_recall']\n",
        "\n",
        "epochs=range(len(acc)) # Get number of epochs\n",
        "\n",
        "#------------------------------------------------\n",
        "# Plot training and validation accuracy per epoch\n",
        "#------------------------------------------------\n",
        "plt.plot(epochs, acc, 'r', \"Training Accuracy\")\n",
        "plt.plot(epochs, val_acc, 'b', \"Validation Accuracy\")\n",
        "plt.title('Training and validation accuracy')\n",
        "plt.figure()\n",
        "\n",
        "#------------------------------------------------\n",
        "# Plot training and validation Precision per epoch\n",
        "#------------------------------------------------\n",
        "plt.plot(epochs, precision, 'r', \"Training Precision\")\n",
        "plt.plot(epochs, val_precision, 'b', \"Validation Precision\")\n",
        "plt.title('Training and validation Precision')\n",
        "plt.figure()\n",
        "\n",
        "plt.plot(epochs, recall, 'r', \"Training Recall\")\n",
        "plt.plot(epochs, val_recall, 'b', \"Validation Recall\")\n",
        "plt.title('Training and validation Recall')\n"
      ],
      "execution_count": 21,
      "outputs": [
        {
          "output_type": "execute_result",
          "data": {
            "text/plain": [
              "Text(0.5, 1.0, 'Training and validation Recall')"
            ]
          },
          "metadata": {
            "tags": []
          },
          "execution_count": 21
        },
        {
          "output_type": "display_data",
          "data": {
            "image/png": "[encoded data removed]",
            "text/plain": [
              "<Figure size 432x288 with 1 Axes>"
            ]
          },
          "metadata": {
            "tags": [],
            "needs_background": "light"
          }
        },
        {
          "output_type": "display_data",
          "data": {
            "image/png": "[encoded data removed]",
            "text/plain": [
              "<Figure size 432x288 with 1 Axes>"
            ]
          },
          "metadata": {
            "tags": [],
            "needs_background": "light"
          }
        },
        {
          "output_type": "display_data",
          "data": {
            "image/png": "[encoded data removed]",
            "text/plain": [
              "<Figure size 432x288 with 1 Axes>"
            ]
          },
          "metadata": {
            "tags": [],
            "needs_background": "light"
          }
        }
      ]
    },
    {
      "cell_type": "markdown",
      "metadata": {
        "id": "E2X3ikcUQQiG"
      },
      "source": [
        "# Predicting against Test Images from the Internet"
      ]
    },
    {
      "cell_type": "code",
      "metadata": {
        "id": "7-jdwJoNwWFN"
      },
      "source": [
        "reloaded_model=tf.keras.models.load_model(models_directory+'DS2_Updated_2_Histo_Erode_Dilate.h5')"
      ],
      "execution_count": 23,
      "outputs": []
    },
    {
      "cell_type": "code",
      "metadata": {
        "id": "HCTJJ1UPO74u",
        "outputId": "79878350-4b31-4208-c049-b7ccd7690024",
        "colab": {
          "base_uri": "https://localhost:8080/",
          "height": 34
        }
      },
      "source": [
        "predictions=reloaded_model.evaluate(test_gen,batch_size=32)"
      ],
      "execution_count": 24,
      "outputs": [
        {
          "output_type": "stream",
          "text": [
            "2/2 [==============================] - 0s 13ms/step - loss: 1.4258 - accuracy: 0.7000 - precision: 1.0000 - recall: 0.4000\n"
          ],
          "name": "stdout"
        }
      ]
    },
    {
      "cell_type": "code",
      "metadata": {
        "id": "A86zE99Uai-P"
      },
      "source": [
        ""
      ],
      "execution_count": null,
      "outputs": []
    }
  ]
}