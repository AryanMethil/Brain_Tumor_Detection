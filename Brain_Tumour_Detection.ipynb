{
  "nbformat": 4,
  "nbformat_minor": 0,
  "metadata": {
    "colab": {
      "name": "Brain_Tumour_Detection.ipynb",
      "provenance": [],
      "collapsed_sections": [],
      "include_colab_link": true
    },
    "kernelspec": {
      "name": "python3",
      "display_name": "Python 3"
    },
    "accelerator": "GPU"
  },
  "cells": [
    {
      "cell_type": "markdown",
      "metadata": {
        "id": "view-in-github",
        "colab_type": "text"
      },
      "source": [
        "<a href=\"https://colab.research.google.com/github/AryanMethil/Brain_Tumor_Detection/blob/master/Brain_Tumour_Detection.ipynb\" target=\"_parent\"><img src=\"https://colab.research.google.com/assets/colab-badge.svg\" alt=\"Open In Colab\"/></a>"
      ]
    },
    {
      "cell_type": "code",
      "metadata": {
        "id": "Rx6Li8Xl4Dp5",
        "colab_type": "code",
        "colab": {
          "base_uri": "https://localhost:8080/",
          "height": 34
        },
        "outputId": "01014836-a5bd-46b5-eb57-5d82537b9fca"
      },
      "source": [
        "from google.colab import drive\n",
        "drive.mount('/content/drive')\n"
      ],
      "execution_count": 1,
      "outputs": [
        {
          "output_type": "stream",
          "text": [
            "Mounted at /content/drive\n"
          ],
          "name": "stdout"
        }
      ]
    },
    {
      "cell_type": "code",
      "metadata": {
        "id": "KiEH_7xLicrp",
        "colab_type": "code",
        "colab": {
          "base_uri": "https://localhost:8080/",
          "height": 34
        },
        "outputId": "a7e57687-a4db-4a5e-d5eb-e072f0c30c3a"
      },
      "source": [
        "%cd '/content/drive/My Drive/Brain_Tumor_Classification/src'"
      ],
      "execution_count": 13,
      "outputs": [
        {
          "output_type": "stream",
          "text": [
            "/content/drive/My Drive/Brain_Tumor_Classification/src\n"
          ],
          "name": "stdout"
        }
      ]
    },
    {
      "cell_type": "code",
      "metadata": {
        "id": "Kw4svy8RinXy",
        "colab_type": "code",
        "colab": {
          "base_uri": "https://localhost:8080/",
          "height": 34
        },
        "outputId": "14b44c66-4887-4614-84e3-a445fe56c256"
      },
      "source": [
        "!pwd"
      ],
      "execution_count": 14,
      "outputs": [
        {
          "output_type": "stream",
          "text": [
            "/content/drive/My Drive/Brain_Tumor_Classification/src\n"
          ],
          "name": "stdout"
        }
      ]
    },
    {
      "cell_type": "code",
      "metadata": {
        "id": "A9KilanhhY0v",
        "colab_type": "code",
        "colab": {}
      },
      "source": [
        "import os\n",
        "import shutil\n",
        "from cv2 import *\n",
        "from google.colab.patches import cv2_imshow\n",
        "from constants import *\n",
        "import numpy as np"
      ],
      "execution_count": 15,
      "outputs": []
    },
    {
      "cell_type": "code",
      "metadata": {
        "id": "W-eCsnH9lygK",
        "colab_type": "code",
        "colab": {
          "base_uri": "https://localhost:8080/",
          "height": 34
        },
        "outputId": "cc9d5dd5-4c1c-4133-e611-d2b8370e9e76"
      },
      "source": [
        "%cd '/content/'\n"
      ],
      "execution_count": 16,
      "outputs": [
        {
          "output_type": "stream",
          "text": [
            "/content\n"
          ],
          "name": "stdout"
        }
      ]
    },
    {
      "cell_type": "code",
      "metadata": {
        "id": "MWrzktW9YuhK",
        "colab_type": "code",
        "colab": {}
      },
      "source": [
        "os.makedirs(image_preprocessed_yes,exist_ok=True)\n",
        "for _,_,files in os.walk(yes):\n",
        "  for f in files:\n",
        "    img_path=os.path.join(yes,f)\n",
        "    norm=imread(img_path)\n",
        "    norm=cvtColor(norm,COLOR_BGR2GRAY)\n",
        "\n",
        "\n",
        "    kernel=np.array([[-1,-1,-1],[-1,8,-1],[-1,-1,-1]])\n",
        "    norm=cv2.filter2D(norm,-1,kernel)\n",
        "\n",
        "    th1=equalizeHist(norm)\n",
        "\n",
        "    th1=erode(th1,np.ones((4,4),np.uint8),iterations=1)\n",
        "    th1=dilate(th1,np.ones((4,4),np.uint8),iterations=1)\n",
        "\n",
        "    imwrite(image_preprocessed_yes+f,th1)\n",
        "\n",
        "os.makedirs(image_preprocessed_no,exist_ok=True)\n",
        "for _,_,files in os.walk(no):\n",
        "  for f in files:\n",
        "    img_path=os.path.join(no,f)\n",
        "    norm=imread(img_path)\n",
        "    norm=cvtColor(norm,COLOR_BGR2GRAY)\n",
        "\n",
        "\n",
        "    kernel=np.array([[-1,-1,-1],[-1,8,-1],[-1,-1,-1]])\n",
        "    norm=cv2.filter2D(norm,-1,kernel)\n",
        "\n",
        "    th1=equalizeHist(norm)\n",
        "   \n",
        "    th1=erode(th1,np.ones((4,4),np.uint8),iterations=1)\n",
        "    th1=dilate(th1,np.ones((4,4),np.uint8),iterations=1)\n",
        "    imwrite(image_preprocessed_no+f,th1)"
      ],
      "execution_count": 17,
      "outputs": []
    },
    {
      "cell_type": "code",
      "metadata": {
        "id": "AnMe_3gA4llW",
        "colab_type": "code",
        "colab": {}
      },
      "source": [
        "brain_tumour_no= image_preprocessed_no\n",
        "brain_tumour_yes=image_preprocessed_yes"
      ],
      "execution_count": 18,
      "outputs": []
    },
    {
      "cell_type": "code",
      "metadata": {
        "id": "4GCpGZKK5j5v",
        "colab_type": "code",
        "colab": {}
      },
      "source": [
        "os.makedirs(image_generator_train_yes,exist_ok=True)\n",
        "os.makedirs(image_generator_train_no,exist_ok=True)\n",
        "os.makedirs(image_generator_validation_yes,exist_ok=True)\n",
        "os.makedirs(image_generator_validation_no,exist_ok=True)"
      ],
      "execution_count": 19,
      "outputs": []
    },
    {
      "cell_type": "code",
      "metadata": {
        "id": "gHo61zzu-Ngb",
        "colab_type": "code",
        "colab": {}
      },
      "source": [
        "for dir,subdir,files in os.walk(brain_tumour_no):\n",
        "  for f in files[:int(len(files)*0.7)]:\n",
        "    shutil.copy(os.path.join(brain_tumour_no,f),image_generator_train_no)\n",
        "  for f in files[int(len(files)*0.7):]:\n",
        "    shutil.copy(os.path.join(brain_tumour_no,f),image_generator_validation_no)\n"
      ],
      "execution_count": 20,
      "outputs": []
    },
    {
      "cell_type": "code",
      "metadata": {
        "id": "zCsZh6pM_nFu",
        "colab_type": "code",
        "colab": {}
      },
      "source": [
        "for dir,subdir,files in os.walk(brain_tumour_yes):\n",
        "  for f in files[:int(len(files)*0.7)]:\n",
        "    shutil.copy(os.path.join(brain_tumour_yes,f),image_generator_train_yes)\n",
        "  for f in files[int(len(files)*0.7):]:\n",
        "    shutil.copy(os.path.join(brain_tumour_yes,f),image_generator_validation_yes)"
      ],
      "execution_count": 21,
      "outputs": []
    },
    {
      "cell_type": "code",
      "metadata": {
        "id": "GH0TT4mXAeWX",
        "colab_type": "code",
        "colab": {}
      },
      "source": [
        "import tensorflow as tf\n"
      ],
      "execution_count": 22,
      "outputs": []
    },
    {
      "cell_type": "code",
      "metadata": {
        "id": "uwb-mgByBlY6",
        "colab_type": "code",
        "colab": {
          "base_uri": "https://localhost:8080/",
          "height": 323
        },
        "outputId": "6e1afc82-9716-4c19-9b32-08211d4b48e4"
      },
      "source": [
        "\n",
        "base_model=tf.keras.applications.InceptionV3(include_top=False,weights='imagenet',input_shape=(150,150,3))\n",
        "base_model.trainable=False\n",
        "base_model=tf.keras.models.Model(inputs=base_model.input,outputs=base_model.get_layer(index=-11).output)\n",
        "model=tf.keras.Sequential()\n",
        "model.add(base_model)\n",
        "model.add(tf.keras.layers.Flatten())\n",
        "model.add(tf.keras.layers.Dense(128,activation='relu'))\n",
        "model.add(tf.keras.layers.Dropout(0.3))\n",
        "model.add(tf.keras.layers.Dense(1,activation='sigmoid'))\n",
        "model.summary()"
      ],
      "execution_count": 26,
      "outputs": [
        {
          "output_type": "stream",
          "text": [
            "Model: \"sequential_3\"\n",
            "_________________________________________________________________\n",
            "Layer (type)                 Output Shape              Param #   \n",
            "=================================================================\n",
            "functional_5 (Functional)    (None, 3, 3, 320)         16379040  \n",
            "_________________________________________________________________\n",
            "flatten_3 (Flatten)          (None, 2880)              0         \n",
            "_________________________________________________________________\n",
            "dense_6 (Dense)              (None, 128)               368768    \n",
            "_________________________________________________________________\n",
            "dropout_3 (Dropout)          (None, 128)               0         \n",
            "_________________________________________________________________\n",
            "dense_7 (Dense)              (None, 1)                 129       \n",
            "=================================================================\n",
            "Total params: 16,747,937\n",
            "Trainable params: 368,897\n",
            "Non-trainable params: 16,379,040\n",
            "_________________________________________________________________\n"
          ],
          "name": "stdout"
        }
      ]
    },
    {
      "cell_type": "code",
      "metadata": {
        "id": "rOOJYQTyDPZ4",
        "colab_type": "code",
        "colab": {}
      },
      "source": [
        "model.compile(loss='binary_crossentropy',\n",
        "              optimizer=tf.keras.optimizers.Adam(learning_rate=0.0005),\n",
        "              metrics=['accuracy',tf.keras.metrics.Precision(name='precision'),tf.keras.metrics.Recall(name='recall')])"
      ],
      "execution_count": 36,
      "outputs": []
    },
    {
      "cell_type": "code",
      "metadata": {
        "id": "xidHZ3J5Dt21",
        "colab_type": "code",
        "colab": {}
      },
      "source": [
        "train_data_generator=tf.keras.preprocessing.image.ImageDataGenerator(rescale=1/255,\n",
        "                                  rotation_range=30,\n",
        "                                  height_shift_range=0.2,\n",
        "                                  width_shift_range=0.2,\n",
        "                                  shear_range=0.6,\n",
        "                                  zoom_range=0.2,\n",
        "                                  horizontal_flip=True,\n",
        "                                  fill_mode='nearest')\n",
        "validation_data_generator=tf.keras.preprocessing.image.ImageDataGenerator(rescale=1/255)"
      ],
      "execution_count": 37,
      "outputs": []
    },
    {
      "cell_type": "code",
      "metadata": {
        "id": "YCvIq7YGEZpW",
        "colab_type": "code",
        "colab": {
          "base_uri": "https://localhost:8080/",
          "height": 51
        },
        "outputId": "9bc782e6-76d0-4719-a4d8-46c1acde024f"
      },
      "source": [
        "train_gen=train_data_generator.flow_from_directory(image_generator_train,\n",
        "                                                   target_size=(150,150),\n",
        "                                                   class_mode='binary',\n",
        "                                                   batch_size=8,\n",
        "                                                   shuffle=True)\n",
        "validation_gen=train_data_generator.flow_from_directory(image_generator_validation,\n",
        "                                                   target_size=(150,150),\n",
        "                                                   class_mode='binary',\n",
        "                                                   batch_size=8,\n",
        "                                                   shuffle=True)"
      ],
      "execution_count": 38,
      "outputs": [
        {
          "output_type": "stream",
          "text": [
            "Found 183 images belonging to 2 classes.\n",
            "Found 80 images belonging to 2 classes.\n"
          ],
          "name": "stdout"
        }
      ]
    },
    {
      "cell_type": "code",
      "metadata": {
        "id": "aQpDVApsFILx",
        "colab_type": "code",
        "colab": {}
      },
      "source": [
        "class MyCallback(tf.keras.callbacks.Callback):\n",
        "  def on_epoch_end(self,epoch,logs={}):\n",
        "    if(logs['accuracy']>0.99):\n",
        "      self.model.stop_training=True\n",
        "callbacks=MyCallback()"
      ],
      "execution_count": 39,
      "outputs": []
    },
    {
      "cell_type": "code",
      "metadata": {
        "id": "j-xX6HF9GdSO",
        "colab_type": "code",
        "colab": {
          "base_uri": "https://localhost:8080/",
          "height": 1000
        },
        "outputId": "763bab6a-e3ae-4f24-e089-ee8c3e171ef7"
      },
      "source": [
        "history=model.fit(train_gen,validation_data=validation_gen,epochs=200,callbacks=callbacks)"
      ],
      "execution_count": 40,
      "outputs": [
        {
          "output_type": "stream",
          "text": [
            "Epoch 1/200\n",
            "23/23 [==============================] - 4s 192ms/step - loss: 0.4713 - accuracy: 0.7596 - precision: 0.7909 - recall: 0.8056 - val_loss: 0.5153 - val_accuracy: 0.7500 - val_precision: 0.7872 - val_recall: 0.7872\n",
            "Epoch 2/200\n",
            "23/23 [==============================] - 3s 124ms/step - loss: 0.5031 - accuracy: 0.7760 - precision: 0.7965 - recall: 0.8333 - val_loss: 0.7325 - val_accuracy: 0.6500 - val_precision: 0.6939 - val_recall: 0.7234\n",
            "Epoch 3/200\n",
            "23/23 [==============================] - 3s 123ms/step - loss: 0.5301 - accuracy: 0.7377 - precision: 0.7727 - recall: 0.7870 - val_loss: 0.8353 - val_accuracy: 0.6375 - val_precision: 0.6800 - val_recall: 0.7234\n",
            "Epoch 4/200\n",
            "23/23 [==============================] - 3s 123ms/step - loss: 0.5674 - accuracy: 0.7486 - precision: 0.7818 - recall: 0.7963 - val_loss: 0.7214 - val_accuracy: 0.6250 - val_precision: 0.7742 - val_recall: 0.5106\n",
            "Epoch 5/200\n",
            "23/23 [==============================] - 3s 122ms/step - loss: 0.5899 - accuracy: 0.7486 - precision: 0.7672 - recall: 0.8241 - val_loss: 0.6637 - val_accuracy: 0.7000 - val_precision: 0.7255 - val_recall: 0.7872\n",
            "Epoch 6/200\n",
            "23/23 [==============================] - 3s 122ms/step - loss: 0.5345 - accuracy: 0.7541 - precision: 0.7944 - recall: 0.7870 - val_loss: 0.7243 - val_accuracy: 0.7000 - val_precision: 0.7674 - val_recall: 0.7021\n",
            "Epoch 7/200\n",
            "23/23 [==============================] - 3s 122ms/step - loss: 0.4634 - accuracy: 0.7760 - precision: 0.8073 - recall: 0.8148 - val_loss: 0.5869 - val_accuracy: 0.6875 - val_precision: 0.7895 - val_recall: 0.6383\n",
            "Epoch 8/200\n",
            "23/23 [==============================] - 3s 122ms/step - loss: 0.4613 - accuracy: 0.7596 - precision: 0.7857 - recall: 0.8148 - val_loss: 0.4954 - val_accuracy: 0.8000 - val_precision: 0.7818 - val_recall: 0.9149\n",
            "Epoch 9/200\n",
            "23/23 [==============================] - 3s 125ms/step - loss: 0.4478 - accuracy: 0.7596 - precision: 0.7857 - recall: 0.8148 - val_loss: 0.6171 - val_accuracy: 0.7125 - val_precision: 0.7500 - val_recall: 0.7660\n",
            "Epoch 10/200\n",
            "23/23 [==============================] - 3s 122ms/step - loss: 0.4110 - accuracy: 0.8197 - precision: 0.8641 - recall: 0.8241 - val_loss: 0.6833 - val_accuracy: 0.6750 - val_precision: 0.6721 - val_recall: 0.8723\n",
            "Epoch 11/200\n",
            "23/23 [==============================] - 3s 121ms/step - loss: 0.4320 - accuracy: 0.7869 - precision: 0.8053 - recall: 0.8426 - val_loss: 0.8730 - val_accuracy: 0.6750 - val_precision: 0.6721 - val_recall: 0.8723\n",
            "Epoch 12/200\n",
            "23/23 [==============================] - 3s 122ms/step - loss: 0.4803 - accuracy: 0.7596 - precision: 0.7857 - recall: 0.8148 - val_loss: 0.6407 - val_accuracy: 0.7125 - val_precision: 0.7400 - val_recall: 0.7872\n",
            "Epoch 13/200\n",
            "23/23 [==============================] - 3s 119ms/step - loss: 0.4790 - accuracy: 0.7486 - precision: 0.7719 - recall: 0.8148 - val_loss: 0.6436 - val_accuracy: 0.6875 - val_precision: 0.8056 - val_recall: 0.6170\n",
            "Epoch 14/200\n",
            "23/23 [==============================] - 3s 119ms/step - loss: 0.4284 - accuracy: 0.7978 - precision: 0.8142 - recall: 0.8519 - val_loss: 0.6783 - val_accuracy: 0.7500 - val_precision: 0.7288 - val_recall: 0.9149\n",
            "Epoch 15/200\n",
            "23/23 [==============================] - 3s 119ms/step - loss: 0.4218 - accuracy: 0.8033 - precision: 0.8214 - recall: 0.8519 - val_loss: 0.6995 - val_accuracy: 0.7000 - val_precision: 0.7949 - val_recall: 0.6596\n",
            "Epoch 16/200\n",
            "23/23 [==============================] - 3s 121ms/step - loss: 0.3892 - accuracy: 0.8142 - precision: 0.8426 - recall: 0.8426 - val_loss: 0.7886 - val_accuracy: 0.7250 - val_precision: 0.6923 - val_recall: 0.9574\n",
            "Epoch 17/200\n",
            "23/23 [==============================] - 3s 121ms/step - loss: 0.5409 - accuracy: 0.7377 - precision: 0.7778 - recall: 0.7778 - val_loss: 0.7497 - val_accuracy: 0.6500 - val_precision: 0.6508 - val_recall: 0.8723\n",
            "Epoch 18/200\n",
            "23/23 [==============================] - 3s 121ms/step - loss: 0.5682 - accuracy: 0.8197 - precision: 0.8378 - recall: 0.8611 - val_loss: 0.6984 - val_accuracy: 0.7250 - val_precision: 0.7193 - val_recall: 0.8723\n",
            "Epoch 19/200\n",
            "23/23 [==============================] - 3s 123ms/step - loss: 0.5027 - accuracy: 0.7650 - precision: 0.7876 - recall: 0.8241 - val_loss: 0.7606 - val_accuracy: 0.7375 - val_precision: 0.8095 - val_recall: 0.7234\n",
            "Epoch 20/200\n",
            "23/23 [==============================] - 3s 123ms/step - loss: 0.4761 - accuracy: 0.7650 - precision: 0.7778 - recall: 0.8426 - val_loss: 0.6495 - val_accuracy: 0.6750 - val_precision: 0.7333 - val_recall: 0.7021\n",
            "Epoch 21/200\n",
            "23/23 [==============================] - 3s 124ms/step - loss: 0.4231 - accuracy: 0.7923 - precision: 0.8182 - recall: 0.8333 - val_loss: 0.5514 - val_accuracy: 0.7375 - val_precision: 0.7708 - val_recall: 0.7872\n",
            "Epoch 22/200\n",
            "23/23 [==============================] - 3s 122ms/step - loss: 0.4552 - accuracy: 0.7705 - precision: 0.7797 - recall: 0.8519 - val_loss: 0.7406 - val_accuracy: 0.7000 - val_precision: 0.7170 - val_recall: 0.8085\n",
            "Epoch 23/200\n",
            "23/23 [==============================] - 3s 125ms/step - loss: 0.4274 - accuracy: 0.7650 - precision: 0.7826 - recall: 0.8333 - val_loss: 0.7798 - val_accuracy: 0.6375 - val_precision: 0.6607 - val_recall: 0.7872\n",
            "Epoch 24/200\n",
            "23/23 [==============================] - 3s 123ms/step - loss: 0.4982 - accuracy: 0.7377 - precision: 0.7727 - recall: 0.7870 - val_loss: 0.6424 - val_accuracy: 0.7000 - val_precision: 0.6769 - val_recall: 0.9362\n",
            "Epoch 25/200\n",
            "23/23 [==============================] - 3s 125ms/step - loss: 0.4399 - accuracy: 0.7760 - precision: 0.7863 - recall: 0.8519 - val_loss: 0.5501 - val_accuracy: 0.7125 - val_precision: 0.7308 - val_recall: 0.8085\n",
            "Epoch 26/200\n",
            "23/23 [==============================] - 3s 123ms/step - loss: 0.4383 - accuracy: 0.7978 - precision: 0.8257 - recall: 0.8333 - val_loss: 0.6189 - val_accuracy: 0.7125 - val_precision: 0.7609 - val_recall: 0.7447\n",
            "Epoch 27/200\n",
            "23/23 [==============================] - 3s 124ms/step - loss: 0.3918 - accuracy: 0.8197 - precision: 0.8440 - recall: 0.8519 - val_loss: 0.6606 - val_accuracy: 0.7000 - val_precision: 0.7091 - val_recall: 0.8298\n",
            "Epoch 28/200\n",
            "23/23 [==============================] - 3s 123ms/step - loss: 0.4687 - accuracy: 0.7760 - precision: 0.8018 - recall: 0.8241 - val_loss: 0.5959 - val_accuracy: 0.7000 - val_precision: 0.7091 - val_recall: 0.8298\n",
            "Epoch 29/200\n",
            "23/23 [==============================] - 3s 126ms/step - loss: 0.4706 - accuracy: 0.7760 - precision: 0.8018 - recall: 0.8241 - val_loss: 0.5501 - val_accuracy: 0.7375 - val_precision: 0.7321 - val_recall: 0.8723\n",
            "Epoch 30/200\n",
            "23/23 [==============================] - 3s 128ms/step - loss: 0.3800 - accuracy: 0.8251 - precision: 0.8455 - recall: 0.8611 - val_loss: 0.5551 - val_accuracy: 0.8000 - val_precision: 0.7925 - val_recall: 0.8936\n",
            "Epoch 31/200\n",
            "23/23 [==============================] - 3s 125ms/step - loss: 0.3657 - accuracy: 0.8142 - precision: 0.8364 - recall: 0.8519 - val_loss: 0.6560 - val_accuracy: 0.7125 - val_precision: 0.7000 - val_recall: 0.8936\n",
            "Epoch 32/200\n",
            "23/23 [==============================] - 3s 123ms/step - loss: 0.3806 - accuracy: 0.8306 - precision: 0.8598 - recall: 0.8519 - val_loss: 0.4877 - val_accuracy: 0.8125 - val_precision: 0.7963 - val_recall: 0.9149\n",
            "Epoch 33/200\n",
            "23/23 [==============================] - 3s 120ms/step - loss: 0.4739 - accuracy: 0.7377 - precision: 0.7778 - recall: 0.7778 - val_loss: 0.6764 - val_accuracy: 0.7125 - val_precision: 0.8000 - val_recall: 0.6809\n",
            "Epoch 34/200\n",
            "23/23 [==============================] - 3s 120ms/step - loss: 0.4388 - accuracy: 0.8197 - precision: 0.8205 - recall: 0.8889 - val_loss: 0.6361 - val_accuracy: 0.7250 - val_precision: 0.7193 - val_recall: 0.8723\n",
            "Epoch 35/200\n",
            "23/23 [==============================] - 3s 117ms/step - loss: 0.4488 - accuracy: 0.7760 - precision: 0.7815 - recall: 0.8611 - val_loss: 0.4579 - val_accuracy: 0.7250 - val_precision: 0.7193 - val_recall: 0.8723\n",
            "Epoch 36/200\n",
            "23/23 [==============================] - 3s 116ms/step - loss: 0.4957 - accuracy: 0.7869 - precision: 0.8350 - recall: 0.7963 - val_loss: 0.6128 - val_accuracy: 0.6750 - val_precision: 0.6667 - val_recall: 0.8936\n",
            "Epoch 37/200\n",
            "23/23 [==============================] - 3s 120ms/step - loss: 0.4268 - accuracy: 0.8306 - precision: 0.8348 - recall: 0.8889 - val_loss: 0.5825 - val_accuracy: 0.6875 - val_precision: 0.6897 - val_recall: 0.8511\n",
            "Epoch 38/200\n",
            "23/23 [==============================] - 3s 120ms/step - loss: 0.3513 - accuracy: 0.8251 - precision: 0.8276 - recall: 0.8889 - val_loss: 0.6154 - val_accuracy: 0.7000 - val_precision: 0.7018 - val_recall: 0.8511\n",
            "Epoch 39/200\n",
            "23/23 [==============================] - 3s 119ms/step - loss: 0.3966 - accuracy: 0.7650 - precision: 0.7686 - recall: 0.8611 - val_loss: 0.5575 - val_accuracy: 0.7625 - val_precision: 0.8043 - val_recall: 0.7872\n",
            "Epoch 40/200\n",
            "23/23 [==============================] - 3s 120ms/step - loss: 0.4176 - accuracy: 0.7923 - precision: 0.8365 - recall: 0.8056 - val_loss: 0.5142 - val_accuracy: 0.7625 - val_precision: 0.7692 - val_recall: 0.8511\n",
            "Epoch 41/200\n",
            "23/23 [==============================] - 3s 122ms/step - loss: 0.3696 - accuracy: 0.8251 - precision: 0.8393 - recall: 0.8704 - val_loss: 0.7084 - val_accuracy: 0.7375 - val_precision: 0.8095 - val_recall: 0.7234\n",
            "Epoch 42/200\n",
            "23/23 [==============================] - 3s 120ms/step - loss: 0.4482 - accuracy: 0.7814 - precision: 0.8269 - recall: 0.7963 - val_loss: 0.6241 - val_accuracy: 0.6875 - val_precision: 0.8056 - val_recall: 0.6170\n",
            "Epoch 43/200\n",
            "23/23 [==============================] - 3s 120ms/step - loss: 0.4235 - accuracy: 0.8142 - precision: 0.8364 - recall: 0.8519 - val_loss: 0.6274 - val_accuracy: 0.7125 - val_precision: 0.7400 - val_recall: 0.7872\n",
            "Epoch 44/200\n",
            "23/23 [==============================] - 3s 122ms/step - loss: 0.3189 - accuracy: 0.8689 - precision: 0.9038 - recall: 0.8704 - val_loss: 0.9663 - val_accuracy: 0.6625 - val_precision: 0.7000 - val_recall: 0.7447\n",
            "Epoch 45/200\n",
            "23/23 [==============================] - 3s 121ms/step - loss: 0.3844 - accuracy: 0.8142 - precision: 0.8246 - recall: 0.8704 - val_loss: 0.6545 - val_accuracy: 0.7000 - val_precision: 0.7091 - val_recall: 0.8298\n",
            "Epoch 46/200\n",
            "23/23 [==============================] - 3s 120ms/step - loss: 0.4122 - accuracy: 0.8087 - precision: 0.8349 - recall: 0.8426 - val_loss: 0.6822 - val_accuracy: 0.7250 - val_precision: 0.7778 - val_recall: 0.7447\n",
            "Epoch 47/200\n",
            "23/23 [==============================] - 3s 119ms/step - loss: 0.3736 - accuracy: 0.7869 - precision: 0.8416 - recall: 0.7870 - val_loss: 0.5853 - val_accuracy: 0.7250 - val_precision: 0.7451 - val_recall: 0.8085\n",
            "Epoch 48/200\n",
            "23/23 [==============================] - 3s 121ms/step - loss: 0.4661 - accuracy: 0.7814 - precision: 0.8091 - recall: 0.8241 - val_loss: 0.5376 - val_accuracy: 0.7750 - val_precision: 0.7959 - val_recall: 0.8298\n",
            "Epoch 49/200\n",
            "23/23 [==============================] - 3s 121ms/step - loss: 0.3765 - accuracy: 0.8525 - precision: 0.8403 - recall: 0.9259 - val_loss: 0.7715 - val_accuracy: 0.7500 - val_precision: 0.8000 - val_recall: 0.7660\n",
            "Epoch 50/200\n",
            "23/23 [==============================] - 3s 118ms/step - loss: 0.3935 - accuracy: 0.7923 - precision: 0.8241 - recall: 0.8241 - val_loss: 0.5852 - val_accuracy: 0.7500 - val_precision: 0.7455 - val_recall: 0.8723\n",
            "Epoch 51/200\n",
            "23/23 [==============================] - 3s 119ms/step - loss: 0.3883 - accuracy: 0.7923 - precision: 0.8431 - recall: 0.7963 - val_loss: 0.6199 - val_accuracy: 0.7000 - val_precision: 0.6949 - val_recall: 0.8723\n",
            "Epoch 52/200\n",
            "23/23 [==============================] - 3s 121ms/step - loss: 0.4368 - accuracy: 0.7978 - precision: 0.8198 - recall: 0.8426 - val_loss: 0.7374 - val_accuracy: 0.6750 - val_precision: 0.7234 - val_recall: 0.7234\n",
            "Epoch 53/200\n",
            "23/23 [==============================] - 3s 122ms/step - loss: 0.3697 - accuracy: 0.8087 - precision: 0.8120 - recall: 0.8796 - val_loss: 0.5851 - val_accuracy: 0.7125 - val_precision: 0.7857 - val_recall: 0.7021\n",
            "Epoch 54/200\n",
            "23/23 [==============================] - 3s 120ms/step - loss: 0.4115 - accuracy: 0.8142 - precision: 0.8700 - recall: 0.8056 - val_loss: 0.5706 - val_accuracy: 0.7250 - val_precision: 0.7193 - val_recall: 0.8723\n",
            "Epoch 55/200\n",
            "23/23 [==============================] - 3s 121ms/step - loss: 0.3945 - accuracy: 0.8142 - precision: 0.8136 - recall: 0.8889 - val_loss: 0.6684 - val_accuracy: 0.7000 - val_precision: 0.7949 - val_recall: 0.6596\n",
            "Epoch 56/200\n",
            "23/23 [==============================] - 3s 120ms/step - loss: 0.3956 - accuracy: 0.8033 - precision: 0.8333 - recall: 0.8333 - val_loss: 0.7387 - val_accuracy: 0.6625 - val_precision: 0.6923 - val_recall: 0.7660\n",
            "Epoch 57/200\n",
            "23/23 [==============================] - 3s 121ms/step - loss: 0.4356 - accuracy: 0.8197 - precision: 0.8641 - recall: 0.8241 - val_loss: 0.9490 - val_accuracy: 0.6625 - val_precision: 0.6613 - val_recall: 0.8723\n",
            "Epoch 58/200\n",
            "23/23 [==============================] - 3s 119ms/step - loss: 0.4420 - accuracy: 0.7705 - precision: 0.7895 - recall: 0.8333 - val_loss: 0.6189 - val_accuracy: 0.6875 - val_precision: 0.7292 - val_recall: 0.7447\n",
            "Epoch 59/200\n",
            "23/23 [==============================] - 3s 119ms/step - loss: 0.3915 - accuracy: 0.8251 - precision: 0.8333 - recall: 0.8796 - val_loss: 0.6147 - val_accuracy: 0.7375 - val_precision: 0.7321 - val_recall: 0.8723\n",
            "Epoch 60/200\n",
            "23/23 [==============================] - 3s 121ms/step - loss: 0.3664 - accuracy: 0.8361 - precision: 0.8305 - recall: 0.9074 - val_loss: 0.6420 - val_accuracy: 0.7625 - val_precision: 0.8043 - val_recall: 0.7872\n",
            "Epoch 61/200\n",
            "23/23 [==============================] - 3s 121ms/step - loss: 0.3965 - accuracy: 0.7978 - precision: 0.8087 - recall: 0.8611 - val_loss: 0.6711 - val_accuracy: 0.7000 - val_precision: 0.7447 - val_recall: 0.7447\n",
            "Epoch 62/200\n",
            "23/23 [==============================] - 3s 122ms/step - loss: 0.3826 - accuracy: 0.7978 - precision: 0.8034 - recall: 0.8704 - val_loss: 0.7286 - val_accuracy: 0.7250 - val_precision: 0.7358 - val_recall: 0.8298\n",
            "Epoch 63/200\n",
            "23/23 [==============================] - 3s 120ms/step - loss: 0.4455 - accuracy: 0.8087 - precision: 0.8411 - recall: 0.8333 - val_loss: 0.8466 - val_accuracy: 0.6625 - val_precision: 0.7381 - val_recall: 0.6596\n",
            "Epoch 64/200\n",
            "23/23 [==============================] - 3s 123ms/step - loss: 0.3586 - accuracy: 0.8470 - precision: 0.8636 - recall: 0.8796 - val_loss: 0.7331 - val_accuracy: 0.6750 - val_precision: 0.6842 - val_recall: 0.8298\n",
            "Epoch 65/200\n",
            "23/23 [==============================] - 3s 121ms/step - loss: 0.4459 - accuracy: 0.7650 - precision: 0.8095 - recall: 0.7870 - val_loss: 0.6139 - val_accuracy: 0.7750 - val_precision: 0.8222 - val_recall: 0.7872\n",
            "Epoch 66/200\n",
            "23/23 [==============================] - 3s 121ms/step - loss: 0.4005 - accuracy: 0.7923 - precision: 0.8125 - recall: 0.8426 - val_loss: 0.5637 - val_accuracy: 0.8125 - val_precision: 0.8200 - val_recall: 0.8723\n",
            "Epoch 67/200\n",
            "23/23 [==============================] - 3s 124ms/step - loss: 0.3403 - accuracy: 0.8525 - precision: 0.8716 - recall: 0.8796 - val_loss: 0.7198 - val_accuracy: 0.7500 - val_precision: 0.8140 - val_recall: 0.7447\n",
            "Epoch 68/200\n",
            "23/23 [==============================] - 3s 122ms/step - loss: 0.3935 - accuracy: 0.7978 - precision: 0.8447 - recall: 0.8056 - val_loss: 0.5657 - val_accuracy: 0.7625 - val_precision: 0.7917 - val_recall: 0.8085\n",
            "Epoch 69/200\n",
            "23/23 [==============================] - 3s 121ms/step - loss: 0.4945 - accuracy: 0.7814 - precision: 0.8208 - recall: 0.8056 - val_loss: 0.5312 - val_accuracy: 0.7375 - val_precision: 0.8095 - val_recall: 0.7234\n",
            "Epoch 70/200\n",
            "23/23 [==============================] - 3s 121ms/step - loss: 0.3457 - accuracy: 0.8142 - precision: 0.8246 - recall: 0.8704 - val_loss: 0.5970 - val_accuracy: 0.7000 - val_precision: 0.7255 - val_recall: 0.7872\n",
            "Epoch 71/200\n",
            "23/23 [==============================] - 3s 121ms/step - loss: 0.4324 - accuracy: 0.7814 - precision: 0.8091 - recall: 0.8241 - val_loss: 0.6022 - val_accuracy: 0.7500 - val_precision: 0.7647 - val_recall: 0.8298\n",
            "Epoch 72/200\n",
            "23/23 [==============================] - 3s 120ms/step - loss: 0.3686 - accuracy: 0.8033 - precision: 0.8158 - recall: 0.8611 - val_loss: 0.6137 - val_accuracy: 0.7375 - val_precision: 0.7708 - val_recall: 0.7872\n",
            "Epoch 73/200\n",
            "23/23 [==============================] - 3s 125ms/step - loss: 0.3960 - accuracy: 0.8087 - precision: 0.8230 - recall: 0.8611 - val_loss: 0.7220 - val_accuracy: 0.6750 - val_precision: 0.7059 - val_recall: 0.7660\n",
            "Epoch 74/200\n",
            "23/23 [==============================] - 3s 125ms/step - loss: 0.3667 - accuracy: 0.8525 - precision: 0.8785 - recall: 0.8704 - val_loss: 0.7244 - val_accuracy: 0.8000 - val_precision: 0.7925 - val_recall: 0.8936\n",
            "Epoch 75/200\n",
            "23/23 [==============================] - 3s 124ms/step - loss: 0.3156 - accuracy: 0.8470 - precision: 0.8704 - recall: 0.8704 - val_loss: 0.6248 - val_accuracy: 0.7750 - val_precision: 0.7736 - val_recall: 0.8723\n",
            "Epoch 76/200\n",
            "23/23 [==============================] - 3s 124ms/step - loss: 0.3482 - accuracy: 0.8579 - precision: 0.8868 - recall: 0.8704 - val_loss: 0.7322 - val_accuracy: 0.7750 - val_precision: 0.8222 - val_recall: 0.7872\n",
            "Epoch 77/200\n",
            "23/23 [==============================] - 3s 123ms/step - loss: 0.4457 - accuracy: 0.8142 - precision: 0.8491 - recall: 0.8333 - val_loss: 0.6786 - val_accuracy: 0.7875 - val_precision: 0.7500 - val_recall: 0.9574\n",
            "Epoch 78/200\n",
            "23/23 [==============================] - 3s 123ms/step - loss: 0.3847 - accuracy: 0.8197 - precision: 0.8151 - recall: 0.8981 - val_loss: 0.5415 - val_accuracy: 0.7750 - val_precision: 0.7959 - val_recall: 0.8298\n",
            "Epoch 79/200\n",
            "23/23 [==============================] - 3s 120ms/step - loss: 0.4151 - accuracy: 0.7814 - precision: 0.8036 - recall: 0.8333 - val_loss: 0.6043 - val_accuracy: 0.7000 - val_precision: 0.7805 - val_recall: 0.6809\n",
            "Epoch 80/200\n",
            "23/23 [==============================] - 3s 120ms/step - loss: 0.4774 - accuracy: 0.8142 - precision: 0.8426 - recall: 0.8426 - val_loss: 0.6305 - val_accuracy: 0.7000 - val_precision: 0.6885 - val_recall: 0.8936\n",
            "Epoch 81/200\n",
            "23/23 [==============================] - 3s 123ms/step - loss: 0.4578 - accuracy: 0.7760 - precision: 0.8131 - recall: 0.8056 - val_loss: 0.6914 - val_accuracy: 0.7000 - val_precision: 0.7255 - val_recall: 0.7872\n",
            "Epoch 82/200\n",
            "23/23 [==============================] - 3s 122ms/step - loss: 0.3475 - accuracy: 0.8251 - precision: 0.8393 - recall: 0.8704 - val_loss: 0.7974 - val_accuracy: 0.6625 - val_precision: 0.7083 - val_recall: 0.7234\n",
            "Epoch 83/200\n",
            "23/23 [==============================] - 3s 120ms/step - loss: 0.3383 - accuracy: 0.8689 - precision: 0.8818 - recall: 0.8981 - val_loss: 0.6613 - val_accuracy: 0.6875 - val_precision: 0.7115 - val_recall: 0.7872\n",
            "Epoch 84/200\n",
            "23/23 [==============================] - 3s 122ms/step - loss: 0.3956 - accuracy: 0.8306 - precision: 0.8468 - recall: 0.8704 - val_loss: 0.6315 - val_accuracy: 0.7375 - val_precision: 0.7500 - val_recall: 0.8298\n",
            "Epoch 85/200\n",
            "23/23 [==============================] - 3s 126ms/step - loss: 0.3775 - accuracy: 0.7978 - precision: 0.8034 - recall: 0.8704 - val_loss: 0.5512 - val_accuracy: 0.7375 - val_precision: 0.7600 - val_recall: 0.8085\n",
            "Epoch 86/200\n",
            "23/23 [==============================] - 3s 123ms/step - loss: 0.4595 - accuracy: 0.7705 - precision: 0.8173 - recall: 0.7870 - val_loss: 0.7406 - val_accuracy: 0.6625 - val_precision: 0.6852 - val_recall: 0.7872\n",
            "Epoch 87/200\n",
            "23/23 [==============================] - 3s 121ms/step - loss: 0.4126 - accuracy: 0.8306 - precision: 0.8468 - recall: 0.8704 - val_loss: 0.5595 - val_accuracy: 0.8000 - val_precision: 0.8298 - val_recall: 0.8298\n",
            "Epoch 88/200\n",
            "23/23 [==============================] - 3s 122ms/step - loss: 0.3335 - accuracy: 0.8415 - precision: 0.8435 - recall: 0.8981 - val_loss: 0.5271 - val_accuracy: 0.7000 - val_precision: 0.7091 - val_recall: 0.8298\n",
            "Epoch 89/200\n",
            "23/23 [==============================] - 3s 123ms/step - loss: 0.3260 - accuracy: 0.8470 - precision: 0.8509 - recall: 0.8981 - val_loss: 0.7258 - val_accuracy: 0.7625 - val_precision: 0.8182 - val_recall: 0.7660\n",
            "Epoch 90/200\n",
            "23/23 [==============================] - 3s 121ms/step - loss: 0.3327 - accuracy: 0.8525 - precision: 0.8857 - recall: 0.8611 - val_loss: 0.6122 - val_accuracy: 0.7500 - val_precision: 0.7547 - val_recall: 0.8511\n",
            "Epoch 91/200\n",
            "23/23 [==============================] - 3s 121ms/step - loss: 0.2960 - accuracy: 0.8962 - precision: 0.9159 - recall: 0.9074 - val_loss: 0.6138 - val_accuracy: 0.7500 - val_precision: 0.7547 - val_recall: 0.8511\n",
            "Epoch 92/200\n",
            "23/23 [==============================] - 3s 121ms/step - loss: 0.3436 - accuracy: 0.8525 - precision: 0.8785 - recall: 0.8704 - val_loss: 0.6176 - val_accuracy: 0.7875 - val_precision: 0.7885 - val_recall: 0.8723\n",
            "Epoch 93/200\n",
            "23/23 [==============================] - 3s 122ms/step - loss: 0.3640 - accuracy: 0.8361 - precision: 0.8679 - recall: 0.8519 - val_loss: 0.7095 - val_accuracy: 0.7375 - val_precision: 0.7321 - val_recall: 0.8723\n",
            "Epoch 94/200\n",
            "23/23 [==============================] - 3s 123ms/step - loss: 0.4061 - accuracy: 0.8033 - precision: 0.8051 - recall: 0.8796 - val_loss: 0.7143 - val_accuracy: 0.7375 - val_precision: 0.7500 - val_recall: 0.8298\n",
            "Epoch 95/200\n",
            "23/23 [==============================] - 3s 124ms/step - loss: 0.3457 - accuracy: 0.8415 - precision: 0.8692 - recall: 0.8611 - val_loss: 0.9067 - val_accuracy: 0.6875 - val_precision: 0.6964 - val_recall: 0.8298\n",
            "Epoch 96/200\n",
            "23/23 [==============================] - 3s 123ms/step - loss: 0.4923 - accuracy: 0.7596 - precision: 0.7909 - recall: 0.8056 - val_loss: 0.7551 - val_accuracy: 0.6625 - val_precision: 0.6923 - val_recall: 0.7660\n",
            "Epoch 97/200\n",
            "23/23 [==============================] - 3s 122ms/step - loss: 0.3704 - accuracy: 0.8470 - precision: 0.8922 - recall: 0.8426 - val_loss: 0.8164 - val_accuracy: 0.6625 - val_precision: 0.6852 - val_recall: 0.7872\n",
            "Epoch 98/200\n",
            "23/23 [==============================] - 3s 121ms/step - loss: 0.3957 - accuracy: 0.8361 - precision: 0.8421 - recall: 0.8889 - val_loss: 0.6490 - val_accuracy: 0.7750 - val_precision: 0.7736 - val_recall: 0.8723\n",
            "Epoch 99/200\n",
            "23/23 [==============================] - 3s 118ms/step - loss: 0.3740 - accuracy: 0.8251 - precision: 0.8393 - recall: 0.8704 - val_loss: 0.5230 - val_accuracy: 0.8250 - val_precision: 0.9024 - val_recall: 0.7872\n",
            "Epoch 100/200\n",
            "23/23 [==============================] - 3s 118ms/step - loss: 0.3192 - accuracy: 0.8689 - precision: 0.8684 - recall: 0.9167 - val_loss: 0.7314 - val_accuracy: 0.6875 - val_precision: 0.7200 - val_recall: 0.7660\n",
            "Epoch 101/200\n",
            "23/23 [==============================] - 3s 119ms/step - loss: 0.4500 - accuracy: 0.8142 - precision: 0.8426 - recall: 0.8426 - val_loss: 0.6581 - val_accuracy: 0.7125 - val_precision: 0.7857 - val_recall: 0.7021\n",
            "Epoch 102/200\n",
            "23/23 [==============================] - 3s 120ms/step - loss: 0.3721 - accuracy: 0.8415 - precision: 0.8762 - recall: 0.8519 - val_loss: 0.6711 - val_accuracy: 0.6625 - val_precision: 0.7083 - val_recall: 0.7234\n",
            "Epoch 103/200\n",
            "23/23 [==============================] - 3s 121ms/step - loss: 0.3220 - accuracy: 0.8415 - precision: 0.8692 - recall: 0.8611 - val_loss: 0.4765 - val_accuracy: 0.7875 - val_precision: 0.7885 - val_recall: 0.8723\n",
            "Epoch 104/200\n",
            "23/23 [==============================] - 3s 122ms/step - loss: 0.2751 - accuracy: 0.9016 - precision: 0.9091 - recall: 0.9259 - val_loss: 0.6529 - val_accuracy: 0.7375 - val_precision: 0.7826 - val_recall: 0.7660\n",
            "Epoch 105/200\n",
            "23/23 [==============================] - 3s 120ms/step - loss: 0.3617 - accuracy: 0.8197 - precision: 0.8378 - recall: 0.8611 - val_loss: 0.7329 - val_accuracy: 0.6125 - val_precision: 0.6600 - val_recall: 0.7021\n",
            "Epoch 106/200\n",
            "23/23 [==============================] - 3s 120ms/step - loss: 0.3477 - accuracy: 0.8415 - precision: 0.8762 - recall: 0.8519 - val_loss: 0.7691 - val_accuracy: 0.7000 - val_precision: 0.7447 - val_recall: 0.7447\n",
            "Epoch 107/200\n",
            "23/23 [==============================] - 3s 117ms/step - loss: 0.3476 - accuracy: 0.8306 - precision: 0.8532 - recall: 0.8611 - val_loss: 0.6509 - val_accuracy: 0.7500 - val_precision: 0.7647 - val_recall: 0.8298\n",
            "Epoch 108/200\n",
            "23/23 [==============================] - 3s 119ms/step - loss: 0.3622 - accuracy: 0.8142 - precision: 0.8558 - recall: 0.8241 - val_loss: 0.7585 - val_accuracy: 0.6500 - val_precision: 0.6727 - val_recall: 0.7872\n",
            "Epoch 109/200\n",
            "23/23 [==============================] - 3s 118ms/step - loss: 0.3418 - accuracy: 0.8251 - precision: 0.8333 - recall: 0.8796 - val_loss: 0.6013 - val_accuracy: 0.7250 - val_precision: 0.7451 - val_recall: 0.8085\n",
            "Epoch 110/200\n",
            "23/23 [==============================] - 3s 118ms/step - loss: 0.3303 - accuracy: 0.8415 - precision: 0.8435 - recall: 0.8981 - val_loss: 0.5324 - val_accuracy: 0.7000 - val_precision: 0.7805 - val_recall: 0.6809\n",
            "Epoch 111/200\n",
            "23/23 [==============================] - 3s 118ms/step - loss: 0.3126 - accuracy: 0.8525 - precision: 0.8785 - recall: 0.8704 - val_loss: 0.6147 - val_accuracy: 0.7250 - val_precision: 0.7119 - val_recall: 0.8936\n",
            "Epoch 112/200\n",
            "23/23 [==============================] - 3s 117ms/step - loss: 0.3615 - accuracy: 0.8087 - precision: 0.8230 - recall: 0.8611 - val_loss: 0.6389 - val_accuracy: 0.7250 - val_precision: 0.7119 - val_recall: 0.8936\n",
            "Epoch 113/200\n",
            "23/23 [==============================] - 3s 119ms/step - loss: 0.3363 - accuracy: 0.8743 - precision: 0.8829 - recall: 0.9074 - val_loss: 1.0906 - val_accuracy: 0.6375 - val_precision: 0.7250 - val_recall: 0.6170\n",
            "Epoch 114/200\n",
            "23/23 [==============================] - 3s 118ms/step - loss: 0.4206 - accuracy: 0.7760 - precision: 0.7965 - recall: 0.8333 - val_loss: 0.8404 - val_accuracy: 0.6875 - val_precision: 0.6964 - val_recall: 0.8298\n",
            "Epoch 115/200\n",
            "23/23 [==============================] - 3s 118ms/step - loss: 0.3578 - accuracy: 0.8251 - precision: 0.8455 - recall: 0.8611 - val_loss: 0.8695 - val_accuracy: 0.6750 - val_precision: 0.6842 - val_recall: 0.8298\n",
            "Epoch 116/200\n",
            "23/23 [==============================] - 3s 118ms/step - loss: 0.3797 - accuracy: 0.8142 - precision: 0.8246 - recall: 0.8704 - val_loss: 0.5338 - val_accuracy: 0.7375 - val_precision: 0.7708 - val_recall: 0.7872\n",
            "Epoch 117/200\n",
            "23/23 [==============================] - 3s 119ms/step - loss: 0.3110 - accuracy: 0.8361 - precision: 0.8545 - recall: 0.8704 - val_loss: 0.5774 - val_accuracy: 0.7625 - val_precision: 0.7333 - val_recall: 0.9362\n",
            "Epoch 118/200\n",
            "23/23 [==============================] - 3s 119ms/step - loss: 0.3491 - accuracy: 0.8525 - precision: 0.8462 - recall: 0.9167 - val_loss: 0.8283 - val_accuracy: 0.7000 - val_precision: 0.7255 - val_recall: 0.7872\n",
            "Epoch 119/200\n",
            "23/23 [==============================] - 3s 119ms/step - loss: 0.3946 - accuracy: 0.8087 - precision: 0.8476 - recall: 0.8241 - val_loss: 0.7749 - val_accuracy: 0.6875 - val_precision: 0.6833 - val_recall: 0.8723\n",
            "Epoch 120/200\n",
            "23/23 [==============================] - 3s 118ms/step - loss: 0.3011 - accuracy: 0.8525 - precision: 0.8785 - recall: 0.8704 - val_loss: 0.6647 - val_accuracy: 0.6875 - val_precision: 0.6833 - val_recall: 0.8723\n",
            "Epoch 121/200\n",
            "23/23 [==============================] - 3s 119ms/step - loss: 0.3320 - accuracy: 0.8579 - precision: 0.8361 - recall: 0.9444 - val_loss: 0.6865 - val_accuracy: 0.7500 - val_precision: 0.8462 - val_recall: 0.7021\n",
            "Epoch 122/200\n",
            "23/23 [==============================] - 3s 118ms/step - loss: 0.3598 - accuracy: 0.8251 - precision: 0.8455 - recall: 0.8611 - val_loss: 0.6878 - val_accuracy: 0.7250 - val_precision: 0.7119 - val_recall: 0.8936\n",
            "Epoch 123/200\n",
            "23/23 [==============================] - 3s 119ms/step - loss: 0.3440 - accuracy: 0.8470 - precision: 0.8636 - recall: 0.8796 - val_loss: 0.7496 - val_accuracy: 0.6500 - val_precision: 0.6727 - val_recall: 0.7872\n",
            "Epoch 124/200\n",
            "23/23 [==============================] - 3s 121ms/step - loss: 0.3577 - accuracy: 0.8306 - precision: 0.8667 - recall: 0.8426 - val_loss: 0.6021 - val_accuracy: 0.7000 - val_precision: 0.7255 - val_recall: 0.7872\n",
            "Epoch 125/200\n",
            "23/23 [==============================] - 3s 120ms/step - loss: 0.3306 - accuracy: 0.8470 - precision: 0.8509 - recall: 0.8981 - val_loss: 0.6961 - val_accuracy: 0.7250 - val_precision: 0.7119 - val_recall: 0.8936\n",
            "Epoch 126/200\n",
            "23/23 [==============================] - 3s 119ms/step - loss: 0.3308 - accuracy: 0.8798 - precision: 0.9135 - recall: 0.8796 - val_loss: 0.8770 - val_accuracy: 0.7125 - val_precision: 0.7069 - val_recall: 0.8723\n",
            "Epoch 127/200\n",
            "23/23 [==============================] - 3s 126ms/step - loss: 0.3449 - accuracy: 0.8470 - precision: 0.8509 - recall: 0.8981 - val_loss: 0.6272 - val_accuracy: 0.7625 - val_precision: 0.7800 - val_recall: 0.8298\n",
            "Epoch 128/200\n",
            "23/23 [==============================] - 3s 122ms/step - loss: 0.3696 - accuracy: 0.8087 - precision: 0.8288 - recall: 0.8519 - val_loss: 0.5178 - val_accuracy: 0.7000 - val_precision: 0.7255 - val_recall: 0.7872\n",
            "Epoch 129/200\n",
            "23/23 [==============================] - 3s 123ms/step - loss: 0.3650 - accuracy: 0.8197 - precision: 0.8319 - recall: 0.8704 - val_loss: 0.5358 - val_accuracy: 0.8000 - val_precision: 0.7925 - val_recall: 0.8936\n",
            "Epoch 130/200\n",
            "23/23 [==============================] - 3s 121ms/step - loss: 0.4072 - accuracy: 0.7978 - precision: 0.8257 - recall: 0.8333 - val_loss: 0.5648 - val_accuracy: 0.7625 - val_precision: 0.7593 - val_recall: 0.8723\n",
            "Epoch 131/200\n",
            "23/23 [==============================] - 3s 119ms/step - loss: 0.4171 - accuracy: 0.8087 - precision: 0.8349 - recall: 0.8426 - val_loss: 0.7671 - val_accuracy: 0.7000 - val_precision: 0.7170 - val_recall: 0.8085\n",
            "Epoch 132/200\n",
            "23/23 [==============================] - 3s 118ms/step - loss: 0.3426 - accuracy: 0.8361 - precision: 0.8750 - recall: 0.8426 - val_loss: 0.5940 - val_accuracy: 0.7625 - val_precision: 0.7593 - val_recall: 0.8723\n",
            "Epoch 133/200\n",
            "23/23 [==============================] - 3s 120ms/step - loss: 0.3368 - accuracy: 0.8197 - precision: 0.8571 - recall: 0.8333 - val_loss: 0.6568 - val_accuracy: 0.7250 - val_precision: 0.7778 - val_recall: 0.7447\n",
            "Epoch 134/200\n",
            "23/23 [==============================] - 3s 118ms/step - loss: 0.2933 - accuracy: 0.8743 - precision: 0.9126 - recall: 0.8704 - val_loss: 0.5413 - val_accuracy: 0.7500 - val_precision: 0.8000 - val_recall: 0.7660\n",
            "Epoch 135/200\n",
            "23/23 [==============================] - 3s 121ms/step - loss: 0.4367 - accuracy: 0.8197 - precision: 0.8378 - recall: 0.8611 - val_loss: 0.6543 - val_accuracy: 0.6875 - val_precision: 0.7391 - val_recall: 0.7234\n",
            "Epoch 136/200\n",
            "23/23 [==============================] - 3s 124ms/step - loss: 0.3635 - accuracy: 0.8306 - precision: 0.8468 - recall: 0.8704 - val_loss: 0.5379 - val_accuracy: 0.7125 - val_precision: 0.7222 - val_recall: 0.8298\n",
            "Epoch 137/200\n",
            "23/23 [==============================] - 3s 122ms/step - loss: 0.2981 - accuracy: 0.8852 - precision: 0.9143 - recall: 0.8889 - val_loss: 0.7961 - val_accuracy: 0.6875 - val_precision: 0.7292 - val_recall: 0.7447\n",
            "Epoch 138/200\n",
            "23/23 [==============================] - 3s 120ms/step - loss: 0.2739 - accuracy: 0.8743 - precision: 0.8972 - recall: 0.8889 - val_loss: 1.0139 - val_accuracy: 0.6625 - val_precision: 0.7083 - val_recall: 0.7234\n",
            "Epoch 139/200\n",
            "23/23 [==============================] - 3s 118ms/step - loss: 0.3802 - accuracy: 0.8361 - precision: 0.8545 - recall: 0.8704 - val_loss: 0.9082 - val_accuracy: 0.6750 - val_precision: 0.7059 - val_recall: 0.7660\n",
            "Epoch 140/200\n",
            "23/23 [==============================] - 3s 119ms/step - loss: 0.3626 - accuracy: 0.8361 - precision: 0.8482 - recall: 0.8796 - val_loss: 0.4288 - val_accuracy: 0.8375 - val_precision: 0.8542 - val_recall: 0.8723\n",
            "Epoch 141/200\n",
            "23/23 [==============================] - 3s 119ms/step - loss: 0.3845 - accuracy: 0.8361 - precision: 0.8824 - recall: 0.8333 - val_loss: 0.7616 - val_accuracy: 0.7000 - val_precision: 0.6885 - val_recall: 0.8936\n",
            "Epoch 142/200\n",
            "23/23 [==============================] - 3s 120ms/step - loss: 0.4375 - accuracy: 0.7923 - precision: 0.8241 - recall: 0.8241 - val_loss: 0.8217 - val_accuracy: 0.6750 - val_precision: 0.7143 - val_recall: 0.7447\n",
            "Epoch 143/200\n",
            "23/23 [==============================] - 3s 119ms/step - loss: 0.3217 - accuracy: 0.8361 - precision: 0.8545 - recall: 0.8704 - val_loss: 0.7915 - val_accuracy: 0.7125 - val_precision: 0.7308 - val_recall: 0.8085\n",
            "Epoch 144/200\n",
            "23/23 [==============================] - 3s 119ms/step - loss: 0.3060 - accuracy: 0.8743 - precision: 0.8696 - recall: 0.9259 - val_loss: 0.6986 - val_accuracy: 0.7500 - val_precision: 0.7455 - val_recall: 0.8723\n",
            "Epoch 145/200\n",
            "23/23 [==============================] - 3s 119ms/step - loss: 0.3682 - accuracy: 0.8197 - precision: 0.8378 - recall: 0.8611 - val_loss: 0.9645 - val_accuracy: 0.6875 - val_precision: 0.7895 - val_recall: 0.6383\n",
            "Epoch 146/200\n",
            "23/23 [==============================] - 3s 121ms/step - loss: 0.2890 - accuracy: 0.8634 - precision: 0.8807 - recall: 0.8889 - val_loss: 0.6928 - val_accuracy: 0.7125 - val_precision: 0.7143 - val_recall: 0.8511\n",
            "Epoch 147/200\n",
            "23/23 [==============================] - 3s 124ms/step - loss: 0.3737 - accuracy: 0.8306 - precision: 0.8532 - recall: 0.8611 - val_loss: 0.6539 - val_accuracy: 0.6750 - val_precision: 0.7059 - val_recall: 0.7660\n",
            "Epoch 148/200\n",
            "23/23 [==============================] - 3s 121ms/step - loss: 0.3602 - accuracy: 0.8197 - precision: 0.8505 - recall: 0.8426 - val_loss: 0.4830 - val_accuracy: 0.7875 - val_precision: 0.7778 - val_recall: 0.8936\n",
            "Epoch 149/200\n",
            "23/23 [==============================] - 3s 119ms/step - loss: 0.4246 - accuracy: 0.8033 - precision: 0.8333 - recall: 0.8333 - val_loss: 0.6492 - val_accuracy: 0.6750 - val_precision: 0.6842 - val_recall: 0.8298\n",
            "Epoch 150/200\n",
            "23/23 [==============================] - 3s 118ms/step - loss: 0.3324 - accuracy: 0.8361 - precision: 0.8545 - recall: 0.8704 - val_loss: 0.6885 - val_accuracy: 0.6875 - val_precision: 0.7037 - val_recall: 0.8085\n",
            "Epoch 151/200\n",
            "23/23 [==============================] - 3s 120ms/step - loss: 0.3149 - accuracy: 0.8415 - precision: 0.8435 - recall: 0.8981 - val_loss: 0.6558 - val_accuracy: 0.7750 - val_precision: 0.7636 - val_recall: 0.8936\n",
            "Epoch 152/200\n",
            "23/23 [==============================] - 3s 118ms/step - loss: 0.3236 - accuracy: 0.8361 - precision: 0.8421 - recall: 0.8889 - val_loss: 0.6073 - val_accuracy: 0.7375 - val_precision: 0.7955 - val_recall: 0.7447\n",
            "Epoch 153/200\n",
            "23/23 [==============================] - 3s 119ms/step - loss: 0.3582 - accuracy: 0.8689 - precision: 0.8818 - recall: 0.8981 - val_loss: 0.6176 - val_accuracy: 0.7000 - val_precision: 0.7255 - val_recall: 0.7872\n",
            "Epoch 154/200\n",
            "23/23 [==============================] - 3s 118ms/step - loss: 0.3005 - accuracy: 0.8907 - precision: 0.8860 - recall: 0.9352 - val_loss: 0.7191 - val_accuracy: 0.7500 - val_precision: 0.7455 - val_recall: 0.8723\n",
            "Epoch 155/200\n",
            "23/23 [==============================] - 3s 118ms/step - loss: 0.3890 - accuracy: 0.8361 - precision: 0.8362 - recall: 0.8981 - val_loss: 0.5886 - val_accuracy: 0.7375 - val_precision: 0.7321 - val_recall: 0.8723\n",
            "Epoch 156/200\n",
            "23/23 [==============================] - 3s 118ms/step - loss: 0.3050 - accuracy: 0.8579 - precision: 0.8942 - recall: 0.8611 - val_loss: 0.6234 - val_accuracy: 0.7500 - val_precision: 0.7872 - val_recall: 0.7872\n",
            "Epoch 157/200\n",
            "23/23 [==============================] - 3s 119ms/step - loss: 0.3525 - accuracy: 0.8415 - precision: 0.8496 - recall: 0.8889 - val_loss: 0.7680 - val_accuracy: 0.7250 - val_precision: 0.7358 - val_recall: 0.8298\n",
            "Epoch 158/200\n",
            "23/23 [==============================] - 3s 120ms/step - loss: 0.3338 - accuracy: 0.8251 - precision: 0.8455 - recall: 0.8611 - val_loss: 0.6725 - val_accuracy: 0.7125 - val_precision: 0.7400 - val_recall: 0.7872\n",
            "Epoch 159/200\n",
            "23/23 [==============================] - 3s 119ms/step - loss: 0.3577 - accuracy: 0.8470 - precision: 0.8774 - recall: 0.8611 - val_loss: 0.7076 - val_accuracy: 0.6875 - val_precision: 0.7115 - val_recall: 0.7872\n",
            "Epoch 160/200\n",
            "23/23 [==============================] - 3s 118ms/step - loss: 0.3355 - accuracy: 0.8525 - precision: 0.8716 - recall: 0.8796 - val_loss: 0.5663 - val_accuracy: 0.7500 - val_precision: 0.7872 - val_recall: 0.7872\n",
            "Epoch 161/200\n",
            "23/23 [==============================] - 3s 119ms/step - loss: 0.3616 - accuracy: 0.8251 - precision: 0.8654 - recall: 0.8333 - val_loss: 0.9237 - val_accuracy: 0.6750 - val_precision: 0.6981 - val_recall: 0.7872\n",
            "Epoch 162/200\n",
            "23/23 [==============================] - 3s 117ms/step - loss: 0.3054 - accuracy: 0.8689 - precision: 0.9038 - recall: 0.8704 - val_loss: 1.1063 - val_accuracy: 0.7000 - val_precision: 0.6949 - val_recall: 0.8723\n",
            "Epoch 163/200\n",
            "23/23 [==============================] - 3s 117ms/step - loss: 0.3805 - accuracy: 0.8361 - precision: 0.8482 - recall: 0.8796 - val_loss: 0.6622 - val_accuracy: 0.7625 - val_precision: 0.7800 - val_recall: 0.8298\n",
            "Epoch 164/200\n",
            "23/23 [==============================] - 3s 120ms/step - loss: 0.3410 - accuracy: 0.8415 - precision: 0.8559 - recall: 0.8796 - val_loss: 0.5158 - val_accuracy: 0.8000 - val_precision: 0.7818 - val_recall: 0.9149\n",
            "Epoch 165/200\n",
            "23/23 [==============================] - 3s 121ms/step - loss: 0.3778 - accuracy: 0.7923 - precision: 0.8182 - recall: 0.8333 - val_loss: 0.7426 - val_accuracy: 0.7000 - val_precision: 0.6949 - val_recall: 0.8723\n",
            "Epoch 166/200\n",
            "23/23 [==============================] - 3s 121ms/step - loss: 0.3109 - accuracy: 0.8525 - precision: 0.8522 - recall: 0.9074 - val_loss: 0.5513 - val_accuracy: 0.8125 - val_precision: 0.8077 - val_recall: 0.8936\n",
            "Epoch 167/200\n",
            "23/23 [==============================] - 3s 120ms/step - loss: 0.3668 - accuracy: 0.8415 - precision: 0.8692 - recall: 0.8611 - val_loss: 0.7491 - val_accuracy: 0.6875 - val_precision: 0.7037 - val_recall: 0.8085\n",
            "Epoch 168/200\n",
            "23/23 [==============================] - 3s 122ms/step - loss: 0.2916 - accuracy: 0.8689 - precision: 0.8621 - recall: 0.9259 - val_loss: 0.6316 - val_accuracy: 0.6875 - val_precision: 0.7391 - val_recall: 0.7234\n",
            "Epoch 169/200\n",
            "23/23 [==============================] - 3s 121ms/step - loss: 0.3562 - accuracy: 0.8415 - precision: 0.8835 - recall: 0.8426 - val_loss: 0.7902 - val_accuracy: 0.7500 - val_precision: 0.8000 - val_recall: 0.7660\n",
            "Epoch 170/200\n",
            "23/23 [==============================] - 3s 119ms/step - loss: 0.3626 - accuracy: 0.8361 - precision: 0.8679 - recall: 0.8519 - val_loss: 0.5462 - val_accuracy: 0.7250 - val_precision: 0.7660 - val_recall: 0.7660\n",
            "Epoch 171/200\n",
            "23/23 [==============================] - 3s 119ms/step - loss: 0.3414 - accuracy: 0.8470 - precision: 0.8636 - recall: 0.8796 - val_loss: 0.5144 - val_accuracy: 0.8000 - val_precision: 0.7719 - val_recall: 0.9362\n",
            "Epoch 172/200\n",
            "23/23 [==============================] - 3s 120ms/step - loss: 0.3438 - accuracy: 0.8579 - precision: 0.8417 - recall: 0.9352 - val_loss: 0.8361 - val_accuracy: 0.7000 - val_precision: 0.7170 - val_recall: 0.8085\n",
            "Epoch 173/200\n",
            "23/23 [==============================] - 3s 118ms/step - loss: 0.2868 - accuracy: 0.8962 - precision: 0.9159 - recall: 0.9074 - val_loss: 0.5696 - val_accuracy: 0.7750 - val_precision: 0.8372 - val_recall: 0.7660\n",
            "Epoch 174/200\n",
            "23/23 [==============================] - 3s 119ms/step - loss: 0.3207 - accuracy: 0.8525 - precision: 0.8785 - recall: 0.8704 - val_loss: 0.6204 - val_accuracy: 0.8000 - val_precision: 0.8163 - val_recall: 0.8511\n",
            "Epoch 175/200\n",
            "23/23 [==============================] - 3s 120ms/step - loss: 0.3213 - accuracy: 0.8525 - precision: 0.8857 - recall: 0.8611 - val_loss: 0.8869 - val_accuracy: 0.7000 - val_precision: 0.7091 - val_recall: 0.8298\n",
            "Epoch 176/200\n",
            "23/23 [==============================] - 3s 119ms/step - loss: 0.3533 - accuracy: 0.8634 - precision: 0.8673 - recall: 0.9074 - val_loss: 0.6795 - val_accuracy: 0.7000 - val_precision: 0.7091 - val_recall: 0.8298\n",
            "Epoch 177/200\n",
            "23/23 [==============================] - 3s 117ms/step - loss: 0.3743 - accuracy: 0.8361 - precision: 0.8362 - recall: 0.8981 - val_loss: 0.5471 - val_accuracy: 0.7250 - val_precision: 0.7907 - val_recall: 0.7234\n",
            "Epoch 178/200\n",
            "23/23 [==============================] - 3s 117ms/step - loss: 0.3059 - accuracy: 0.8634 - precision: 0.8952 - recall: 0.8704 - val_loss: 0.5772 - val_accuracy: 0.7000 - val_precision: 0.7347 - val_recall: 0.7660\n",
            "Epoch 179/200\n",
            "23/23 [==============================] - 3s 118ms/step - loss: 0.4179 - accuracy: 0.8142 - precision: 0.8491 - recall: 0.8333 - val_loss: 0.5874 - val_accuracy: 0.7500 - val_precision: 0.7872 - val_recall: 0.7872\n",
            "Epoch 180/200\n",
            "23/23 [==============================] - 3s 119ms/step - loss: 0.3312 - accuracy: 0.8251 - precision: 0.8393 - recall: 0.8704 - val_loss: 0.6088 - val_accuracy: 0.7375 - val_precision: 0.7167 - val_recall: 0.9149\n",
            "Epoch 181/200\n",
            "23/23 [==============================] - 3s 119ms/step - loss: 0.2944 - accuracy: 0.8798 - precision: 0.9300 - recall: 0.8611 - val_loss: 0.6569 - val_accuracy: 0.7500 - val_precision: 0.7872 - val_recall: 0.7872\n",
            "Epoch 182/200\n",
            "23/23 [==============================] - 3s 119ms/step - loss: 0.3413 - accuracy: 0.8197 - precision: 0.8378 - recall: 0.8611 - val_loss: 0.6039 - val_accuracy: 0.7250 - val_precision: 0.7907 - val_recall: 0.7234\n",
            "Epoch 183/200\n",
            "23/23 [==============================] - 3s 119ms/step - loss: 0.2966 - accuracy: 0.8415 - precision: 0.8496 - recall: 0.8889 - val_loss: 0.6650 - val_accuracy: 0.7375 - val_precision: 0.7500 - val_recall: 0.8298\n",
            "Epoch 184/200\n",
            "23/23 [==============================] - 3s 117ms/step - loss: 0.2464 - accuracy: 0.8798 - precision: 0.9057 - recall: 0.8889 - val_loss: 0.9329 - val_accuracy: 0.7250 - val_precision: 0.7119 - val_recall: 0.8936\n",
            "Epoch 185/200\n",
            "23/23 [==============================] - 3s 117ms/step - loss: 0.2939 - accuracy: 0.8689 - precision: 0.8889 - recall: 0.8889 - val_loss: 0.7182 - val_accuracy: 0.7250 - val_precision: 0.7193 - val_recall: 0.8723\n",
            "Epoch 186/200\n",
            "23/23 [==============================] - 3s 118ms/step - loss: 0.3370 - accuracy: 0.8525 - precision: 0.8522 - recall: 0.9074 - val_loss: 0.7273 - val_accuracy: 0.7125 - val_precision: 0.7308 - val_recall: 0.8085\n",
            "Epoch 187/200\n",
            "23/23 [==============================] - 3s 119ms/step - loss: 0.2615 - accuracy: 0.8962 - precision: 0.9083 - recall: 0.9167 - val_loss: 0.6619 - val_accuracy: 0.7625 - val_precision: 0.8043 - val_recall: 0.7872\n",
            "Epoch 188/200\n",
            "23/23 [==============================] - 3s 120ms/step - loss: 0.3151 - accuracy: 0.8525 - precision: 0.8785 - recall: 0.8704 - val_loss: 0.7064 - val_accuracy: 0.6625 - val_precision: 0.6724 - val_recall: 0.8298\n",
            "Epoch 189/200\n",
            "23/23 [==============================] - 3s 125ms/step - loss: 0.2687 - accuracy: 0.8962 - precision: 0.8678 - recall: 0.9722 - val_loss: 0.5812 - val_accuracy: 0.7250 - val_precision: 0.7907 - val_recall: 0.7234\n",
            "Epoch 190/200\n",
            "23/23 [==============================] - 3s 119ms/step - loss: 0.3677 - accuracy: 0.8361 - precision: 0.8611 - recall: 0.8611 - val_loss: 0.6803 - val_accuracy: 0.7000 - val_precision: 0.7170 - val_recall: 0.8085\n",
            "Epoch 191/200\n",
            "23/23 [==============================] - 3s 118ms/step - loss: 0.2858 - accuracy: 0.8634 - precision: 0.8879 - recall: 0.8796 - val_loss: 0.9568 - val_accuracy: 0.6375 - val_precision: 0.6800 - val_recall: 0.7234\n",
            "Epoch 192/200\n",
            "23/23 [==============================] - 3s 119ms/step - loss: 0.2905 - accuracy: 0.8689 - precision: 0.8750 - recall: 0.9074 - val_loss: 0.7011 - val_accuracy: 0.7750 - val_precision: 0.7843 - val_recall: 0.8511\n",
            "Epoch 193/200\n",
            "23/23 [==============================] - 3s 119ms/step - loss: 0.3613 - accuracy: 0.8361 - precision: 0.8482 - recall: 0.8796 - val_loss: 0.6726 - val_accuracy: 0.6625 - val_precision: 0.6667 - val_recall: 0.8511\n",
            "Epoch 194/200\n",
            "23/23 [==============================] - 3s 120ms/step - loss: 0.3928 - accuracy: 0.8197 - precision: 0.8261 - recall: 0.8796 - val_loss: 0.5464 - val_accuracy: 0.7875 - val_precision: 0.8125 - val_recall: 0.8298\n",
            "Epoch 195/200\n",
            "23/23 [==============================] - 3s 120ms/step - loss: 0.3121 - accuracy: 0.8579 - precision: 0.9020 - recall: 0.8519 - val_loss: 0.7493 - val_accuracy: 0.7250 - val_precision: 0.7193 - val_recall: 0.8723\n",
            "Epoch 196/200\n",
            "23/23 [==============================] - 3s 119ms/step - loss: 0.3297 - accuracy: 0.8525 - precision: 0.8649 - recall: 0.8889 - val_loss: 0.7094 - val_accuracy: 0.7625 - val_precision: 0.7500 - val_recall: 0.8936\n",
            "Epoch 197/200\n",
            "23/23 [==============================] - 3s 118ms/step - loss: 0.3007 - accuracy: 0.8743 - precision: 0.8696 - recall: 0.9259 - val_loss: 0.7929 - val_accuracy: 0.7625 - val_precision: 0.7593 - val_recall: 0.8723\n",
            "Epoch 198/200\n",
            "23/23 [==============================] - 3s 119ms/step - loss: 0.2948 - accuracy: 0.8743 - precision: 0.8829 - recall: 0.9074 - val_loss: 0.7481 - val_accuracy: 0.7500 - val_precision: 0.7755 - val_recall: 0.8085\n",
            "Epoch 199/200\n",
            "23/23 [==============================] - 3s 120ms/step - loss: 0.3718 - accuracy: 0.8415 - precision: 0.8692 - recall: 0.8611 - val_loss: 0.6277 - val_accuracy: 0.7750 - val_precision: 0.7736 - val_recall: 0.8723\n",
            "Epoch 200/200\n",
            "23/23 [==============================] - 3s 119ms/step - loss: 0.3351 - accuracy: 0.8415 - precision: 0.8496 - recall: 0.8889 - val_loss: 0.6095 - val_accuracy: 0.7875 - val_precision: 0.7885 - val_recall: 0.8723\n"
          ],
          "name": "stdout"
        }
      ]
    },
    {
      "cell_type": "code",
      "metadata": {
        "id": "yGtg691T6-78",
        "colab_type": "code",
        "colab": {}
      },
      "source": [
        "model.save(models_directory+'Fine_Tuned_HistEq_Sharpening_Morphological_Erode_Dilate_model.h5')"
      ],
      "execution_count": 42,
      "outputs": []
    },
    {
      "cell_type": "markdown",
      "metadata": {
        "id": "rR7b9rY-q2r3",
        "colab_type": "text"
      },
      "source": [
        ""
      ]
    },
    {
      "cell_type": "code",
      "metadata": {
        "id": "OGL6hW_Ll8ac",
        "colab_type": "code",
        "colab": {}
      },
      "source": [
        "epochs=200"
      ],
      "execution_count": 41,
      "outputs": []
    },
    {
      "cell_type": "code",
      "metadata": {
        "id": "nkc9WrDCG7VY",
        "colab_type": "code",
        "colab": {
          "base_uri": "https://localhost:8080/",
          "height": 826
        },
        "outputId": "ebefcca0-af8a-4ca2-b427-982ba4ddc1ec"
      },
      "source": [
        "import matplotlib.image  as mpimg\n",
        "import matplotlib.pyplot as plt\n",
        "\n",
        "#-----------------------------------------------------------\n",
        "# Retrieve a list of list results on training and test data\n",
        "# sets for each training epoch\n",
        "#-----------------------------------------------------------\n",
        "acc=history.history['accuracy']\n",
        "val_acc=history.history['val_accuracy']\n",
        "precision=history.history['precision']\n",
        "val_precision=history.history['val_precision']\n",
        "recall=history.history['recall']\n",
        "val_recall=history.history['val_recall']\n",
        "\n",
        "epochs=range(len(acc)) # Get number of epochs\n",
        "\n",
        "#------------------------------------------------\n",
        "# Plot training and validation accuracy per epoch\n",
        "#------------------------------------------------\n",
        "plt.plot(epochs, acc, 'r', \"Training Accuracy\")\n",
        "plt.plot(epochs, val_acc, 'b', \"Validation Accuracy\")\n",
        "plt.title('Training and validation accuracy')\n",
        "plt.figure()\n",
        "\n",
        "#------------------------------------------------\n",
        "# Plot training and validation Precision per epoch\n",
        "#------------------------------------------------\n",
        "plt.plot(epochs, precision, 'r', \"Training Precision\")\n",
        "plt.plot(epochs, val_precision, 'b', \"Validation Precision\")\n",
        "plt.title('Training and validation Precision')\n",
        "plt.figure()\n",
        "\n",
        "plt.plot(epochs, recall, 'r', \"Training Recall\")\n",
        "plt.plot(epochs, val_recall, 'b', \"Validation Recall\")\n",
        "plt.title('Training and validation Recall')\n"
      ],
      "execution_count": 43,
      "outputs": [
        {
          "output_type": "execute_result",
          "data": {
            "text/plain": [
              "Text(0.5, 1.0, 'Training and validation Recall')"
            ]
          },
          "metadata": {
            "tags": []
          },
          "execution_count": 43
        },
        {
          "output_type": "display_data",
          "data": {
            "image/png": "[encoded data removed]",
            "text/plain": [
              "<Figure size 432x288 with 1 Axes>"
            ]
          },
          "metadata": {
            "tags": [],
            "needs_background": "light"
          }
        },
        {
          "output_type": "display_data",
          "data": {
            "image/png": "[encoded data removed]",
            "text/plain": [
              "<Figure size 432x288 with 1 Axes>"
            ]
          },
          "metadata": {
            "tags": [],
            "needs_background": "light"
          }
        },
        {
          "output_type": "display_data",
          "data": {
            "image/png": "[encoded data removed]",
            "text/plain": [
              "<Figure size 432x288 with 1 Axes>"
            ]
          },
          "metadata": {
            "tags": [],
            "needs_background": "light"
          }
        }
      ]
    },
    {
      "cell_type": "code",
      "metadata": {
        "id": "weBpRLfAl69Z",
        "colab_type": "code",
        "colab": {}
      },
      "source": [
        ""
      ],
      "execution_count": null,
      "outputs": []
    },
    {
      "cell_type": "code",
      "metadata": {
        "id": "A86zE99Uai-P",
        "colab_type": "code",
        "colab": {}
      },
      "source": [
        ""
      ],
      "execution_count": null,
      "outputs": []
    }
  ]
}