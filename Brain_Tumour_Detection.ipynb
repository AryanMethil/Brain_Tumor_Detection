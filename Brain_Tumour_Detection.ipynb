{
  "nbformat": 4,
  "nbformat_minor": 0,
  "metadata": {
    "colab": {
      "name": "Brain_Tumour_Detection.ipynb",
      "provenance": [],
      "collapsed_sections": [],
      "toc_visible": true,
      "include_colab_link": true
    },
    "kernelspec": {
      "name": "python3",
      "display_name": "Python 3"
    },
    "accelerator": "GPU"
  },
  "cells": [
    {
      "cell_type": "markdown",
      "metadata": {
        "id": "view-in-github",
        "colab_type": "text"
      },
      "source": [
        "<a href=\"https://colab.research.google.com/github/AryanMethil/Brain_Tumor_Detection/blob/master/Brain_Tumour_Detection.ipynb\" target=\"_parent\"><img src=\"https://colab.research.google.com/assets/colab-badge.svg\" alt=\"Open In Colab\"/></a>"
      ]
    },
    {
      "cell_type": "code",
      "metadata": {
        "id": "Rx6Li8Xl4Dp5",
        "outputId": "e90888e8-4004-463f-c6ce-fd98b4493986",
        "colab": {
          "base_uri": "https://localhost:8080/",
          "height": 34
        }
      },
      "source": [
        "from google.colab import drive\n",
        "drive.mount('/content/drive')\n"
      ],
      "execution_count": 1,
      "outputs": [
        {
          "output_type": "stream",
          "text": [
            "Mounted at /content/drive\n"
          ],
          "name": "stdout"
        }
      ]
    },
    {
      "cell_type": "code",
      "metadata": {
        "id": "KiEH_7xLicrp",
        "outputId": "2ec8c3b9-6c54-4828-d1e1-ef114aab05ef",
        "colab": {
          "base_uri": "https://localhost:8080/",
          "height": 34
        }
      },
      "source": [
        "%cd '/content/drive/My Drive/Brain_Tumor_Classification/src'"
      ],
      "execution_count": 2,
      "outputs": [
        {
          "output_type": "stream",
          "text": [
            "/content/drive/My Drive/Brain_Tumor_Classification/src\n"
          ],
          "name": "stdout"
        }
      ]
    },
    {
      "cell_type": "code",
      "metadata": {
        "id": "Kw4svy8RinXy",
        "outputId": "f56cdc88-8d28-4641-81ff-b062bd224ece",
        "colab": {
          "base_uri": "https://localhost:8080/",
          "height": 34
        }
      },
      "source": [
        "!pwd"
      ],
      "execution_count": 3,
      "outputs": [
        {
          "output_type": "stream",
          "text": [
            "/content/drive/My Drive/Brain_Tumor_Classification/src\n"
          ],
          "name": "stdout"
        }
      ]
    },
    {
      "cell_type": "code",
      "metadata": {
        "id": "A9KilanhhY0v"
      },
      "source": [
        "import os\n",
        "import shutil\n",
        "from cv2 import *\n",
        "from google.colab.patches import cv2_imshow\n",
        "from constants import *\n",
        "import numpy as np"
      ],
      "execution_count": 4,
      "outputs": []
    },
    {
      "cell_type": "code",
      "metadata": {
        "id": "W-eCsnH9lygK",
        "outputId": "ef3e53a8-1eb4-41dc-d1c4-38293691aff4",
        "colab": {
          "base_uri": "https://localhost:8080/",
          "height": 34
        }
      },
      "source": [
        "%cd '/content/'\n"
      ],
      "execution_count": 5,
      "outputs": [
        {
          "output_type": "stream",
          "text": [
            "/content\n"
          ],
          "name": "stdout"
        }
      ]
    },
    {
      "cell_type": "markdown",
      "metadata": {
        "id": "DgPiz0Cjba_u"
      },
      "source": [
        "# Image Preprocessing"
      ]
    },
    {
      "cell_type": "code",
      "metadata": {
        "id": "MWrzktW9YuhK"
      },
      "source": [
        "os.makedirs(image_preprocessed_yes,exist_ok=True)\n",
        "for _,_,files in os.walk(yes):\n",
        "  for f in files:\n",
        "    img_path=os.path.join(yes,f)\n",
        "    norm=imread(img_path)\n",
        "    norm=cvtColor(norm,COLOR_BGR2GRAY)\n",
        "\n",
        "    th1=equalizeHist(norm)\n",
        "   \n",
        "    th1=erode(th1,np.ones((4,4),np.uint8),iterations=1)\n",
        "    th1=dilate(th1,np.ones((4,4),np.uint8),iterations=1)\n",
        "\n",
        "    imwrite(image_preprocessed_yes+f,th1)\n",
        "\n",
        "os.makedirs(image_preprocessed_no,exist_ok=True)\n",
        "for _,_,files in os.walk(no):\n",
        "  for f in files:\n",
        "    img_path=os.path.join(no,f)\n",
        "    norm=imread(img_path)\n",
        "    norm=cvtColor(norm,COLOR_BGR2GRAY)\n",
        "\n",
        "    th1=equalizeHist(norm)\n",
        "   \n",
        "    th1=erode(th1,np.ones((4,4),np.uint8),iterations=1)\n",
        "    th1=dilate(th1,np.ones((4,4),np.uint8),iterations=1)\n",
        "    \n",
        "    imwrite(image_preprocessed_no+f,th1)"
      ],
      "execution_count": null,
      "outputs": []
    },
    {
      "cell_type": "code",
      "metadata": {
        "id": "RuEg5FXqu9Iv"
      },
      "source": [
        "os.makedirs(image_generator_test_yes,exist_ok=True)\n",
        "for _,_,files in os.walk(test_yes):\n",
        "  for f in files:\n",
        "    img_path=os.path.join(test_yes,f)\n",
        "    norm=imread(img_path)\n",
        "    norm=cvtColor(norm,COLOR_BGR2GRAY)\n",
        "\n",
        "    th1=equalizeHist(norm)\n",
        "   \n",
        "    th1=erode(th1,np.ones((4,4),np.uint8),iterations=1)\n",
        "    th1=dilate(th1,np.ones((4,4),np.uint8),iterations=1)\n",
        "\n",
        "    imwrite(image_generator_test_yes+r'/'+f,th1)\n",
        "\n",
        "os.makedirs(image_generator_test_no,exist_ok=True)\n",
        "for _,_,files in os.walk(test_no):\n",
        "  for f in files:\n",
        "    img_path=os.path.join(test_no,f)\n",
        "    norm=imread(img_path)\n",
        "    norm=cvtColor(norm,COLOR_BGR2GRAY)\n",
        "\n",
        "    th1=equalizeHist(norm)\n",
        "   \n",
        "    th1=erode(th1,np.ones((4,4),np.uint8),iterations=1)\n",
        "    th1=dilate(th1,np.ones((4,4),np.uint8),iterations=1)\n",
        "    \n",
        "    imwrite(image_generator_test_no+r'/'+f,th1)"
      ],
      "execution_count": null,
      "outputs": []
    },
    {
      "cell_type": "code",
      "metadata": {
        "id": "AnMe_3gA4llW"
      },
      "source": [
        "brain_tumour_no= image_preprocessed_no\n",
        "brain_tumour_yes=image_preprocessed_yes"
      ],
      "execution_count": null,
      "outputs": []
    },
    {
      "cell_type": "code",
      "metadata": {
        "id": "4GCpGZKK5j5v"
      },
      "source": [
        "os.makedirs(image_generator_train_yes,exist_ok=True)\n",
        "os.makedirs(image_generator_train_no,exist_ok=True)\n",
        "os.makedirs(image_generator_validation_yes,exist_ok=True)\n",
        "os.makedirs(image_generator_validation_no,exist_ok=True)"
      ],
      "execution_count": null,
      "outputs": []
    },
    {
      "cell_type": "code",
      "metadata": {
        "id": "gHo61zzu-Ngb"
      },
      "source": [
        "for dir,subdir,files in os.walk(brain_tumour_no):\n",
        "  for f in files[:int(len(files)*0.7)]:\n",
        "    shutil.copy(os.path.join(brain_tumour_no,f),image_generator_train_no)\n",
        "  for f in files[int(len(files)*0.7):]:\n",
        "    shutil.copy(os.path.join(brain_tumour_no,f),image_generator_validation_no)\n"
      ],
      "execution_count": null,
      "outputs": []
    },
    {
      "cell_type": "code",
      "metadata": {
        "id": "zCsZh6pM_nFu"
      },
      "source": [
        "for dir,subdir,files in os.walk(brain_tumour_yes):\n",
        "  for f in files[:int(len(files)*0.7)]:\n",
        "    shutil.copy(os.path.join(brain_tumour_yes,f),image_generator_train_yes)\n",
        "  for f in files[int(len(files)*0.7):]:\n",
        "    shutil.copy(os.path.join(brain_tumour_yes,f),image_generator_validation_yes)"
      ],
      "execution_count": null,
      "outputs": []
    },
    {
      "cell_type": "code",
      "metadata": {
        "id": "bXe464jivCvh",
        "outputId": "ef359088-a0f9-41f5-e9b8-ce431b94cb1c",
        "colab": {
          "base_uri": "https://localhost:8080/",
          "height": 51
        }
      },
      "source": [
        "for dir,subdir,files in os.walk(image_generator_train_yes):\n",
        "  print(len(files))\n",
        "for dir,subdir,files in os.walk(image_generator_train_no):\n",
        "  print(len(files))\n"
      ],
      "execution_count": null,
      "outputs": [
        {
          "output_type": "stream",
          "text": [
            "1547\n",
            "420\n"
          ],
          "name": "stdout"
        }
      ]
    },
    {
      "cell_type": "markdown",
      "metadata": {
        "id": "K6z7S9j0bR5o"
      },
      "source": [
        "# Model"
      ]
    },
    {
      "cell_type": "code",
      "metadata": {
        "id": "GH0TT4mXAeWX"
      },
      "source": [
        "import tensorflow as tf\n"
      ],
      "execution_count": 6,
      "outputs": []
    },
    {
      "cell_type": "code",
      "metadata": {
        "id": "uwb-mgByBlY6",
        "outputId": "d0895542-dbf1-4d69-fe56-08d95f19c795",
        "colab": {
          "base_uri": "https://localhost:8080/",
          "height": 377
        }
      },
      "source": [
        "\n",
        "base_model=tf.keras.applications.InceptionV3(include_top=False,weights='imagenet',input_shape=(150,150,3))\n",
        "base_model.trainable=False\n",
        "model=tf.keras.Sequential()\n",
        "model.add(base_model)\n",
        "model.add(tf.keras.layers.Flatten())\n",
        "model.add(tf.keras.layers.Dense(128,activation='relu'))\n",
        "model.add(tf.keras.layers.Dropout(0.2))\n",
        "model.add(tf.keras.layers.Dense(1,activation='sigmoid'))\n",
        "model.summary()"
      ],
      "execution_count": 7,
      "outputs": [
        {
          "output_type": "stream",
          "text": [
            "Downloading data from https://storage.googleapis.com/tensorflow/keras-applications/inception_v3/inception_v3_weights_tf_dim_ordering_tf_kernels_notop.h5\n",
            "87916544/87910968 [==============================] - 1s 0us/step\n",
            "Model: \"sequential\"\n",
            "_________________________________________________________________\n",
            "Layer (type)                 Output Shape              Param #   \n",
            "=================================================================\n",
            "inception_v3 (Functional)    (None, 3, 3, 2048)        21802784  \n",
            "_________________________________________________________________\n",
            "flatten (Flatten)            (None, 18432)             0         \n",
            "_________________________________________________________________\n",
            "dense (Dense)                (None, 128)               2359424   \n",
            "_________________________________________________________________\n",
            "dropout (Dropout)            (None, 128)               0         \n",
            "_________________________________________________________________\n",
            "dense_1 (Dense)              (None, 1)                 129       \n",
            "=================================================================\n",
            "Total params: 24,162,337\n",
            "Trainable params: 2,359,553\n",
            "Non-trainable params: 21,802,784\n",
            "_________________________________________________________________\n"
          ],
          "name": "stdout"
        }
      ]
    },
    {
      "cell_type": "code",
      "metadata": {
        "id": "rOOJYQTyDPZ4"
      },
      "source": [
        "model.compile(loss='binary_crossentropy',\n",
        "              optimizer=tf.keras.optimizers.Adam(learning_rate=0.0005),\n",
        "              metrics=['accuracy',tf.keras.metrics.Precision(name='precision'),tf.keras.metrics.Recall(name='recall')])"
      ],
      "execution_count": 8,
      "outputs": []
    },
    {
      "cell_type": "code",
      "metadata": {
        "id": "xidHZ3J5Dt21"
      },
      "source": [
        "train_data_generator=tf.keras.preprocessing.image.ImageDataGenerator(rescale=1/255,\n",
        "                                  rotation_range=30,\n",
        "                                  height_shift_range=0.2,\n",
        "                                  width_shift_range=0.2,\n",
        "                                  shear_range=0.6,\n",
        "                                  zoom_range=0.2,\n",
        "                                  horizontal_flip=True,\n",
        "                                  fill_mode='nearest')\n",
        "validation_data_generator=tf.keras.preprocessing.image.ImageDataGenerator(rescale=1/255)\n",
        "\n",
        "test_data_generator=tf.keras.preprocessing.image.ImageDataGenerator(rescale=1/255)"
      ],
      "execution_count": 9,
      "outputs": []
    },
    {
      "cell_type": "code",
      "metadata": {
        "id": "YCvIq7YGEZpW",
        "outputId": "dd5df155-ac83-48ba-db51-29ef104fb467",
        "colab": {
          "base_uri": "https://localhost:8080/",
          "height": 68
        }
      },
      "source": [
        "train_gen=train_data_generator.flow_from_directory(image_generator_train,\n",
        "                                                   target_size=(150,150),\n",
        "                                                   class_mode='binary',\n",
        "                                                   batch_size=8,\n",
        "                                                   shuffle=True)\n",
        "validation_gen=train_data_generator.flow_from_directory(image_generator_validation,\n",
        "                                                   target_size=(150,150),\n",
        "                                                   class_mode='binary',\n",
        "                                                   batch_size=8,\n",
        "                                                   shuffle=True)\n",
        "test_gen=test_data_generator.flow_from_directory(image_generator_test,\n",
        "                                                   target_size=(150,150),\n",
        "                                                   class_mode='binary',\n",
        "                                                   batch_size=8,\n",
        "                                                   shuffle=True)"
      ],
      "execution_count": 10,
      "outputs": [
        {
          "output_type": "stream",
          "text": [
            "Found 1967 images belonging to 2 classes.\n",
            "Found 1050 images belonging to 2 classes.\n",
            "Found 10 images belonging to 2 classes.\n"
          ],
          "name": "stdout"
        }
      ]
    },
    {
      "cell_type": "code",
      "metadata": {
        "id": "aQpDVApsFILx"
      },
      "source": [
        "class MyCallback(tf.keras.callbacks.Callback):\n",
        "  def on_epoch_end(self,epoch,logs={}):\n",
        "    if(logs['accuracy']>0.99):\n",
        "      self.model.stop_training=True\n",
        "callbacks=MyCallback()"
      ],
      "execution_count": 11,
      "outputs": []
    },
    {
      "cell_type": "code",
      "metadata": {
        "id": "j-xX6HF9GdSO",
        "outputId": "f3264377-7d8d-41d0-df6b-7ec9ea82621d",
        "colab": {
          "base_uri": "https://localhost:8080/",
          "height": 1000
        }
      },
      "source": [
        "history=model.fit(train_gen,validation_data=validation_gen,epochs=30,callbacks=callbacks)"
      ],
      "execution_count": 12,
      "outputs": [
        {
          "output_type": "stream",
          "text": [
            "Epoch 1/30\n",
            "246/246 [==============================] - 1095s 4s/step - loss: 0.5454 - accuracy: 0.8790 - precision: 0.9225 - recall: 0.9237 - val_loss: 0.0914 - val_accuracy: 0.9705 - val_precision: 0.9697 - val_recall: 0.9954\n",
            "Epoch 2/30\n",
            "246/246 [==============================] - 23s 95ms/step - loss: 0.1971 - accuracy: 0.9171 - precision: 0.9505 - recall: 0.9438 - val_loss: 0.0807 - val_accuracy: 0.9752 - val_precision: 0.9795 - val_recall: 0.9908\n",
            "Epoch 3/30\n",
            "246/246 [==============================] - 24s 96ms/step - loss: 0.1580 - accuracy: 0.9324 - precision: 0.9633 - recall: 0.9502 - val_loss: 0.0725 - val_accuracy: 0.9867 - val_precision: 0.9863 - val_recall: 0.9977\n",
            "Epoch 4/30\n",
            "246/246 [==============================] - 24s 98ms/step - loss: 0.1332 - accuracy: 0.9390 - precision: 0.9691 - recall: 0.9528 - val_loss: 0.1969 - val_accuracy: 0.9114 - val_precision: 0.9033 - val_recall: 1.0000\n",
            "Epoch 5/30\n",
            "246/246 [==============================] - 24s 98ms/step - loss: 0.1437 - accuracy: 0.9400 - precision: 0.9643 - recall: 0.9593 - val_loss: 0.0384 - val_accuracy: 0.9895 - val_precision: 0.9897 - val_recall: 0.9977\n",
            "Epoch 6/30\n",
            "246/246 [==============================] - 24s 99ms/step - loss: 0.1440 - accuracy: 0.9476 - precision: 0.9670 - recall: 0.9664 - val_loss: 0.0760 - val_accuracy: 0.9571 - val_precision: 0.9508 - val_recall: 1.0000\n",
            "Epoch 7/30\n",
            "246/246 [==============================] - 25s 100ms/step - loss: 0.1284 - accuracy: 0.9446 - precision: 0.9681 - recall: 0.9612 - val_loss: 0.0682 - val_accuracy: 0.9790 - val_precision: 0.9764 - val_recall: 0.9988\n",
            "Epoch 8/30\n",
            "246/246 [==============================] - 24s 98ms/step - loss: 0.1250 - accuracy: 0.9446 - precision: 0.9663 - recall: 0.9632 - val_loss: 0.0887 - val_accuracy: 0.9533 - val_precision: 0.9466 - val_recall: 1.0000\n",
            "Epoch 9/30\n",
            "246/246 [==============================] - 24s 98ms/step - loss: 0.1130 - accuracy: 0.9527 - precision: 0.9721 - recall: 0.9677 - val_loss: 0.0401 - val_accuracy: 0.9819 - val_precision: 0.9808 - val_recall: 0.9977\n",
            "Epoch 10/30\n",
            "246/246 [==============================] - 24s 98ms/step - loss: 0.1133 - accuracy: 0.9517 - precision: 0.9739 - recall: 0.9644 - val_loss: 0.0383 - val_accuracy: 0.9905 - val_precision: 0.9897 - val_recall: 0.9988\n",
            "Epoch 11/30\n",
            "246/246 [==============================] - 24s 99ms/step - loss: 0.1116 - accuracy: 0.9492 - precision: 0.9769 - recall: 0.9580 - val_loss: 0.0351 - val_accuracy: 0.9905 - val_precision: 0.9909 - val_recall: 0.9977\n",
            "Epoch 12/30\n",
            "246/246 [==============================] - 24s 99ms/step - loss: 0.1145 - accuracy: 0.9568 - precision: 0.9772 - recall: 0.9677 - val_loss: 0.0407 - val_accuracy: 0.9867 - val_precision: 0.9852 - val_recall: 0.9988\n",
            "Epoch 13/30\n",
            "246/246 [==============================] - 24s 99ms/step - loss: 0.1120 - accuracy: 0.9558 - precision: 0.9765 - recall: 0.9670 - val_loss: 0.0510 - val_accuracy: 0.9762 - val_precision: 0.9720 - val_recall: 1.0000\n",
            "Epoch 14/30\n",
            "246/246 [==============================] - 24s 99ms/step - loss: 0.0973 - accuracy: 0.9609 - precision: 0.9798 - recall: 0.9703 - val_loss: 0.0982 - val_accuracy: 0.9552 - val_precision: 0.9487 - val_recall: 1.0000\n",
            "Epoch 15/30\n",
            "246/246 [==============================] - 24s 99ms/step - loss: 0.1041 - accuracy: 0.9507 - precision: 0.9770 - recall: 0.9599 - val_loss: 0.1217 - val_accuracy: 0.9638 - val_precision: 0.9581 - val_recall: 1.0000\n",
            "Epoch 16/30\n",
            "246/246 [==============================] - 24s 98ms/step - loss: 0.0945 - accuracy: 0.9629 - precision: 0.9811 - recall: 0.9716 - val_loss: 0.0541 - val_accuracy: 0.9790 - val_precision: 0.9753 - val_recall: 1.0000\n",
            "Epoch 17/30\n",
            "246/246 [==============================] - 24s 99ms/step - loss: 0.1015 - accuracy: 0.9548 - precision: 0.9758 - recall: 0.9664 - val_loss: 0.0702 - val_accuracy: 0.9733 - val_precision: 0.9688 - val_recall: 1.0000\n",
            "Epoch 18/30\n",
            "246/246 [==============================] - 24s 100ms/step - loss: 0.1011 - accuracy: 0.9583 - precision: 0.9810 - recall: 0.9657 - val_loss: 0.0516 - val_accuracy: 0.9800 - val_precision: 0.9764 - val_recall: 1.0000\n",
            "Epoch 19/30\n",
            "246/246 [==============================] - 25s 102ms/step - loss: 0.0999 - accuracy: 0.9603 - precision: 0.9785 - recall: 0.9709 - val_loss: 0.0330 - val_accuracy: 0.9857 - val_precision: 0.9841 - val_recall: 0.9988\n",
            "Epoch 20/30\n",
            "246/246 [==============================] - 24s 99ms/step - loss: 0.0951 - accuracy: 0.9583 - precision: 0.9803 - recall: 0.9664 - val_loss: 0.0306 - val_accuracy: 0.9895 - val_precision: 0.9897 - val_recall: 0.9977\n",
            "Epoch 21/30\n",
            "246/246 [==============================] - 24s 99ms/step - loss: 0.0937 - accuracy: 0.9624 - precision: 0.9823 - recall: 0.9696 - val_loss: 0.0163 - val_accuracy: 0.9971 - val_precision: 0.9966 - val_recall: 1.0000\n",
            "Epoch 22/30\n",
            "246/246 [==============================] - 24s 100ms/step - loss: 0.0889 - accuracy: 0.9659 - precision: 0.9843 - recall: 0.9722 - val_loss: 0.0319 - val_accuracy: 0.9886 - val_precision: 0.9886 - val_recall: 0.9977\n",
            "Epoch 23/30\n",
            "246/246 [==============================] - 25s 100ms/step - loss: 0.0909 - accuracy: 0.9603 - precision: 0.9798 - recall: 0.9696 - val_loss: 0.0273 - val_accuracy: 0.9895 - val_precision: 0.9886 - val_recall: 0.9988\n",
            "Epoch 24/30\n",
            "246/246 [==============================] - 25s 100ms/step - loss: 0.0938 - accuracy: 0.9603 - precision: 0.9785 - recall: 0.9709 - val_loss: 0.0599 - val_accuracy: 0.9771 - val_precision: 0.9742 - val_recall: 0.9988\n",
            "Epoch 25/30\n",
            "246/246 [==============================] - 25s 101ms/step - loss: 0.0947 - accuracy: 0.9639 - precision: 0.9824 - recall: 0.9716 - val_loss: 0.0239 - val_accuracy: 0.9933 - val_precision: 0.9920 - val_recall: 1.0000\n",
            "Epoch 26/30\n",
            "246/246 [==============================] - 25s 100ms/step - loss: 0.0771 - accuracy: 0.9659 - precision: 0.9837 - recall: 0.9729 - val_loss: 0.0225 - val_accuracy: 0.9943 - val_precision: 0.9931 - val_recall: 1.0000\n",
            "Epoch 27/30\n",
            "246/246 [==============================] - 25s 101ms/step - loss: 0.1001 - accuracy: 0.9593 - precision: 0.9804 - recall: 0.9677 - val_loss: 0.0406 - val_accuracy: 0.9886 - val_precision: 0.9875 - val_recall: 0.9988\n",
            "Epoch 28/30\n",
            "246/246 [==============================] - 25s 101ms/step - loss: 0.0959 - accuracy: 0.9629 - precision: 0.9836 - recall: 0.9690 - val_loss: 0.0301 - val_accuracy: 0.9914 - val_precision: 0.9909 - val_recall: 0.9988\n",
            "Epoch 29/30\n",
            "246/246 [==============================] - 25s 100ms/step - loss: 0.0983 - accuracy: 0.9609 - precision: 0.9817 - recall: 0.9683 - val_loss: 0.0326 - val_accuracy: 0.9848 - val_precision: 0.9819 - val_recall: 1.0000\n",
            "Epoch 30/30\n",
            "246/246 [==============================] - 25s 100ms/step - loss: 0.0896 - accuracy: 0.9664 - precision: 0.9843 - recall: 0.9729 - val_loss: 0.0334 - val_accuracy: 0.9895 - val_precision: 0.9875 - val_recall: 1.0000\n"
          ],
          "name": "stdout"
        }
      ]
    },
    {
      "cell_type": "code",
      "metadata": {
        "id": "dIMO1Q_BRBld"
      },
      "source": [
        "\n",
        "model.save(models_directory+'DS2_Updated_without_class_weights_Histo_Erode_Dilate.h5')"
      ],
      "execution_count": 17,
      "outputs": []
    },
    {
      "cell_type": "code",
      "metadata": {
        "id": "ODM15a5RKCCE"
      },
      "source": [
        ""
      ],
      "execution_count": null,
      "outputs": []
    },
    {
      "cell_type": "markdown",
      "metadata": {
        "id": "rR7b9rY-q2r3"
      },
      "source": [
        "# Plotting Accuracy, Precision & Recall"
      ]
    },
    {
      "cell_type": "code",
      "metadata": {
        "id": "OGL6hW_Ll8ac"
      },
      "source": [
        "epochs=30"
      ],
      "execution_count": 13,
      "outputs": []
    },
    {
      "cell_type": "code",
      "metadata": {
        "id": "nkc9WrDCG7VY",
        "outputId": "463438c4-a0c9-406e-fc3a-11d9406b567b",
        "colab": {
          "base_uri": "https://localhost:8080/",
          "height": 826
        }
      },
      "source": [
        "import matplotlib.image  as mpimg\n",
        "import matplotlib.pyplot as plt\n",
        "\n",
        "#-----------------------------------------------------------\n",
        "# Retrieve a list of list results on training and test data\n",
        "# sets for each training epoch\n",
        "#-----------------------------------------------------------\n",
        "acc=history.history['accuracy']\n",
        "val_acc=history.history['val_accuracy']\n",
        "precision=history.history['precision']\n",
        "val_precision=history.history['val_precision']\n",
        "recall=history.history['recall']\n",
        "val_recall=history.history['val_recall']\n",
        "\n",
        "epochs=range(len(acc)) # Get number of epochs\n",
        "\n",
        "#------------------------------------------------\n",
        "# Plot training and validation accuracy per epoch\n",
        "#------------------------------------------------\n",
        "plt.plot(epochs, acc, 'r', \"Training Accuracy\")\n",
        "plt.plot(epochs, val_acc, 'b', \"Validation Accuracy\")\n",
        "plt.title('Training and validation accuracy')\n",
        "plt.figure()\n",
        "\n",
        "#------------------------------------------------\n",
        "# Plot training and validation Precision per epoch\n",
        "#------------------------------------------------\n",
        "plt.plot(epochs, precision, 'r', \"Training Precision\")\n",
        "plt.plot(epochs, val_precision, 'b', \"Validation Precision\")\n",
        "plt.title('Training and validation Precision')\n",
        "plt.figure()\n",
        "\n",
        "plt.plot(epochs, recall, 'r', \"Training Recall\")\n",
        "plt.plot(epochs, val_recall, 'b', \"Validation Recall\")\n",
        "plt.title('Training and validation Recall')\n"
      ],
      "execution_count": 14,
      "outputs": [
        {
          "output_type": "execute_result",
          "data": {
            "text/plain": [
              "Text(0.5, 1.0, 'Training and validation Recall')"
            ]
          },
          "metadata": {
            "tags": []
          },
          "execution_count": 14
        },
        {
          "output_type": "display_data",
          "data": {
            "image/png": "[encoded data removed]",
            "text/plain": [
              "<Figure size 432x288 with 1 Axes>"
            ]
          },
          "metadata": {
            "tags": [],
            "needs_background": "light"
          }
        },
        {
          "output_type": "display_data",
          "data": {
            "image/png": "[encoded data removed]",
            "text/plain": [
              "<Figure size 432x288 with 1 Axes>"
            ]
          },
          "metadata": {
            "tags": [],
            "needs_background": "light"
          }
        },
        {
          "output_type": "display_data",
          "data": {
            "image/png": "[encoded data removed]",
            "text/plain": [
              "<Figure size 432x288 with 1 Axes>"
            ]
          },
          "metadata": {
            "tags": [],
            "needs_background": "light"
          }
        }
      ]
    },
    {
      "cell_type": "markdown",
      "metadata": {
        "id": "E2X3ikcUQQiG"
      },
      "source": [
        "# Predicting against Test Images from the Internet"
      ]
    },
    {
      "cell_type": "code",
      "metadata": {
        "id": "7-jdwJoNwWFN"
      },
      "source": [
        "reloaded_model=tf.keras.models.load_model(models_directory+'DS2_Updated_without_class_weights_Histo_Erode_Dilate.h5')"
      ],
      "execution_count": 19,
      "outputs": []
    },
    {
      "cell_type": "code",
      "metadata": {
        "id": "HCTJJ1UPO74u",
        "outputId": "236fd667-5505-4005-9ea9-327d73768c6d",
        "colab": {
          "base_uri": "https://localhost:8080/",
          "height": 54
        }
      },
      "source": [
        "predictions=reloaded_model.evaluate(test_gen,batch_size=32)"
      ],
      "execution_count": 20,
      "outputs": [
        {
          "output_type": "stream",
          "text": [
            "2/2 [==============================] - 1s 290ms/step - loss: 0.8801 - accuracy: 0.8000 - precision: 1.0000 - recall: 0.6000\n"
          ],
          "name": "stdout"
        }
      ]
    },
    {
      "cell_type": "code",
      "metadata": {
        "id": "A86zE99Uai-P"
      },
      "source": [
        ""
      ],
      "execution_count": null,
      "outputs": []
    }
  ]
}