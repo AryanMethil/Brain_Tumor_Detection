{
  "nbformat": 4,
  "nbformat_minor": 0,
  "metadata": {
    "colab": {
      "name": "Brain_Tumour_Detection.ipynb",
      "provenance": [],
      "toc_visible": true,
      "mount_file_id": "18TE5ocKHMvQiJ28HVeDHq_pYRglEgg_4",
      "authorship_tag": "ABX9TyNN225zT8g/qiVqN1rNMPtD",
      "include_colab_link": true
    },
    "kernelspec": {
      "name": "python3",
      "display_name": "Python 3"
    },
    "accelerator": "GPU"
  },
  "cells": [
    {
      "cell_type": "markdown",
      "metadata": {
        "id": "view-in-github",
        "colab_type": "text"
      },
      "source": [
        "<a href=\"https://colab.research.google.com/github/AryanMethil/Brain_Tumor_Detection/blob/master/Brain_Tumour_Detection.ipynb\" target=\"_parent\"><img src=\"https://colab.research.google.com/assets/colab-badge.svg\" alt=\"Open In Colab\"/></a>"
      ]
    },
    {
      "cell_type": "code",
      "metadata": {
        "id": "Rx6Li8Xl4Dp5",
        "colab_type": "code",
        "colab": {}
      },
      "source": [
        "import os\n",
        "import shutil\n",
        "from cv2 import *\n",
        "from google.colab.patches import cv2_imshow"
      ],
      "execution_count": null,
      "outputs": []
    },
    {
      "cell_type": "code",
      "metadata": {
        "id": "MWrzktW9YuhK",
        "colab_type": "code",
        "colab": {}
      },
      "source": [
        "new_yes='/content/brain_tumor_dataset/yes/'\n",
        "os.makedirs(new_yes,exist_ok=True)\n",
        "yes='/content/drive/My Drive/brain_tumor_dataset/yes'\n",
        "for _,_,files in os.walk(yes):\n",
        "  for f in files:\n",
        "    img_path=os.path.join(yes,f)\n",
        "    norm=imread(img_path)\n",
        "    norm=cvtColor(norm,COLOR_BGR2GRAY)\n",
        "    th1=equalizeHist(norm)\n",
        "    imwrite(new_yes+f,th1)\n",
        "\n",
        "new_no='/content/brain_tumor_dataset/no/'\n",
        "os.makedirs(new_no,exist_ok=True)\n",
        "no='/content/drive/My Drive/brain_tumor_dataset/no'\n",
        "for _,_,files in os.walk(no):\n",
        "  for f in files:\n",
        "    img_path=os.path.join(no,f)\n",
        "    norm=imread(img_path)\n",
        "    norm=cvtColor(norm,COLOR_BGR2GRAY)\n",
        "    th1=equalizeHist(norm)\n",
        "    imwrite(new_no+f,th1)"
      ],
      "execution_count": null,
      "outputs": []
    },
    {
      "cell_type": "code",
      "metadata": {
        "id": "AnMe_3gA4llW",
        "colab_type": "code",
        "colab": {}
      },
      "source": [
        "brain_tumour_no=new_no\n",
        "brain_tumour_yes=new_yes"
      ],
      "execution_count": null,
      "outputs": []
    },
    {
      "cell_type": "code",
      "metadata": {
        "id": "Rt45Q9zr4xXG",
        "colab_type": "code",
        "colab": {}
      },
      "source": [
        "os.makedirs('/content/Tumour_Dataset/Train/',exist_ok=True)\n",
        "os.makedirs('/content/Tumour_Dataset/Validation/',exist_ok=True)"
      ],
      "execution_count": null,
      "outputs": []
    },
    {
      "cell_type": "code",
      "metadata": {
        "id": "4GCpGZKK5j5v",
        "colab_type": "code",
        "colab": {}
      },
      "source": [
        "os.makedirs('/content/Tumour_Dataset/Train/yes',exist_ok=True)\n",
        "os.makedirs('/content/Tumour_Dataset/Train/no',exist_ok=True)\n",
        "os.makedirs('/content/Tumour_Dataset/Validation/yes',exist_ok=True)\n",
        "os.makedirs('/content/Tumour_Dataset/Validation/no',exist_ok=True)"
      ],
      "execution_count": null,
      "outputs": []
    },
    {
      "cell_type": "code",
      "metadata": {
        "id": "gHo61zzu-Ngb",
        "colab_type": "code",
        "colab": {}
      },
      "source": [
        "for dir,subdir,files in os.walk(brain_tumour_no):\n",
        "  for f in files[:int(len(files)*0.7)]:\n",
        "    shutil.copy(os.path.join(brain_tumour_no,f),'/content/Tumour_Dataset/Train/no')\n",
        "  for f in files[int(len(files)*0.7):]:\n",
        "    shutil.copy(os.path.join(brain_tumour_no,f),'/content/Tumour_Dataset/Validation/no')\n"
      ],
      "execution_count": null,
      "outputs": []
    },
    {
      "cell_type": "code",
      "metadata": {
        "id": "zCsZh6pM_nFu",
        "colab_type": "code",
        "colab": {}
      },
      "source": [
        "for dir,subdir,files in os.walk(brain_tumour_yes):\n",
        "  for f in files[:int(len(files)*0.7)]:\n",
        "    shutil.copy(os.path.join(brain_tumour_yes,f),'/content/Tumour_Dataset/Train/yes')\n",
        "  for f in files[int(len(files)*0.7):]:\n",
        "    shutil.copy(os.path.join(brain_tumour_yes,f),'/content/Tumour_Dataset/Validation/yes')"
      ],
      "execution_count": null,
      "outputs": []
    },
    {
      "cell_type": "code",
      "metadata": {
        "id": "GH0TT4mXAeWX",
        "colab_type": "code",
        "colab": {}
      },
      "source": [
        "import tensorflow as tf\n"
      ],
      "execution_count": null,
      "outputs": []
    },
    {
      "cell_type": "code",
      "metadata": {
        "id": "uwb-mgByBlY6",
        "colab_type": "code",
        "colab": {
          "base_uri": "https://localhost:8080/",
          "height": 323
        },
        "outputId": "416adbbb-f325-4716-92ef-7bfa5d7504d1"
      },
      "source": [
        "\n",
        "base_model=tf.keras.applications.InceptionV3(include_top=False,weights='imagenet',input_shape=(150,150,3))\n",
        "base_model.trainable=False\n",
        "model=tf.keras.Sequential()\n",
        "model.add(base_model)\n",
        "model.add(tf.keras.layers.Flatten())\n",
        "model.add(tf.keras.layers.Dense(128,activation='relu'))\n",
        "model.add(tf.keras.layers.Dropout(0.3))\n",
        "model.add(tf.keras.layers.Dense(1,activation='sigmoid'))\n",
        "model.summary()"
      ],
      "execution_count": null,
      "outputs": [
        {
          "output_type": "stream",
          "text": [
            "Model: \"sequential\"\n",
            "_________________________________________________________________\n",
            "Layer (type)                 Output Shape              Param #   \n",
            "=================================================================\n",
            "inception_v3 (Model)         (None, 3, 3, 2048)        21802784  \n",
            "_________________________________________________________________\n",
            "flatten (Flatten)            (None, 18432)             0         \n",
            "_________________________________________________________________\n",
            "dense (Dense)                (None, 128)               2359424   \n",
            "_________________________________________________________________\n",
            "dropout (Dropout)            (None, 128)               0         \n",
            "_________________________________________________________________\n",
            "dense_1 (Dense)              (None, 1)                 129       \n",
            "=================================================================\n",
            "Total params: 24,162,337\n",
            "Trainable params: 2,359,553\n",
            "Non-trainable params: 21,802,784\n",
            "_________________________________________________________________\n"
          ],
          "name": "stdout"
        }
      ]
    },
    {
      "cell_type": "code",
      "metadata": {
        "id": "rOOJYQTyDPZ4",
        "colab_type": "code",
        "colab": {}
      },
      "source": [
        "model.compile(loss='binary_crossentropy',\n",
        "              optimizer=tf.keras.optimizers.Adam(learning_rate=0.0001),\n",
        "              metrics=['accuracy',tf.keras.metrics.Precision(name='precision'),tf.keras.metrics.Recall(name='recall')])"
      ],
      "execution_count": null,
      "outputs": []
    },
    {
      "cell_type": "code",
      "metadata": {
        "id": "xidHZ3J5Dt21",
        "colab_type": "code",
        "colab": {}
      },
      "source": [
        "train_data_generator=tf.keras.preprocessing.image.ImageDataGenerator(rescale=1/255,\n",
        "                                  rotation_range=30,\n",
        "                                  height_shift_range=0.2,\n",
        "                                  width_shift_range=0.2,\n",
        "                                  shear_range=0.6,\n",
        "                                  zoom_range=0.2,\n",
        "                                  horizontal_flip=True,\n",
        "                                  fill_mode='nearest')\n",
        "validation_data_generator=tf.keras.preprocessing.image.ImageDataGenerator(rescale=1/255)"
      ],
      "execution_count": null,
      "outputs": []
    },
    {
      "cell_type": "code",
      "metadata": {
        "id": "YCvIq7YGEZpW",
        "colab_type": "code",
        "colab": {
          "base_uri": "https://localhost:8080/",
          "height": 51
        },
        "outputId": "0c2aeaf6-59c5-40f2-e962-8d401e970e65"
      },
      "source": [
        "train_gen=train_data_generator.flow_from_directory('/content/Tumour_Dataset/Train/',\n",
        "                                                   target_size=(150,150),\n",
        "                                                   class_mode='binary',\n",
        "                                                   batch_size=8,\n",
        "                                                   shuffle=True)\n",
        "validation_gen=train_data_generator.flow_from_directory('/content/Tumour_Dataset/Validation/',\n",
        "                                                   target_size=(150,150),\n",
        "                                                   class_mode='binary',\n",
        "                                                   batch_size=8,\n",
        "                                                   shuffle=True)"
      ],
      "execution_count": null,
      "outputs": [
        {
          "output_type": "stream",
          "text": [
            "Found 182 images belonging to 2 classes.\n",
            "Found 79 images belonging to 2 classes.\n"
          ],
          "name": "stdout"
        }
      ]
    },
    {
      "cell_type": "code",
      "metadata": {
        "id": "aQpDVApsFILx",
        "colab_type": "code",
        "colab": {}
      },
      "source": [
        "class MyCallback(tf.keras.callbacks.Callback):\n",
        "  def on_epoch_end(self,epoch,logs={}):\n",
        "    if(logs['accuracy']>0.99):\n",
        "      self.model.stop_training=True\n",
        "callbacks=MyCallback()"
      ],
      "execution_count": null,
      "outputs": []
    },
    {
      "cell_type": "code",
      "metadata": {
        "id": "j-xX6HF9GdSO",
        "colab_type": "code",
        "colab": {
          "base_uri": "https://localhost:8080/",
          "height": 1000
        },
        "outputId": "d4fb0e02-f499-4efd-d43c-749c2c4e4693"
      },
      "source": [
        "history=model.fit(train_gen,validation_data=validation_gen,epochs=200,callbacks=callbacks)"
      ],
      "execution_count": null,
      "outputs": [
        {
          "output_type": "stream",
          "text": [
            "Epoch 1/200\n",
            "23/23 [==============================] - 6s 258ms/step - loss: 1.0884 - accuracy: 0.5440 - precision: 0.6147 - recall: 0.6204 - val_loss: 0.5508 - val_accuracy: 0.7468 - val_precision: 0.7455 - val_recall: 0.8723\n",
            "Epoch 2/200\n",
            "23/23 [==============================] - 3s 118ms/step - loss: 0.6374 - accuracy: 0.7033 - precision: 0.7455 - recall: 0.7593 - val_loss: 0.6766 - val_accuracy: 0.6203 - val_precision: 0.6133 - val_recall: 0.9787\n",
            "Epoch 3/200\n",
            "23/23 [==============================] - 3s 116ms/step - loss: 0.5066 - accuracy: 0.7912 - precision: 0.8070 - recall: 0.8519 - val_loss: 0.6191 - val_accuracy: 0.7089 - val_precision: 0.9286 - val_recall: 0.5532\n",
            "Epoch 4/200\n",
            "23/23 [==============================] - 3s 116ms/step - loss: 0.5761 - accuracy: 0.7473 - precision: 0.7925 - recall: 0.7778 - val_loss: 0.3918 - val_accuracy: 0.8228 - val_precision: 0.8235 - val_recall: 0.8936\n",
            "Epoch 5/200\n",
            "23/23 [==============================] - 3s 114ms/step - loss: 0.4273 - accuracy: 0.8242 - precision: 0.8519 - recall: 0.8519 - val_loss: 0.4704 - val_accuracy: 0.7468 - val_precision: 0.8293 - val_recall: 0.7234\n",
            "Epoch 6/200\n",
            "23/23 [==============================] - 3s 117ms/step - loss: 0.4395 - accuracy: 0.8187 - precision: 0.8319 - recall: 0.8704 - val_loss: 0.4061 - val_accuracy: 0.7975 - val_precision: 0.8039 - val_recall: 0.8723\n",
            "Epoch 7/200\n",
            "23/23 [==============================] - 3s 119ms/step - loss: 0.3078 - accuracy: 0.8626 - precision: 0.8807 - recall: 0.8889 - val_loss: 0.3441 - val_accuracy: 0.8608 - val_precision: 0.8600 - val_recall: 0.9149\n",
            "Epoch 8/200\n",
            "23/23 [==============================] - 3s 122ms/step - loss: 0.3525 - accuracy: 0.8187 - precision: 0.8378 - recall: 0.8611 - val_loss: 0.4728 - val_accuracy: 0.7595 - val_precision: 0.7800 - val_recall: 0.8298\n",
            "Epoch 9/200\n",
            "23/23 [==============================] - 3s 120ms/step - loss: 0.3424 - accuracy: 0.8462 - precision: 0.8774 - recall: 0.8611 - val_loss: 0.3564 - val_accuracy: 0.8987 - val_precision: 0.9756 - val_recall: 0.8511\n",
            "Epoch 10/200\n",
            "23/23 [==============================] - 3s 122ms/step - loss: 0.3826 - accuracy: 0.8352 - precision: 0.8679 - recall: 0.8519 - val_loss: 0.5984 - val_accuracy: 0.7342 - val_precision: 0.6970 - val_recall: 0.9787\n",
            "Epoch 11/200\n",
            "23/23 [==============================] - 3s 123ms/step - loss: 0.4283 - accuracy: 0.7912 - precision: 0.7966 - recall: 0.8704 - val_loss: 0.3940 - val_accuracy: 0.7848 - val_precision: 0.8261 - val_recall: 0.8085\n",
            "Epoch 12/200\n",
            "23/23 [==============================] - 3s 124ms/step - loss: 0.3494 - accuracy: 0.8352 - precision: 0.8679 - recall: 0.8519 - val_loss: 0.3831 - val_accuracy: 0.7975 - val_precision: 0.8163 - val_recall: 0.8511\n",
            "Epoch 13/200\n",
            "23/23 [==============================] - 3s 134ms/step - loss: 0.3310 - accuracy: 0.8516 - precision: 0.8584 - recall: 0.8981 - val_loss: 0.5760 - val_accuracy: 0.7342 - val_precision: 0.8824 - val_recall: 0.6383\n",
            "Epoch 14/200\n",
            "23/23 [==============================] - 3s 125ms/step - loss: 0.3130 - accuracy: 0.8626 - precision: 0.8879 - recall: 0.8796 - val_loss: 0.5920 - val_accuracy: 0.7595 - val_precision: 0.8684 - val_recall: 0.7021\n",
            "Epoch 15/200\n",
            "23/23 [==============================] - 3s 125ms/step - loss: 0.2647 - accuracy: 0.8736 - precision: 0.8696 - recall: 0.9259 - val_loss: 0.5255 - val_accuracy: 0.7722 - val_precision: 0.9394 - val_recall: 0.6596\n",
            "Epoch 16/200\n",
            "23/23 [==============================] - 3s 121ms/step - loss: 0.3169 - accuracy: 0.8791 - precision: 0.8909 - recall: 0.9074 - val_loss: 0.4354 - val_accuracy: 0.8228 - val_precision: 0.9714 - val_recall: 0.7234\n",
            "Epoch 17/200\n",
            "23/23 [==============================] - 3s 121ms/step - loss: 0.3607 - accuracy: 0.8681 - precision: 0.9286 - recall: 0.8426 - val_loss: 0.6209 - val_accuracy: 0.7089 - val_precision: 0.7000 - val_recall: 0.8936\n",
            "Epoch 18/200\n",
            "23/23 [==============================] - 3s 120ms/step - loss: 0.3774 - accuracy: 0.8407 - precision: 0.8264 - recall: 0.9259 - val_loss: 0.4300 - val_accuracy: 0.8354 - val_precision: 0.9048 - val_recall: 0.8085\n",
            "Epoch 19/200\n",
            "23/23 [==============================] - 3s 121ms/step - loss: 0.2925 - accuracy: 0.8681 - precision: 0.9118 - recall: 0.8611 - val_loss: 0.4650 - val_accuracy: 0.7848 - val_precision: 0.8409 - val_recall: 0.7872\n",
            "Epoch 20/200\n",
            "23/23 [==============================] - 3s 121ms/step - loss: 0.2871 - accuracy: 0.8681 - precision: 0.8818 - recall: 0.8981 - val_loss: 0.4154 - val_accuracy: 0.7722 - val_precision: 0.8718 - val_recall: 0.7234\n",
            "Epoch 21/200\n",
            "23/23 [==============================] - 3s 120ms/step - loss: 0.2977 - accuracy: 0.8462 - precision: 0.8846 - recall: 0.8519 - val_loss: 0.4371 - val_accuracy: 0.7975 - val_precision: 0.7627 - val_recall: 0.9574\n",
            "Epoch 22/200\n",
            "23/23 [==============================] - 3s 122ms/step - loss: 0.3025 - accuracy: 0.8956 - precision: 0.8938 - recall: 0.9352 - val_loss: 0.4135 - val_accuracy: 0.7848 - val_precision: 0.9167 - val_recall: 0.7021\n",
            "Epoch 23/200\n",
            "23/23 [==============================] - 3s 125ms/step - loss: 0.2483 - accuracy: 0.9011 - precision: 0.9327 - recall: 0.8981 - val_loss: 0.4128 - val_accuracy: 0.8354 - val_precision: 0.9250 - val_recall: 0.7872\n",
            "Epoch 24/200\n",
            "23/23 [==============================] - 3s 119ms/step - loss: 0.2773 - accuracy: 0.8901 - precision: 0.9231 - recall: 0.8889 - val_loss: 0.4358 - val_accuracy: 0.8101 - val_precision: 0.9211 - val_recall: 0.7447\n",
            "Epoch 25/200\n",
            "23/23 [==============================] - 3s 120ms/step - loss: 0.2722 - accuracy: 0.8681 - precision: 0.8818 - recall: 0.8981 - val_loss: 0.4526 - val_accuracy: 0.8101 - val_precision: 0.8478 - val_recall: 0.8298\n",
            "Epoch 26/200\n",
            "23/23 [==============================] - 3s 119ms/step - loss: 0.2006 - accuracy: 0.9066 - precision: 0.9099 - recall: 0.9352 - val_loss: 0.3602 - val_accuracy: 0.8228 - val_precision: 0.8667 - val_recall: 0.8298\n",
            "Epoch 27/200\n",
            "23/23 [==============================] - 3s 118ms/step - loss: 0.2844 - accuracy: 0.9066 - precision: 0.8957 - recall: 0.9537 - val_loss: 0.3761 - val_accuracy: 0.8228 - val_precision: 0.9024 - val_recall: 0.7872\n",
            "Epoch 28/200\n",
            "23/23 [==============================] - 3s 120ms/step - loss: 0.2281 - accuracy: 0.8846 - precision: 0.9143 - recall: 0.8889 - val_loss: 0.4484 - val_accuracy: 0.7848 - val_precision: 0.7679 - val_recall: 0.9149\n",
            "Epoch 29/200\n",
            "23/23 [==============================] - 3s 119ms/step - loss: 0.2756 - accuracy: 0.8956 - precision: 0.9083 - recall: 0.9167 - val_loss: 0.5308 - val_accuracy: 0.8228 - val_precision: 0.8367 - val_recall: 0.8723\n",
            "Epoch 30/200\n",
            "23/23 [==============================] - 3s 119ms/step - loss: 0.2703 - accuracy: 0.9011 - precision: 0.9245 - recall: 0.9074 - val_loss: 0.6001 - val_accuracy: 0.7215 - val_precision: 0.6923 - val_recall: 0.9574\n",
            "Epoch 31/200\n",
            "23/23 [==============================] - 3s 120ms/step - loss: 0.2362 - accuracy: 0.9121 - precision: 0.9182 - recall: 0.9352 - val_loss: 0.4355 - val_accuracy: 0.8228 - val_precision: 0.8367 - val_recall: 0.8723\n",
            "Epoch 32/200\n",
            "23/23 [==============================] - 3s 119ms/step - loss: 0.2733 - accuracy: 0.8901 - precision: 0.9000 - recall: 0.9167 - val_loss: 0.3152 - val_accuracy: 0.8608 - val_precision: 0.9500 - val_recall: 0.8085\n",
            "Epoch 33/200\n",
            "23/23 [==============================] - 3s 120ms/step - loss: 0.2095 - accuracy: 0.8956 - precision: 0.9009 - recall: 0.9259 - val_loss: 0.3358 - val_accuracy: 0.8481 - val_precision: 0.9070 - val_recall: 0.8298\n",
            "Epoch 34/200\n",
            "23/23 [==============================] - 3s 119ms/step - loss: 0.2817 - accuracy: 0.8407 - precision: 0.8835 - recall: 0.8426 - val_loss: 0.5197 - val_accuracy: 0.7722 - val_precision: 0.8372 - val_recall: 0.7660\n",
            "Epoch 35/200\n",
            "23/23 [==============================] - 3s 119ms/step - loss: 0.3106 - accuracy: 0.8736 - precision: 0.9048 - recall: 0.8796 - val_loss: 0.3950 - val_accuracy: 0.8101 - val_precision: 0.8077 - val_recall: 0.8936\n",
            "Epoch 36/200\n",
            "23/23 [==============================] - 3s 119ms/step - loss: 0.2730 - accuracy: 0.9011 - precision: 0.9245 - recall: 0.9074 - val_loss: 0.3287 - val_accuracy: 0.8734 - val_precision: 0.8627 - val_recall: 0.9362\n",
            "Epoch 37/200\n",
            "23/23 [==============================] - 3s 119ms/step - loss: 0.2423 - accuracy: 0.8626 - precision: 0.8739 - recall: 0.8981 - val_loss: 0.4496 - val_accuracy: 0.8101 - val_precision: 0.8333 - val_recall: 0.8511\n",
            "Epoch 38/200\n",
            "23/23 [==============================] - 3s 118ms/step - loss: 0.1964 - accuracy: 0.9286 - precision: 0.9358 - recall: 0.9444 - val_loss: 0.4813 - val_accuracy: 0.8101 - val_precision: 0.8810 - val_recall: 0.7872\n",
            "Epoch 39/200\n",
            "23/23 [==============================] - 3s 117ms/step - loss: 0.2570 - accuracy: 0.8956 - precision: 0.9009 - recall: 0.9259 - val_loss: 0.3186 - val_accuracy: 0.8608 - val_precision: 0.9500 - val_recall: 0.8085\n",
            "Epoch 40/200\n",
            "23/23 [==============================] - 3s 121ms/step - loss: 0.2413 - accuracy: 0.8901 - precision: 0.9400 - recall: 0.8704 - val_loss: 0.3522 - val_accuracy: 0.7975 - val_precision: 0.8039 - val_recall: 0.8723\n",
            "Epoch 41/200\n",
            "23/23 [==============================] - 3s 116ms/step - loss: 0.2293 - accuracy: 0.9121 - precision: 0.8966 - recall: 0.9630 - val_loss: 0.4759 - val_accuracy: 0.7848 - val_precision: 0.8000 - val_recall: 0.8511\n",
            "Epoch 42/200\n",
            "23/23 [==============================] - 3s 116ms/step - loss: 0.1785 - accuracy: 0.9396 - precision: 0.9533 - recall: 0.9444 - val_loss: 0.4983 - val_accuracy: 0.7722 - val_precision: 0.8537 - val_recall: 0.7447\n",
            "Epoch 43/200\n",
            "23/23 [==============================] - 3s 115ms/step - loss: 0.2283 - accuracy: 0.9066 - precision: 0.9252 - recall: 0.9167 - val_loss: 0.4451 - val_accuracy: 0.7722 - val_precision: 0.8537 - val_recall: 0.7447\n",
            "Epoch 44/200\n",
            "23/23 [==============================] - 3s 114ms/step - loss: 0.2452 - accuracy: 0.8791 - precision: 0.8981 - recall: 0.8981 - val_loss: 0.7730 - val_accuracy: 0.7848 - val_precision: 0.9412 - val_recall: 0.6809\n",
            "Epoch 45/200\n",
            "23/23 [==============================] - 3s 115ms/step - loss: 0.2743 - accuracy: 0.9011 - precision: 0.9091 - recall: 0.9259 - val_loss: 0.4258 - val_accuracy: 0.7975 - val_precision: 0.8605 - val_recall: 0.7872\n",
            "Epoch 46/200\n",
            "23/23 [==============================] - 3s 115ms/step - loss: 0.2112 - accuracy: 0.9066 - precision: 0.9252 - recall: 0.9167 - val_loss: 0.5147 - val_accuracy: 0.7848 - val_precision: 0.7885 - val_recall: 0.8723\n",
            "Epoch 47/200\n",
            "23/23 [==============================] - 3s 114ms/step - loss: 0.2343 - accuracy: 0.8901 - precision: 0.9074 - recall: 0.9074 - val_loss: 0.4760 - val_accuracy: 0.7848 - val_precision: 0.8261 - val_recall: 0.8085\n",
            "Epoch 48/200\n",
            "23/23 [==============================] - 3s 115ms/step - loss: 0.1475 - accuracy: 0.9341 - precision: 0.9615 - recall: 0.9259 - val_loss: 0.5040 - val_accuracy: 0.7975 - val_precision: 0.8605 - val_recall: 0.7872\n",
            "Epoch 49/200\n",
            "23/23 [==============================] - 3s 116ms/step - loss: 0.2556 - accuracy: 0.9011 - precision: 0.9327 - recall: 0.8981 - val_loss: 0.4695 - val_accuracy: 0.8101 - val_precision: 0.8077 - val_recall: 0.8936\n",
            "Epoch 50/200\n",
            "23/23 [==============================] - 3s 115ms/step - loss: 0.1872 - accuracy: 0.9396 - precision: 0.9533 - recall: 0.9444 - val_loss: 0.4527 - val_accuracy: 0.7975 - val_precision: 0.8163 - val_recall: 0.8511\n",
            "Epoch 51/200\n",
            "23/23 [==============================] - 3s 114ms/step - loss: 0.1730 - accuracy: 0.9286 - precision: 0.9204 - recall: 0.9630 - val_loss: 0.4881 - val_accuracy: 0.7848 - val_precision: 0.8571 - val_recall: 0.7660\n",
            "Epoch 52/200\n",
            "23/23 [==============================] - 3s 115ms/step - loss: 0.1983 - accuracy: 0.9011 - precision: 0.9091 - recall: 0.9259 - val_loss: 0.3019 - val_accuracy: 0.8987 - val_precision: 0.9333 - val_recall: 0.8936\n",
            "Epoch 53/200\n",
            "23/23 [==============================] - 3s 115ms/step - loss: 0.1501 - accuracy: 0.9286 - precision: 0.9612 - recall: 0.9167 - val_loss: 0.7820 - val_accuracy: 0.7595 - val_precision: 0.7188 - val_recall: 0.9787\n",
            "Epoch 54/200\n",
            "23/23 [==============================] - 3s 116ms/step - loss: 0.2231 - accuracy: 0.9066 - precision: 0.9252 - recall: 0.9167 - val_loss: 0.3265 - val_accuracy: 0.8608 - val_precision: 0.8600 - val_recall: 0.9149\n",
            "Epoch 55/200\n",
            "23/23 [==============================] - 3s 113ms/step - loss: 0.1817 - accuracy: 0.9286 - precision: 0.9358 - recall: 0.9444 - val_loss: 0.6878 - val_accuracy: 0.7215 - val_precision: 0.7451 - val_recall: 0.8085\n",
            "Epoch 56/200\n",
            "23/23 [==============================] - 3s 115ms/step - loss: 0.1368 - accuracy: 0.9341 - precision: 0.9364 - recall: 0.9537 - val_loss: 0.4403 - val_accuracy: 0.8354 - val_precision: 0.8864 - val_recall: 0.8298\n",
            "Epoch 57/200\n",
            "23/23 [==============================] - 3s 114ms/step - loss: 0.2258 - accuracy: 0.8956 - precision: 0.9009 - recall: 0.9259 - val_loss: 0.4103 - val_accuracy: 0.8228 - val_precision: 0.8511 - val_recall: 0.8511\n",
            "Epoch 58/200\n",
            "23/23 [==============================] - 3s 115ms/step - loss: 0.1914 - accuracy: 0.8846 - precision: 0.9065 - recall: 0.8981 - val_loss: 0.3252 - val_accuracy: 0.8608 - val_precision: 0.8913 - val_recall: 0.8723\n",
            "Epoch 59/200\n",
            "23/23 [==============================] - 3s 115ms/step - loss: 0.1508 - accuracy: 0.9505 - precision: 0.9626 - recall: 0.9537 - val_loss: 0.4929 - val_accuracy: 0.7975 - val_precision: 0.8039 - val_recall: 0.8723\n",
            "Epoch 60/200\n",
            "23/23 [==============================] - 3s 115ms/step - loss: 0.2081 - accuracy: 0.9121 - precision: 0.9340 - recall: 0.9167 - val_loss: 0.4661 - val_accuracy: 0.8354 - val_precision: 0.8542 - val_recall: 0.8723\n",
            "Epoch 61/200\n",
            "23/23 [==============================] - 3s 116ms/step - loss: 0.1833 - accuracy: 0.9121 - precision: 0.9182 - recall: 0.9352 - val_loss: 0.5818 - val_accuracy: 0.7342 - val_precision: 0.8095 - val_recall: 0.7234\n",
            "Epoch 62/200\n",
            "23/23 [==============================] - 3s 116ms/step - loss: 0.1610 - accuracy: 0.9231 - precision: 0.9273 - recall: 0.9444 - val_loss: 0.7844 - val_accuracy: 0.7089 - val_precision: 0.8333 - val_recall: 0.6383\n",
            "Epoch 63/200\n",
            "23/23 [==============================] - 3s 116ms/step - loss: 0.1024 - accuracy: 0.9670 - precision: 0.9904 - recall: 0.9537 - val_loss: 0.5302 - val_accuracy: 0.7848 - val_precision: 0.7778 - val_recall: 0.8936\n",
            "Epoch 64/200\n",
            "23/23 [==============================] - 3s 115ms/step - loss: 0.2403 - accuracy: 0.9011 - precision: 0.9018 - recall: 0.9352 - val_loss: 0.5391 - val_accuracy: 0.8101 - val_precision: 0.8200 - val_recall: 0.8723\n",
            "Epoch 65/200\n",
            "23/23 [==============================] - 3s 116ms/step - loss: 0.1785 - accuracy: 0.9231 - precision: 0.9273 - recall: 0.9444 - val_loss: 0.4415 - val_accuracy: 0.8101 - val_precision: 0.8333 - val_recall: 0.8511\n",
            "Epoch 66/200\n",
            "23/23 [==============================] - 3s 116ms/step - loss: 0.1479 - accuracy: 0.9341 - precision: 0.9444 - recall: 0.9444 - val_loss: 0.4614 - val_accuracy: 0.8354 - val_precision: 0.8696 - val_recall: 0.8511\n",
            "Epoch 67/200\n",
            "23/23 [==============================] - 3s 116ms/step - loss: 0.1536 - accuracy: 0.9560 - precision: 0.9630 - recall: 0.9630 - val_loss: 0.3498 - val_accuracy: 0.8608 - val_precision: 0.9091 - val_recall: 0.8511\n",
            "Epoch 68/200\n",
            "23/23 [==============================] - 3s 115ms/step - loss: 0.1297 - accuracy: 0.9396 - precision: 0.9619 - recall: 0.9352 - val_loss: 0.4632 - val_accuracy: 0.8608 - val_precision: 0.9500 - val_recall: 0.8085\n",
            "Epoch 69/200\n",
            "23/23 [==============================] - 3s 115ms/step - loss: 0.1999 - accuracy: 0.9286 - precision: 0.9358 - recall: 0.9444 - val_loss: 0.6338 - val_accuracy: 0.8354 - val_precision: 0.9048 - val_recall: 0.8085\n",
            "Epoch 70/200\n",
            "23/23 [==============================] - 3s 115ms/step - loss: 0.2183 - accuracy: 0.9286 - precision: 0.9439 - recall: 0.9352 - val_loss: 0.3993 - val_accuracy: 0.7975 - val_precision: 0.8780 - val_recall: 0.7660\n",
            "Epoch 71/200\n",
            "23/23 [==============================] - 3s 122ms/step - loss: 0.1717 - accuracy: 0.9231 - precision: 0.9273 - recall: 0.9444 - val_loss: 0.3003 - val_accuracy: 0.8861 - val_precision: 0.9318 - val_recall: 0.8723\n",
            "Epoch 72/200\n",
            "23/23 [==============================] - 3s 124ms/step - loss: 0.1530 - accuracy: 0.9286 - precision: 0.9358 - recall: 0.9444 - val_loss: 0.4276 - val_accuracy: 0.8481 - val_precision: 0.9070 - val_recall: 0.8298\n",
            "Epoch 73/200\n",
            "23/23 [==============================] - 3s 124ms/step - loss: 0.2031 - accuracy: 0.9176 - precision: 0.9346 - recall: 0.9259 - val_loss: 0.4822 - val_accuracy: 0.8354 - val_precision: 0.9250 - val_recall: 0.7872\n",
            "Epoch 74/200\n",
            "23/23 [==============================] - 3s 125ms/step - loss: 0.2029 - accuracy: 0.9066 - precision: 0.9333 - recall: 0.9074 - val_loss: 0.4365 - val_accuracy: 0.8481 - val_precision: 0.9487 - val_recall: 0.7872\n",
            "Epoch 75/200\n",
            "23/23 [==============================] - 3s 125ms/step - loss: 0.1714 - accuracy: 0.9231 - precision: 0.9123 - recall: 0.9630 - val_loss: 0.4547 - val_accuracy: 0.8228 - val_precision: 0.9231 - val_recall: 0.7660\n",
            "Epoch 76/200\n",
            "23/23 [==============================] - 3s 126ms/step - loss: 0.1391 - accuracy: 0.9451 - precision: 0.9623 - recall: 0.9444 - val_loss: 0.5031 - val_accuracy: 0.8354 - val_precision: 0.8542 - val_recall: 0.8723\n",
            "Epoch 77/200\n",
            "23/23 [==============================] - 3s 125ms/step - loss: 0.1736 - accuracy: 0.9231 - precision: 0.9352 - recall: 0.9352 - val_loss: 0.3152 - val_accuracy: 0.8481 - val_precision: 0.8723 - val_recall: 0.8723\n",
            "Epoch 78/200\n",
            "23/23 [==============================] - 3s 128ms/step - loss: 0.1654 - accuracy: 0.9176 - precision: 0.9346 - recall: 0.9259 - val_loss: 0.3959 - val_accuracy: 0.8228 - val_precision: 0.7895 - val_recall: 0.9574\n",
            "Epoch 79/200\n",
            "23/23 [==============================] - 3s 128ms/step - loss: 0.1678 - accuracy: 0.9176 - precision: 0.9266 - recall: 0.9352 - val_loss: 0.4344 - val_accuracy: 0.8228 - val_precision: 0.7895 - val_recall: 0.9574\n",
            "Epoch 80/200\n",
            "23/23 [==============================] - 3s 128ms/step - loss: 0.1633 - accuracy: 0.9286 - precision: 0.9358 - recall: 0.9444 - val_loss: 0.5232 - val_accuracy: 0.7975 - val_precision: 0.8780 - val_recall: 0.7660\n",
            "Epoch 81/200\n",
            "23/23 [==============================] - 3s 132ms/step - loss: 0.1377 - accuracy: 0.9451 - precision: 0.9537 - recall: 0.9537 - val_loss: 0.4718 - val_accuracy: 0.8101 - val_precision: 0.8810 - val_recall: 0.7872\n",
            "Epoch 82/200\n",
            "23/23 [==============================] - 3s 131ms/step - loss: 0.1889 - accuracy: 0.9451 - precision: 0.9537 - recall: 0.9537 - val_loss: 0.4161 - val_accuracy: 0.7848 - val_precision: 0.8000 - val_recall: 0.8511\n",
            "Epoch 83/200\n",
            "23/23 [==============================] - 3s 131ms/step - loss: 0.1642 - accuracy: 0.9286 - precision: 0.9524 - recall: 0.9259 - val_loss: 0.4579 - val_accuracy: 0.8228 - val_precision: 0.8667 - val_recall: 0.8298\n",
            "Epoch 84/200\n",
            "23/23 [==============================] - 3s 128ms/step - loss: 0.1120 - accuracy: 0.9560 - precision: 0.9545 - recall: 0.9722 - val_loss: 0.2934 - val_accuracy: 0.8734 - val_precision: 0.8776 - val_recall: 0.9149\n",
            "Epoch 85/200\n",
            "23/23 [==============================] - 3s 126ms/step - loss: 0.1241 - accuracy: 0.9396 - precision: 0.9619 - recall: 0.9352 - val_loss: 0.4829 - val_accuracy: 0.8101 - val_precision: 0.8478 - val_recall: 0.8298\n",
            "Epoch 86/200\n",
            "23/23 [==============================] - 3s 127ms/step - loss: 0.1188 - accuracy: 0.9670 - precision: 0.9636 - recall: 0.9815 - val_loss: 0.4869 - val_accuracy: 0.7722 - val_precision: 0.9143 - val_recall: 0.6809\n",
            "Epoch 87/200\n",
            "23/23 [==============================] - 3s 128ms/step - loss: 0.1852 - accuracy: 0.9286 - precision: 0.9279 - recall: 0.9537 - val_loss: 0.5013 - val_accuracy: 0.8228 - val_precision: 0.8667 - val_recall: 0.8298\n",
            "Epoch 88/200\n",
            "23/23 [==============================] - 3s 128ms/step - loss: 0.2244 - accuracy: 0.8956 - precision: 0.9238 - recall: 0.8981 - val_loss: 0.5585 - val_accuracy: 0.7595 - val_precision: 0.9118 - val_recall: 0.6596\n",
            "Epoch 89/200\n",
            "23/23 [==============================] - 3s 125ms/step - loss: 0.1928 - accuracy: 0.9341 - precision: 0.9528 - recall: 0.9352 - val_loss: 0.4936 - val_accuracy: 0.8481 - val_precision: 0.9070 - val_recall: 0.8298\n",
            "Epoch 90/200\n",
            "23/23 [==============================] - 3s 126ms/step - loss: 0.1668 - accuracy: 0.9341 - precision: 0.9444 - recall: 0.9444 - val_loss: 0.3163 - val_accuracy: 0.8481 - val_precision: 0.9268 - val_recall: 0.8085\n",
            "Epoch 91/200\n",
            "23/23 [==============================] - 3s 126ms/step - loss: 0.2099 - accuracy: 0.9176 - precision: 0.9429 - recall: 0.9167 - val_loss: 0.5201 - val_accuracy: 0.8734 - val_precision: 0.9111 - val_recall: 0.8723\n",
            "Epoch 92/200\n",
            "23/23 [==============================] - 3s 127ms/step - loss: 0.1117 - accuracy: 0.9615 - precision: 0.9550 - recall: 0.9815 - val_loss: 0.5656 - val_accuracy: 0.7722 - val_precision: 0.8372 - val_recall: 0.7660\n",
            "Epoch 93/200\n",
            "23/23 [==============================] - 3s 127ms/step - loss: 0.1639 - accuracy: 0.9341 - precision: 0.9444 - recall: 0.9444 - val_loss: 0.3908 - val_accuracy: 0.8228 - val_precision: 0.8367 - val_recall: 0.8723\n",
            "Epoch 94/200\n",
            "23/23 [==============================] - 3s 125ms/step - loss: 0.1577 - accuracy: 0.9176 - precision: 0.9429 - recall: 0.9167 - val_loss: 0.4662 - val_accuracy: 0.8228 - val_precision: 0.8113 - val_recall: 0.9149\n",
            "Epoch 95/200\n",
            "23/23 [==============================] - 3s 127ms/step - loss: 0.1172 - accuracy: 0.9560 - precision: 0.9630 - recall: 0.9630 - val_loss: 0.5648 - val_accuracy: 0.7848 - val_precision: 0.8409 - val_recall: 0.7872\n",
            "Epoch 96/200\n",
            "23/23 [==============================] - 3s 125ms/step - loss: 0.1663 - accuracy: 0.9341 - precision: 0.9211 - recall: 0.9722 - val_loss: 0.3757 - val_accuracy: 0.8228 - val_precision: 0.8667 - val_recall: 0.8298\n",
            "Epoch 97/200\n",
            "23/23 [==============================] - 3s 126ms/step - loss: 0.1445 - accuracy: 0.9341 - precision: 0.9444 - recall: 0.9444 - val_loss: 0.3913 - val_accuracy: 0.8228 - val_precision: 0.8235 - val_recall: 0.8936\n",
            "Epoch 98/200\n",
            "23/23 [==============================] - 3s 128ms/step - loss: 0.1071 - accuracy: 0.9615 - precision: 0.9810 - recall: 0.9537 - val_loss: 0.3694 - val_accuracy: 0.8608 - val_precision: 0.8600 - val_recall: 0.9149\n",
            "Epoch 99/200\n",
            "23/23 [==============================] - 3s 126ms/step - loss: 0.2228 - accuracy: 0.9121 - precision: 0.9107 - recall: 0.9444 - val_loss: 0.5070 - val_accuracy: 0.8101 - val_precision: 0.9211 - val_recall: 0.7447\n",
            "Epoch 100/200\n",
            "23/23 [==============================] - 3s 129ms/step - loss: 0.2048 - accuracy: 0.9231 - precision: 0.9273 - recall: 0.9444 - val_loss: 0.7014 - val_accuracy: 0.7595 - val_precision: 0.8889 - val_recall: 0.6809\n",
            "Epoch 101/200\n",
            "23/23 [==============================] - 3s 126ms/step - loss: 0.1554 - accuracy: 0.9505 - precision: 0.9541 - recall: 0.9630 - val_loss: 0.4262 - val_accuracy: 0.7722 - val_precision: 0.8537 - val_recall: 0.7447\n",
            "Epoch 102/200\n",
            "23/23 [==============================] - 3s 125ms/step - loss: 0.1347 - accuracy: 0.9505 - precision: 0.9626 - recall: 0.9537 - val_loss: 0.4346 - val_accuracy: 0.7975 - val_precision: 0.8163 - val_recall: 0.8511\n",
            "Epoch 103/200\n",
            "23/23 [==============================] - 3s 122ms/step - loss: 0.1502 - accuracy: 0.9505 - precision: 0.9714 - recall: 0.9444 - val_loss: 0.5217 - val_accuracy: 0.7848 - val_precision: 0.8000 - val_recall: 0.8511\n",
            "Epoch 104/200\n",
            "23/23 [==============================] - 3s 122ms/step - loss: 0.1295 - accuracy: 0.9396 - precision: 0.9450 - recall: 0.9537 - val_loss: 0.4485 - val_accuracy: 0.7975 - val_precision: 0.7719 - val_recall: 0.9362\n",
            "Epoch 105/200\n",
            "23/23 [==============================] - 3s 123ms/step - loss: 0.1308 - accuracy: 0.9505 - precision: 0.9541 - recall: 0.9630 - val_loss: 0.4674 - val_accuracy: 0.8228 - val_precision: 0.8000 - val_recall: 0.9362\n",
            "Epoch 106/200\n",
            "23/23 [==============================] - 3s 119ms/step - loss: 0.1224 - accuracy: 0.9560 - precision: 0.9545 - recall: 0.9722 - val_loss: 0.3337 - val_accuracy: 0.8608 - val_precision: 0.8750 - val_recall: 0.8936\n",
            "Epoch 107/200\n",
            "23/23 [==============================] - 3s 116ms/step - loss: 0.1449 - accuracy: 0.9396 - precision: 0.9619 - recall: 0.9352 - val_loss: 0.4267 - val_accuracy: 0.8608 - val_precision: 0.8600 - val_recall: 0.9149\n",
            "Epoch 108/200\n",
            "23/23 [==============================] - 3s 116ms/step - loss: 0.1177 - accuracy: 0.9560 - precision: 0.9545 - recall: 0.9722 - val_loss: 0.4291 - val_accuracy: 0.8101 - val_precision: 0.9000 - val_recall: 0.7660\n",
            "Epoch 109/200\n",
            "23/23 [==============================] - 3s 118ms/step - loss: 0.1316 - accuracy: 0.9670 - precision: 0.9636 - recall: 0.9815 - val_loss: 0.3935 - val_accuracy: 0.7848 - val_precision: 0.8571 - val_recall: 0.7660\n",
            "Epoch 110/200\n",
            "23/23 [==============================] - 3s 113ms/step - loss: 0.1217 - accuracy: 0.9560 - precision: 0.9717 - recall: 0.9537 - val_loss: 0.6565 - val_accuracy: 0.7975 - val_precision: 0.8298 - val_recall: 0.8298\n",
            "Epoch 111/200\n",
            "23/23 [==============================] - 3s 114ms/step - loss: 0.1329 - accuracy: 0.9615 - precision: 0.9550 - recall: 0.9815 - val_loss: 0.5196 - val_accuracy: 0.8101 - val_precision: 0.8077 - val_recall: 0.8936\n",
            "Epoch 112/200\n",
            "23/23 [==============================] - 3s 117ms/step - loss: 0.1013 - accuracy: 0.9505 - precision: 0.9714 - recall: 0.9444 - val_loss: 0.7172 - val_accuracy: 0.7848 - val_precision: 0.7586 - val_recall: 0.9362\n",
            "Epoch 113/200\n",
            "23/23 [==============================] - 3s 119ms/step - loss: 0.1051 - accuracy: 0.9670 - precision: 0.9636 - recall: 0.9815 - val_loss: 0.6182 - val_accuracy: 0.7342 - val_precision: 0.7955 - val_recall: 0.7447\n",
            "Epoch 114/200\n",
            "23/23 [==============================] - 3s 115ms/step - loss: 0.0632 - accuracy: 0.9890 - precision: 0.9907 - recall: 0.9907 - val_loss: 0.5185 - val_accuracy: 0.8228 - val_precision: 0.8235 - val_recall: 0.8936\n",
            "Epoch 115/200\n",
            "23/23 [==============================] - 3s 120ms/step - loss: 0.1282 - accuracy: 0.9615 - precision: 0.9633 - recall: 0.9722 - val_loss: 0.4761 - val_accuracy: 0.8354 - val_precision: 0.8696 - val_recall: 0.8511\n",
            "Epoch 116/200\n",
            "23/23 [==============================] - 3s 115ms/step - loss: 0.1441 - accuracy: 0.9341 - precision: 0.9528 - recall: 0.9352 - val_loss: 0.5081 - val_accuracy: 0.8354 - val_precision: 0.8542 - val_recall: 0.8723\n",
            "Epoch 117/200\n",
            "23/23 [==============================] - 3s 121ms/step - loss: 0.0988 - accuracy: 0.9725 - precision: 0.9813 - recall: 0.9722 - val_loss: 0.4167 - val_accuracy: 0.8101 - val_precision: 0.8200 - val_recall: 0.8723\n",
            "Epoch 118/200\n",
            "23/23 [==============================] - 3s 116ms/step - loss: 0.1975 - accuracy: 0.9066 - precision: 0.9252 - recall: 0.9167 - val_loss: 0.4660 - val_accuracy: 0.7975 - val_precision: 0.8039 - val_recall: 0.8723\n",
            "Epoch 119/200\n",
            "23/23 [==============================] - 3s 116ms/step - loss: 0.1127 - accuracy: 0.9615 - precision: 0.9720 - recall: 0.9630 - val_loss: 0.4116 - val_accuracy: 0.8481 - val_precision: 0.8723 - val_recall: 0.8723\n",
            "Epoch 120/200\n",
            "23/23 [==============================] - 3s 115ms/step - loss: 0.0810 - accuracy: 0.9725 - precision: 0.9725 - recall: 0.9815 - val_loss: 0.5097 - val_accuracy: 0.8228 - val_precision: 0.8113 - val_recall: 0.9149\n",
            "Epoch 121/200\n",
            "23/23 [==============================] - 3s 115ms/step - loss: 0.0929 - accuracy: 0.9725 - precision: 0.9905 - recall: 0.9630 - val_loss: 0.9115 - val_accuracy: 0.6962 - val_precision: 0.6825 - val_recall: 0.9149\n",
            "Epoch 122/200\n",
            "23/23 [==============================] - 3s 120ms/step - loss: 0.1997 - accuracy: 0.9121 - precision: 0.9182 - recall: 0.9352 - val_loss: 0.7724 - val_accuracy: 0.7722 - val_precision: 0.7377 - val_recall: 0.9574\n",
            "Epoch 123/200\n",
            "23/23 [==============================] - 3s 119ms/step - loss: 0.1262 - accuracy: 0.9615 - precision: 0.9810 - recall: 0.9537 - val_loss: 0.5730 - val_accuracy: 0.7468 - val_precision: 0.7647 - val_recall: 0.8298\n",
            "Epoch 124/200\n",
            "23/23 [==============================] - 3s 118ms/step - loss: 0.1048 - accuracy: 0.9615 - precision: 0.9550 - recall: 0.9815 - val_loss: 0.4454 - val_accuracy: 0.8481 - val_precision: 0.8571 - val_recall: 0.8936\n",
            "Epoch 125/200\n",
            "23/23 [==============================] - 3s 120ms/step - loss: 0.1058 - accuracy: 0.9560 - precision: 0.9808 - recall: 0.9444 - val_loss: 0.6065 - val_accuracy: 0.7595 - val_precision: 0.7593 - val_recall: 0.8723\n",
            "Epoch 126/200\n",
            "23/23 [==============================] - 3s 117ms/step - loss: 0.0967 - accuracy: 0.9615 - precision: 0.9720 - recall: 0.9630 - val_loss: 0.6499 - val_accuracy: 0.8101 - val_precision: 0.7857 - val_recall: 0.9362\n",
            "Epoch 127/200\n",
            "23/23 [==============================] - 3s 112ms/step - loss: 0.1201 - accuracy: 0.9615 - precision: 0.9720 - recall: 0.9630 - val_loss: 0.4215 - val_accuracy: 0.8481 - val_precision: 0.8723 - val_recall: 0.8723\n",
            "Epoch 128/200\n",
            "23/23 [==============================] - 3s 112ms/step - loss: 0.1241 - accuracy: 0.9725 - precision: 0.9725 - recall: 0.9815 - val_loss: 0.4606 - val_accuracy: 0.8228 - val_precision: 0.8511 - val_recall: 0.8511\n",
            "Epoch 129/200\n",
            "23/23 [==============================] - 3s 112ms/step - loss: 0.1085 - accuracy: 0.9505 - precision: 0.9714 - recall: 0.9444 - val_loss: 0.4492 - val_accuracy: 0.8354 - val_precision: 0.8148 - val_recall: 0.9362\n",
            "Epoch 130/200\n",
            "23/23 [==============================] - 3s 113ms/step - loss: 0.0952 - accuracy: 0.9670 - precision: 0.9636 - recall: 0.9815 - val_loss: 0.4765 - val_accuracy: 0.8354 - val_precision: 0.9048 - val_recall: 0.8085\n",
            "Epoch 131/200\n",
            "23/23 [==============================] - 3s 114ms/step - loss: 0.1151 - accuracy: 0.9341 - precision: 0.9364 - recall: 0.9537 - val_loss: 0.4498 - val_accuracy: 0.8608 - val_precision: 0.9091 - val_recall: 0.8511\n",
            "Epoch 132/200\n",
            "23/23 [==============================] - 3s 112ms/step - loss: 0.1733 - accuracy: 0.9286 - precision: 0.9279 - recall: 0.9537 - val_loss: 0.4460 - val_accuracy: 0.8228 - val_precision: 0.9024 - val_recall: 0.7872\n",
            "Epoch 133/200\n",
            "23/23 [==============================] - 3s 112ms/step - loss: 0.1011 - accuracy: 0.9560 - precision: 0.9717 - recall: 0.9537 - val_loss: 0.4590 - val_accuracy: 0.8101 - val_precision: 0.8077 - val_recall: 0.8936\n",
            "Epoch 134/200\n",
            "23/23 [==============================] - 3s 115ms/step - loss: 0.0967 - accuracy: 0.9725 - precision: 0.9725 - recall: 0.9815 - val_loss: 0.5779 - val_accuracy: 0.8354 - val_precision: 0.8864 - val_recall: 0.8298\n",
            "Epoch 135/200\n",
            "23/23 [==============================] - 3s 116ms/step - loss: 0.1568 - accuracy: 0.9176 - precision: 0.9266 - recall: 0.9352 - val_loss: 0.5332 - val_accuracy: 0.7722 - val_precision: 0.7636 - val_recall: 0.8936\n",
            "Epoch 136/200\n",
            "23/23 [==============================] - 3s 116ms/step - loss: 0.0934 - accuracy: 0.9560 - precision: 0.9808 - recall: 0.9444 - val_loss: 0.5735 - val_accuracy: 0.7975 - val_precision: 0.7925 - val_recall: 0.8936\n",
            "Epoch 137/200\n",
            "23/23 [==============================] - 3s 117ms/step - loss: 0.0922 - accuracy: 0.9615 - precision: 0.9633 - recall: 0.9722 - val_loss: 0.6158 - val_accuracy: 0.8101 - val_precision: 0.8333 - val_recall: 0.8511\n",
            "Epoch 138/200\n",
            "23/23 [==============================] - 3s 116ms/step - loss: 0.0627 - accuracy: 0.9835 - precision: 0.9907 - recall: 0.9815 - val_loss: 0.5764 - val_accuracy: 0.7975 - val_precision: 0.8298 - val_recall: 0.8298\n",
            "Epoch 139/200\n",
            "23/23 [==============================] - 3s 123ms/step - loss: 0.1364 - accuracy: 0.9451 - precision: 0.9375 - recall: 0.9722 - val_loss: 0.4976 - val_accuracy: 0.8228 - val_precision: 0.8837 - val_recall: 0.8085\n",
            "Epoch 140/200\n",
            "23/23 [==============================] - 3s 120ms/step - loss: 0.0882 - accuracy: 0.9725 - precision: 0.9813 - recall: 0.9722 - val_loss: 0.6330 - val_accuracy: 0.8101 - val_precision: 0.8333 - val_recall: 0.8511\n",
            "Epoch 141/200\n",
            "23/23 [==============================] - 3s 117ms/step - loss: 0.1475 - accuracy: 0.9505 - precision: 0.9459 - recall: 0.9722 - val_loss: 0.5917 - val_accuracy: 0.7722 - val_precision: 0.8718 - val_recall: 0.7234\n",
            "Epoch 142/200\n",
            "23/23 [==============================] - 3s 121ms/step - loss: 0.0750 - accuracy: 0.9725 - precision: 0.9813 - recall: 0.9722 - val_loss: 0.6218 - val_accuracy: 0.8608 - val_precision: 0.9091 - val_recall: 0.8511\n",
            "Epoch 143/200\n",
            "23/23 [==============================] - 3s 123ms/step - loss: 0.1205 - accuracy: 0.9505 - precision: 0.9541 - recall: 0.9630 - val_loss: 0.3797 - val_accuracy: 0.8608 - val_precision: 0.8600 - val_recall: 0.9149\n",
            "Epoch 144/200\n",
            "23/23 [==============================] - 3s 117ms/step - loss: 0.1210 - accuracy: 0.9451 - precision: 0.9712 - recall: 0.9352 - val_loss: 0.5398 - val_accuracy: 0.7975 - val_precision: 0.7818 - val_recall: 0.9149\n",
            "Epoch 145/200\n",
            "23/23 [==============================] - 3s 122ms/step - loss: 0.1125 - accuracy: 0.9505 - precision: 0.9459 - recall: 0.9722 - val_loss: 0.3962 - val_accuracy: 0.8608 - val_precision: 0.8600 - val_recall: 0.9149\n",
            "Epoch 146/200\n",
            "23/23 [==============================] - 3s 124ms/step - loss: 0.1267 - accuracy: 0.9670 - precision: 0.9811 - recall: 0.9630 - val_loss: 0.5603 - val_accuracy: 0.8354 - val_precision: 0.8542 - val_recall: 0.8723\n",
            "Epoch 147/200\n",
            "23/23 [==============================] - 3s 117ms/step - loss: 0.1122 - accuracy: 0.9670 - precision: 0.9722 - recall: 0.9722 - val_loss: 0.4846 - val_accuracy: 0.8481 - val_precision: 0.8889 - val_recall: 0.8511\n",
            "Epoch 148/200\n",
            "23/23 [==============================] - 3s 118ms/step - loss: 0.1188 - accuracy: 0.9505 - precision: 0.9626 - recall: 0.9537 - val_loss: 0.4631 - val_accuracy: 0.7975 - val_precision: 0.7818 - val_recall: 0.9149\n",
            "Epoch 149/200\n",
            "23/23 [==============================] - 3s 124ms/step - loss: 0.0927 - accuracy: 0.9560 - precision: 0.9630 - recall: 0.9630 - val_loss: 0.5533 - val_accuracy: 0.7975 - val_precision: 0.7719 - val_recall: 0.9362\n",
            "Epoch 150/200\n",
            "23/23 [==============================] - 3s 126ms/step - loss: 0.0828 - accuracy: 0.9725 - precision: 0.9813 - recall: 0.9722 - val_loss: 0.6965 - val_accuracy: 0.7722 - val_precision: 0.7959 - val_recall: 0.8298\n",
            "Epoch 151/200\n",
            "23/23 [==============================] - 3s 123ms/step - loss: 0.0859 - accuracy: 0.9615 - precision: 0.9720 - recall: 0.9630 - val_loss: 0.4194 - val_accuracy: 0.8354 - val_precision: 0.8542 - val_recall: 0.8723\n",
            "Epoch 152/200\n",
            "23/23 [==============================] - 3s 124ms/step - loss: 0.1123 - accuracy: 0.9560 - precision: 0.9464 - recall: 0.9815 - val_loss: 0.5636 - val_accuracy: 0.8101 - val_precision: 0.8333 - val_recall: 0.8511\n",
            "Epoch 153/200\n",
            "23/23 [==============================] - 3s 126ms/step - loss: 0.0929 - accuracy: 0.9670 - precision: 0.9722 - recall: 0.9722 - val_loss: 0.4343 - val_accuracy: 0.8354 - val_precision: 0.8269 - val_recall: 0.9149\n",
            "Epoch 154/200\n",
            "23/23 [==============================] - 3s 121ms/step - loss: 0.0511 - accuracy: 0.9890 - precision: 0.9907 - recall: 0.9907 - val_loss: 0.4268 - val_accuracy: 0.8228 - val_precision: 0.8837 - val_recall: 0.8085\n",
            "Epoch 155/200\n",
            "23/23 [==============================] - 3s 120ms/step - loss: 0.0727 - accuracy: 0.9725 - precision: 0.9905 - recall: 0.9630 - val_loss: 0.4669 - val_accuracy: 0.8228 - val_precision: 0.8511 - val_recall: 0.8511\n",
            "Epoch 156/200\n",
            "23/23 [==============================] - 3s 117ms/step - loss: 0.0757 - accuracy: 0.9780 - precision: 0.9727 - recall: 0.9907 - val_loss: 0.5371 - val_accuracy: 0.8101 - val_precision: 0.8333 - val_recall: 0.8511\n",
            "Epoch 157/200\n",
            "23/23 [==============================] - 3s 120ms/step - loss: 0.1004 - accuracy: 0.9560 - precision: 0.9545 - recall: 0.9722 - val_loss: 0.6597 - val_accuracy: 0.7848 - val_precision: 0.8261 - val_recall: 0.8085\n",
            "Epoch 158/200\n",
            "23/23 [==============================] - 3s 118ms/step - loss: 0.0970 - accuracy: 0.9780 - precision: 0.9815 - recall: 0.9815 - val_loss: 0.4102 - val_accuracy: 0.8481 - val_precision: 0.9268 - val_recall: 0.8085\n",
            "Epoch 159/200\n",
            "23/23 [==============================] - 3s 118ms/step - loss: 0.1292 - accuracy: 0.9451 - precision: 0.9537 - recall: 0.9537 - val_loss: 0.5689 - val_accuracy: 0.8228 - val_precision: 0.8235 - val_recall: 0.8936\n",
            "Epoch 160/200\n",
            "23/23 [==============================] - 3s 121ms/step - loss: 0.1021 - accuracy: 0.9670 - precision: 0.9636 - recall: 0.9815 - val_loss: 0.4723 - val_accuracy: 0.8354 - val_precision: 0.8696 - val_recall: 0.8511\n",
            "Epoch 161/200\n",
            "23/23 [==============================] - 3s 118ms/step - loss: 0.1115 - accuracy: 0.9505 - precision: 0.9541 - recall: 0.9630 - val_loss: 0.5041 - val_accuracy: 0.8734 - val_precision: 0.9111 - val_recall: 0.8723\n",
            "Epoch 162/200\n",
            "23/23 [==============================] - 3s 119ms/step - loss: 0.0823 - accuracy: 0.9560 - precision: 0.9717 - recall: 0.9537 - val_loss: 0.5667 - val_accuracy: 0.8101 - val_precision: 0.8333 - val_recall: 0.8511\n",
            "Epoch 163/200\n",
            "23/23 [==============================] - 3s 117ms/step - loss: 0.0936 - accuracy: 0.9560 - precision: 0.9630 - recall: 0.9630 - val_loss: 0.5472 - val_accuracy: 0.8734 - val_precision: 0.9111 - val_recall: 0.8723\n",
            "Epoch 164/200\n",
            "23/23 [==============================] - 3s 119ms/step - loss: 0.1548 - accuracy: 0.9505 - precision: 0.9541 - recall: 0.9630 - val_loss: 0.5204 - val_accuracy: 0.7975 - val_precision: 0.8039 - val_recall: 0.8723\n",
            "Epoch 165/200\n",
            "23/23 [==============================] - 3s 118ms/step - loss: 0.0949 - accuracy: 0.9780 - precision: 0.9727 - recall: 0.9907 - val_loss: 0.6498 - val_accuracy: 0.7722 - val_precision: 0.7736 - val_recall: 0.8723\n",
            "Epoch 166/200\n",
            "23/23 [==============================] - 3s 117ms/step - loss: 0.1096 - accuracy: 0.9505 - precision: 0.9541 - recall: 0.9630 - val_loss: 0.5672 - val_accuracy: 0.8228 - val_precision: 0.8667 - val_recall: 0.8298\n",
            "Epoch 167/200\n",
            "23/23 [==============================] - 3s 117ms/step - loss: 0.0676 - accuracy: 0.9835 - precision: 0.9907 - recall: 0.9815 - val_loss: 0.7009 - val_accuracy: 0.7722 - val_precision: 0.7959 - val_recall: 0.8298\n",
            "Epoch 168/200\n",
            "23/23 [==============================] - 3s 119ms/step - loss: 0.1028 - accuracy: 0.9560 - precision: 0.9717 - recall: 0.9537 - val_loss: 0.4776 - val_accuracy: 0.8481 - val_precision: 0.8182 - val_recall: 0.9574\n",
            "Epoch 169/200\n",
            "23/23 [==============================] - 3s 119ms/step - loss: 0.0921 - accuracy: 0.9505 - precision: 0.9459 - recall: 0.9722 - val_loss: 0.6197 - val_accuracy: 0.7848 - val_precision: 0.8000 - val_recall: 0.8511\n",
            "Epoch 170/200\n",
            "23/23 [==============================] - 3s 118ms/step - loss: 0.1461 - accuracy: 0.9396 - precision: 0.9369 - recall: 0.9630 - val_loss: 0.4143 - val_accuracy: 0.8228 - val_precision: 0.8235 - val_recall: 0.8936\n",
            "Epoch 171/200\n",
            "23/23 [==============================] - 3s 117ms/step - loss: 0.0815 - accuracy: 0.9725 - precision: 0.9725 - recall: 0.9815 - val_loss: 0.5004 - val_accuracy: 0.8354 - val_precision: 0.8864 - val_recall: 0.8298\n",
            "Epoch 172/200\n",
            "23/23 [==============================] - 3s 116ms/step - loss: 0.1339 - accuracy: 0.9505 - precision: 0.9626 - recall: 0.9537 - val_loss: 0.5468 - val_accuracy: 0.7975 - val_precision: 0.8039 - val_recall: 0.8723\n",
            "Epoch 173/200\n",
            "23/23 [==============================] - 3s 118ms/step - loss: 0.1101 - accuracy: 0.9560 - precision: 0.9630 - recall: 0.9630 - val_loss: 0.4279 - val_accuracy: 0.8354 - val_precision: 0.8696 - val_recall: 0.8511\n",
            "Epoch 174/200\n",
            "23/23 [==============================] - 3s 116ms/step - loss: 0.1209 - accuracy: 0.9615 - precision: 0.9550 - recall: 0.9815 - val_loss: 0.4429 - val_accuracy: 0.8101 - val_precision: 0.8478 - val_recall: 0.8298\n",
            "Epoch 175/200\n",
            "23/23 [==============================] - 3s 118ms/step - loss: 0.0974 - accuracy: 0.9835 - precision: 0.9817 - recall: 0.9907 - val_loss: 0.4278 - val_accuracy: 0.8861 - val_precision: 0.8958 - val_recall: 0.9149\n",
            "Epoch 176/200\n",
            "23/23 [==============================] - 3s 117ms/step - loss: 0.0972 - accuracy: 0.9560 - precision: 0.9717 - recall: 0.9537 - val_loss: 0.3921 - val_accuracy: 0.8608 - val_precision: 0.8913 - val_recall: 0.8723\n",
            "Epoch 177/200\n",
            "23/23 [==============================] - 3s 118ms/step - loss: 0.0922 - accuracy: 0.9725 - precision: 0.9813 - recall: 0.9722 - val_loss: 0.4829 - val_accuracy: 0.8608 - val_precision: 0.8333 - val_recall: 0.9574\n",
            "Epoch 178/200\n",
            "23/23 [==============================] - 3s 121ms/step - loss: 0.0813 - accuracy: 0.9670 - precision: 0.9722 - recall: 0.9722 - val_loss: 0.4069 - val_accuracy: 0.8354 - val_precision: 0.8269 - val_recall: 0.9149\n",
            "Epoch 179/200\n",
            "23/23 [==============================] - 3s 121ms/step - loss: 0.0635 - accuracy: 0.9780 - precision: 0.9815 - recall: 0.9815 - val_loss: 0.6305 - val_accuracy: 0.8481 - val_precision: 0.8889 - val_recall: 0.8511\n",
            "Epoch 180/200\n",
            "23/23 [==============================] - 3s 122ms/step - loss: 0.1238 - accuracy: 0.9505 - precision: 0.9459 - recall: 0.9722 - val_loss: 0.6378 - val_accuracy: 0.7975 - val_precision: 0.8780 - val_recall: 0.7660\n",
            "Epoch 181/200\n",
            "23/23 [==============================] - 3s 118ms/step - loss: 0.0818 - accuracy: 0.9615 - precision: 0.9720 - recall: 0.9630 - val_loss: 0.3802 - val_accuracy: 0.8354 - val_precision: 0.8542 - val_recall: 0.8723\n",
            "Epoch 182/200\n",
            "23/23 [==============================] - 3s 119ms/step - loss: 0.0653 - accuracy: 0.9615 - precision: 0.9720 - recall: 0.9630 - val_loss: 0.5157 - val_accuracy: 0.8101 - val_precision: 0.8077 - val_recall: 0.8936\n",
            "Epoch 183/200\n",
            "23/23 [==============================] - 3s 115ms/step - loss: 0.0923 - accuracy: 0.9670 - precision: 0.9722 - recall: 0.9722 - val_loss: 0.5517 - val_accuracy: 0.8481 - val_precision: 0.8070 - val_recall: 0.9787\n",
            "Epoch 184/200\n",
            "23/23 [==============================] - 3s 116ms/step - loss: 0.1305 - accuracy: 0.9451 - precision: 0.9455 - recall: 0.9630 - val_loss: 0.6229 - val_accuracy: 0.7848 - val_precision: 0.7586 - val_recall: 0.9362\n",
            "Epoch 185/200\n",
            "23/23 [==============================] - 3s 117ms/step - loss: 0.0704 - accuracy: 0.9725 - precision: 0.9813 - recall: 0.9722 - val_loss: 0.6851 - val_accuracy: 0.8228 - val_precision: 0.8235 - val_recall: 0.8936\n",
            "Epoch 186/200\n",
            "23/23 [==============================] - 3s 121ms/step - loss: 0.0809 - accuracy: 0.9670 - precision: 0.9722 - recall: 0.9722 - val_loss: 0.8476 - val_accuracy: 0.7468 - val_precision: 0.7647 - val_recall: 0.8298\n",
            "Epoch 187/200\n",
            "23/23 [==============================] - 3s 119ms/step - loss: 0.0676 - accuracy: 0.9780 - precision: 0.9727 - recall: 0.9907 - val_loss: 0.5888 - val_accuracy: 0.8101 - val_precision: 0.9211 - val_recall: 0.7447\n",
            "Epoch 188/200\n",
            "23/23 [==============================] - 3s 123ms/step - loss: 0.0638 - accuracy: 0.9725 - precision: 0.9813 - recall: 0.9722 - val_loss: 0.5707 - val_accuracy: 0.8734 - val_precision: 0.9111 - val_recall: 0.8723\n",
            "Epoch 189/200\n",
            "23/23 [==============================] - 3s 122ms/step - loss: 0.0890 - accuracy: 0.9615 - precision: 0.9720 - recall: 0.9630 - val_loss: 0.5838 - val_accuracy: 0.8228 - val_precision: 0.8000 - val_recall: 0.9362\n",
            "Epoch 190/200\n",
            "23/23 [==============================] - 3s 121ms/step - loss: 0.1385 - accuracy: 0.9560 - precision: 0.9464 - recall: 0.9815 - val_loss: 0.5161 - val_accuracy: 0.8228 - val_precision: 0.8837 - val_recall: 0.8085\n",
            "Epoch 191/200\n",
            "23/23 [==============================] - 3s 121ms/step - loss: 0.0913 - accuracy: 0.9560 - precision: 0.9808 - recall: 0.9444 - val_loss: 0.6822 - val_accuracy: 0.7722 - val_precision: 0.7736 - val_recall: 0.8723\n",
            "Epoch 192/200\n",
            "23/23 [==============================] - 3s 119ms/step - loss: 0.1006 - accuracy: 0.9560 - precision: 0.9717 - recall: 0.9537 - val_loss: 0.5430 - val_accuracy: 0.7848 - val_precision: 0.8125 - val_recall: 0.8298\n",
            "Epoch 193/200\n",
            "23/23 [==============================] - 3s 119ms/step - loss: 0.0641 - accuracy: 0.9725 - precision: 0.9813 - recall: 0.9722 - val_loss: 0.5086 - val_accuracy: 0.8354 - val_precision: 0.8696 - val_recall: 0.8511\n",
            "Epoch 194/200\n",
            "23/23 [==============================] - 3s 118ms/step - loss: 0.1149 - accuracy: 0.9451 - precision: 0.9375 - recall: 0.9722 - val_loss: 0.6692 - val_accuracy: 0.7722 - val_precision: 0.8718 - val_recall: 0.7234\n",
            "Epoch 195/200\n",
            "23/23 [==============================] - 3s 120ms/step - loss: 0.1116 - accuracy: 0.9670 - precision: 0.9811 - recall: 0.9630 - val_loss: 0.6077 - val_accuracy: 0.8101 - val_precision: 0.8810 - val_recall: 0.7872\n",
            "Epoch 196/200\n",
            "23/23 [==============================] - 3s 121ms/step - loss: 0.1013 - accuracy: 0.9560 - precision: 0.9464 - recall: 0.9815 - val_loss: 0.3923 - val_accuracy: 0.8354 - val_precision: 0.9250 - val_recall: 0.7872\n",
            "Epoch 197/200\n",
            "23/23 [==============================] - 3s 119ms/step - loss: 0.0862 - accuracy: 0.9560 - precision: 0.9808 - recall: 0.9444 - val_loss: 0.7474 - val_accuracy: 0.7722 - val_precision: 0.7736 - val_recall: 0.8723\n",
            "Epoch 198/200\n",
            "23/23 [==============================] - 3s 118ms/step - loss: 0.1302 - accuracy: 0.9396 - precision: 0.9369 - recall: 0.9630 - val_loss: 0.3485 - val_accuracy: 0.8608 - val_precision: 0.8913 - val_recall: 0.8723\n",
            "Epoch 199/200\n",
            "23/23 [==============================] - 3s 120ms/step - loss: 0.0679 - accuracy: 0.9725 - precision: 0.9725 - recall: 0.9815 - val_loss: 0.3523 - val_accuracy: 0.8101 - val_precision: 0.8478 - val_recall: 0.8298\n",
            "Epoch 200/200\n",
            "23/23 [==============================] - 3s 121ms/step - loss: 0.0825 - accuracy: 0.9780 - precision: 0.9727 - recall: 0.9907 - val_loss: 0.5138 - val_accuracy: 0.8481 - val_precision: 0.8571 - val_recall: 0.8936\n"
          ],
          "name": "stdout"
        }
      ]
    },
    {
      "cell_type": "markdown",
      "metadata": {
        "id": "rR7b9rY-q2r3",
        "colab_type": "text"
      },
      "source": [
        ""
      ]
    },
    {
      "cell_type": "code",
      "metadata": {
        "id": "OGL6hW_Ll8ac",
        "colab_type": "code",
        "colab": {}
      },
      "source": [
        "epochs=200"
      ],
      "execution_count": null,
      "outputs": []
    },
    {
      "cell_type": "code",
      "metadata": {
        "id": "nkc9WrDCG7VY",
        "colab_type": "code",
        "colab": {
          "base_uri": "https://localhost:8080/",
          "height": 826
        },
        "outputId": "034d2182-b23b-4b6d-e9eb-133c4574d6d7"
      },
      "source": [
        "import matplotlib.image  as mpimg\n",
        "import matplotlib.pyplot as plt\n",
        "\n",
        "#-----------------------------------------------------------\n",
        "# Retrieve a list of list results on training and test data\n",
        "# sets for each training epoch\n",
        "#-----------------------------------------------------------\n",
        "acc=history.history['accuracy']\n",
        "val_acc=history.history['val_accuracy']\n",
        "precision=history.history['precision']\n",
        "val_precision=history.history['val_precision']\n",
        "recall=history.history['recall']\n",
        "val_recall=history.history['val_recall']\n",
        "\n",
        "epochs=range(len(acc)) # Get number of epochs\n",
        "\n",
        "#------------------------------------------------\n",
        "# Plot training and validation accuracy per epoch\n",
        "#------------------------------------------------\n",
        "plt.plot(epochs, acc, 'r', \"Training Accuracy\")\n",
        "plt.plot(epochs, val_acc, 'b', \"Validation Accuracy\")\n",
        "plt.title('Training and validation accuracy')\n",
        "plt.figure()\n",
        "\n",
        "#------------------------------------------------\n",
        "# Plot training and validation Precision per epoch\n",
        "#------------------------------------------------\n",
        "plt.plot(epochs, precision, 'r', \"Training Precision\")\n",
        "plt.plot(epochs, val_precision, 'b', \"Validation Precision\")\n",
        "plt.title('Training and validation Precision')\n",
        "plt.figure()\n",
        "\n",
        "plt.plot(epochs, recall, 'r', \"Training Recall\")\n",
        "plt.plot(epochs, val_recall, 'b', \"Validation Recall\")\n",
        "plt.title('Training and validation Recall')\n"
      ],
      "execution_count": null,
      "outputs": [
        {
          "output_type": "execute_result",
          "data": {
            "text/plain": [
              "Text(0.5, 1.0, 'Training and validation Recall')"
            ]
          },
          "metadata": {
            "tags": []
          },
          "execution_count": 18
        },
        {
          "output_type": "display_data",
          "data": {
            "image/png": "[encoded data removed]",
            "text/plain": [
              "<Figure size 432x288 with 1 Axes>"
            ]
          },
          "metadata": {
            "tags": [],
            "needs_background": "light"
          }
        },
        {
          "output_type": "display_data",
          "data": {
            "image/png": "[encoded data removed]",
            "text/plain": [
              "<Figure size 432x288 with 1 Axes>"
            ]
          },
          "metadata": {
            "tags": [],
            "needs_background": "light"
          }
        },
        {
          "output_type": "display_data",
          "data": {
            "image/png": "[encoded data removed]",
            "text/plain": [
              "<Figure size 432x288 with 1 Axes>"
            ]
          },
          "metadata": {
            "tags": [],
            "needs_background": "light"
          }
        }
      ]
    },
    {
      "cell_type": "code",
      "metadata": {
        "id": "weBpRLfAl69Z",
        "colab_type": "code",
        "colab": {}
      },
      "source": [
        ""
      ],
      "execution_count": null,
      "outputs": []
    },
    {
      "cell_type": "code",
      "metadata": {
        "id": "A86zE99Uai-P",
        "colab_type": "code",
        "colab": {}
      },
      "source": [
        ""
      ],
      "execution_count": null,
      "outputs": []
    }
  ]
}