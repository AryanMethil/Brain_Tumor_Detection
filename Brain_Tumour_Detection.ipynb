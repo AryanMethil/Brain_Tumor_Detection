{
  "nbformat": 4,
  "nbformat_minor": 0,
  "metadata": {
    "colab": {
      "name": "Brain_Tumour_Detection.ipynb",
      "provenance": [],
      "collapsed_sections": [],
      "toc_visible": true,
      "include_colab_link": true
    },
    "kernelspec": {
      "name": "python3",
      "display_name": "Python 3"
    },
    "accelerator": "GPU"
  },
  "cells": [
    {
      "cell_type": "markdown",
      "metadata": {
        "id": "view-in-github",
        "colab_type": "text"
      },
      "source": [
        "<a href=\"https://colab.research.google.com/github/AryanMethil/Brain_Tumor_Detection/blob/master/Brain_Tumour_Detection.ipynb\" target=\"_parent\"><img src=\"https://colab.research.google.com/assets/colab-badge.svg\" alt=\"Open In Colab\"/></a>"
      ]
    },
    {
      "cell_type": "code",
      "metadata": {
        "id": "Rx6Li8Xl4Dp5",
        "colab_type": "code",
        "colab": {
          "base_uri": "https://localhost:8080/",
          "height": 54
        },
        "outputId": "8bc829c6-ad38-4a59-8e30-ca08b777e801"
      },
      "source": [
        "from google.colab import drive\n",
        "drive.mount('/content/drive')\n"
      ],
      "execution_count": 1,
      "outputs": [
        {
          "output_type": "stream",
          "text": [
            "Drive already mounted at /content/drive; to attempt to forcibly remount, call drive.mount(\"/content/drive\", force_remount=True).\n"
          ],
          "name": "stdout"
        }
      ]
    },
    {
      "cell_type": "code",
      "metadata": {
        "id": "KiEH_7xLicrp",
        "colab_type": "code",
        "colab": {
          "base_uri": "https://localhost:8080/",
          "height": 34
        },
        "outputId": "ce035c53-6f3c-47b5-adb8-b877862f9e67"
      },
      "source": [
        "%cd '/content/drive/My Drive/Brain_Tumor_Classification/src'"
      ],
      "execution_count": 2,
      "outputs": [
        {
          "output_type": "stream",
          "text": [
            "/content/drive/My Drive/Brain_Tumor_Classification/src\n"
          ],
          "name": "stdout"
        }
      ]
    },
    {
      "cell_type": "code",
      "metadata": {
        "id": "Kw4svy8RinXy",
        "colab_type": "code",
        "colab": {
          "base_uri": "https://localhost:8080/",
          "height": 34
        },
        "outputId": "259c9aa6-e9cf-4c21-99f1-d716b0e85a5f"
      },
      "source": [
        "!pwd"
      ],
      "execution_count": 3,
      "outputs": [
        {
          "output_type": "stream",
          "text": [
            "/content/drive/My Drive/Brain_Tumor_Classification/src\n"
          ],
          "name": "stdout"
        }
      ]
    },
    {
      "cell_type": "code",
      "metadata": {
        "id": "A9KilanhhY0v",
        "colab_type": "code",
        "colab": {}
      },
      "source": [
        "import os\n",
        "import shutil\n",
        "from cv2 import *\n",
        "from google.colab.patches import cv2_imshow\n",
        "from constants import *\n",
        "import numpy as np"
      ],
      "execution_count": 4,
      "outputs": []
    },
    {
      "cell_type": "code",
      "metadata": {
        "id": "W-eCsnH9lygK",
        "colab_type": "code",
        "colab": {
          "base_uri": "https://localhost:8080/",
          "height": 34
        },
        "outputId": "1051fd22-a162-48e3-c3d0-f514aa5fd20a"
      },
      "source": [
        "%cd '/content/'\n"
      ],
      "execution_count": 5,
      "outputs": [
        {
          "output_type": "stream",
          "text": [
            "/content\n"
          ],
          "name": "stdout"
        }
      ]
    },
    {
      "cell_type": "markdown",
      "metadata": {
        "id": "DgPiz0Cjba_u",
        "colab_type": "text"
      },
      "source": [
        "# Image Preprocessing"
      ]
    },
    {
      "cell_type": "code",
      "metadata": {
        "id": "MWrzktW9YuhK",
        "colab_type": "code",
        "colab": {}
      },
      "source": [
        "os.makedirs(image_preprocessed_yes,exist_ok=True)\n",
        "for _,_,files in os.walk(yes):\n",
        "  for f in files:\n",
        "    img_path=os.path.join(yes,f)\n",
        "    norm=imread(img_path)\n",
        "    norm=cvtColor(norm,COLOR_BGR2GRAY)\n",
        "\n",
        "    kernel=np.array([[-1,0,1],[-3,0,3],[-1,0,1]]+[[1,3,1],[0,0,0],[-1,-3,-1]])\n",
        "    th1=filter2D(norm,-1,kernel)\n",
        "\n",
        "    th1=erode(th1,np.ones((4,4),np.uint8),iterations=1)\n",
        "    th1=dilate(th1,np.ones((4,4),np.uint8),iterations=1)\n",
        "\n",
        "    imwrite(image_preprocessed_yes+f,th1)\n",
        "\n",
        "os.makedirs(image_preprocessed_no,exist_ok=True)\n",
        "for _,_,files in os.walk(no):\n",
        "  for f in files:\n",
        "    img_path=os.path.join(no,f)\n",
        "    norm=imread(img_path)\n",
        "    norm=cvtColor(norm,COLOR_BGR2GRAY)\n",
        "\n",
        "    kernel=np.array([[-1,0,1],[-3,0,3],[-1,0,1]]+[[1,3,1],[0,0,0],[-1,-3,-1]])\n",
        "    th1=filter2D(norm,-1,kernel)\n",
        "   \n",
        "    th1=erode(th1,np.ones((4,4),np.uint8),iterations=1)\n",
        "    th1=dilate(th1,np.ones((4,4),np.uint8),iterations=1)\n",
        "    imwrite(image_preprocessed_no+f,th1)"
      ],
      "execution_count": 8,
      "outputs": []
    },
    {
      "cell_type": "code",
      "metadata": {
        "id": "AnMe_3gA4llW",
        "colab_type": "code",
        "colab": {}
      },
      "source": [
        "brain_tumour_no= image_preprocessed_no\n",
        "brain_tumour_yes=image_preprocessed_yes"
      ],
      "execution_count": 9,
      "outputs": []
    },
    {
      "cell_type": "code",
      "metadata": {
        "id": "4GCpGZKK5j5v",
        "colab_type": "code",
        "colab": {}
      },
      "source": [
        "os.makedirs(image_generator_train_yes,exist_ok=True)\n",
        "os.makedirs(image_generator_train_no,exist_ok=True)\n",
        "os.makedirs(image_generator_validation_yes,exist_ok=True)\n",
        "os.makedirs(image_generator_validation_no,exist_ok=True)"
      ],
      "execution_count": 10,
      "outputs": []
    },
    {
      "cell_type": "code",
      "metadata": {
        "id": "gHo61zzu-Ngb",
        "colab_type": "code",
        "colab": {}
      },
      "source": [
        "for dir,subdir,files in os.walk(brain_tumour_no):\n",
        "  for f in files[:int(len(files)*0.7)]:\n",
        "    shutil.copy(os.path.join(brain_tumour_no,f),image_generator_train_no)\n",
        "  for f in files[int(len(files)*0.7):]:\n",
        "    shutil.copy(os.path.join(brain_tumour_no,f),image_generator_validation_no)\n"
      ],
      "execution_count": 11,
      "outputs": []
    },
    {
      "cell_type": "code",
      "metadata": {
        "id": "zCsZh6pM_nFu",
        "colab_type": "code",
        "colab": {}
      },
      "source": [
        "for dir,subdir,files in os.walk(brain_tumour_yes):\n",
        "  for f in files[:int(len(files)*0.7)]:\n",
        "    shutil.copy(os.path.join(brain_tumour_yes,f),image_generator_train_yes)\n",
        "  for f in files[int(len(files)*0.7):]:\n",
        "    shutil.copy(os.path.join(brain_tumour_yes,f),image_generator_validation_yes)"
      ],
      "execution_count": 12,
      "outputs": []
    },
    {
      "cell_type": "markdown",
      "metadata": {
        "id": "K6z7S9j0bR5o",
        "colab_type": "text"
      },
      "source": [
        "# Model"
      ]
    },
    {
      "cell_type": "code",
      "metadata": {
        "id": "GH0TT4mXAeWX",
        "colab_type": "code",
        "colab": {}
      },
      "source": [
        "import tensorflow as tf\n"
      ],
      "execution_count": 13,
      "outputs": []
    },
    {
      "cell_type": "code",
      "metadata": {
        "id": "uwb-mgByBlY6",
        "colab_type": "code",
        "colab": {
          "base_uri": "https://localhost:8080/",
          "height": 323
        },
        "outputId": "a3a603e3-a7e0-4b4b-eeee-3fc962e91a2d"
      },
      "source": [
        "\n",
        "base_model=tf.keras.applications.InceptionV3(include_top=False,weights='imagenet',input_shape=(150,150,3))\n",
        "base_model.trainable=False\n",
        "model=tf.keras.Sequential()\n",
        "model.add(base_model)\n",
        "model.add(tf.keras.layers.Flatten())\n",
        "model.add(tf.keras.layers.Dense(128,activation='relu'))\n",
        "model.add(tf.keras.layers.Dropout(0.3))\n",
        "model.add(tf.keras.layers.Dense(1,activation='sigmoid'))\n",
        "model.summary()"
      ],
      "execution_count": 14,
      "outputs": [
        {
          "output_type": "stream",
          "text": [
            "Model: \"sequential\"\n",
            "_________________________________________________________________\n",
            "Layer (type)                 Output Shape              Param #   \n",
            "=================================================================\n",
            "inception_v3 (Functional)    (None, 3, 3, 2048)        21802784  \n",
            "_________________________________________________________________\n",
            "flatten (Flatten)            (None, 18432)             0         \n",
            "_________________________________________________________________\n",
            "dense (Dense)                (None, 128)               2359424   \n",
            "_________________________________________________________________\n",
            "dropout (Dropout)            (None, 128)               0         \n",
            "_________________________________________________________________\n",
            "dense_1 (Dense)              (None, 1)                 129       \n",
            "=================================================================\n",
            "Total params: 24,162,337\n",
            "Trainable params: 2,359,553\n",
            "Non-trainable params: 21,802,784\n",
            "_________________________________________________________________\n"
          ],
          "name": "stdout"
        }
      ]
    },
    {
      "cell_type": "code",
      "metadata": {
        "id": "rOOJYQTyDPZ4",
        "colab_type": "code",
        "colab": {}
      },
      "source": [
        "model.compile(loss='binary_crossentropy',\n",
        "              optimizer=tf.keras.optimizers.Adam(learning_rate=0.0005),\n",
        "              metrics=['accuracy',tf.keras.metrics.Precision(name='precision'),tf.keras.metrics.Recall(name='recall')])"
      ],
      "execution_count": 15,
      "outputs": []
    },
    {
      "cell_type": "code",
      "metadata": {
        "id": "xidHZ3J5Dt21",
        "colab_type": "code",
        "colab": {}
      },
      "source": [
        "train_data_generator=tf.keras.preprocessing.image.ImageDataGenerator(rescale=1/255,\n",
        "                                  rotation_range=30,\n",
        "                                  height_shift_range=0.2,\n",
        "                                  width_shift_range=0.2,\n",
        "                                  shear_range=0.6,\n",
        "                                  zoom_range=0.2,\n",
        "                                  horizontal_flip=True,\n",
        "                                  fill_mode='nearest')\n",
        "validation_data_generator=tf.keras.preprocessing.image.ImageDataGenerator(rescale=1/255)"
      ],
      "execution_count": 16,
      "outputs": []
    },
    {
      "cell_type": "code",
      "metadata": {
        "id": "YCvIq7YGEZpW",
        "colab_type": "code",
        "colab": {
          "base_uri": "https://localhost:8080/",
          "height": 51
        },
        "outputId": "b38cbe82-26ef-43e7-f403-909c8213f75e"
      },
      "source": [
        "train_gen=train_data_generator.flow_from_directory(image_generator_train,\n",
        "                                                   target_size=(150,150),\n",
        "                                                   class_mode='binary',\n",
        "                                                   batch_size=8,\n",
        "                                                   shuffle=True)\n",
        "validation_gen=train_data_generator.flow_from_directory(image_generator_validation,\n",
        "                                                   target_size=(150,150),\n",
        "                                                   class_mode='binary',\n",
        "                                                   batch_size=8,\n",
        "                                                   shuffle=True)"
      ],
      "execution_count": 17,
      "outputs": [
        {
          "output_type": "stream",
          "text": [
            "Found 1617 images belonging to 2 classes.\n",
            "Found 807 images belonging to 2 classes.\n"
          ],
          "name": "stdout"
        }
      ]
    },
    {
      "cell_type": "code",
      "metadata": {
        "id": "aQpDVApsFILx",
        "colab_type": "code",
        "colab": {}
      },
      "source": [
        "class MyCallback(tf.keras.callbacks.Callback):\n",
        "  def on_epoch_end(self,epoch,logs={}):\n",
        "    if(logs['accuracy']>0.99):\n",
        "      self.model.stop_training=True\n",
        "callbacks=MyCallback()"
      ],
      "execution_count": 18,
      "outputs": []
    },
    {
      "cell_type": "code",
      "metadata": {
        "id": "j-xX6HF9GdSO",
        "colab_type": "code",
        "colab": {
          "base_uri": "https://localhost:8080/",
          "height": 1000
        },
        "outputId": "996ebbc4-9e70-4ed6-d1df-a73365cb5402"
      },
      "source": [
        "history=model.fit(train_gen,validation_data=validation_gen,epochs=30,callbacks=callbacks)"
      ],
      "execution_count": 19,
      "outputs": [
        {
          "output_type": "stream",
          "text": [
            "Epoch 1/30\n",
            "203/203 [==============================] - 22s 107ms/step - loss: 0.5938 - accuracy: 0.8101 - precision: 0.8560 - recall: 0.8913 - val_loss: 0.4139 - val_accuracy: 0.7410 - val_precision: 0.7277 - val_recall: 0.9982\n",
            "Epoch 2/30\n",
            "203/203 [==============================] - 21s 102ms/step - loss: 0.2947 - accuracy: 0.8646 - precision: 0.9027 - recall: 0.9141 - val_loss: 0.3175 - val_accuracy: 0.9095 - val_precision: 0.9566 - val_recall: 0.9102\n",
            "Epoch 3/30\n",
            "203/203 [==============================] - 20s 97ms/step - loss: 0.2588 - accuracy: 0.8788 - precision: 0.9224 - recall: 0.9115 - val_loss: 0.3199 - val_accuracy: 0.9033 - val_precision: 0.9562 - val_recall: 0.9013\n",
            "Epoch 4/30\n",
            "203/203 [==============================] - 21s 102ms/step - loss: 0.2612 - accuracy: 0.8763 - precision: 0.9222 - recall: 0.9082 - val_loss: 0.3412 - val_accuracy: 0.9095 - val_precision: 0.9783 - val_recall: 0.8887\n",
            "Epoch 5/30\n",
            "203/203 [==============================] - 20s 99ms/step - loss: 0.2196 - accuracy: 0.9029 - precision: 0.9402 - recall: 0.9267 - val_loss: 0.2781 - val_accuracy: 0.8538 - val_precision: 0.8664 - val_recall: 0.9318\n",
            "Epoch 6/30\n",
            "203/203 [==============================] - 20s 100ms/step - loss: 0.2193 - accuracy: 0.8967 - precision: 0.9315 - recall: 0.9275 - val_loss: 0.3204 - val_accuracy: 0.8971 - val_precision: 0.9389 - val_recall: 0.9102\n",
            "Epoch 7/30\n",
            "203/203 [==============================] - 21s 103ms/step - loss: 0.2328 - accuracy: 0.8942 - precision: 0.9349 - recall: 0.9200 - val_loss: 0.2602 - val_accuracy: 0.9046 - val_precision: 0.9332 - val_recall: 0.9282\n",
            "Epoch 8/30\n",
            "203/203 [==============================] - 20s 100ms/step - loss: 0.2179 - accuracy: 0.9103 - precision: 0.9408 - recall: 0.9368 - val_loss: 0.3058 - val_accuracy: 0.9058 - val_precision: 0.9495 - val_recall: 0.9120\n",
            "Epoch 9/30\n",
            "203/203 [==============================] - 22s 106ms/step - loss: 0.2078 - accuracy: 0.9091 - precision: 0.9467 - recall: 0.9284 - val_loss: 0.3088 - val_accuracy: 0.9058 - val_precision: 0.9688 - val_recall: 0.8923\n",
            "Epoch 10/30\n",
            "203/203 [==============================] - 20s 99ms/step - loss: 0.2199 - accuracy: 0.8986 - precision: 0.9406 - recall: 0.9200 - val_loss: 0.3432 - val_accuracy: 0.9157 - val_precision: 0.9657 - val_recall: 0.9102\n",
            "Epoch 11/30\n",
            "203/203 [==============================] - 20s 98ms/step - loss: 0.2099 - accuracy: 0.9103 - precision: 0.9530 - recall: 0.9233 - val_loss: 0.3611 - val_accuracy: 0.9120 - val_precision: 0.9765 - val_recall: 0.8941\n",
            "Epoch 12/30\n",
            "203/203 [==============================] - 21s 104ms/step - loss: 0.1964 - accuracy: 0.9147 - precision: 0.9581 - recall: 0.9242 - val_loss: 0.3362 - val_accuracy: 0.9058 - val_precision: 0.9397 - val_recall: 0.9228\n",
            "Epoch 13/30\n",
            "203/203 [==============================] - 20s 97ms/step - loss: 0.1968 - accuracy: 0.9147 - precision: 0.9479 - recall: 0.9351 - val_loss: 0.3216 - val_accuracy: 0.9033 - val_precision: 0.9394 - val_recall: 0.9192\n",
            "Epoch 14/30\n",
            "203/203 [==============================] - 20s 98ms/step - loss: 0.2264 - accuracy: 0.9004 - precision: 0.9438 - recall: 0.9191 - val_loss: 0.4451 - val_accuracy: 0.9120 - val_precision: 0.9585 - val_recall: 0.9120\n",
            "Epoch 15/30\n",
            "203/203 [==============================] - 21s 104ms/step - loss: 0.2002 - accuracy: 0.9122 - precision: 0.9595 - recall: 0.9191 - val_loss: 0.3387 - val_accuracy: 0.9108 - val_precision: 0.9466 - val_recall: 0.9228\n",
            "Epoch 16/30\n",
            "203/203 [==============================] - 20s 98ms/step - loss: 0.2164 - accuracy: 0.9060 - precision: 0.9465 - recall: 0.9242 - val_loss: 0.2907 - val_accuracy: 0.8947 - val_precision: 0.9184 - val_recall: 0.9300\n",
            "Epoch 17/30\n",
            "203/203 [==============================] - 20s 97ms/step - loss: 0.2011 - accuracy: 0.9116 - precision: 0.9563 - recall: 0.9217 - val_loss: 0.2983 - val_accuracy: 0.9120 - val_precision: 0.9500 - val_recall: 0.9210\n",
            "Epoch 18/30\n",
            "203/203 [==============================] - 21s 105ms/step - loss: 0.1971 - accuracy: 0.9122 - precision: 0.9508 - recall: 0.9284 - val_loss: 0.3559 - val_accuracy: 0.9083 - val_precision: 0.9671 - val_recall: 0.8977\n",
            "Epoch 19/30\n",
            "203/203 [==============================] - 20s 96ms/step - loss: 0.1946 - accuracy: 0.9140 - precision: 0.9564 - recall: 0.9250 - val_loss: 0.4182 - val_accuracy: 0.9269 - val_precision: 0.9788 - val_recall: 0.9138\n",
            "Epoch 20/30\n",
            "203/203 [==============================] - 19s 96ms/step - loss: 0.1951 - accuracy: 0.9079 - precision: 0.9482 - recall: 0.9250 - val_loss: 0.2898 - val_accuracy: 0.9009 - val_precision: 0.9313 - val_recall: 0.9246\n",
            "Epoch 21/30\n",
            "203/203 [==============================] - 21s 102ms/step - loss: 0.1982 - accuracy: 0.9134 - precision: 0.9494 - recall: 0.9318 - val_loss: 0.3806 - val_accuracy: 0.9195 - val_precision: 0.9695 - val_recall: 0.9120\n",
            "Epoch 22/30\n",
            "203/203 [==============================] - 20s 97ms/step - loss: 0.1864 - accuracy: 0.9134 - precision: 0.9540 - recall: 0.9267 - val_loss: 0.3385 - val_accuracy: 0.9182 - val_precision: 0.9641 - val_recall: 0.9156\n",
            "Epoch 23/30\n",
            "203/203 [==============================] - 20s 97ms/step - loss: 0.1957 - accuracy: 0.9165 - precision: 0.9527 - recall: 0.9326 - val_loss: 0.4629 - val_accuracy: 0.9219 - val_precision: 0.9732 - val_recall: 0.9120\n",
            "Epoch 24/30\n",
            "203/203 [==============================] - 21s 104ms/step - loss: 0.1905 - accuracy: 0.9215 - precision: 0.9514 - recall: 0.9410 - val_loss: 0.3702 - val_accuracy: 0.9108 - val_precision: 0.9550 - val_recall: 0.9138\n",
            "Epoch 25/30\n",
            "203/203 [==============================] - 20s 99ms/step - loss: 0.1740 - accuracy: 0.9314 - precision: 0.9575 - recall: 0.9486 - val_loss: 0.3656 - val_accuracy: 0.9083 - val_precision: 0.9531 - val_recall: 0.9120\n",
            "Epoch 26/30\n",
            "203/203 [==============================] - 20s 99ms/step - loss: 0.1883 - accuracy: 0.9184 - precision: 0.9528 - recall: 0.9351 - val_loss: 0.2736 - val_accuracy: 0.9182 - val_precision: 0.9641 - val_recall: 0.9156\n",
            "Epoch 27/30\n",
            "203/203 [==============================] - 21s 105ms/step - loss: 0.1742 - accuracy: 0.9208 - precision: 0.9576 - recall: 0.9334 - val_loss: 0.3341 - val_accuracy: 0.9170 - val_precision: 0.9640 - val_recall: 0.9138\n",
            "Epoch 28/30\n",
            "203/203 [==============================] - 20s 98ms/step - loss: 0.1735 - accuracy: 0.9301 - precision: 0.9645 - recall: 0.9393 - val_loss: 0.3934 - val_accuracy: 0.9195 - val_precision: 0.9713 - val_recall: 0.9102\n",
            "Epoch 29/30\n",
            "203/203 [==============================] - 20s 99ms/step - loss: 0.1771 - accuracy: 0.9239 - precision: 0.9691 - recall: 0.9259 - val_loss: 0.2947 - val_accuracy: 0.9033 - val_precision: 0.9394 - val_recall: 0.9192\n",
            "Epoch 30/30\n",
            "203/203 [==============================] - 21s 104ms/step - loss: 0.1858 - accuracy: 0.9196 - precision: 0.9592 - recall: 0.9301 - val_loss: 0.3643 - val_accuracy: 0.9095 - val_precision: 0.9532 - val_recall: 0.9138\n"
          ],
          "name": "stdout"
        }
      ]
    },
    {
      "cell_type": "code",
      "metadata": {
        "id": "dIMO1Q_BRBld",
        "colab_type": "code",
        "colab": {}
      },
      "source": [
        "model.save(models_directory+'DS2_Sobel_Erode_Dilate.h5')"
      ],
      "execution_count": 20,
      "outputs": []
    },
    {
      "cell_type": "markdown",
      "metadata": {
        "id": "rR7b9rY-q2r3",
        "colab_type": "text"
      },
      "source": [
        "# Plotting Accuracy, Precision & Recall"
      ]
    },
    {
      "cell_type": "code",
      "metadata": {
        "id": "OGL6hW_Ll8ac",
        "colab_type": "code",
        "colab": {}
      },
      "source": [
        "epochs=30"
      ],
      "execution_count": 21,
      "outputs": []
    },
    {
      "cell_type": "code",
      "metadata": {
        "id": "nkc9WrDCG7VY",
        "colab_type": "code",
        "colab": {
          "base_uri": "https://localhost:8080/",
          "height": 826
        },
        "outputId": "d8b16a1e-5bb7-4a94-e474-42d6699d69d3"
      },
      "source": [
        "import matplotlib.image  as mpimg\n",
        "import matplotlib.pyplot as plt\n",
        "\n",
        "#-----------------------------------------------------------\n",
        "# Retrieve a list of list results on training and test data\n",
        "# sets for each training epoch\n",
        "#-----------------------------------------------------------\n",
        "acc=history.history['accuracy']\n",
        "val_acc=history.history['val_accuracy']\n",
        "precision=history.history['precision']\n",
        "val_precision=history.history['val_precision']\n",
        "recall=history.history['recall']\n",
        "val_recall=history.history['val_recall']\n",
        "\n",
        "epochs=range(len(acc)) # Get number of epochs\n",
        "\n",
        "#------------------------------------------------\n",
        "# Plot training and validation accuracy per epoch\n",
        "#------------------------------------------------\n",
        "plt.plot(epochs, acc, 'r', \"Training Accuracy\")\n",
        "plt.plot(epochs, val_acc, 'b', \"Validation Accuracy\")\n",
        "plt.title('Training and validation accuracy')\n",
        "plt.figure()\n",
        "\n",
        "#------------------------------------------------\n",
        "# Plot training and validation Precision per epoch\n",
        "#------------------------------------------------\n",
        "plt.plot(epochs, precision, 'r', \"Training Precision\")\n",
        "plt.plot(epochs, val_precision, 'b', \"Validation Precision\")\n",
        "plt.title('Training and validation Precision')\n",
        "plt.figure()\n",
        "\n",
        "plt.plot(epochs, recall, 'r', \"Training Recall\")\n",
        "plt.plot(epochs, val_recall, 'b', \"Validation Recall\")\n",
        "plt.title('Training and validation Recall')\n"
      ],
      "execution_count": 22,
      "outputs": [
        {
          "output_type": "execute_result",
          "data": {
            "text/plain": [
              "Text(0.5, 1.0, 'Training and validation Recall')"
            ]
          },
          "metadata": {
            "tags": []
          },
          "execution_count": 22
        },
        {
          "output_type": "display_data",
          "data": {
            "image/png": "[encoded data removed]",
            "text/plain": [
              "<Figure size 432x288 with 1 Axes>"
            ]
          },
          "metadata": {
            "tags": [],
            "needs_background": "light"
          }
        },
        {
          "output_type": "display_data",
          "data": {
            "image/png": "[encoded data removed]",
            "text/plain": [
              "<Figure size 432x288 with 1 Axes>"
            ]
          },
          "metadata": {
            "tags": [],
            "needs_background": "light"
          }
        },
        {
          "output_type": "display_data",
          "data": {
            "image/png": "[encoded data removed]",
            "text/plain": [
              "<Figure size 432x288 with 1 Axes>"
            ]
          },
          "metadata": {
            "tags": [],
            "needs_background": "light"
          }
        }
      ]
    },
    {
      "cell_type": "markdown",
      "metadata": {
        "id": "PwXtcT8_Z7SL",
        "colab_type": "text"
      },
      "source": [
        "#Predicting on a new image & Modifying the grayscale image to make it fit for prediction\n",
        "\n",
        "The Gray training images had only 1 channel but for training they were automatically getting converted to 3 channels\n",
        "by replicating the channels 3 times. This is because input for Inception v3 has to be compulsorily 3 channel.\n",
        "\n",
        "In the above steps where we preprocessed the uploaded image, shape => (150,150)\n",
        "\n",
        "To replicate, we use np.stack() and since we want channel number in index 2 of shape ie (150,150,3) we use axis=0\n",
        "\n",
        "We also want an extra dimension for batch number at index 0 ie new shape => (1,150,150,3)"
      ]
    },
    {
      "cell_type": "code",
      "metadata": {
        "id": "weBpRLfAl69Z",
        "colab_type": "code",
        "colab": {
          "resources": {
            "http://localhost:8080/nbextensions/google.colab/files.js": {
              "data": "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",
              "ok": true,
              "headers": [
                [
                  "content-type",
                  "application/javascript"
                ]
              ],
              "status": 200,
              "status_text": ""
            }
          },
          "base_uri": "https://localhost:8080/",
          "height": 256
        },
        "outputId": "492d02eb-a0ca-4f60-d43a-7d6ef96be4e3"
      },
      "source": [
        "import numpy as np\n",
        "import PIL\n",
        "\n",
        "from google.colab import files\n",
        "from keras.preprocessing import image\n",
        "from google.colab.patches import cv2_imshow\n",
        "\n",
        "uploaded=files.upload()\n",
        "\n",
        "for fn in uploaded.keys():\n",
        " \n",
        "  # predicting images\n",
        "  path='/content/' + fn\n",
        "  \n",
        "  images=imread(path)\n",
        "  images=resize(images,(150,150))\n",
        "  norm=cvtColor(images,COLOR_RGB2GRAY)\n",
        "  \n",
        "  kernel=np.array([[-1,0,1],[-3,0,3],[-1,0,1]]+[[1,3,1],[0,0,0],[-1,-3,-1]])\n",
        "  th1=filter2D(norm,-1,kernel)\n",
        "\n",
        "  th1=erode(th1,np.ones((4,4),np.uint8),iterations=1)\n",
        "  th1=dilate(th1,np.ones((4,4),np.uint8),iterations=1)\n",
        "\n",
        "\n",
        "  # \n",
        "  th2=np.stack((th1,)*3,axis=2)\n",
        "  th2=np.expand_dims(th2,axis=0)\n",
        "\n",
        "  classes = model.predict_classes(th2,batch_size=10)\n",
        "\n",
        "  cv2_imshow(th1)\n",
        "  # print([k for k,v in train_gen.class_indices.items() if v==classes[0][0]][0])\n",
        "  print(classes)\n",
        "  print(train_gen.class_indices)"
      ],
      "execution_count": 26,
      "outputs": [
        {
          "output_type": "display_data",
          "data": {
            "text/html": [
              "\n",
              "     <input type=\"file\" id=\"files-63da3cd0-d018-4e92-bcbe-55ec4c3f0a1a\" name=\"files[]\" multiple disabled\n",
              "        style=\"border:none\" />\n",
              "     <output id=\"result-63da3cd0-d018-4e92-bcbe-55ec4c3f0a1a\">\n",
              "      Upload widget is only available when the cell has been executed in the\n",
              "      current browser session. Please rerun this cell to enable.\n",
              "      </output>\n",
              "      <script src=\"/nbextensions/google.colab/files.js\"></script> "
            ],
            "text/plain": [
              "<IPython.core.display.HTML object>"
            ]
          },
          "metadata": {
            "tags": []
          }
        },
        {
          "output_type": "stream",
          "text": [
            "Saving images.jpg to images (2).jpg\n"
          ],
          "name": "stdout"
        },
        {
          "output_type": "display_data",
          "data": {
            "image/png": "[encoded data removed]",
            "text/plain": [
              "<PIL.Image.Image image mode=L size=150x150 at 0x7FC6FA3DAE80>"
            ]
          },
          "metadata": {
            "tags": []
          }
        },
        {
          "output_type": "stream",
          "text": [
            "[[0]]\n",
            "{'no': 0, 'yes': 1}\n"
          ],
          "name": "stdout"
        }
      ]
    },
    {
      "cell_type": "code",
      "metadata": {
        "id": "A86zE99Uai-P",
        "colab_type": "code",
        "colab": {}
      },
      "source": [
        ""
      ],
      "execution_count": null,
      "outputs": []
    }
  ]
}