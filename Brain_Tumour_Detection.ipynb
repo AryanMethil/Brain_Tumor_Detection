{
  "nbformat": 4,
  "nbformat_minor": 0,
  "metadata": {
    "colab": {
      "name": "Brain_Tumour_Detection.ipynb",
      "provenance": [],
      "collapsed_sections": [],
      "include_colab_link": true
    },
    "kernelspec": {
      "name": "python3",
      "display_name": "Python 3"
    },
    "accelerator": "GPU"
  },
  "cells": [
    {
      "cell_type": "markdown",
      "metadata": {
        "id": "view-in-github",
        "colab_type": "text"
      },
      "source": [
        "<a href=\"https://colab.research.google.com/github/AryanMethil/Brain_Tumor_Detection/blob/master/Brain_Tumour_Detection.ipynb\" target=\"_parent\"><img src=\"https://colab.research.google.com/assets/colab-badge.svg\" alt=\"Open In Colab\"/></a>"
      ]
    },
    {
      "cell_type": "code",
      "metadata": {
        "id": "Rx6Li8Xl4Dp5",
        "colab_type": "code",
        "colab": {
          "base_uri": "https://localhost:8080/",
          "height": 34
        },
        "outputId": "c2820f6e-f9ae-4385-e81d-6ec9330e638b"
      },
      "source": [
        "from google.colab import drive\n",
        "drive.mount('/content/drive')\n"
      ],
      "execution_count": 1,
      "outputs": [
        {
          "output_type": "stream",
          "text": [
            "Mounted at /content/drive\n"
          ],
          "name": "stdout"
        }
      ]
    },
    {
      "cell_type": "code",
      "metadata": {
        "id": "KiEH_7xLicrp",
        "colab_type": "code",
        "colab": {
          "base_uri": "https://localhost:8080/",
          "height": 34
        },
        "outputId": "7d560d76-b751-4064-a8ca-c9e5fa467546"
      },
      "source": [
        "%cd '/content/drive/My Drive/Brain_Tumor_Classification/src'"
      ],
      "execution_count": 2,
      "outputs": [
        {
          "output_type": "stream",
          "text": [
            "/content/drive/My Drive/Brain_Tumor_Classification/src\n"
          ],
          "name": "stdout"
        }
      ]
    },
    {
      "cell_type": "code",
      "metadata": {
        "id": "Kw4svy8RinXy",
        "colab_type": "code",
        "colab": {
          "base_uri": "https://localhost:8080/",
          "height": 34
        },
        "outputId": "f3d69874-cf3b-4af9-db83-a2b5168b6814"
      },
      "source": [
        "!pwd"
      ],
      "execution_count": 3,
      "outputs": [
        {
          "output_type": "stream",
          "text": [
            "/content/drive/My Drive/Brain_Tumor_Classification/src\n"
          ],
          "name": "stdout"
        }
      ]
    },
    {
      "cell_type": "code",
      "metadata": {
        "id": "A9KilanhhY0v",
        "colab_type": "code",
        "colab": {}
      },
      "source": [
        "import os\n",
        "import shutil\n",
        "from cv2 import *\n",
        "from google.colab.patches import cv2_imshow\n",
        "from constants import *\n",
        "import numpy as np"
      ],
      "execution_count": 4,
      "outputs": []
    },
    {
      "cell_type": "code",
      "metadata": {
        "id": "W-eCsnH9lygK",
        "colab_type": "code",
        "colab": {
          "base_uri": "https://localhost:8080/",
          "height": 34
        },
        "outputId": "206c9997-1515-4eff-8432-fd694c3f9996"
      },
      "source": [
        "%cd '/content/'\n"
      ],
      "execution_count": 5,
      "outputs": [
        {
          "output_type": "stream",
          "text": [
            "/content\n"
          ],
          "name": "stdout"
        }
      ]
    },
    {
      "cell_type": "markdown",
      "metadata": {
        "id": "DgPiz0Cjba_u",
        "colab_type": "text"
      },
      "source": [
        "# Image Preprocessing"
      ]
    },
    {
      "cell_type": "code",
      "metadata": {
        "id": "MWrzktW9YuhK",
        "colab_type": "code",
        "colab": {}
      },
      "source": [
        "os.makedirs(image_preprocessed_yes,exist_ok=True)\n",
        "for _,_,files in os.walk(yes):\n",
        "  for f in files:\n",
        "    img_path=os.path.join(yes,f)\n",
        "    norm=imread(img_path)\n",
        "    norm=cvtColor(norm,COLOR_BGR2GRAY)\n",
        "\n",
        "    th1=equalizeHist(norm)\n",
        "\n",
        "    th1=erode(th1,np.ones((4,4),np.uint8),iterations=1)\n",
        "    th1=dilate(th1,np.ones((4,4),np.uint8),iterations=1)\n",
        "\n",
        "    imwrite(image_preprocessed_yes+f,th1)\n",
        "\n",
        "os.makedirs(image_preprocessed_no,exist_ok=True)\n",
        "for _,_,files in os.walk(no):\n",
        "  for f in files:\n",
        "    img_path=os.path.join(no,f)\n",
        "    norm=imread(img_path)\n",
        "    norm=cvtColor(norm,COLOR_BGR2GRAY)\n",
        "\n",
        "    th1=equalizeHist(norm)\n",
        "   \n",
        "    th1=erode(th1,np.ones((4,4),np.uint8),iterations=1)\n",
        "    th1=dilate(th1,np.ones((4,4),np.uint8),iterations=1)\n",
        "    imwrite(image_preprocessed_no+f,th1)"
      ],
      "execution_count": 6,
      "outputs": []
    },
    {
      "cell_type": "code",
      "metadata": {
        "id": "AnMe_3gA4llW",
        "colab_type": "code",
        "colab": {}
      },
      "source": [
        "brain_tumour_no= image_preprocessed_no\n",
        "brain_tumour_yes=image_preprocessed_yes"
      ],
      "execution_count": 7,
      "outputs": []
    },
    {
      "cell_type": "code",
      "metadata": {
        "id": "4GCpGZKK5j5v",
        "colab_type": "code",
        "colab": {}
      },
      "source": [
        "os.makedirs(image_generator_train_yes,exist_ok=True)\n",
        "os.makedirs(image_generator_train_no,exist_ok=True)\n",
        "os.makedirs(image_generator_validation_yes,exist_ok=True)\n",
        "os.makedirs(image_generator_validation_no,exist_ok=True)"
      ],
      "execution_count": 8,
      "outputs": []
    },
    {
      "cell_type": "code",
      "metadata": {
        "id": "gHo61zzu-Ngb",
        "colab_type": "code",
        "colab": {}
      },
      "source": [
        "for dir,subdir,files in os.walk(brain_tumour_no):\n",
        "  for f in files[:int(len(files)*0.7)]:\n",
        "    shutil.copy(os.path.join(brain_tumour_no,f),image_generator_train_no)\n",
        "  for f in files[int(len(files)*0.7):]:\n",
        "    shutil.copy(os.path.join(brain_tumour_no,f),image_generator_validation_no)\n"
      ],
      "execution_count": 9,
      "outputs": []
    },
    {
      "cell_type": "code",
      "metadata": {
        "id": "zCsZh6pM_nFu",
        "colab_type": "code",
        "colab": {}
      },
      "source": [
        "for dir,subdir,files in os.walk(brain_tumour_yes):\n",
        "  for f in files[:int(len(files)*0.7)]:\n",
        "    shutil.copy(os.path.join(brain_tumour_yes,f),image_generator_train_yes)\n",
        "  for f in files[int(len(files)*0.7):]:\n",
        "    shutil.copy(os.path.join(brain_tumour_yes,f),image_generator_validation_yes)"
      ],
      "execution_count": 10,
      "outputs": []
    },
    {
      "cell_type": "markdown",
      "metadata": {
        "id": "K6z7S9j0bR5o",
        "colab_type": "text"
      },
      "source": [
        "# Model"
      ]
    },
    {
      "cell_type": "code",
      "metadata": {
        "id": "GH0TT4mXAeWX",
        "colab_type": "code",
        "colab": {}
      },
      "source": [
        "import tensorflow as tf\n"
      ],
      "execution_count": 11,
      "outputs": []
    },
    {
      "cell_type": "code",
      "metadata": {
        "id": "uwb-mgByBlY6",
        "colab_type": "code",
        "colab": {
          "base_uri": "https://localhost:8080/",
          "height": 377
        },
        "outputId": "3e4283ec-aa7f-482b-cfad-81bffae3e422"
      },
      "source": [
        "\n",
        "base_model=tf.keras.applications.InceptionV3(include_top=False,weights='imagenet',input_shape=(150,150,3))\n",
        "base_model.trainable=False\n",
        "model=tf.keras.Sequential()\n",
        "model.add(base_model)\n",
        "model.add(tf.keras.layers.Flatten())\n",
        "model.add(tf.keras.layers.Dense(128,activation='relu'))\n",
        "model.add(tf.keras.layers.Dropout(0.3))\n",
        "model.add(tf.keras.layers.Dense(1,activation='sigmoid'))\n",
        "model.summary()"
      ],
      "execution_count": 12,
      "outputs": [
        {
          "output_type": "stream",
          "text": [
            "Downloading data from https://storage.googleapis.com/tensorflow/keras-applications/inception_v3/inception_v3_weights_tf_dim_ordering_tf_kernels_notop.h5\n",
            "87916544/87910968 [==============================] - 1s 0us/step\n",
            "Model: \"sequential\"\n",
            "_________________________________________________________________\n",
            "Layer (type)                 Output Shape              Param #   \n",
            "=================================================================\n",
            "inception_v3 (Functional)    (None, 3, 3, 2048)        21802784  \n",
            "_________________________________________________________________\n",
            "flatten (Flatten)            (None, 18432)             0         \n",
            "_________________________________________________________________\n",
            "dense (Dense)                (None, 128)               2359424   \n",
            "_________________________________________________________________\n",
            "dropout (Dropout)            (None, 128)               0         \n",
            "_________________________________________________________________\n",
            "dense_1 (Dense)              (None, 1)                 129       \n",
            "=================================================================\n",
            "Total params: 24,162,337\n",
            "Trainable params: 2,359,553\n",
            "Non-trainable params: 21,802,784\n",
            "_________________________________________________________________\n"
          ],
          "name": "stdout"
        }
      ]
    },
    {
      "cell_type": "code",
      "metadata": {
        "id": "rOOJYQTyDPZ4",
        "colab_type": "code",
        "colab": {}
      },
      "source": [
        "model.compile(loss='binary_crossentropy',\n",
        "              optimizer=tf.keras.optimizers.Adam(learning_rate=0.0005),\n",
        "              metrics=['accuracy',tf.keras.metrics.Precision(name='precision'),tf.keras.metrics.Recall(name='recall')])"
      ],
      "execution_count": 13,
      "outputs": []
    },
    {
      "cell_type": "code",
      "metadata": {
        "id": "xidHZ3J5Dt21",
        "colab_type": "code",
        "colab": {}
      },
      "source": [
        "train_data_generator=tf.keras.preprocessing.image.ImageDataGenerator(rescale=1/255,\n",
        "                                  rotation_range=30,\n",
        "                                  height_shift_range=0.2,\n",
        "                                  width_shift_range=0.2,\n",
        "                                  shear_range=0.6,\n",
        "                                  zoom_range=0.2,\n",
        "                                  horizontal_flip=True,\n",
        "                                  fill_mode='nearest')\n",
        "validation_data_generator=tf.keras.preprocessing.image.ImageDataGenerator(rescale=1/255)"
      ],
      "execution_count": 14,
      "outputs": []
    },
    {
      "cell_type": "code",
      "metadata": {
        "id": "YCvIq7YGEZpW",
        "colab_type": "code",
        "colab": {
          "base_uri": "https://localhost:8080/",
          "height": 51
        },
        "outputId": "054c506a-0c79-4636-c303-d5dbaf4d631f"
      },
      "source": [
        "train_gen=train_data_generator.flow_from_directory(image_generator_train,\n",
        "                                                   target_size=(150,150),\n",
        "                                                   class_mode='binary',\n",
        "                                                   batch_size=8,\n",
        "                                                   shuffle=True)\n",
        "validation_gen=train_data_generator.flow_from_directory(image_generator_validation,\n",
        "                                                   target_size=(150,150),\n",
        "                                                   class_mode='binary',\n",
        "                                                   batch_size=8,\n",
        "                                                   shuffle=True)"
      ],
      "execution_count": 15,
      "outputs": [
        {
          "output_type": "stream",
          "text": [
            "Found 215 images belonging to 2 classes.\n",
            "Found 113 images belonging to 2 classes.\n"
          ],
          "name": "stdout"
        }
      ]
    },
    {
      "cell_type": "code",
      "metadata": {
        "id": "aQpDVApsFILx",
        "colab_type": "code",
        "colab": {}
      },
      "source": [
        "class MyCallback(tf.keras.callbacks.Callback):\n",
        "  def on_epoch_end(self,epoch,logs={}):\n",
        "    if(logs['accuracy']>0.99):\n",
        "      self.model.stop_training=True\n",
        "callbacks=MyCallback()"
      ],
      "execution_count": 16,
      "outputs": []
    },
    {
      "cell_type": "code",
      "metadata": {
        "id": "j-xX6HF9GdSO",
        "colab_type": "code",
        "colab": {
          "base_uri": "https://localhost:8080/",
          "height": 1000
        },
        "outputId": "7a092b98-dec6-4cb7-87fd-feb04deb2708"
      },
      "source": [
        "history=model.fit(train_gen,validation_data=validation_gen,epochs=200,callbacks=callbacks)"
      ],
      "execution_count": 17,
      "outputs": [
        {
          "output_type": "stream",
          "text": [
            "Epoch 1/200\n",
            "27/27 [==============================] - 20s 757ms/step - loss: 2.7931 - accuracy: 0.5953 - precision: 0.6100 - recall: 0.5596 - val_loss: 0.7780 - val_accuracy: 0.7788 - val_precision: 0.6825 - val_recall: 0.8958\n",
            "Epoch 2/200\n",
            "27/27 [==============================] - 3s 96ms/step - loss: 0.6958 - accuracy: 0.7163 - precision: 0.7105 - recall: 0.7431 - val_loss: 0.4299 - val_accuracy: 0.8142 - val_precision: 0.7547 - val_recall: 0.8333\n",
            "Epoch 3/200\n",
            "27/27 [==============================] - 3s 102ms/step - loss: 0.5003 - accuracy: 0.7488 - precision: 0.7670 - recall: 0.7248 - val_loss: 0.4035 - val_accuracy: 0.8584 - val_precision: 0.8200 - val_recall: 0.8542\n",
            "Epoch 4/200\n",
            "27/27 [==============================] - 3s 103ms/step - loss: 0.4954 - accuracy: 0.7535 - precision: 0.7545 - recall: 0.7615 - val_loss: 0.4576 - val_accuracy: 0.7965 - val_precision: 0.8049 - val_recall: 0.6875\n",
            "Epoch 5/200\n",
            "27/27 [==============================] - 3s 106ms/step - loss: 0.4570 - accuracy: 0.7814 - precision: 0.7672 - recall: 0.8165 - val_loss: 0.3754 - val_accuracy: 0.8584 - val_precision: 0.8200 - val_recall: 0.8542\n",
            "Epoch 6/200\n",
            "27/27 [==============================] - 3s 105ms/step - loss: 0.5032 - accuracy: 0.7953 - precision: 0.8037 - recall: 0.7890 - val_loss: 0.4173 - val_accuracy: 0.7965 - val_precision: 0.6984 - val_recall: 0.9167\n",
            "Epoch 7/200\n",
            "27/27 [==============================] - 3s 105ms/step - loss: 0.4809 - accuracy: 0.7674 - precision: 0.7565 - recall: 0.7982 - val_loss: 0.3385 - val_accuracy: 0.9204 - val_precision: 0.9149 - val_recall: 0.8958\n",
            "Epoch 8/200\n",
            "27/27 [==============================] - 3s 103ms/step - loss: 0.4300 - accuracy: 0.8093 - precision: 0.8208 - recall: 0.7982 - val_loss: 0.3838 - val_accuracy: 0.8673 - val_precision: 0.9231 - val_recall: 0.7500\n",
            "Epoch 9/200\n",
            "27/27 [==============================] - 3s 102ms/step - loss: 0.4317 - accuracy: 0.8000 - precision: 0.7750 - recall: 0.8532 - val_loss: 0.4166 - val_accuracy: 0.8053 - val_precision: 0.7167 - val_recall: 0.8958\n",
            "Epoch 10/200\n",
            "27/27 [==============================] - 3s 103ms/step - loss: 0.3664 - accuracy: 0.8512 - precision: 0.8407 - recall: 0.8716 - val_loss: 0.4903 - val_accuracy: 0.7611 - val_precision: 0.6667 - val_recall: 0.8750\n",
            "Epoch 11/200\n",
            "27/27 [==============================] - 3s 104ms/step - loss: 0.4516 - accuracy: 0.7860 - precision: 0.7890 - recall: 0.7890 - val_loss: 0.3516 - val_accuracy: 0.8407 - val_precision: 0.8947 - val_recall: 0.7083\n",
            "Epoch 12/200\n",
            "27/27 [==============================] - 3s 101ms/step - loss: 0.4029 - accuracy: 0.8233 - precision: 0.8660 - recall: 0.7706 - val_loss: 0.4052 - val_accuracy: 0.7788 - val_precision: 0.6949 - val_recall: 0.8542\n",
            "Epoch 13/200\n",
            "27/27 [==============================] - 3s 103ms/step - loss: 0.3338 - accuracy: 0.8279 - precision: 0.8158 - recall: 0.8532 - val_loss: 0.3791 - val_accuracy: 0.8584 - val_precision: 0.8077 - val_recall: 0.8750\n",
            "Epoch 14/200\n",
            "27/27 [==============================] - 3s 104ms/step - loss: 0.3305 - accuracy: 0.8744 - precision: 0.8727 - recall: 0.8807 - val_loss: 0.3197 - val_accuracy: 0.8673 - val_precision: 0.8367 - val_recall: 0.8542\n",
            "Epoch 15/200\n",
            "27/27 [==============================] - 3s 103ms/step - loss: 0.3587 - accuracy: 0.8698 - precision: 0.8932 - recall: 0.8440 - val_loss: 0.2600 - val_accuracy: 0.8938 - val_precision: 0.8750 - val_recall: 0.8750\n",
            "Epoch 16/200\n",
            "27/27 [==============================] - 3s 103ms/step - loss: 0.3866 - accuracy: 0.8233 - precision: 0.8318 - recall: 0.8165 - val_loss: 0.4175 - val_accuracy: 0.7965 - val_precision: 0.6984 - val_recall: 0.9167\n",
            "Epoch 17/200\n",
            "27/27 [==============================] - 3s 103ms/step - loss: 0.3324 - accuracy: 0.8372 - precision: 0.8491 - recall: 0.8257 - val_loss: 0.3217 - val_accuracy: 0.8673 - val_precision: 0.8367 - val_recall: 0.8542\n",
            "Epoch 18/200\n",
            "27/27 [==============================] - 3s 102ms/step - loss: 0.3311 - accuracy: 0.8698 - precision: 0.8584 - recall: 0.8899 - val_loss: 0.6037 - val_accuracy: 0.6991 - val_precision: 0.5946 - val_recall: 0.9167\n",
            "Epoch 19/200\n",
            "27/27 [==============================] - 3s 101ms/step - loss: 0.3585 - accuracy: 0.8372 - precision: 0.8491 - recall: 0.8257 - val_loss: 0.6093 - val_accuracy: 0.6726 - val_precision: 0.5663 - val_recall: 0.9792\n",
            "Epoch 20/200\n",
            "27/27 [==============================] - 3s 101ms/step - loss: 0.4371 - accuracy: 0.7581 - precision: 0.7664 - recall: 0.7523 - val_loss: 0.4364 - val_accuracy: 0.7876 - val_precision: 0.6935 - val_recall: 0.8958\n",
            "Epoch 21/200\n",
            "27/27 [==============================] - 3s 104ms/step - loss: 0.3303 - accuracy: 0.8651 - precision: 0.8636 - recall: 0.8716 - val_loss: 0.2592 - val_accuracy: 0.9027 - val_precision: 0.9111 - val_recall: 0.8542\n",
            "Epoch 22/200\n",
            "27/27 [==============================] - 3s 103ms/step - loss: 0.3457 - accuracy: 0.8326 - precision: 0.8288 - recall: 0.8440 - val_loss: 0.3448 - val_accuracy: 0.8496 - val_precision: 0.7925 - val_recall: 0.8750\n",
            "Epoch 23/200\n",
            "27/27 [==============================] - 3s 103ms/step - loss: 0.3638 - accuracy: 0.8326 - precision: 0.8476 - recall: 0.8165 - val_loss: 0.3245 - val_accuracy: 0.8496 - val_precision: 0.7541 - val_recall: 0.9583\n",
            "Epoch 24/200\n",
            "27/27 [==============================] - 3s 103ms/step - loss: 0.2735 - accuracy: 0.8930 - precision: 0.9135 - recall: 0.8716 - val_loss: 0.3258 - val_accuracy: 0.8319 - val_precision: 0.7636 - val_recall: 0.8750\n",
            "Epoch 25/200\n",
            "27/27 [==============================] - 3s 105ms/step - loss: 0.3846 - accuracy: 0.8140 - precision: 0.7899 - recall: 0.8624 - val_loss: 0.2593 - val_accuracy: 0.8938 - val_precision: 0.8462 - val_recall: 0.9167\n",
            "Epoch 26/200\n",
            "27/27 [==============================] - 3s 104ms/step - loss: 0.2990 - accuracy: 0.8744 - precision: 0.8796 - recall: 0.8716 - val_loss: 0.3722 - val_accuracy: 0.8496 - val_precision: 0.7719 - val_recall: 0.9167\n",
            "Epoch 27/200\n",
            "27/27 [==============================] - 3s 105ms/step - loss: 0.3073 - accuracy: 0.8791 - precision: 0.8807 - recall: 0.8807 - val_loss: 0.3013 - val_accuracy: 0.8761 - val_precision: 0.8696 - val_recall: 0.8333\n",
            "Epoch 28/200\n",
            "27/27 [==============================] - 3s 104ms/step - loss: 0.2909 - accuracy: 0.8698 - precision: 0.8716 - recall: 0.8716 - val_loss: 0.2730 - val_accuracy: 0.8938 - val_precision: 0.8600 - val_recall: 0.8958\n",
            "Epoch 29/200\n",
            "27/27 [==============================] - 3s 103ms/step - loss: 0.3305 - accuracy: 0.8698 - precision: 0.9010 - recall: 0.8349 - val_loss: 0.3750 - val_accuracy: 0.8319 - val_precision: 0.7231 - val_recall: 0.9792\n",
            "Epoch 30/200\n",
            "27/27 [==============================] - 3s 101ms/step - loss: 0.3493 - accuracy: 0.8186 - precision: 0.8125 - recall: 0.8349 - val_loss: 0.3116 - val_accuracy: 0.8496 - val_precision: 0.7925 - val_recall: 0.8750\n",
            "Epoch 31/200\n",
            "27/27 [==============================] - 3s 103ms/step - loss: 0.2229 - accuracy: 0.8977 - precision: 0.8919 - recall: 0.9083 - val_loss: 0.4160 - val_accuracy: 0.8673 - val_precision: 0.9231 - val_recall: 0.7500\n",
            "Epoch 32/200\n",
            "27/27 [==============================] - 3s 103ms/step - loss: 0.2991 - accuracy: 0.8744 - precision: 0.8727 - recall: 0.8807 - val_loss: 0.2786 - val_accuracy: 0.8673 - val_precision: 0.8367 - val_recall: 0.8542\n",
            "Epoch 33/200\n",
            "27/27 [==============================] - 3s 103ms/step - loss: 0.2151 - accuracy: 0.9209 - precision: 0.9259 - recall: 0.9174 - val_loss: 0.2258 - val_accuracy: 0.8761 - val_precision: 0.8696 - val_recall: 0.8333\n",
            "Epoch 34/200\n",
            "27/27 [==============================] - 3s 105ms/step - loss: 0.2725 - accuracy: 0.8651 - precision: 0.8636 - recall: 0.8716 - val_loss: 0.4046 - val_accuracy: 0.8761 - val_precision: 0.9474 - val_recall: 0.7500\n",
            "Epoch 35/200\n",
            "27/27 [==============================] - 3s 103ms/step - loss: 0.2250 - accuracy: 0.8977 - precision: 0.9065 - recall: 0.8899 - val_loss: 0.3077 - val_accuracy: 0.8761 - val_precision: 0.8269 - val_recall: 0.8958\n",
            "Epoch 36/200\n",
            "27/27 [==============================] - 3s 103ms/step - loss: 0.3081 - accuracy: 0.8651 - precision: 0.8846 - recall: 0.8440 - val_loss: 0.2991 - val_accuracy: 0.9027 - val_precision: 0.9302 - val_recall: 0.8333\n",
            "Epoch 37/200\n",
            "27/27 [==============================] - 3s 103ms/step - loss: 0.2126 - accuracy: 0.9209 - precision: 0.9107 - recall: 0.9358 - val_loss: 0.2346 - val_accuracy: 0.9115 - val_precision: 0.9524 - val_recall: 0.8333\n",
            "Epoch 38/200\n",
            "27/27 [==============================] - 3s 102ms/step - loss: 0.2760 - accuracy: 0.8977 - precision: 0.9307 - recall: 0.8624 - val_loss: 0.3595 - val_accuracy: 0.8407 - val_precision: 0.8261 - val_recall: 0.7917\n",
            "Epoch 39/200\n",
            "27/27 [==============================] - 3s 103ms/step - loss: 0.2313 - accuracy: 0.9209 - precision: 0.8966 - recall: 0.9541 - val_loss: 0.3000 - val_accuracy: 0.8673 - val_precision: 0.9714 - val_recall: 0.7083\n",
            "Epoch 40/200\n",
            "27/27 [==============================] - 3s 102ms/step - loss: 0.2554 - accuracy: 0.9070 - precision: 0.9083 - recall: 0.9083 - val_loss: 0.3414 - val_accuracy: 0.8761 - val_precision: 0.8696 - val_recall: 0.8333\n",
            "Epoch 41/200\n",
            "27/27 [==============================] - 3s 102ms/step - loss: 0.2064 - accuracy: 0.8930 - precision: 0.8772 - recall: 0.9174 - val_loss: 0.4038 - val_accuracy: 0.8673 - val_precision: 0.8837 - val_recall: 0.7917\n",
            "Epoch 42/200\n",
            "27/27 [==============================] - 3s 103ms/step - loss: 0.2257 - accuracy: 0.9023 - precision: 0.9151 - recall: 0.8899 - val_loss: 0.2413 - val_accuracy: 0.8938 - val_precision: 0.8913 - val_recall: 0.8542\n",
            "Epoch 43/200\n",
            "27/27 [==============================] - 3s 103ms/step - loss: 0.2377 - accuracy: 0.8930 - precision: 0.8909 - recall: 0.8991 - val_loss: 0.2549 - val_accuracy: 0.9204 - val_precision: 0.8980 - val_recall: 0.9167\n",
            "Epoch 44/200\n",
            "27/27 [==============================] - 3s 108ms/step - loss: 0.2518 - accuracy: 0.9256 - precision: 0.9115 - recall: 0.9450 - val_loss: 0.3292 - val_accuracy: 0.8496 - val_precision: 0.9189 - val_recall: 0.7083\n",
            "Epoch 45/200\n",
            "27/27 [==============================] - 3s 110ms/step - loss: 0.2257 - accuracy: 0.8977 - precision: 0.9143 - recall: 0.8807 - val_loss: 0.3376 - val_accuracy: 0.8938 - val_precision: 0.9500 - val_recall: 0.7917\n",
            "Epoch 46/200\n",
            "27/27 [==============================] - 3s 109ms/step - loss: 0.2539 - accuracy: 0.9209 - precision: 0.9340 - recall: 0.9083 - val_loss: 0.2654 - val_accuracy: 0.8850 - val_precision: 0.9487 - val_recall: 0.7708\n",
            "Epoch 47/200\n",
            "27/27 [==============================] - 3s 105ms/step - loss: 0.2724 - accuracy: 0.8605 - precision: 0.8990 - recall: 0.8165 - val_loss: 0.2681 - val_accuracy: 0.9027 - val_precision: 0.9302 - val_recall: 0.8333\n",
            "Epoch 48/200\n",
            "27/27 [==============================] - 3s 103ms/step - loss: 0.2561 - accuracy: 0.9023 - precision: 0.9074 - recall: 0.8991 - val_loss: 0.3780 - val_accuracy: 0.8938 - val_precision: 0.9737 - val_recall: 0.7708\n",
            "Epoch 49/200\n",
            "27/27 [==============================] - 3s 102ms/step - loss: 0.2336 - accuracy: 0.8698 - precision: 0.9355 - recall: 0.7982 - val_loss: 0.2855 - val_accuracy: 0.8761 - val_precision: 0.8148 - val_recall: 0.9167\n",
            "Epoch 50/200\n",
            "27/27 [==============================] - 3s 104ms/step - loss: 0.1991 - accuracy: 0.9302 - precision: 0.9352 - recall: 0.9266 - val_loss: 0.2736 - val_accuracy: 0.8938 - val_precision: 0.8913 - val_recall: 0.8542\n",
            "Epoch 51/200\n",
            "27/27 [==============================] - 3s 102ms/step - loss: 0.2218 - accuracy: 0.9070 - precision: 0.9083 - recall: 0.9083 - val_loss: 0.2996 - val_accuracy: 0.8761 - val_precision: 0.9250 - val_recall: 0.7708\n",
            "Epoch 52/200\n",
            "27/27 [==============================] - 3s 102ms/step - loss: 0.2498 - accuracy: 0.8837 - precision: 0.9375 - recall: 0.8257 - val_loss: 0.3315 - val_accuracy: 0.8761 - val_precision: 0.8696 - val_recall: 0.8333\n",
            "Epoch 53/200\n",
            "27/27 [==============================] - 3s 101ms/step - loss: 0.2306 - accuracy: 0.9023 - precision: 0.9314 - recall: 0.8716 - val_loss: 0.2372 - val_accuracy: 0.9027 - val_precision: 0.8936 - val_recall: 0.8750\n",
            "Epoch 54/200\n",
            "27/27 [==============================] - 3s 104ms/step - loss: 0.2582 - accuracy: 0.8791 - precision: 0.8673 - recall: 0.8991 - val_loss: 0.3301 - val_accuracy: 0.8584 - val_precision: 0.8810 - val_recall: 0.7708\n",
            "Epoch 55/200\n",
            "27/27 [==============================] - 3s 105ms/step - loss: 0.1413 - accuracy: 0.9442 - precision: 0.9619 - recall: 0.9266 - val_loss: 0.3244 - val_accuracy: 0.8673 - val_precision: 0.8837 - val_recall: 0.7917\n",
            "Epoch 56/200\n",
            "27/27 [==============================] - 3s 110ms/step - loss: 0.2554 - accuracy: 0.8884 - precision: 0.8972 - recall: 0.8807 - val_loss: 0.3350 - val_accuracy: 0.8761 - val_precision: 0.9722 - val_recall: 0.7292\n",
            "Epoch 57/200\n",
            "27/27 [==============================] - 3s 108ms/step - loss: 0.2954 - accuracy: 0.8558 - precision: 0.8611 - recall: 0.8532 - val_loss: 0.3006 - val_accuracy: 0.8673 - val_precision: 0.9231 - val_recall: 0.7500\n",
            "Epoch 58/200\n",
            "27/27 [==============================] - 3s 108ms/step - loss: 0.1962 - accuracy: 0.9256 - precision: 0.9346 - recall: 0.9174 - val_loss: 0.2371 - val_accuracy: 0.9292 - val_precision: 0.9545 - val_recall: 0.8750\n",
            "Epoch 59/200\n",
            "27/27 [==============================] - 3s 103ms/step - loss: 0.2580 - accuracy: 0.8977 - precision: 0.8991 - recall: 0.8991 - val_loss: 0.2632 - val_accuracy: 0.9292 - val_precision: 0.9762 - val_recall: 0.8542\n",
            "Epoch 60/200\n",
            "27/27 [==============================] - 3s 104ms/step - loss: 0.2277 - accuracy: 0.9209 - precision: 0.9340 - recall: 0.9083 - val_loss: 0.3577 - val_accuracy: 0.8496 - val_precision: 0.8039 - val_recall: 0.8542\n",
            "Epoch 61/200\n",
            "27/27 [==============================] - 3s 104ms/step - loss: 0.2196 - accuracy: 0.9116 - precision: 0.8947 - recall: 0.9358 - val_loss: 0.2886 - val_accuracy: 0.8850 - val_precision: 0.9070 - val_recall: 0.8125\n",
            "Epoch 62/200\n",
            "27/27 [==============================] - 3s 103ms/step - loss: 0.1925 - accuracy: 0.9349 - precision: 0.9358 - recall: 0.9358 - val_loss: 0.5183 - val_accuracy: 0.8496 - val_precision: 0.9697 - val_recall: 0.6667\n",
            "Epoch 63/200\n",
            "27/27 [==============================] - 3s 103ms/step - loss: 0.1917 - accuracy: 0.9302 - precision: 0.9273 - recall: 0.9358 - val_loss: 0.3029 - val_accuracy: 0.9027 - val_precision: 0.9302 - val_recall: 0.8333\n",
            "Epoch 64/200\n",
            "27/27 [==============================] - 3s 111ms/step - loss: 0.2152 - accuracy: 0.9116 - precision: 0.9167 - recall: 0.9083 - val_loss: 0.2520 - val_accuracy: 0.9115 - val_precision: 0.9524 - val_recall: 0.8333\n",
            "Epoch 65/200\n",
            "27/27 [==============================] - 3s 110ms/step - loss: 0.2061 - accuracy: 0.9163 - precision: 0.9099 - recall: 0.9266 - val_loss: 0.2506 - val_accuracy: 0.9027 - val_precision: 0.8776 - val_recall: 0.8958\n",
            "Epoch 66/200\n",
            "27/27 [==============================] - 3s 103ms/step - loss: 0.2721 - accuracy: 0.8837 - precision: 0.8750 - recall: 0.8991 - val_loss: 0.3051 - val_accuracy: 0.8230 - val_precision: 0.7333 - val_recall: 0.9167\n",
            "Epoch 67/200\n",
            "27/27 [==============================] - 3s 105ms/step - loss: 0.2597 - accuracy: 0.8744 - precision: 0.8417 - recall: 0.9266 - val_loss: 0.2178 - val_accuracy: 0.9381 - val_precision: 0.9362 - val_recall: 0.9167\n",
            "Epoch 68/200\n",
            "27/27 [==============================] - 3s 104ms/step - loss: 0.2871 - accuracy: 0.8930 - precision: 0.8772 - recall: 0.9174 - val_loss: 0.2658 - val_accuracy: 0.8850 - val_precision: 0.8571 - val_recall: 0.8750\n",
            "Epoch 69/200\n",
            "27/27 [==============================] - 3s 105ms/step - loss: 0.2858 - accuracy: 0.8651 - precision: 0.8571 - recall: 0.8807 - val_loss: 0.2967 - val_accuracy: 0.9115 - val_precision: 0.9524 - val_recall: 0.8333\n",
            "Epoch 70/200\n",
            "27/27 [==============================] - 3s 105ms/step - loss: 0.2196 - accuracy: 0.9070 - precision: 0.9083 - recall: 0.9083 - val_loss: 0.2865 - val_accuracy: 0.8761 - val_precision: 0.8148 - val_recall: 0.9167\n",
            "Epoch 71/200\n",
            "27/27 [==============================] - 3s 106ms/step - loss: 0.2242 - accuracy: 0.8977 - precision: 0.8919 - recall: 0.9083 - val_loss: 0.2284 - val_accuracy: 0.9115 - val_precision: 0.8519 - val_recall: 0.9583\n",
            "Epoch 72/200\n",
            "27/27 [==============================] - 3s 104ms/step - loss: 0.2499 - accuracy: 0.8930 - precision: 0.9057 - recall: 0.8807 - val_loss: 0.2595 - val_accuracy: 0.8850 - val_precision: 0.8431 - val_recall: 0.8958\n",
            "Epoch 73/200\n",
            "27/27 [==============================] - 3s 104ms/step - loss: 0.1965 - accuracy: 0.8977 - precision: 0.8718 - recall: 0.9358 - val_loss: 0.2958 - val_accuracy: 0.8407 - val_precision: 0.8000 - val_recall: 0.8333\n",
            "Epoch 74/200\n",
            "27/27 [==============================] - 3s 103ms/step - loss: 0.2444 - accuracy: 0.8977 - precision: 0.9143 - recall: 0.8807 - val_loss: 0.4177 - val_accuracy: 0.8319 - val_precision: 0.9143 - val_recall: 0.6667\n",
            "Epoch 75/200\n",
            "27/27 [==============================] - 3s 103ms/step - loss: 0.2241 - accuracy: 0.8977 - precision: 0.9065 - recall: 0.8899 - val_loss: 0.2237 - val_accuracy: 0.9115 - val_precision: 0.9750 - val_recall: 0.8125\n",
            "Epoch 76/200\n",
            "27/27 [==============================] - 3s 104ms/step - loss: 0.2426 - accuracy: 0.8744 - precision: 0.8661 - recall: 0.8899 - val_loss: 0.2060 - val_accuracy: 0.9292 - val_precision: 0.9762 - val_recall: 0.8542\n",
            "Epoch 77/200\n",
            "27/27 [==============================] - 3s 103ms/step - loss: 0.2141 - accuracy: 0.9116 - precision: 0.8947 - recall: 0.9358 - val_loss: 0.2826 - val_accuracy: 0.8850 - val_precision: 0.8182 - val_recall: 0.9375\n",
            "Epoch 78/200\n",
            "27/27 [==============================] - 3s 104ms/step - loss: 0.2193 - accuracy: 0.9116 - precision: 0.9091 - recall: 0.9174 - val_loss: 0.2466 - val_accuracy: 0.9292 - val_precision: 0.9167 - val_recall: 0.9167\n",
            "Epoch 79/200\n",
            "27/27 [==============================] - 3s 105ms/step - loss: 0.2137 - accuracy: 0.9023 - precision: 0.8860 - recall: 0.9266 - val_loss: 0.2477 - val_accuracy: 0.8673 - val_precision: 0.8511 - val_recall: 0.8333\n",
            "Epoch 80/200\n",
            "27/27 [==============================] - 3s 105ms/step - loss: 0.2157 - accuracy: 0.9209 - precision: 0.9340 - recall: 0.9083 - val_loss: 0.2559 - val_accuracy: 0.9381 - val_precision: 0.9556 - val_recall: 0.8958\n",
            "Epoch 81/200\n",
            "27/27 [==============================] - 3s 105ms/step - loss: 0.2231 - accuracy: 0.9116 - precision: 0.9245 - recall: 0.8991 - val_loss: 0.3101 - val_accuracy: 0.8673 - val_precision: 0.8367 - val_recall: 0.8542\n",
            "Epoch 82/200\n",
            "27/27 [==============================] - 3s 107ms/step - loss: 0.2042 - accuracy: 0.9116 - precision: 0.9091 - recall: 0.9174 - val_loss: 0.3433 - val_accuracy: 0.8850 - val_precision: 0.9070 - val_recall: 0.8125\n",
            "Epoch 83/200\n",
            "27/27 [==============================] - 3s 103ms/step - loss: 0.2112 - accuracy: 0.9302 - precision: 0.9352 - recall: 0.9266 - val_loss: 0.3144 - val_accuracy: 0.8761 - val_precision: 0.9250 - val_recall: 0.7708\n",
            "Epoch 84/200\n",
            "27/27 [==============================] - 3s 104ms/step - loss: 0.2315 - accuracy: 0.9070 - precision: 0.9238 - recall: 0.8899 - val_loss: 0.2745 - val_accuracy: 0.8584 - val_precision: 0.8636 - val_recall: 0.7917\n",
            "Epoch 85/200\n",
            "27/27 [==============================] - 3s 105ms/step - loss: 0.2445 - accuracy: 0.9070 - precision: 0.9009 - recall: 0.9174 - val_loss: 0.2586 - val_accuracy: 0.9115 - val_precision: 0.9524 - val_recall: 0.8333\n",
            "Epoch 86/200\n",
            "27/27 [==============================] - 3s 105ms/step - loss: 0.2150 - accuracy: 0.8930 - precision: 0.8839 - recall: 0.9083 - val_loss: 0.2628 - val_accuracy: 0.8673 - val_precision: 0.9231 - val_recall: 0.7500\n",
            "Epoch 87/200\n",
            "27/27 [==============================] - 3s 105ms/step - loss: 0.2355 - accuracy: 0.8837 - precision: 0.8962 - recall: 0.8716 - val_loss: 0.2068 - val_accuracy: 0.9292 - val_precision: 0.9348 - val_recall: 0.8958\n",
            "Epoch 88/200\n",
            "27/27 [==============================] - 3s 106ms/step - loss: 0.1947 - accuracy: 0.8837 - precision: 0.9200 - recall: 0.8440 - val_loss: 0.2824 - val_accuracy: 0.9027 - val_precision: 0.9512 - val_recall: 0.8125\n",
            "Epoch 89/200\n",
            "27/27 [==============================] - 3s 108ms/step - loss: 0.2131 - accuracy: 0.8884 - precision: 0.8899 - recall: 0.8899 - val_loss: 0.2939 - val_accuracy: 0.9027 - val_precision: 0.9744 - val_recall: 0.7917\n",
            "Epoch 90/200\n",
            "27/27 [==============================] - 3s 111ms/step - loss: 0.1734 - accuracy: 0.9256 - precision: 0.9266 - recall: 0.9266 - val_loss: 0.3048 - val_accuracy: 0.8673 - val_precision: 0.9024 - val_recall: 0.7708\n",
            "Epoch 91/200\n",
            "27/27 [==============================] - 3s 106ms/step - loss: 0.2095 - accuracy: 0.9116 - precision: 0.9245 - recall: 0.8991 - val_loss: 0.2517 - val_accuracy: 0.8850 - val_precision: 0.9070 - val_recall: 0.8125\n",
            "Epoch 92/200\n",
            "27/27 [==============================] - 3s 105ms/step - loss: 0.1697 - accuracy: 0.9349 - precision: 0.9439 - recall: 0.9266 - val_loss: 0.3107 - val_accuracy: 0.8850 - val_precision: 0.8723 - val_recall: 0.8542\n",
            "Epoch 93/200\n",
            "27/27 [==============================] - 3s 105ms/step - loss: 0.2226 - accuracy: 0.9116 - precision: 0.9091 - recall: 0.9174 - val_loss: 0.2439 - val_accuracy: 0.8673 - val_precision: 0.8367 - val_recall: 0.8542\n",
            "Epoch 94/200\n",
            "27/27 [==============================] - 3s 105ms/step - loss: 0.2286 - accuracy: 0.9116 - precision: 0.8947 - recall: 0.9358 - val_loss: 0.3202 - val_accuracy: 0.8761 - val_precision: 0.9048 - val_recall: 0.7917\n",
            "Epoch 95/200\n",
            "27/27 [==============================] - 3s 105ms/step - loss: 0.2110 - accuracy: 0.8977 - precision: 0.9065 - recall: 0.8899 - val_loss: 0.2511 - val_accuracy: 0.9027 - val_precision: 0.9512 - val_recall: 0.8125\n",
            "Epoch 96/200\n",
            "27/27 [==============================] - 3s 106ms/step - loss: 0.2551 - accuracy: 0.8930 - precision: 0.9216 - recall: 0.8624 - val_loss: 0.3797 - val_accuracy: 0.8142 - val_precision: 0.9355 - val_recall: 0.6042\n",
            "Epoch 97/200\n",
            "27/27 [==============================] - 3s 104ms/step - loss: 0.2546 - accuracy: 0.8791 - precision: 0.8807 - recall: 0.8807 - val_loss: 0.2732 - val_accuracy: 0.9027 - val_precision: 0.8627 - val_recall: 0.9167\n",
            "Epoch 98/200\n",
            "27/27 [==============================] - 3s 108ms/step - loss: 0.1397 - accuracy: 0.9395 - precision: 0.9364 - recall: 0.9450 - val_loss: 0.2794 - val_accuracy: 0.9204 - val_precision: 0.8824 - val_recall: 0.9375\n",
            "Epoch 99/200\n",
            "27/27 [==============================] - 3s 108ms/step - loss: 0.1376 - accuracy: 0.9442 - precision: 0.9369 - recall: 0.9541 - val_loss: 0.3799 - val_accuracy: 0.9115 - val_precision: 0.9318 - val_recall: 0.8542\n",
            "Epoch 100/200\n",
            "27/27 [==============================] - 3s 107ms/step - loss: 0.1913 - accuracy: 0.9256 - precision: 0.9189 - recall: 0.9358 - val_loss: 0.2978 - val_accuracy: 0.8938 - val_precision: 1.0000 - val_recall: 0.7500\n",
            "Epoch 101/200\n",
            "27/27 [==============================] - 3s 108ms/step - loss: 0.2803 - accuracy: 0.8698 - precision: 0.8785 - recall: 0.8624 - val_loss: 0.1989 - val_accuracy: 0.9292 - val_precision: 0.9545 - val_recall: 0.8750\n",
            "Epoch 102/200\n",
            "27/27 [==============================] - 3s 104ms/step - loss: 0.2067 - accuracy: 0.9116 - precision: 0.9091 - recall: 0.9174 - val_loss: 0.2292 - val_accuracy: 0.9115 - val_precision: 0.9524 - val_recall: 0.8333\n",
            "Epoch 103/200\n",
            "27/27 [==============================] - 3s 105ms/step - loss: 0.2144 - accuracy: 0.9116 - precision: 0.9245 - recall: 0.8991 - val_loss: 0.3020 - val_accuracy: 0.9292 - val_precision: 0.9545 - val_recall: 0.8750\n",
            "Epoch 104/200\n",
            "27/27 [==============================] - 3s 105ms/step - loss: 0.1514 - accuracy: 0.9256 - precision: 0.9515 - recall: 0.8991 - val_loss: 0.3118 - val_accuracy: 0.9027 - val_precision: 0.9512 - val_recall: 0.8125\n",
            "Epoch 105/200\n",
            "27/27 [==============================] - 3s 104ms/step - loss: 0.1761 - accuracy: 0.9395 - precision: 0.9528 - recall: 0.9266 - val_loss: 0.4178 - val_accuracy: 0.8938 - val_precision: 0.9091 - val_recall: 0.8333\n",
            "Epoch 106/200\n",
            "27/27 [==============================] - 3s 104ms/step - loss: 0.1989 - accuracy: 0.9209 - precision: 0.9107 - recall: 0.9358 - val_loss: 0.2484 - val_accuracy: 0.9292 - val_precision: 0.9348 - val_recall: 0.8958\n",
            "Epoch 107/200\n",
            "27/27 [==============================] - 3s 105ms/step - loss: 0.1754 - accuracy: 0.9209 - precision: 0.9182 - recall: 0.9266 - val_loss: 0.2211 - val_accuracy: 0.9027 - val_precision: 0.9512 - val_recall: 0.8125\n",
            "Epoch 108/200\n",
            "27/27 [==============================] - 3s 104ms/step - loss: 0.2163 - accuracy: 0.9209 - precision: 0.9107 - recall: 0.9358 - val_loss: 0.3571 - val_accuracy: 0.9027 - val_precision: 0.9744 - val_recall: 0.7917\n",
            "Epoch 109/200\n",
            "27/27 [==============================] - 3s 103ms/step - loss: 0.1681 - accuracy: 0.9349 - precision: 0.9703 - recall: 0.8991 - val_loss: 0.2720 - val_accuracy: 0.9204 - val_precision: 0.9333 - val_recall: 0.8750\n",
            "Epoch 110/200\n",
            "27/27 [==============================] - 3s 105ms/step - loss: 0.2265 - accuracy: 0.8837 - precision: 0.8818 - recall: 0.8899 - val_loss: 0.2928 - val_accuracy: 0.9115 - val_precision: 0.9524 - val_recall: 0.8333\n",
            "Epoch 111/200\n",
            "27/27 [==============================] - 3s 103ms/step - loss: 0.2868 - accuracy: 0.8512 - precision: 0.8738 - recall: 0.8257 - val_loss: 0.2198 - val_accuracy: 0.9204 - val_precision: 0.8824 - val_recall: 0.9375\n",
            "Epoch 112/200\n",
            "27/27 [==============================] - 3s 103ms/step - loss: 0.1730 - accuracy: 0.9023 - precision: 0.9400 - recall: 0.8624 - val_loss: 0.3210 - val_accuracy: 0.8850 - val_precision: 0.9487 - val_recall: 0.7708\n",
            "Epoch 113/200\n",
            "27/27 [==============================] - 3s 104ms/step - loss: 0.3110 - accuracy: 0.8605 - precision: 0.8911 - recall: 0.8257 - val_loss: 0.3276 - val_accuracy: 0.8584 - val_precision: 1.0000 - val_recall: 0.6667\n",
            "Epoch 114/200\n",
            "27/27 [==============================] - 3s 105ms/step - loss: 0.2375 - accuracy: 0.8977 - precision: 0.9143 - recall: 0.8807 - val_loss: 0.2527 - val_accuracy: 0.9027 - val_precision: 0.8776 - val_recall: 0.8958\n",
            "Epoch 115/200\n",
            "27/27 [==============================] - 3s 104ms/step - loss: 0.2270 - accuracy: 0.9023 - precision: 0.9151 - recall: 0.8899 - val_loss: 0.2869 - val_accuracy: 0.9115 - val_precision: 1.0000 - val_recall: 0.7917\n",
            "Epoch 116/200\n",
            "27/27 [==============================] - 3s 104ms/step - loss: 0.2186 - accuracy: 0.9163 - precision: 0.9333 - recall: 0.8991 - val_loss: 0.2898 - val_accuracy: 0.8850 - val_precision: 0.8302 - val_recall: 0.9167\n",
            "Epoch 117/200\n",
            "27/27 [==============================] - 3s 104ms/step - loss: 0.1808 - accuracy: 0.9070 - precision: 0.9083 - recall: 0.9083 - val_loss: 0.4350 - val_accuracy: 0.8761 - val_precision: 0.9722 - val_recall: 0.7292\n",
            "Epoch 118/200\n",
            "27/27 [==============================] - 3s 104ms/step - loss: 0.1197 - accuracy: 0.9395 - precision: 0.9286 - recall: 0.9541 - val_loss: 0.2779 - val_accuracy: 0.9115 - val_precision: 0.9750 - val_recall: 0.8125\n",
            "Epoch 119/200\n",
            "27/27 [==============================] - 3s 102ms/step - loss: 0.2155 - accuracy: 0.9163 - precision: 0.9099 - recall: 0.9266 - val_loss: 0.3052 - val_accuracy: 0.9027 - val_precision: 0.9512 - val_recall: 0.8125\n",
            "Epoch 120/200\n",
            "27/27 [==============================] - 3s 100ms/step - loss: 0.2455 - accuracy: 0.8884 - precision: 0.8829 - recall: 0.8991 - val_loss: 0.2962 - val_accuracy: 0.9027 - val_precision: 0.9744 - val_recall: 0.7917\n",
            "Epoch 121/200\n",
            "27/27 [==============================] - 3s 102ms/step - loss: 0.2018 - accuracy: 0.9163 - precision: 0.9252 - recall: 0.9083 - val_loss: 0.2753 - val_accuracy: 0.8938 - val_precision: 0.8913 - val_recall: 0.8542\n",
            "Epoch 122/200\n",
            "27/27 [==============================] - 3s 102ms/step - loss: 0.1685 - accuracy: 0.9302 - precision: 0.9434 - recall: 0.9174 - val_loss: 0.2173 - val_accuracy: 0.9204 - val_precision: 0.9149 - val_recall: 0.8958\n",
            "Epoch 123/200\n",
            "27/27 [==============================] - 3s 104ms/step - loss: 0.2287 - accuracy: 0.9116 - precision: 0.9245 - recall: 0.8991 - val_loss: 0.2251 - val_accuracy: 0.8850 - val_precision: 0.9487 - val_recall: 0.7708\n",
            "Epoch 124/200\n",
            "27/27 [==============================] - 3s 101ms/step - loss: 0.1642 - accuracy: 0.9349 - precision: 0.9358 - recall: 0.9358 - val_loss: 0.2310 - val_accuracy: 0.9381 - val_precision: 1.0000 - val_recall: 0.8542\n",
            "Epoch 125/200\n",
            "27/27 [==============================] - 3s 104ms/step - loss: 0.1977 - accuracy: 0.9116 - precision: 0.9245 - recall: 0.8991 - val_loss: 0.3383 - val_accuracy: 0.9027 - val_precision: 1.0000 - val_recall: 0.7708\n",
            "Epoch 126/200\n",
            "27/27 [==============================] - 3s 101ms/step - loss: 0.1711 - accuracy: 0.9442 - precision: 0.9709 - recall: 0.9174 - val_loss: 0.3397 - val_accuracy: 0.8850 - val_precision: 0.8723 - val_recall: 0.8542\n",
            "Epoch 127/200\n",
            "27/27 [==============================] - 3s 104ms/step - loss: 0.2368 - accuracy: 0.9163 - precision: 0.9596 - recall: 0.8716 - val_loss: 0.2700 - val_accuracy: 0.9115 - val_precision: 0.9750 - val_recall: 0.8125\n",
            "Epoch 128/200\n",
            "27/27 [==============================] - 3s 102ms/step - loss: 0.1808 - accuracy: 0.9070 - precision: 0.9159 - recall: 0.8991 - val_loss: 0.2818 - val_accuracy: 0.9204 - val_precision: 0.9535 - val_recall: 0.8542\n",
            "Epoch 129/200\n",
            "27/27 [==============================] - 3s 103ms/step - loss: 0.1834 - accuracy: 0.9256 - precision: 0.9429 - recall: 0.9083 - val_loss: 0.2834 - val_accuracy: 0.8938 - val_precision: 0.9091 - val_recall: 0.8333\n",
            "Epoch 130/200\n",
            "27/27 [==============================] - 3s 102ms/step - loss: 0.1699 - accuracy: 0.9163 - precision: 0.9252 - recall: 0.9083 - val_loss: 0.2610 - val_accuracy: 0.9292 - val_precision: 1.0000 - val_recall: 0.8333\n",
            "Epoch 131/200\n",
            "27/27 [==============================] - 3s 101ms/step - loss: 0.2108 - accuracy: 0.9070 - precision: 0.9159 - recall: 0.8991 - val_loss: 0.2145 - val_accuracy: 0.9469 - val_precision: 1.0000 - val_recall: 0.8750\n",
            "Epoch 132/200\n",
            "27/27 [==============================] - 3s 101ms/step - loss: 0.1601 - accuracy: 0.9256 - precision: 0.9346 - recall: 0.9174 - val_loss: 0.2510 - val_accuracy: 0.9204 - val_precision: 0.9535 - val_recall: 0.8542\n",
            "Epoch 133/200\n",
            "27/27 [==============================] - 3s 102ms/step - loss: 0.1894 - accuracy: 0.9023 - precision: 0.9151 - recall: 0.8899 - val_loss: 0.2416 - val_accuracy: 0.9204 - val_precision: 0.9149 - val_recall: 0.8958\n",
            "Epoch 134/200\n",
            "27/27 [==============================] - 3s 102ms/step - loss: 0.1399 - accuracy: 0.9349 - precision: 0.9524 - recall: 0.9174 - val_loss: 0.2195 - val_accuracy: 0.9292 - val_precision: 0.9348 - val_recall: 0.8958\n",
            "Epoch 135/200\n",
            "27/27 [==============================] - 3s 102ms/step - loss: 0.1245 - accuracy: 0.9395 - precision: 0.9528 - recall: 0.9266 - val_loss: 0.4830 - val_accuracy: 0.8230 - val_precision: 0.7333 - val_recall: 0.9167\n",
            "Epoch 136/200\n",
            "27/27 [==============================] - 3s 102ms/step - loss: 0.2155 - accuracy: 0.9256 - precision: 0.9515 - recall: 0.8991 - val_loss: 0.3295 - val_accuracy: 0.8496 - val_precision: 0.8039 - val_recall: 0.8542\n",
            "Epoch 137/200\n",
            "27/27 [==============================] - 3s 102ms/step - loss: 0.1698 - accuracy: 0.9256 - precision: 0.9115 - recall: 0.9450 - val_loss: 0.3177 - val_accuracy: 0.8938 - val_precision: 0.9737 - val_recall: 0.7708\n",
            "Epoch 138/200\n",
            "27/27 [==============================] - 3s 103ms/step - loss: 0.2109 - accuracy: 0.9023 - precision: 0.9231 - recall: 0.8807 - val_loss: 0.3095 - val_accuracy: 0.8761 - val_precision: 0.8542 - val_recall: 0.8542\n",
            "Epoch 139/200\n",
            "27/27 [==============================] - 3s 102ms/step - loss: 0.1272 - accuracy: 0.9535 - precision: 0.9381 - recall: 0.9725 - val_loss: 0.4037 - val_accuracy: 0.8673 - val_precision: 0.9024 - val_recall: 0.7708\n",
            "Epoch 140/200\n",
            "27/27 [==============================] - 3s 102ms/step - loss: 0.2122 - accuracy: 0.9209 - precision: 0.9340 - recall: 0.9083 - val_loss: 0.2626 - val_accuracy: 0.9204 - val_precision: 1.0000 - val_recall: 0.8125\n",
            "Epoch 141/200\n",
            "27/27 [==============================] - 3s 101ms/step - loss: 0.1721 - accuracy: 0.9209 - precision: 0.9510 - recall: 0.8899 - val_loss: 0.2996 - val_accuracy: 0.9027 - val_precision: 1.0000 - val_recall: 0.7708\n",
            "Epoch 142/200\n",
            "27/27 [==============================] - 3s 107ms/step - loss: 0.1365 - accuracy: 0.9442 - precision: 0.9533 - recall: 0.9358 - val_loss: 0.2889 - val_accuracy: 0.9027 - val_precision: 0.9744 - val_recall: 0.7917\n",
            "Epoch 143/200\n",
            "27/27 [==============================] - 3s 107ms/step - loss: 0.1601 - accuracy: 0.9349 - precision: 0.9439 - recall: 0.9266 - val_loss: 0.3255 - val_accuracy: 0.9115 - val_precision: 1.0000 - val_recall: 0.7917\n",
            "Epoch 144/200\n",
            "27/27 [==============================] - 3s 104ms/step - loss: 0.2166 - accuracy: 0.9209 - precision: 0.9182 - recall: 0.9266 - val_loss: 0.3441 - val_accuracy: 0.8761 - val_precision: 0.9722 - val_recall: 0.7292\n",
            "Epoch 145/200\n",
            "27/27 [==============================] - 3s 104ms/step - loss: 0.2089 - accuracy: 0.8977 - precision: 0.9307 - recall: 0.8624 - val_loss: 0.2333 - val_accuracy: 0.9204 - val_precision: 0.9333 - val_recall: 0.8750\n",
            "Epoch 146/200\n",
            "27/27 [==============================] - 3s 101ms/step - loss: 0.1586 - accuracy: 0.9442 - precision: 0.9450 - recall: 0.9450 - val_loss: 0.1536 - val_accuracy: 0.9292 - val_precision: 1.0000 - val_recall: 0.8333\n",
            "Epoch 147/200\n",
            "27/27 [==============================] - 3s 101ms/step - loss: 0.2188 - accuracy: 0.9302 - precision: 0.9700 - recall: 0.8899 - val_loss: 0.2619 - val_accuracy: 0.8938 - val_precision: 0.9091 - val_recall: 0.8333\n",
            "Epoch 148/200\n",
            "27/27 [==============================] - 3s 102ms/step - loss: 0.1852 - accuracy: 0.9070 - precision: 0.9238 - recall: 0.8899 - val_loss: 0.2457 - val_accuracy: 0.9027 - val_precision: 0.9512 - val_recall: 0.8125\n",
            "Epoch 149/200\n",
            "27/27 [==============================] - 3s 102ms/step - loss: 0.1054 - accuracy: 0.9442 - precision: 0.9619 - recall: 0.9266 - val_loss: 0.2859 - val_accuracy: 0.9027 - val_precision: 0.9111 - val_recall: 0.8542\n",
            "Epoch 150/200\n",
            "27/27 [==============================] - 3s 107ms/step - loss: 0.1862 - accuracy: 0.9163 - precision: 0.9099 - recall: 0.9266 - val_loss: 0.3283 - val_accuracy: 0.9027 - val_precision: 0.9302 - val_recall: 0.8333\n",
            "Epoch 151/200\n",
            "27/27 [==============================] - 3s 108ms/step - loss: 0.1793 - accuracy: 0.9349 - precision: 0.9703 - recall: 0.8991 - val_loss: 0.2699 - val_accuracy: 0.9027 - val_precision: 0.9111 - val_recall: 0.8542\n",
            "Epoch 152/200\n",
            "27/27 [==============================] - 3s 108ms/step - loss: 0.1268 - accuracy: 0.9442 - precision: 0.9533 - recall: 0.9358 - val_loss: 0.1837 - val_accuracy: 0.9381 - val_precision: 0.9767 - val_recall: 0.8750\n",
            "Epoch 153/200\n",
            "27/27 [==============================] - 3s 106ms/step - loss: 0.1696 - accuracy: 0.9349 - precision: 0.9439 - recall: 0.9266 - val_loss: 0.1995 - val_accuracy: 0.9027 - val_precision: 0.8246 - val_recall: 0.9792\n",
            "Epoch 154/200\n",
            "27/27 [==============================] - 3s 102ms/step - loss: 0.1371 - accuracy: 0.9535 - precision: 0.9806 - recall: 0.9266 - val_loss: 0.3339 - val_accuracy: 0.8761 - val_precision: 0.9474 - val_recall: 0.7500\n",
            "Epoch 155/200\n",
            "27/27 [==============================] - 3s 102ms/step - loss: 0.2385 - accuracy: 0.9070 - precision: 0.9009 - recall: 0.9174 - val_loss: 0.3428 - val_accuracy: 0.8938 - val_precision: 1.0000 - val_recall: 0.7500\n",
            "Epoch 156/200\n",
            "27/27 [==============================] - 3s 104ms/step - loss: 0.1441 - accuracy: 0.9581 - precision: 0.9717 - recall: 0.9450 - val_loss: 0.4404 - val_accuracy: 0.9027 - val_precision: 0.9302 - val_recall: 0.8333\n",
            "Epoch 157/200\n",
            "27/27 [==============================] - 3s 103ms/step - loss: 0.2208 - accuracy: 0.9395 - precision: 0.9364 - recall: 0.9450 - val_loss: 0.2393 - val_accuracy: 0.9115 - val_precision: 1.0000 - val_recall: 0.7917\n",
            "Epoch 158/200\n",
            "27/27 [==============================] - 3s 103ms/step - loss: 0.2253 - accuracy: 0.9116 - precision: 0.9245 - recall: 0.8991 - val_loss: 0.2636 - val_accuracy: 0.8938 - val_precision: 0.8600 - val_recall: 0.8958\n",
            "Epoch 159/200\n",
            "27/27 [==============================] - 3s 102ms/step - loss: 0.1603 - accuracy: 0.9395 - precision: 0.9615 - recall: 0.9174 - val_loss: 0.3322 - val_accuracy: 0.8850 - val_precision: 0.9487 - val_recall: 0.7708\n",
            "Epoch 160/200\n",
            "27/27 [==============================] - 3s 101ms/step - loss: 0.1797 - accuracy: 0.9349 - precision: 0.9358 - recall: 0.9358 - val_loss: 0.2775 - val_accuracy: 0.9027 - val_precision: 0.9744 - val_recall: 0.7917\n",
            "Epoch 161/200\n",
            "27/27 [==============================] - 3s 103ms/step - loss: 0.1829 - accuracy: 0.9349 - precision: 0.9439 - recall: 0.9266 - val_loss: 0.4206 - val_accuracy: 0.8673 - val_precision: 0.9714 - val_recall: 0.7083\n",
            "Epoch 162/200\n",
            "27/27 [==============================] - 3s 101ms/step - loss: 0.1842 - accuracy: 0.9023 - precision: 0.9231 - recall: 0.8807 - val_loss: 0.4328 - val_accuracy: 0.8584 - val_precision: 1.0000 - val_recall: 0.6667\n",
            "Epoch 163/200\n",
            "27/27 [==============================] - 3s 101ms/step - loss: 0.1656 - accuracy: 0.9395 - precision: 0.9615 - recall: 0.9174 - val_loss: 0.2537 - val_accuracy: 0.9292 - val_precision: 0.9545 - val_recall: 0.8750\n",
            "Epoch 164/200\n",
            "27/27 [==============================] - 3s 100ms/step - loss: 0.1563 - accuracy: 0.9349 - precision: 0.9358 - recall: 0.9358 - val_loss: 0.1911 - val_accuracy: 0.9204 - val_precision: 0.9535 - val_recall: 0.8542\n",
            "Epoch 165/200\n",
            "27/27 [==============================] - 3s 101ms/step - loss: 0.2396 - accuracy: 0.8977 - precision: 0.9065 - recall: 0.8899 - val_loss: 0.2547 - val_accuracy: 0.8938 - val_precision: 0.9286 - val_recall: 0.8125\n",
            "Epoch 166/200\n",
            "27/27 [==============================] - 3s 101ms/step - loss: 0.1636 - accuracy: 0.9209 - precision: 0.9423 - recall: 0.8991 - val_loss: 0.2532 - val_accuracy: 0.9292 - val_precision: 0.9545 - val_recall: 0.8750\n",
            "Epoch 167/200\n",
            "27/27 [==============================] - 3s 102ms/step - loss: 0.1541 - accuracy: 0.9488 - precision: 0.9623 - recall: 0.9358 - val_loss: 0.2795 - val_accuracy: 0.8850 - val_precision: 0.9070 - val_recall: 0.8125\n",
            "Epoch 168/200\n",
            "27/27 [==============================] - 3s 102ms/step - loss: 0.1705 - accuracy: 0.9488 - precision: 0.9623 - recall: 0.9358 - val_loss: 0.3453 - val_accuracy: 0.8938 - val_precision: 0.9286 - val_recall: 0.8125\n",
            "Epoch 169/200\n",
            "27/27 [==============================] - 3s 102ms/step - loss: 0.1805 - accuracy: 0.9302 - precision: 0.9352 - recall: 0.9266 - val_loss: 0.2723 - val_accuracy: 0.8850 - val_precision: 0.8723 - val_recall: 0.8542\n",
            "Epoch 170/200\n",
            "27/27 [==============================] - 3s 103ms/step - loss: 0.1804 - accuracy: 0.9163 - precision: 0.9252 - recall: 0.9083 - val_loss: 0.3050 - val_accuracy: 0.8850 - val_precision: 0.8431 - val_recall: 0.8958\n",
            "Epoch 171/200\n",
            "27/27 [==============================] - 3s 103ms/step - loss: 0.2210 - accuracy: 0.9163 - precision: 0.9174 - recall: 0.9174 - val_loss: 0.2136 - val_accuracy: 0.9469 - val_precision: 0.9773 - val_recall: 0.8958\n",
            "Epoch 172/200\n",
            "27/27 [==============================] - 3s 104ms/step - loss: 0.1566 - accuracy: 0.9442 - precision: 0.9533 - recall: 0.9358 - val_loss: 0.2501 - val_accuracy: 0.9115 - val_precision: 0.9318 - val_recall: 0.8542\n",
            "Epoch 173/200\n",
            "27/27 [==============================] - 3s 101ms/step - loss: 0.1650 - accuracy: 0.9256 - precision: 0.8974 - recall: 0.9633 - val_loss: 0.2996 - val_accuracy: 0.8850 - val_precision: 0.8302 - val_recall: 0.9167\n",
            "Epoch 174/200\n",
            "27/27 [==============================] - 3s 103ms/step - loss: 0.1205 - accuracy: 0.9535 - precision: 0.9806 - recall: 0.9266 - val_loss: 0.2492 - val_accuracy: 0.8761 - val_precision: 0.8696 - val_recall: 0.8333\n",
            "Epoch 175/200\n",
            "27/27 [==============================] - 3s 100ms/step - loss: 0.1608 - accuracy: 0.9256 - precision: 0.9429 - recall: 0.9083 - val_loss: 0.2783 - val_accuracy: 0.9027 - val_precision: 1.0000 - val_recall: 0.7708\n",
            "Epoch 176/200\n",
            "27/27 [==============================] - 3s 101ms/step - loss: 0.1067 - accuracy: 0.9628 - precision: 0.9903 - recall: 0.9358 - val_loss: 0.2386 - val_accuracy: 0.8850 - val_precision: 0.9070 - val_recall: 0.8125\n",
            "Epoch 177/200\n",
            "27/27 [==============================] - 3s 101ms/step - loss: 0.1559 - accuracy: 0.9302 - precision: 0.9352 - recall: 0.9266 - val_loss: 0.2939 - val_accuracy: 0.9027 - val_precision: 0.9744 - val_recall: 0.7917\n",
            "Epoch 178/200\n",
            "27/27 [==============================] - 3s 103ms/step - loss: 0.2301 - accuracy: 0.9116 - precision: 0.9412 - recall: 0.8807 - val_loss: 0.4484 - val_accuracy: 0.8761 - val_precision: 1.0000 - val_recall: 0.7083\n",
            "Epoch 179/200\n",
            "27/27 [==============================] - 3s 102ms/step - loss: 0.1132 - accuracy: 0.9488 - precision: 0.9455 - recall: 0.9541 - val_loss: 0.3394 - val_accuracy: 0.8938 - val_precision: 1.0000 - val_recall: 0.7500\n",
            "Epoch 180/200\n",
            "27/27 [==============================] - 3s 102ms/step - loss: 0.1748 - accuracy: 0.9256 - precision: 0.9604 - recall: 0.8899 - val_loss: 0.3358 - val_accuracy: 0.9027 - val_precision: 0.9744 - val_recall: 0.7917\n",
            "Epoch 181/200\n",
            "27/27 [==============================] - 3s 101ms/step - loss: 0.1739 - accuracy: 0.9256 - precision: 0.9189 - recall: 0.9358 - val_loss: 0.2447 - val_accuracy: 0.9115 - val_precision: 0.9750 - val_recall: 0.8125\n",
            "Epoch 182/200\n",
            "27/27 [==============================] - 3s 102ms/step - loss: 0.1479 - accuracy: 0.9349 - precision: 0.9612 - recall: 0.9083 - val_loss: 0.3364 - val_accuracy: 0.8761 - val_precision: 0.8696 - val_recall: 0.8333\n",
            "Epoch 183/200\n",
            "27/27 [==============================] - 3s 100ms/step - loss: 0.1404 - accuracy: 0.9395 - precision: 0.9528 - recall: 0.9266 - val_loss: 0.2154 - val_accuracy: 0.9381 - val_precision: 1.0000 - val_recall: 0.8542\n",
            "Epoch 184/200\n",
            "27/27 [==============================] - 3s 102ms/step - loss: 0.1982 - accuracy: 0.9023 - precision: 0.9490 - recall: 0.8532 - val_loss: 0.1855 - val_accuracy: 0.9115 - val_precision: 0.9318 - val_recall: 0.8542\n",
            "Epoch 185/200\n",
            "27/27 [==============================] - 3s 101ms/step - loss: 0.1175 - accuracy: 0.9581 - precision: 0.9808 - recall: 0.9358 - val_loss: 0.3071 - val_accuracy: 0.8938 - val_precision: 0.9737 - val_recall: 0.7708\n",
            "Epoch 186/200\n",
            "27/27 [==============================] - 3s 101ms/step - loss: 0.1631 - accuracy: 0.9442 - precision: 0.9369 - recall: 0.9541 - val_loss: 0.3344 - val_accuracy: 0.8938 - val_precision: 0.9286 - val_recall: 0.8125\n",
            "Epoch 187/200\n",
            "27/27 [==============================] - 3s 103ms/step - loss: 0.1463 - accuracy: 0.9256 - precision: 0.9266 - recall: 0.9266 - val_loss: 0.3824 - val_accuracy: 0.9381 - val_precision: 1.0000 - val_recall: 0.8542\n",
            "Epoch 188/200\n",
            "27/27 [==============================] - 3s 102ms/step - loss: 0.1061 - accuracy: 0.9442 - precision: 0.9802 - recall: 0.9083 - val_loss: 0.3430 - val_accuracy: 0.8850 - val_precision: 0.9268 - val_recall: 0.7917\n",
            "Epoch 189/200\n",
            "27/27 [==============================] - 3s 103ms/step - loss: 0.1698 - accuracy: 0.9349 - precision: 0.9439 - recall: 0.9266 - val_loss: 0.2741 - val_accuracy: 0.8938 - val_precision: 0.8750 - val_recall: 0.8750\n",
            "Epoch 190/200\n",
            "27/27 [==============================] - 3s 102ms/step - loss: 0.0917 - accuracy: 0.9535 - precision: 0.9714 - recall: 0.9358 - val_loss: 0.2964 - val_accuracy: 0.9115 - val_precision: 0.9524 - val_recall: 0.8333\n",
            "Epoch 191/200\n",
            "27/27 [==============================] - 3s 104ms/step - loss: 0.1356 - accuracy: 0.9395 - precision: 0.9528 - recall: 0.9266 - val_loss: 0.2915 - val_accuracy: 0.9027 - val_precision: 0.9302 - val_recall: 0.8333\n",
            "Epoch 192/200\n",
            "27/27 [==============================] - 3s 104ms/step - loss: 0.1185 - accuracy: 0.9349 - precision: 0.9439 - recall: 0.9266 - val_loss: 0.4001 - val_accuracy: 0.9027 - val_precision: 1.0000 - val_recall: 0.7708\n",
            "Epoch 193/200\n",
            "27/27 [==============================] - 3s 104ms/step - loss: 0.1203 - accuracy: 0.9349 - precision: 0.9439 - recall: 0.9266 - val_loss: 0.5462 - val_accuracy: 0.9027 - val_precision: 0.9744 - val_recall: 0.7917\n",
            "Epoch 194/200\n",
            "27/27 [==============================] - 3s 104ms/step - loss: 0.2113 - accuracy: 0.9302 - precision: 0.9434 - recall: 0.9174 - val_loss: 0.2349 - val_accuracy: 0.9469 - val_precision: 0.9773 - val_recall: 0.8958\n",
            "Epoch 195/200\n",
            "27/27 [==============================] - 3s 107ms/step - loss: 0.1589 - accuracy: 0.9256 - precision: 0.9604 - recall: 0.8899 - val_loss: 0.3699 - val_accuracy: 0.9115 - val_precision: 0.9130 - val_recall: 0.8750\n",
            "Epoch 196/200\n",
            "27/27 [==============================] - 3s 105ms/step - loss: 0.1751 - accuracy: 0.9209 - precision: 0.9259 - recall: 0.9174 - val_loss: 0.2916 - val_accuracy: 0.9027 - val_precision: 0.9111 - val_recall: 0.8542\n",
            "Epoch 197/200\n",
            "27/27 [==============================] - 3s 103ms/step - loss: 0.2103 - accuracy: 0.8977 - precision: 0.9307 - recall: 0.8624 - val_loss: 0.2898 - val_accuracy: 0.8761 - val_precision: 0.9250 - val_recall: 0.7708\n",
            "Epoch 198/200\n",
            "27/27 [==============================] - 3s 104ms/step - loss: 0.1634 - accuracy: 0.9302 - precision: 0.9700 - recall: 0.8899 - val_loss: 0.2060 - val_accuracy: 0.9469 - val_precision: 1.0000 - val_recall: 0.8750\n",
            "Epoch 199/200\n",
            "27/27 [==============================] - 3s 104ms/step - loss: 0.1096 - accuracy: 0.9674 - precision: 0.9636 - recall: 0.9725 - val_loss: 0.2572 - val_accuracy: 0.9204 - val_precision: 0.9535 - val_recall: 0.8542\n",
            "Epoch 200/200\n",
            "27/27 [==============================] - 3s 105ms/step - loss: 0.1174 - accuracy: 0.9535 - precision: 0.9541 - recall: 0.9541 - val_loss: 0.3583 - val_accuracy: 0.8938 - val_precision: 1.0000 - val_recall: 0.7500\n"
          ],
          "name": "stdout"
        }
      ]
    },
    {
      "cell_type": "code",
      "metadata": {
        "id": "thZhsGjR6zIA",
        "colab_type": "code",
        "colab": {}
      },
      "source": [
        "model.save(models_directory+'Updated_HistEq_Morphological_Erode_Dilate_model.h5')"
      ],
      "execution_count": 18,
      "outputs": []
    },
    {
      "cell_type": "markdown",
      "metadata": {
        "id": "rR7b9rY-q2r3",
        "colab_type": "text"
      },
      "source": [
        "# Plotting Accuracy, Precision & Recall"
      ]
    },
    {
      "cell_type": "code",
      "metadata": {
        "id": "OGL6hW_Ll8ac",
        "colab_type": "code",
        "colab": {}
      },
      "source": [
        "epochs=200"
      ],
      "execution_count": 19,
      "outputs": []
    },
    {
      "cell_type": "code",
      "metadata": {
        "id": "nkc9WrDCG7VY",
        "colab_type": "code",
        "colab": {
          "base_uri": "https://localhost:8080/",
          "height": 826
        },
        "outputId": "dafae2d0-fbfa-47df-94a0-d37792c279a2"
      },
      "source": [
        "import matplotlib.image  as mpimg\n",
        "import matplotlib.pyplot as plt\n",
        "\n",
        "#-----------------------------------------------------------\n",
        "# Retrieve a list of list results on training and test data\n",
        "# sets for each training epoch\n",
        "#-----------------------------------------------------------\n",
        "acc=history.history['accuracy']\n",
        "val_acc=history.history['val_accuracy']\n",
        "precision=history.history['precision']\n",
        "val_precision=history.history['val_precision']\n",
        "recall=history.history['recall']\n",
        "val_recall=history.history['val_recall']\n",
        "\n",
        "epochs=range(len(acc)) # Get number of epochs\n",
        "\n",
        "#------------------------------------------------\n",
        "# Plot training and validation accuracy per epoch\n",
        "#------------------------------------------------\n",
        "plt.plot(epochs, acc, 'r', \"Training Accuracy\")\n",
        "plt.plot(epochs, val_acc, 'b', \"Validation Accuracy\")\n",
        "plt.title('Training and validation accuracy')\n",
        "plt.figure()\n",
        "\n",
        "#------------------------------------------------\n",
        "# Plot training and validation Precision per epoch\n",
        "#------------------------------------------------\n",
        "plt.plot(epochs, precision, 'r', \"Training Precision\")\n",
        "plt.plot(epochs, val_precision, 'b', \"Validation Precision\")\n",
        "plt.title('Training and validation Precision')\n",
        "plt.figure()\n",
        "\n",
        "plt.plot(epochs, recall, 'r', \"Training Recall\")\n",
        "plt.plot(epochs, val_recall, 'b', \"Validation Recall\")\n",
        "plt.title('Training and validation Recall')\n"
      ],
      "execution_count": 20,
      "outputs": [
        {
          "output_type": "execute_result",
          "data": {
            "text/plain": [
              "Text(0.5, 1.0, 'Training and validation Recall')"
            ]
          },
          "metadata": {
            "tags": []
          },
          "execution_count": 20
        },
        {
          "output_type": "display_data",
          "data": {
            "image/png": "[encoded data removed]",
            "text/plain": [
              "<Figure size 432x288 with 1 Axes>"
            ]
          },
          "metadata": {
            "tags": [],
            "needs_background": "light"
          }
        },
        {
          "output_type": "display_data",
          "data": {
            "image/png": "[encoded data removed]",
            "text/plain": [
              "<Figure size 432x288 with 1 Axes>"
            ]
          },
          "metadata": {
            "tags": [],
            "needs_background": "light"
          }
        },
        {
          "output_type": "display_data",
          "data": {
            "image/png": "[encoded data removed]",
            "text/plain": [
              "<Figure size 432x288 with 1 Axes>"
            ]
          },
          "metadata": {
            "tags": [],
            "needs_background": "light"
          }
        }
      ]
    },
    {
      "cell_type": "markdown",
      "metadata": {
        "id": "PwXtcT8_Z7SL",
        "colab_type": "text"
      },
      "source": [
        "#Predicting on a new image & Modifying the grayscale image to make it fit for prediction\n",
        "\n",
        "The Gray training images had only 1 channel but for training they were automatically getting converted to 3 channels\n",
        "by replicating the channels 3 times. This is because input for Inception v3 has to be compulsorily 3 channel.\n",
        "\n",
        "In the above steps where we preprocessed the uploaded image, shape => (150,150)\n",
        "\n",
        "To replicate, we use np.stack() and since we want channel number in index 2 of shape ie (150,150,3) we use axis=0\n",
        "\n",
        "We also want an extra dimension for batch number at index 0 ie new shape => (1,150,150,3)"
      ]
    },
    {
      "cell_type": "code",
      "metadata": {
        "id": "weBpRLfAl69Z",
        "colab_type": "code",
        "colab": {
          "resources": {
            "http://localhost:8080/nbextensions/google.colab/files.js": {
              "data": "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",
              "ok": true,
              "headers": [
                [
                  "content-type",
                  "application/javascript"
                ]
              ],
              "status": 200,
              "status_text": ""
            }
          },
          "base_uri": "https://localhost:8080/",
          "height": 327
        },
        "outputId": "0540f822-5157-40de-f78b-3531e64efdd3"
      },
      "source": [
        "import numpy as np\n",
        "import PIL\n",
        "\n",
        "from google.colab import files\n",
        "from keras.preprocessing import image\n",
        "from google.colab.patches import cv2_imshow\n",
        "\n",
        "uploaded=files.upload()\n",
        "\n",
        "for fn in uploaded.keys():\n",
        " \n",
        "  # predicting images\n",
        "  path='/content/' + fn\n",
        "  \n",
        "  images=imread(path)\n",
        "  images=resize(images,(150,150))\n",
        "  norm=cvtColor(images,COLOR_RGB2GRAY)\n",
        "  \n",
        "  th1=equalizeHist(norm)\n",
        "\n",
        "  th1=erode(th1,np.ones((4,4),np.uint8),iterations=1)\n",
        "  th1=dilate(th1,np.ones((4,4),np.uint8),iterations=1)\n",
        "\n",
        "\n",
        "  # \n",
        "  th2=np.stack((th1,)*3,axis=2)\n",
        "  th2=np.expand_dims(th2,axis=0)\n",
        "\n",
        "  classes = model.predict_classes(th2,batch_size=10)\n",
        "\n",
        "  cv2_imshow(th1)\n",
        "  # print([k for k,v in train_gen.class_indices.items() if v==classes[0][0]][0])\n",
        "  print(classes)\n",
        "  print(train_gen.class_indices)"
      ],
      "execution_count": 21,
      "outputs": [
        {
          "output_type": "display_data",
          "data": {
            "text/html": [
              "\n",
              "     <input type=\"file\" id=\"files-1ed0afdd-5efe-4065-9ec6-5ac61bf54800\" name=\"files[]\" multiple disabled\n",
              "        style=\"border:none\" />\n",
              "     <output id=\"result-1ed0afdd-5efe-4065-9ec6-5ac61bf54800\">\n",
              "      Upload widget is only available when the cell has been executed in the\n",
              "      current browser session. Please rerun this cell to enable.\n",
              "      </output>\n",
              "      <script src=\"/nbextensions/google.colab/files.js\"></script> "
            ],
            "text/plain": [
              "<IPython.core.display.HTML object>"
            ]
          },
          "metadata": {
            "tags": []
          }
        },
        {
          "output_type": "stream",
          "text": [
            "Saving bt_test.jpg to bt_test.jpg\n",
            "WARNING:tensorflow:From <ipython-input-21-df763fc88387>:27: Sequential.predict_classes (from tensorflow.python.keras.engine.sequential) is deprecated and will be removed after 2021-01-01.\n",
            "Instructions for updating:\n",
            "Please use instead:* `np.argmax(model.predict(x), axis=-1)`,   if your model does multi-class classification   (e.g. if it uses a `softmax` last-layer activation).* `(model.predict(x) > 0.5).astype(\"int32\")`,   if your model does binary classification   (e.g. if it uses a `sigmoid` last-layer activation).\n"
          ],
          "name": "stdout"
        },
        {
          "output_type": "display_data",
          "data": {
            "image/png": "[encoded data removed]",
            "text/plain": [
              "<PIL.Image.Image image mode=L size=150x150 at 0x7F319CB60EB8>"
            ]
          },
          "metadata": {
            "tags": []
          }
        },
        {
          "output_type": "stream",
          "text": [
            "[[0]]\n",
            "{'no': 0, 'yes': 1}\n"
          ],
          "name": "stdout"
        }
      ]
    },
    {
      "cell_type": "code",
      "metadata": {
        "id": "A86zE99Uai-P",
        "colab_type": "code",
        "colab": {}
      },
      "source": [
        ""
      ],
      "execution_count": null,
      "outputs": []
    }
  ]
}